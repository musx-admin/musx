{
 "cells": [
  {
   "cell_type": "markdown",
   "metadata": {},
   "source": [
    "# MUSICAL PATTERNS\n",
    "\n",
    "An introduction to musical pattern generation in musx. This tutoral starts with easier patterns and proceeds to more involved ones over the course of the notebook. The first pattern (Cycle) also  introduces the general features of all musx patterns so if you are new to musx that is the place to start. The musx pattern documentation and demos also provide information and examples.\n",
    "\n",
    "To jump to a specific pattern inside this notebook use these links:\n",
    "\n",
    "#### | [Cycle](#cycle_section) | [Palindrome](#palindrome_section) | [Range](#range_section) | [Shuffle](#shuffle_section) | [Choose](#choose_section) | [Graph](#graph_section) | [Rotation](#rotation_section) | [Markov](#markov_section) | [States](#states_section) |\n",
    "\n",
    "<!--\n",
    "- [Cycle](#cycle_section)\n",
    "- [Palindrome](#palindrome_section)\n",
    "- [Range](#range_section)\n",
    "- [Shuffle](#shuffle_section)\n",
    "- [Choose](#choose_section)\n",
    "- [Graph](#graph_section)\n",
    "- [Rotation](#rotation_section)\n",
    "- [Markov](#markov_section)\n",
    "- [States](#states_section)\n",
    "-->\n",
    "\n",
    "<hr style=\"height:1px;color:gray\">\n",
    "\n",
    "Notebook imports:"
   ]
  },
  {
   "cell_type": "code",
   "execution_count": null,
   "metadata": {
    "scrolled": true
   },
   "outputs": [],
   "source": [
    "from IPython.display import display, HTML\n",
    "display(HTML(\"<style>.container { width:100% !important; }</style>\"))\n",
    "from random import randint\n",
    "from musx import Cycle, Palindrome, Range, Choose, Shuffle, Graph, Rotation, Markov, States,\\\n",
    "version, setmidiplayer, playfile, Score, Note, Seq, MidiFile, keynum, between, interp,\\\n",
    "intempo, pick, rescale, odds, fit\n",
    "from musx.midi.gm import ChoirAahs, AcousticGrandPiano, Marimba\n",
    "print(f\"musx version: {version}\")"
   ]
  },
  {
   "cell_type": "markdown",
   "metadata": {},
   "source": [
    "This notebook generates MIDI files and automatically plays them using [fluidsynth](https://www.fluidsynth.org/download/) and the [MuseScore_General.sf3](https://ftp.osuosl.org/pub/musescore/soundfont/MuseScore_General) sound font. See [INSTALL.md](https://github.com/musx-admin/musx/blob/main/INSTALL.md) for how to install a terminal-based MIDI player to use with musx.  If you don't have a player installed you can access the output files in the same directory as this notebook:"
   ]
  },
  {
   "cell_type": "code",
   "execution_count": null,
   "metadata": {},
   "outputs": [],
   "source": [
    "setmidiplayer(\"fluidsynth -iq -g1 /usr/local/sf/MuseScore_General.sf3\")\n",
    "print('OK!')"
   ]
  },
  {
   "cell_type": "markdown",
   "metadata": {},
   "source": [
    "<!-- [The Choose pattern](#The-Choose-pattern) -->\n",
    "\n",
    "## Musical patterns in musx\n",
    "\n",
    "Music is brimming with patterns! Composers are always looking for new ways to organize notes, rhythms, even elements of form. By incorporating patterns at various levels of their music composers can control the \"mix\" of new and heard-before ideas in artistic and interesting ways. \n",
    "\n",
    "In terms of coding, a pattern is a resource that generates data in a particular ordering. Since there are so many kinds of patterns in music, it is useful to have a toolbox of generic patterns and a way to implement new ones.\n",
    "\n",
    "In musx patterns are subclasses of a Pattern base class that implements an object-orientated interface for generating data, from simple looping and randomness to more complex processes such as Markov chains, cellular automata and chaos.  \n",
    "Many of these patterns allow subpatterns to be embedded inside parent patterns and processed seamlessly by the Pattern's `next()` method.  Patterns that support embedding have a 'period' argument that regulate how many items are read from it before a parent pattern can move to its next item. The period value can be expressed as a constant value or a pattern of values.\n",
    "\n",
    "We will take a first look at these concepts using the simplest musx pattern, the Cycle."
   ]
  },
  {
   "cell_type": "markdown",
   "metadata": {},
   "source": [
    "<a id='cycle_section'></a>\n",
    "## The Cycle pattern\n",
    "\n",
    "`Cycle(items, period=None)`\n",
    "\n",
    "A Cycle pattern generates items in an endless loop from front to back. To create a cyclic patter call Cycle and pass it a list of things you want it to produce:"
   ]
  },
  {
   "cell_type": "code",
   "execution_count": null,
   "metadata": {
    "scrolled": true
   },
   "outputs": [],
   "source": [
    "pat = Cycle(['a','b','c','d'])\n",
    "print(f\"pat: {pat}\")"
   ]
  },
  {
   "cell_type": "markdown",
   "metadata": {},
   "source": [
    "### Reading pattern data\n",
    "\n",
    "To read data from a pattern call its `next()` method, which supports additional features not available in python's builtin `next()` function.\n",
    "\n",
    "`Pattern.next(more=False)`\n",
    "\n",
    "Pattern's `next()` method allows pattern items to be accessed in several different ways. If the *more* argument is False (the default), then `next()` returns just the next item from the pattern:"
   ]
  },
  {
   "cell_type": "code",
   "execution_count": null,
   "metadata": {},
   "outputs": [],
   "source": [
    "pat = Cycle(['a','b','c','d'])\n",
    "print(f\"next: {pat.next()}\")\n",
    "print(f\"next: {pat.next()}\")\n",
    "print(f\"next: {pat.next()}\")\n",
    "print(f\"next: {pat.next()}\")"
   ]
  },
  {
   "cell_type": "markdown",
   "metadata": {},
   "source": [
    "If the *more* argument is an integer then `next()` returns that many elements from the pattern. In the next example the cyclic ordering 1, 2, 3, 4, 1... is preserved in the output no matter how many items are returned in each call. The length of values returned is called the *period* of the pattern:"
   ]
  },
  {
   "cell_type": "code",
   "execution_count": null,
   "metadata": {},
   "outputs": [],
   "source": [
    "pat = Cycle(['a','b','c', 'd'])\n",
    "print(f\"pat: {pat}\")\n",
    "print(f\"next: {pat.next(7)}\")\n",
    "print(f\"next: {pat.next(4)}\")\n",
    "print(f\"next: {pat.next(1)}\")\n",
    "print(f\"next: {pat.next(5)}\")"
   ]
  },
  {
   "cell_type": "markdown",
   "metadata": {},
   "source": [
    "### Pattern periods\n",
    "\n",
    "Musx patterns allow a period length to be specified to a pattern when it is created. If the period length is not provided by the caller a default period length will be set according to the specific Pattern being used.\n",
    "\n",
    "In this next example, the period becomes something that the pattern controls internally. To tell the pattern to use its internal period length True to the *more* parameter, as seen in this example:"
   ]
  },
  {
   "cell_type": "code",
   "execution_count": null,
   "metadata": {},
   "outputs": [],
   "source": [
    "pat = Cycle(['a','b','c', 'd'], period=3)\n",
    "print(f\"pat: {pat}\")\n",
    "print(f\"next: {pat.next(True)}\")\n",
    "print(f\"next: {pat.next(True)}\")\n",
    "print(f\"next: {pat.next(True)}\")\n",
    "print(f\"next: {pat.next(True)}\")"
   ]
  },
  {
   "cell_type": "markdown",
   "metadata": {},
   "source": [
    "Note that True actually returns the *remaining* items in a period; this keeps ordering in sync no matter what you pass to next()'s *more* argument when you call it."
   ]
  },
  {
   "cell_type": "code",
   "execution_count": null,
   "metadata": {},
   "outputs": [],
   "source": [
    "pat = Cycle(['a','b','c', 'd'], period=4)\n",
    "print(f\"pat: {pat}\")\n",
    "print(f\"reading remaining items in period: {pat.next(True)}\")\n",
    "print(f\"reading 1 item: {pat.next()}\")\n",
    "print(f\"reading remaining items in period: {pat.next(True)}\")\n",
    "print(f\"reading 3 items: {pat.next(3)}\")\n",
    "print(f\"reading remaining items in period: {pat.next(True)}\")\n",
    "print(f\"reading remaining items in period: {pat.next(True)}\")"
   ]
  },
  {
   "cell_type": "markdown",
   "metadata": {},
   "source": [
    "The period of a pattern can also be specified as a _pattern_ of integers, in which case the pattern's period will vary accordingly. In this next example, the length of the periods will cycle through the lengths: 5, 6, 7, 5..."
   ]
  },
  {
   "cell_type": "code",
   "execution_count": null,
   "metadata": {},
   "outputs": [],
   "source": [
    "pat = Cycle(['a','b','c', 'd'], period=Cycle([5,6,7]))\n",
    "print(f\"pat: {pat}\")\n",
    "for _ in range(7):\n",
    "    print(f\"next: {pat.next(True)}\")"
   ]
  },
  {
   "cell_type": "markdown",
   "metadata": {},
   "source": [
    "### Embedded subpatterns\n",
    "\n",
    "The period length is particularly important when working with *embedded* patterns, i.e. subpatterns. In this example, an outer cyclic pattern contains an embedded cyclic pattern. The outer pattern cycles through four items: [10, *subpattern*, 20, 30], the subpattern cycles through two items: [-1, -2].  "
   ]
  },
  {
   "cell_type": "code",
   "execution_count": null,
   "metadata": {},
   "outputs": [],
   "source": [
    "pat = Cycle(['a', \n",
    "             Cycle([-1, -2], period=Cycle([1,2,3])), \n",
    "             'b', \n",
    "             'c'])\n",
    "print(f\"{pat.next(20)}\")"
   ]
  },
  {
   "cell_type": "markdown",
   "metadata": {},
   "source": [
    "Note that each time the subpattern is encountered it yields 1, 2 or 3 of its items before the outer pattern can move on to its next item. The overall pattern is a merge of two streams of cyclic data: an outer pattern of 'a, 'b, 'c...\n",
    "and an inner pattern -1, -2... In this image the yields from each pattern are marked by '**'.\n",
    "```\n",
    "outer:  **       **   **   **           **   **   **               **   **   **       **   **   **\n",
    "       ['a', -1, 'b', 'c', 'a', -2, -1, 'b', 'c', 'a', -2, -1, -2, 'b', 'c', 'a', -1, 'b', 'c', 'a']\n",
    "inner:       **                 **  **                 **  **  **                 ** \n",
    "```"
   ]
  },
  {
   "cell_type": "markdown",
   "metadata": {},
   "source": [
    "### Embedded expressions\n",
    "\n",
    "You can also embed python expressions inside patterns to calculate new values to return each time `next()` encounters them in the pattern. To embed an expression wrap it in a 'thunk', i.e. a lambda expression or function of zero arguments, and add that to the pattern's list of items.\n",
    "\n",
    "In this example the constants 'a' 'b' and 'c' are interleaved with two lambda expressions:"
   ]
  },
  {
   "cell_type": "code",
   "execution_count": null,
   "metadata": {},
   "outputs": [],
   "source": [
    "items = ['a', lambda: between(10, 20), 'b', lambda: between(-20, -10), 'c']\n",
    "\n",
    "print(f\"data: {Cycle(items).next(20)}\")"
   ]
  },
  {
   "cell_type": "markdown",
   "metadata": {},
   "source": [
    "### The basic rule for patterns:\n",
    "\n",
    "For most musx patterns the basic rule to remember is: constant data can usually be replaced by patterns or expressions of data, and embedded to any level in (other) patterns."
   ]
  },
  {
   "cell_type": "markdown",
   "metadata": {},
   "source": [
    "<a id=palindrome_section></a>\n",
    "## The Palindrome pattern\n",
    "\n",
    "`palindrome(items, period=None, wrap='++')`\n",
    "\n",
    "The Palindrome visits items first forwards and then backwards. The `wrap` argument is a two character token that determines if the first or last elements are directly repeated when the pattern reverses: the first token applies to the first item and the second item applies to the second.  The '+' token means the element is repeated and '-' means it is not repeated."
   ]
  },
  {
   "cell_type": "markdown",
   "metadata": {},
   "source": [
    "This palindrome uses the default wrap value ('++') which means that both the front and back items repeat on reversal:"
   ]
  },
  {
   "cell_type": "code",
   "execution_count": null,
   "metadata": {},
   "outputs": [],
   "source": [
    "pat = Palindrome(['a','b','c'])\n",
    "for _ in range(3):\n",
    "    print(f\"pat: {pat.next(True)}\")"
   ]
  },
  {
   "cell_type": "markdown",
   "metadata": {},
   "source": [
    "This Palindrome repeats only the front item on reversal:"
   ]
  },
  {
   "cell_type": "code",
   "execution_count": null,
   "metadata": {},
   "outputs": [],
   "source": [
    "pat = Palindrome(['a','b','c'], wrap='+-')\n",
    "for _ in range(3):\n",
    "    print(f\"pat: {pat.next(True)}\")"
   ]
  },
  {
   "cell_type": "markdown",
   "metadata": {},
   "source": [
    "This palindrome repeats only the back item on reversal:"
   ]
  },
  {
   "cell_type": "code",
   "execution_count": null,
   "metadata": {},
   "outputs": [],
   "source": [
    "pat = Palindrome(['a','b','c'], wrap='-+')\n",
    "for _ in range(3):\n",
    "    print(f\"pat: {pat.next(True)}\")"
   ]
  },
  {
   "cell_type": "markdown",
   "metadata": {},
   "source": [
    "If wrap includes only '-' signs the palindrome does not repeat either the front or back item on reversal:"
   ]
  },
  {
   "cell_type": "code",
   "execution_count": null,
   "metadata": {
    "scrolled": true
   },
   "outputs": [],
   "source": [
    "pat = Palindrome(['a','b','c'], wrap='--')\n",
    "for _ in range(3):\n",
    "    print(f\"pat: {pat.next(True)}\")"
   ]
  },
  {
   "cell_type": "markdown",
   "metadata": {},
   "source": [
    "<a id='range_section'></a>\n",
    "## The Range pattern\n",
    "`Range(stop)` `Range(start, stop)` `Range(start, stop, step)` `Range(start, stop, step, period)`\n",
    "\n",
    "Range is similar in syntax and functionality to python's range() generator but there are important differences:\n",
    "\n",
    "- The Range pattern does not terminate: once a Range moves to its boundary it re-initializes itself to the next start, stop and step values as determined by the parameter arguments passed in.\n",
    "- The start, stop and step parameters for a Range will accept integers, patterns, or thunks (lambda expressions or functions of zero arguments). \n",
    "- Since patterns always return something, an incompatible start, stop or step specifications will raise an error rather than return nothing, as Python's range() does.\n",
    "- The default period length will be the number of steps between start and stop. For custom period lengths pass the period parameter an integer, pattern or thunk.\n",
    "\n",
    "Range with a default period length of 9:"
   ]
  },
  {
   "cell_type": "code",
   "execution_count": null,
   "metadata": {
    "scrolled": true
   },
   "outputs": [],
   "source": [
    "r = Range(1,10)\n",
    "print(f\"{r.next(True)}\")\n",
    "print(f\"{r.next()}\")\n",
    "print(f\"{r.next(5)}\")\n",
    "print(f\"{r.next(True)}\")"
   ]
  },
  {
   "cell_type": "markdown",
   "metadata": {},
   "source": [
    "Descending Range whose start and step values are patterns:"
   ]
  },
  {
   "cell_type": "code",
   "execution_count": null,
   "metadata": {},
   "outputs": [],
   "source": [
    "pat = Range(Cycle([60, 74]), 48, Cycle([-1,-2,-3]))\n",
    "print(f\"pat 1: {pat.next(True)}\")\n",
    "print(f\"pat 2: {pat.next(True)}\")\n",
    "print(f\"pat 3: {pat.next(True)}\")"
   ]
  },
  {
   "cell_type": "markdown",
   "metadata": {},
   "source": [
    "Range with a cyclical period:"
   ]
  },
  {
   "cell_type": "code",
   "execution_count": null,
   "metadata": {},
   "outputs": [],
   "source": [
    "pat = Range(0, 10, 1, period=Cycle([2,3,4]))\n",
    "print(f\"pat 1: {pat.next(True)}\")\n",
    "print(f\"pat 2: {pat.next(True)}\")\n",
    "print(f\"pat 3: {pat.next(True)}\")\n",
    "print(f\"pat 3: {pat.next(True)}\")"
   ]
  },
  {
   "cell_type": "markdown",
   "metadata": {},
   "source": [
    "Play the range:"
   ]
  },
  {
   "cell_type": "code",
   "execution_count": null,
   "metadata": {},
   "outputs": [],
   "source": [
    "pat = Range(Cycle([60, 74]), 48, Cycle([-1,-2,-3]))\n",
    "\n",
    "def playrange(score, pat, reps, rate):\n",
    "    r, d = 0, rate/2\n",
    "    while r < reps:   \n",
    "        keys = pat.next(True)\n",
    "        t = score.now\n",
    "        for k in keys:\n",
    "            score.add( Note(time=t, duration=d, pitch=k, amplitude=.7))\n",
    "            t += rate\n",
    "        r += 1\n",
    "        yield rate * len(keys)\n",
    "\n",
    "# Create a score and give it a seq to hold the score event data.\n",
    "score = Score(out=Seq())\n",
    "score.compose(playrange(score, pat, 10, .125))\n",
    "# Write the tracks to a midi file in the current directory.\n",
    "file = MidiFile(\"playrange.mid\", score.out).write()\n",
    "print(f\"Wrote '{file.pathname}'.\")\n",
    "playfile(file.pathname)"
   ]
  },
  {
   "cell_type": "markdown",
   "metadata": {},
   "source": [
    "<a id='shuffle_section'></a>\n",
    "## The Shuffle pattern\n",
    "\n",
    "`Shuffle(items, period=None, norep=False`\n",
    "\n",
    "Shuffle returns random permutations of its items.  To disallow immediate repetition of an item after reshuffling (e.g. the previous choice is also the next choice) specify True to the *norep* parameter.\n",
    "\n",
    "In this example *norep* is False, so an item can repeat after every three values:"
   ]
  },
  {
   "cell_type": "code",
   "execution_count": null,
   "metadata": {},
   "outputs": [],
   "source": [
    "data = Shuffle(['a','b','c']).next(21)\n",
    "print(f\"data: {data}\")"
   ]
  },
  {
   "cell_type": "markdown",
   "metadata": {},
   "source": [
    "If the *norep* parameter is True, the pattern rejects shuffles that would repeat the last item as the next item. "
   ]
  },
  {
   "cell_type": "code",
   "execution_count": null,
   "metadata": {},
   "outputs": [],
   "source": [
    "data = Shuffle(['a','b','c'], norep=True).next(21)\n",
    "print(f\"data: {data}\")"
   ]
  },
  {
   "cell_type": "markdown",
   "metadata": {},
   "source": [
    "Musical example of Shuffle patterns that generate a series of jazz sonorities each of which is made up of a mix of 3, 4, or 5 notes from a dorian scale."
   ]
  },
  {
   "cell_type": "code",
   "execution_count": null,
   "metadata": {},
   "outputs": [],
   "source": [
    "from musx import keynum, intempo, Note, Seq, Score, MidiFile, playfile\n",
    "\n",
    "def playjazzriffs(score, num, amp):\n",
    "    keypat = Cycle([Shuffle(keynum(\"c6 d ef f g a bf\"), Choose([3, 4, 5])),\n",
    "                    Shuffle(keynum(\"c5 d ef f g a bf\"), Choose([3, 4, 5])),\n",
    "                    Shuffle(keynum(\"c4 d ef f g a bf\"), Choose([3, 4, 5]))\n",
    "                    ], period=1)\n",
    "    rhypat = Cycle([1, 1, 1, .5])\n",
    "    for _ in range(num):\n",
    "        rhy = intempo(rhypat.next(), 160)\n",
    "        chd = keypat.next(True)\n",
    "        score.add( Note(time=score.now, duration=rhy, pitch=chd, amplitude=amp))\n",
    "        yield rhy\n",
    "\n",
    "# Create a score and give it a seq to hold the score event data.\n",
    "score = Score(out=Seq())\n",
    "score.compose(playjazzriffs(score, 30, .8))\n",
    "# Write the tracks to a midi file in the current directory.\n",
    "file = MidiFile(\"jazzriff.mid\", score.out).write()\n",
    "print(f\"Wrote '{file.pathname}'.\")\n",
    "playfile(file.pathname)"
   ]
  },
  {
   "cell_type": "markdown",
   "metadata": {},
   "source": [
    "<a id='choose_section'></a>\n",
    "## The Choose pattern\n",
    "\n",
    "`Choose(items, weights=[], Period=None)`\n",
    "\n",
    "Choose generates items based on weighted random selection. If a *weights* argument is not provided all items will have an equal probability of being selected. Each weight can be expressed as an integer, float, or 'thunk' -- a lambda expression or function of zero arguments. A thunk produces weight values *dynamically*, and is evaluated just before the next period of the pattern starts."
   ]
  },
  {
   "cell_type": "markdown",
   "metadata": {},
   "source": [
    "Support for displaying histograms of 1000 Choose values. If matplotlib is available a graphic image as well a histogram dictionary will be presented:"
   ]
  },
  {
   "cell_type": "code",
   "execution_count": null,
   "metadata": {},
   "outputs": [],
   "source": [
    "try: \n",
    "    import matplotlib.pyplot as plt\n",
    "    plot = True\n",
    "except:\n",
    "    plot = False\n",
    "\n",
    "print(f\"Matplotlib {'is' if plot else 'not'} installed, results will {'include' if plot else 'omit'} a graphic image :{')' if plot else '('}\")\n",
    "    \n",
    "def hist (data):\n",
    "    d = dict.fromkeys(sorted(data))\n",
    "    for i in d:\n",
    "        d[i] = data.count(i)\n",
    "    print(f\"histogram: {d}\")\n",
    "    if plot:\n",
    "        plt.hist(data)"
   ]
  },
  {
   "cell_type": "markdown",
   "metadata": {},
   "source": [
    "Histogram of equal probabilities:"
   ]
  },
  {
   "cell_type": "code",
   "execution_count": null,
   "metadata": {},
   "outputs": [],
   "source": [
    "data = Choose(['A','B','C']).next(1000)\n",
    "hist(data)"
   ]
  },
  {
   "cell_type": "markdown",
   "metadata": {},
   "source": [
    "Histogram of 1000 datapoints yields weighted probabilities where the value 'B' is four as likely as 'A' and value 'C' is two times as likely:"
   ]
  },
  {
   "cell_type": "code",
   "execution_count": null,
   "metadata": {},
   "outputs": [],
   "source": [
    "data = Choose(['A','B','C'], [1,4,2]).next(1000)\n",
    "print(hist(data))"
   ]
  },
  {
   "cell_type": "markdown",
   "metadata": {},
   "source": [
    "In this next Choose pattern the dynamic probability weight of item 'b' increases from 0 to 10 over 50 selections using linear interpolation:"
   ]
  },
  {
   "cell_type": "code",
   "execution_count": null,
   "metadata": {},
   "outputs": [],
   "source": [
    "end = 50          # number of items to generate\n",
    "res = []          # list of results\n",
    "wei = 0           # current weight of 'b' item\n",
    "dyn = lambda:wei  # b's dynamic weight (a closure over wei variable)\n",
    "\n",
    "pat = Choose(['a', 'b', 'c'], [1, dyn, 1], period=1)\n",
    "\n",
    "for i in range(end):\n",
    "    wei = interp(i, [0, 0, end, 10])\n",
    "    res.append(pat.next())\n",
    "    \n",
    "print(f\"results: {res}\")"
   ]
  },
  {
   "cell_type": "markdown",
   "metadata": {},
   "source": [
    "A four-voice musical hommage to John Cage using dynamic weights that gradually foreground the notes C-A-G-E out of a G-Dorian background:"
   ]
  },
  {
   "cell_type": "code",
   "execution_count": null,
   "metadata": {},
   "outputs": [],
   "source": [
    "def john_cage(score, num, trans):\n",
    "    w = 0\n",
    "    envl = [0, .5, 1, 6]\n",
    "    pat1 = Choose(keynum('g3 a bf c4  d  e  f g'),\n",
    "                         [lambda: w, # G\n",
    "                          lambda: w, # A\n",
    "                          1,         # Bb\n",
    "                          lambda: w, # C\n",
    "                          1,         # D\n",
    "                          lambda: w, # E\n",
    "                          1,         # F\n",
    "                          lambda:w], # G\n",
    "                  period=1)\n",
    "    # rhythms are equal probability of quarter, half, or two eights.\n",
    "    pat2 = Choose([1/4, 1/2, Cycle([1/8], period=2)]) \n",
    "    for i in range(num):\n",
    "        w = interp(i/num, envl)\n",
    "        k = pat1.next() + trans # add transposition offset\n",
    "        r = intempo(pat2.next(), 60)\n",
    "        score.add( Note(time=score.now, duration=r, pitch=k, amplitude=.7))\n",
    "        yield r\n",
    "        \n",
    "# Create a score and give it a seq to hold the score event data.\n",
    "score = Score(out=Seq())\n",
    "parts = [john_cage(score, 100, trans) for trans in [-12, 0, 12, 24]]\n",
    "score.compose( parts )\n",
    "# Write the tracks to a midi file in the current directory.\n",
    "file = MidiFile(\"cage.mid\", score.out).write()\n",
    "print(f\"Wrote '{file.pathname}'.\")\n",
    "playfile(file.pathname)"
   ]
  },
  {
   "cell_type": "markdown",
   "metadata": {},
   "source": [
    "<a id='graph_section'></a>\n",
    "## The Graph Pattern\n",
    "\n",
    "`Graph(nodes, period=None)`\n",
    "\n",
    "A Graph is a network of nodes, each node is a 2- or 3-tuple containing an *item*, *link* and optional *id*: \n",
    "\n",
    "`python\n",
    "(item, link, [id])\n",
    "`\n",
    "The *item* is the value to return from the node. The node's *link* is the identifier of the next node to visit, and *id* is the node's own unique identifier in the graph.\n",
    "\n",
    "The values for *item* and *link* can be constants, subpatterns, or thunks. If an optional *id* is not specified then that node's identifier will be automatically set to the node's 1-based position in the list of nodes specified to the pattern.\n",
    "\n",
    "This example represents an alberti bass figure as a graph. The top lines shows the generated ids for each of the three nodes. The graph starts with the first node (G4) which then moves to node 3 (G4) which moves to node 2 (E), which moves to node 1 (C), and so the pattern starts over:\n"
   ]
  },
  {
   "cell_type": "code",
   "execution_count": null,
   "metadata": {},
   "outputs": [],
   "source": [
    "# node ids: 1          2          3\n",
    "g = Graph([('C4', 3), ('E4', 3), ('G4', Cycle([2, 1], period=1))], period=4)\n",
    "print(f\"period: {g.next(True)}\")\n",
    "print(f\"period: {g.next(True)}\")\n",
    "print(f\"period: {g.next(True)}\")"
   ]
  },
  {
   "cell_type": "markdown",
   "metadata": {},
   "source": [
    "This example uses a graph to generate a mostly stepwise diatonic melody from its given scale (C-Dorian). Each segment of the melody ends with a rest (the 'r' item):"
   ]
  },
  {
   "cell_type": "code",
   "execution_count": null,
   "metadata": {},
   "outputs": [],
   "source": [
    "melody = Cycle([Graph([(\"c4\",  Choose([2, 5])),\n",
    "                       (\"d4\",  Choose([1, 3])), \n",
    "                       (\"ef4\", Choose([2, 4])),\n",
    "                       (\"f4\",  Choose([3, 5])),\n",
    "                       (Shuffle([\"g4\", \"a4\", \"bf4\", \"c5\"]), Cycle([1, 2, 3, 4]))\n",
    "                       ]),\n",
    "                'r'\n",
    "                ])\n",
    "\n",
    "def playgraph(score, segs, mel, rate):\n",
    "    # plays segs number of segments, each segment ends with an \"r\" (rest).\n",
    "    n = 0\n",
    "    while n < segs:\n",
    "        p = mel.next()\n",
    "        if p != 'r':\n",
    "           score.add(Note(time=score.now, duration=rate*1.5, pitch=keynum(p), amplitude=.7))\n",
    "        else:\n",
    "           n += 1\n",
    "        yield rate      \n",
    "\n",
    "score = Score(out=Seq())\n",
    "score.compose( playgraph(score, 10, melody, .25) )\n",
    "# Write the tracks to a midi file in the current directory.\n",
    "file = MidiFile(\"graph.mid\", score.out).write()\n",
    "print(f\"Wrote '{file.pathname}'.\")\n",
    "playfile(file.pathname)"
   ]
  },
  {
   "cell_type": "markdown",
   "metadata": {},
   "source": [
    "<a id='rotation_section'></a>\n",
    "## The Rotation pattern\n",
    "\n",
    "`Rotation(items, rules, period=None)`\n",
    "\n",
    "Rotation permutes it's items according to one or more *swapping rules*. A swapping rule is a list of (up to) four integers that defines how elements are swapped (exchanged) in order to produce the next arrangement, or *generation*, of data:\n",
    "\n",
    "<code>    [start, step, span=1, end=len]</code>\n",
    "\n",
    "*Start* is the location (zero based) in the items list to begin swapping. *Step* is the rightward increment to move to start the next swap. *Span* is the optional distance between the two elements that will be swapped (default is adjacent elements). *End* is the optional index in the data that stepping stops before (default is length of the data).\n",
    "\n",
    "Here is an example of rotating a list of three elements [a, b, c] using one rule [0, 1, 1] until the original ordering returns. The sequential swaps that transform the current ordering (generation) into the next are shown in bold.\n",
    "\n",
    "| this generation  | → swap #1 | → swap #2 | → next generation |\n",
    "|:------------|:--------|:-------|:---------|\n",
    "| a b c |  **b a** c | b **c a**  | b c a |\n",
    "| b c a\t|  **c b** a\t| c **a b**  | c a b |\n",
    "| c a b\t|  **a c** b\t| a **b c**  | a b c |\n",
    "\n",
    "To specify multiple rules, provide a list of rules or a generator of rules, in which case the next rule is used to produce the next generation of data.\n",
    "\n",
    "In this example adjacent pairs of items are swapped"
   ]
  },
  {
   "cell_type": "code",
   "execution_count": null,
   "metadata": {},
   "outputs": [],
   "source": [
    "data = ['a','b','c']\n",
    "rule = [0, 1, 1]\n",
    "rgen = Rotation(data, rule)\n",
    "for g in range(4):\n",
    "    print(f\"generation{g+1}: {rgen.next(True)}\")"
   ]
  },
  {
   "cell_type": "markdown",
   "metadata": {},
   "source": [
    "#### `Rotation.all(grouped=False, wrapped=False)`\n",
    "\n",
    "Rotation provides the helper function `all()` that reads all the generations of its data until the original generation returns. If the *grouped* parameter is False then the generations are returned as a flat list of elements, if it is True then each generation is returned in its own sublist. If *wrapped* is True then the terminating reappearance of the first generation will be included in the data returned.\n",
    "\n",
    "This example  uses two rules: the first rules swaps just elements 0 and 1, and the second rule swaps elements 1 and 2. Since grouped and wrapped are both True each generation is returns as a sublist and the last generation is the same as the first:"
   ]
  },
  {
   "cell_type": "code",
   "execution_count": null,
   "metadata": {},
   "outputs": [],
   "source": [
    "data = ['a','b','c']\n",
    "rules = [[0, 1, 1, 2], [1, 1, 1, 3]]\n",
    "\n",
    "rpat = Rotation(data, rules)\n",
    "\n",
    "for g, gen in enumerate(rpat.all(True, True)):\n",
    "    print(f\"gen{g+1}: {gen}\")"
   ]
  },
  {
   "cell_type": "markdown",
   "metadata": {},
   "source": [
    "This next example returns the same results but as a flat list without the inititial generation at the end of the results:"
   ]
  },
  {
   "cell_type": "code",
   "execution_count": null,
   "metadata": {},
   "outputs": [],
   "source": [
    "data = ['a','b','c']\n",
    "rules = [[0, 1, 1, 2], [1, 1, 1, 3]]\n",
    "rpat = Rotation(data, rules)\n",
    "print(f\"all no repeats: {rpat.all(False, False)}\")"
   ]
  },
  {
   "cell_type": "markdown",
   "metadata": {},
   "source": [
    "#### changeringing.ipynb\n",
    "\n",
    "For many musical examples using the Rotation pattern see the musx tutorial [changeringing.ipynb](changeringing.ipynb) in the same directory as this file."
   ]
  },
  {
   "cell_type": "markdown",
   "metadata": {},
   "source": [
    "<a id='markov_section'></a>\n",
    "## The Markov pattern\n",
    "\n",
    "`Markov(rules, stop=None, initial=[])`\n",
    "\n",
    "### Background\n",
    "\n",
    "A *markov process* (markov chain) is a random process whose outcomes are affected by previous choices :\n",
    "\n",
    "<img src=\"support/markov1.jpg\">\n",
    "\n",
    "We can think of this process as a table where each row defines the outcome probabilities of one (or more) past choices. Outcomes from the process are then fed back into the process to determine the next outputs.\n",
    "    \n",
    "<img src=\"support/markov2.jpg\">\n",
    "\n",
    "* Line one: The probablity of A given A is .5 and the probability of B given A is .5.\n",
    "* Line two: The probability of A given B is .2 and the probability of B given B is .8.\n",
    "    \n",
    "<p>\n",
    "A Markov process can be easily represented as a <I>transition table</I> that maps inputs to outputs according to probabilities.  The total probability of each transition (row) must equal 1.0, meaning that some outcome in a row must result from the past choice(s).\n",
    "</p>\n",
    "\n",
    "<img support=\"support/markov3.jpg\">\n",
    "\n",
    "<p>A Markov process is generic -- its outputs can be applied to many types of data sets. In music the data might be pitches, rhythms, harmonic choices, etc.  Because past choices influence subsequent choices the process can <I>mimic</I> many types of musical pattern behavior.</p>\n",
    "\n",
    "<img support=\"support/markov4.jpg\">\n",
    "    "
   ]
  },
  {
   "cell_type": "markdown",
   "metadata": {},
   "source": [
    "### The transition table\n",
    "\n",
    "The Markov pattern produces its items using a Python dictionary of (nth order) transition rules whose keys and values link past outcomes to a set of possible future outcomes. The dictionary's keys holds one or more past value(s), and the key's value is a list that associates each possible outcome with its probability:\n",
    "\n",
    "Dictionary syntax:\n",
    "\n",
    "<pre>\n",
    "{\n",
    " (past1, ...): [[next1, prob], [next2, prob], ...], \n",
    " (past2, ...): [[next1, prob], [next2, prob], ...],\n",
    " ...\n",
    "}\n",
    "</pre>\n",
    "\n",
    "As an example, here is a first order Markov process that outputs a pattern of 'a', 'b', and 'c'. The first rule says that if the last outcome was 'a' then the next outcome will be 'b' or 'c', with 'c' three times a likely to be chosen as 'b'.  The second rule says that if the previous output is 'b' then 'a' always follows. The third rules say that if 'c' was the last outcome, then any of the letters can result but 'a' is likely than 'b' or 'c' and 'c' is more likely than 'a'.\n",
    "\n",
    "This example a Markov pattern, note that each time 'b' occurs 'a' follows immediately:"
   ]
  },
  {
   "cell_type": "code",
   "execution_count": null,
   "metadata": {},
   "outputs": [],
   "source": [
    "rules = {('a'): [['b', 1], ['c', 3]], \n",
    "         ('b'): [['a', 1]], \n",
    "         ('c'): [['a', 5], ['c', 1], ['b', 2.5]]}\n",
    "pat = Markov(rules)\n",
    "data = pat.next(20)\n",
    "print(data)"
   ]
  },
  {
   "cell_type": "markdown",
   "metadata": {},
   "source": [
    "For convenience sake, in the case of first order Markov where rules only use one past event (see example above) the rule's key can be the item itself, rather than a tuple containing that item.  In addition, any future value that would otherwise be a list with a weight of 1 can be replaced by just the future value.  \n",
    "\n",
    "This next example uses both these conveniences to make a simplified version of the rules."
   ]
  },
  {
   "cell_type": "code",
   "execution_count": null,
   "metadata": {},
   "outputs": [],
   "source": [
    "rules = {'a': ['b', ['c', 3]], \n",
    "         'b': ['a'], \n",
    "         'c': [['a', 5], 'c', ['b', 2.5]]}\n",
    "pat = Markov(rules)\n",
    "data = pat.next(20)\n",
    "print(data)"
   ]
  },
  {
   "cell_type": "markdown",
   "metadata": {},
   "source": [
    "### Markov orders and `Markov.analyze()`\n",
    "\n",
    "One of the most interesting uses of Markov is to model real-world phenomena by analyzing data to extract the probability of outcomes given previous outcomes. Using such an analysis one can then determine rules that will generate output approaching the original data. How similar the results will depend on \"N\", the number of previous outcomes that are used to determine the next outcome. The number N is called the *markov order* of the process, and as the order increases, a Markov process will come closer and closer to exactly mimicking the data it is derived from.\n",
    "\n",
    "The next examples demonstrate the effect of increasing the order of a Markov process to create melodies that come closer and closer to the original data."
   ]
  },
  {
   "cell_type": "markdown",
   "metadata": {},
   "source": [
    "Markov setup:"
   ]
  },
  {
   "cell_type": "code",
   "execution_count": null,
   "metadata": {
    "scrolled": false
   },
   "outputs": [],
   "source": [
    "# The melodic pitches to use\n",
    "melody = [60, 60, 62, 60, 65, 64, 60, 60, 62, 60, 67, 65,\n",
    "          60, 60, 72, 69, 65, 64, 62, 70, 70, 69, 65, 67, 65]\n",
    "        \n",
    "def playmarkov(mpat):\n",
    "    '''Generates output from a markov pattern to a midi file.'''\n",
    "    def markovmelody(score, reps, mpat, rate):\n",
    "        '''Generates notes to a score from a markov pattern.'''\n",
    "        for _ in range(reps):\n",
    "            p = mpat.next()\n",
    "            score.add(Note(time=score.now, pitch=p, duration=rate * 1.5))\n",
    "            yield rate\n",
    "    print(f\"rules: {mpat.items}\")\n",
    "    seq=Seq()\n",
    "    score=Score(out=seq)\n",
    "    score.compose( markovmelody(score, 50, mpat, .2) )\n",
    "    f=MidiFile(\"markovmelody.mid\", seq).write()\n",
    "    print(f\"Wrote '{f.pathname}'\")\n",
    "    playfile(f.pathname)\n",
    "    \n",
    "print(f'playmarkov: {playmarkov}')"
   ]
  },
  {
   "cell_type": "markdown",
   "metadata": {},
   "source": [
    "### Markov.analyze(data, order)\n",
    "\n",
    "The following examples call the `Markov.analyze()` factory method to return patterns with increasing orders that come closer and closer to the original melody.  At what order do you recognize the tune?"
   ]
  },
  {
   "cell_type": "markdown",
   "metadata": {},
   "source": [
    "1st order Markov considers one past value, the original melody is only vaguely present:"
   ]
  },
  {
   "cell_type": "code",
   "execution_count": null,
   "metadata": {},
   "outputs": [],
   "source": [
    "markov = Markov.analyze(melody, order=1)\n",
    "playmarkov(markov)"
   ]
  },
  {
   "cell_type": "markdown",
   "metadata": {},
   "source": [
    "2nd order Markov considers two past values, some motives are recognizable:"
   ]
  },
  {
   "cell_type": "code",
   "execution_count": null,
   "metadata": {},
   "outputs": [],
   "source": [
    "rules = Markov.analyze(melody, order=2)\n",
    "playmarkov(rules)"
   ]
  },
  {
   "cell_type": "markdown",
   "metadata": {},
   "source": [
    "3rd order Markov...getting closer!"
   ]
  },
  {
   "cell_type": "code",
   "execution_count": null,
   "metadata": {},
   "outputs": [],
   "source": [
    "rules = Markov.analyze(melody, order=3)\n",
    "playmarkov(rules)"
   ]
  },
  {
   "cell_type": "markdown",
   "metadata": {},
   "source": [
    "4th order Markov, you should recognize the melody by now:"
   ]
  },
  {
   "cell_type": "code",
   "execution_count": null,
   "metadata": {},
   "outputs": [],
   "source": [
    "rules = Markov.analyze(melody, order=4)\n",
    "playmarkov(rules)"
   ]
  },
  {
   "cell_type": "markdown",
   "metadata": {},
   "source": [
    "In 5th order Markov the pattern is completely determined since there is only one possible output for each row:"
   ]
  },
  {
   "cell_type": "code",
   "execution_count": null,
   "metadata": {},
   "outputs": [],
   "source": [
    "rules = Markov.analyze(melody, order=5)\n",
    "playmarkov(rules)"
   ]
  },
  {
   "cell_type": "markdown",
   "metadata": {},
   "source": [
    "### Markov Examples"
   ]
  },
  {
   "cell_type": "markdown",
   "metadata": {},
   "source": [
    "#### Markov Chanting\n",
    "\n",
    "In the crudest of terms, a Gregorian Chant is characterized by mostly stepwise motion within a range of modal degrees. From any given tone there is more likelihood that a chant will move a step up or down than leap to a tone further away. The larger the skip, the more unlikely it is to occur. In addition, certain tones, such as the\n",
    "final and tenor, have more influence over the melody than other tones. For example, in the Dorian mode the tenor note A is occasionally decorated by the B-flat directly above it. This B-flat almost always returns back to the tenor tone. In an authentic mode, the final of the mode also acts as a kind of reflecting boundary\n",
    "that redirects the melody in the opposite direction. \n",
    "\n",
    "We can loosely mimic these stylistic tendencies using a first order Markov process. (The table values were created ad hoc, a much better way would be to analyze a collection of dorian chants...):"
   ]
  },
  {
   "cell_type": "code",
   "execution_count": null,
   "metadata": {},
   "outputs": [],
   "source": [
    "chantrules = { \n",
    "    ('d4',): [['d4', .1],  ['e4', .35], ['f4', .25], ['g4', .1], ['a4', .15]],\n",
    "    ('e4',): [['d4', .35], ['e4', .1], ['f4', .35], ['g4', .1], ['a4', 1]],\n",
    "    ('f4',): [['d4', .2], ['e4', .2], ['f4', .1], ['g4', .2], ['a4', .12]],\n",
    "    ('g4',): [['d4', .2], ['e4', .1], ['f4', .3], ['g4', .1], ['a4', .3], ['bf4', .2]],\n",
    "    ('a4',): [['d4', .1], ['e4', .1], ['f4', .2], ['g4', .3], ['a4', .2], ['bf4', .3]],\n",
    "    ('bf4',): [['a4', 1]]\n",
    "}\n",
    "\n",
    "def monk(score, reps, chant, rhy):\n",
    "    pat = Markov(chant)\n",
    "    for _ in range(reps):\n",
    "        k = keynum(pat.next())\n",
    "        n = Note(time=score.now, pitch=k, duration=rhy)\n",
    "        score.add(n)\n",
    "        yield rhy\n",
    "        \n",
    "def playchant(rules):\n",
    "    m=MidiFile.metatrack(ins={0: ChoirAahs})\n",
    "    t=Seq()\n",
    "    s=Score(out=t)\n",
    "    s.compose( monk(s, 50, chantrules, .35) )\n",
    "    f=MidiFile(\"chant.mid\", [m, t]).write()\n",
    "    playfile(f.pathname)\n",
    "    return rules\n",
    "\n",
    "print(f\"OK!\")"
   ]
  },
  {
   "cell_type": "code",
   "execution_count": null,
   "metadata": {},
   "outputs": [],
   "source": [
    "playchant(chantrules)"
   ]
  },
  {
   "cell_type": "markdown",
   "metadata": {},
   "source": [
    "In the next example we can add some rhythmic interest by possibly adjusting a note's duration if it is in the tonic triad and also forcing the last note to be the tonic."
   ]
  },
  {
   "cell_type": "code",
   "execution_count": null,
   "metadata": {},
   "outputs": [],
   "source": [
    "def chant_dur(knum, dur):\n",
    "    pc = knum % 12\n",
    "    if pc == 2:\n",
    "        return odds(.7, dur * 2, dur)\n",
    "    elif pc == 9:\n",
    "        return odds(.5, dur * 2, dur)\n",
    "    elif pc == 5:\n",
    "        return odds(.25, dur * 2, dur)\n",
    "    return dur\n",
    "\n",
    "def choir_monk(score, endtime, chant, dur, octave):\n",
    "    pat = Markov(chant)\n",
    "    while True:\n",
    "        k = keynum(pat.next())\n",
    "        if score.elapsed > endtime and ((k % 12) == 2):\n",
    "            yield -1\n",
    "        d = chant_dur(k, dur)\n",
    "        score.add(Note(time=score.now, pitch=k+octave, amplitude=.8, duration=dur))\n",
    "        yield dur\n",
    "print(f'choir_monk: {choir_monk}')"
   ]
  },
  {
   "cell_type": "markdown",
   "metadata": {},
   "source": [
    "For fun will run three monks simultaneously at the interval of a tritone."
   ]
  },
  {
   "cell_type": "code",
   "execution_count": null,
   "metadata": {},
   "outputs": [],
   "source": [
    "t=Seq()\n",
    "m=MidiFile.metatrack(ins={0: ChoirAahs})\n",
    "s=Score(out=t)\n",
    "s.compose([choir_monk(s, 20, chantrules, .8, 6), \n",
    "           choir_monk(s, 20, chantrules, .8, 0) ,  \n",
    "           choir_monk(s, 20, chantrules, .8, -6)])\n",
    "f=MidiFile(\"chorus.mid\", [m,t]).write()\n",
    "print(f\"Wrote '{f.pathname}'\")\n",
    "playfile(f.pathname)"
   ]
  },
  {
   "cell_type": "markdown",
   "metadata": {},
   "source": [
    "#### Markov Harmony\n",
    "\n",
    "A Markov process can be used to determine an interesting mix intervals that can be stacked to create different chords.\n",
    "This example uses an ad hoc table to compose harmony and melody vaguely reminiscent of Messiaen's modes."
   ]
  },
  {
   "cell_type": "code",
   "execution_count": null,
   "metadata": {},
   "outputs": [],
   "source": [
    "harmonyrules = {1: [[3, .4], [4, .4], [6, .1]],\n",
    "                2: [[2, .2], [3, .4], [4, .4], [6, .1]],\n",
    "                3: [[1, .2], [2, .6], [4, .4]],\n",
    "                4: [[2, .2], [3, .4], [4, .4]],\n",
    "                6: [[2, .4], [3, .2], [4, .2]]\n",
    "}\n",
    "\n",
    "def markov_harmonizer (score, length, rules, top, size, upward, rhy, dur):\n",
    "    pat = Markov(rules)\n",
    "    for _ in range(length):\n",
    "        i = pat.next()\n",
    "        top = fit(top + odds(upward, i, -i), 50, 90)\n",
    "        k = top\n",
    "        for _ in range(size):\n",
    "            m = Note(time=score.now, pitch=k, duration=dur)\n",
    "            score.add(m)\n",
    "            k -= pat.next()\n",
    "        yield rhy\n",
    "\n",
    "t=Seq()\n",
    "m=MidiFile.metatrack(ins={0: AcousticGrandPiano}) \n",
    "s=Score(out=t)\n",
    "s.compose(markov_harmonizer(s, 25, harmonyrules, 67, 6, .7, 1.2, 1.2))\n",
    "f=MidiFile(\"harmony.mid\", [m,t]).write()\n",
    "print(f\"Wrote '{f.pathname}'\")\n",
    "playfile(f.pathname)"
   ]
  },
  {
   "cell_type": "markdown",
   "metadata": {},
   "source": [
    "#### Markov Rhythmic Patterns\n",
    "\n",
    "Imagine generating a melody for a soloist in which the rhythms are determined by weighted random selection. Even if only a few simple rhythms are used, the 'metric pulse' of the process will be weak since sixteenths and dotted eighths can appear anywhere, only occasionally lining up with the start of a metric pulse. If a tempo curve is also applied the beat becomes even more obscured."
   ]
  },
  {
   "cell_type": "code",
   "execution_count": null,
   "metadata": {},
   "outputs": [],
   "source": [
    "def ranrhythm(s, leng, rhys, lo, hi):\n",
    "    tcurve = [0, 1, .7, .75, 1, 1]\n",
    "    for i in range(leng):\n",
    "        k = between(lo, hi)\n",
    "        r = rhys.next()\n",
    "        d = intempo(r, 120) * interp(i / leng, tcurve)\n",
    "        m = Note(time=s.now, pitch=k, duration=d)\n",
    "        s.add(m)\n",
    "        yield d\n",
    "\n",
    "# rhythms are random\n",
    "rhythms = Choose([1, .75, .5, .25])\n",
    "        \n",
    "t=Seq()\n",
    "m=MidiFile.metatrack(ins={0: Marimba})\n",
    "s=Score(out=t)\n",
    "s.compose(ranrhythm(s, 75, rhythms, 40, 80))\n",
    "f=MidiFile(\"rhythm.mid\", [m,t]).write()\n",
    "print(f\"Wrote '{f.pathname}'\")\n",
    "playfile(f.pathname)"
   ]
  },
  {
   "cell_type": "markdown",
   "metadata": {},
   "source": [
    "In the next version a first order Markov process produces random variations that support the perception of an underlying pulse, even in the case of a tempo curve warping the timing. Table labels are Q=quarter, E.=dotted eighth, E=eighth, S=sixteenth, and table values are probability weights.\n",
    "\n",
    "<table>\n",
    "    <tr> <td> </td>   <td>Q</td>   <td>E.</td>   <td>E</td>  <td>S</td>  </tr>\n",
    "    <tr> <td>Q</td>   <td>.5</td>  <td>.75</td>  <td>2</td>  <td>2</td>  </tr>\n",
    "    <tr> <td>E.</td>  <td>0</td>   <td>0</td>    <td>0</td>  <td>1</td>  </tr>\n",
    "    <tr> <td>E</td>   <td>2</td>   <td>1</td>    <td>2</td>  <td>0</td>  </tr> \n",
    "    <tr> <td>S</td>   <td>1</td>   <td>0</td>    <td>2</td>  <td>1</td>  </tr> \n",
    "    <tfoot></tfoot>\n",
    "</table>"
   ]
  },
  {
   "cell_type": "code",
   "execution_count": null,
   "metadata": {
    "scrolled": true
   },
   "outputs": [],
   "source": [
    "rules = {\n",
    "    1: [[1, .5], [.75, .75], [.5, 2]],\n",
    "    .75: [.25],\n",
    "    .5: [[1, 2], .75, [.5, 2]],\n",
    "    .25: [1, [.5, 2], .25]\n",
    "}\n",
    "\n",
    "# ryhthms are \n",
    "rhythms = Markov(rules)\n",
    "\n",
    "t=Seq()\n",
    "m=MidiFile.metatrack(ins={0: Marimba})\n",
    "s=Score(out=t)\n",
    "s.compose(ranrhythm(s, 75, rhythms, 40, 80))\n",
    "f=MidiFile(\"rhythm.mid\", [m,t]).write()\n",
    "print(f\"Wrote '{f.pathname}'\")\n",
    "playfile(f.pathname)"
   ]
  },
  {
   "cell_type": "markdown",
   "metadata": {},
   "source": [
    "#### Markov Texture\n",
    "\n",
    "This example is a take on keyboard motions between black keys and white keys that can be found in some of Ligeti's works. THe choice of octaves is also made using a Markov process."
   ]
  },
  {
   "cell_type": "code",
   "execution_count": null,
   "metadata": {},
   "outputs": [],
   "source": [
    "bwmotion = {\n",
    "    0:  [[0, .5],  [2, 2],   [4, 1.5], [5, 1],   [7, .5],   [9, .5],  [11, .5],  [1, .2], [3, .1], [6, .1], [8, .1],  [10, .1]],\n",
    "    1:  [[1, .5],  [3, 2],   [6, 1.5], [8, 1],   [10, 1],   [0, .2],  [2, .2],   [4, .1], [5, .1], [7, .1], [9, .1],  [11, .1]],\n",
    "    2:  [[0, 2],   [2, .5],  [4, 2],   [5, 1.5], [7, 1],    [9, .5],  [1, .2],   [3, .2], [6, .1], [8, .1], [10, .1], [11, .1]],\n",
    "    3:  [[1, 2],   [3, .5],  [6, 1.5], [8, 1],   [10, .5],  [0, .1],  [2, .2],   [4, .2], [5, .1], [7, .1], [9, .1],  [11, .1]],\n",
    "    4:  [[0, 1.5], [2, 2],   [4, .5],  [5, 2],   [7, 1.5],  [9, 1],   [11, .5],  [1, .1], [3, .2], [6, .2], [8, .1],  [10, .1]],\n",
    "    5:  [[0, 1],   [2, 1.5], [4, 2],   [5, .5],  [7, 2],    [9, 1.5], [11, 1],   [1, .1], [3, .2], [6, .2], [8, .1],  [10, .1]],\n",
    "    6:  [[1, 1.5], [3, 2],   [6, .5],  [8, 2],   [10, 1.5], [0, .1],  [2, .1],   [4, .1], [5, .2], [7, .2], [9, .1],  [11, .1]],\n",
    "    7:  [[0, .5],  [2, 1],   [4, 1.5], [5, 2],   [7, .5],   [9, 2],   [11, 1.5], [1, .1], [3, .1], [6, .2], [8, .2],  [10, .1]],\n",
    "    8:  [[1, 1],   [3, 1.5], [6, 2],   [8, .5],  [10, 2],   [0, .1],  [2, .1],   [4, .1], [5, .1], [7, .2], [9, .2],  [11, .1]],\n",
    "    9:  [[0, .5],  [2, .4],  [4, 1],   [5, 1.5], [7, 2],    [9, .5],  [11, 2],   [1, .1], [3, .1], [6, .1], [8, .2],  [10, .2]],\n",
    "    10: [[1, .5],  [3, 1],   [6, 1.5], [8, 2],   [10, .5],  [0, .1],  [2, .1],   [4, .1], [5, .1], [7, .1], [9, .2],  [11, .2]],\n",
    "    11: [[0, .5],  [2, .5],  [4, .5],  [5, 1],   [7, 1.5],  [9, 2],   [11, .5],  [1, .1], [3, .1], [6, .1], [8, .1],  [10, .2]]\n",
    "}\n",
    "\n",
    "bwoctaves = {\n",
    "    'c3': [['c3', 2],   ['c4', 1],  ['c5', .5], ['c6', .25]],\n",
    "    'c4': [['c3', 1],   ['c4', 2],  ['c5', 1],  ['c6', .5]],\n",
    "    'c5': [['c3', .5],  ['c4', 1],  ['c5', 2],  ['c6', 1]],\n",
    "    'c6': [['c3', .25], ['c4', .5], ['c5', 1],  ['c6', 2]]\n",
    "}\n",
    "\n",
    "def bwkeys(score, length, octlist, intlist, rate, chan):\n",
    "    ints = Markov(intlist)\n",
    "    octs = Markov(octlist)\n",
    "    reps = 0\n",
    "    octv = 0\n",
    "    for _ in range(length):\n",
    "        if reps == 0:\n",
    "            reps = pick(4, 8, 12, 16)\n",
    "            octv = keynum(octs.next())\n",
    "        intr = ints.next()\n",
    "        n = Note(time=score.now, duration=rate * 1, pitch=octv + intr, instrument=chan)\n",
    "        score.add(n)\n",
    "        reps = reps - 1\n",
    "        yield rate\n",
    "\n",
    "print(f'bwkeys: {bwkeys}')"
   ]
  },
  {
   "cell_type": "markdown",
   "metadata": {},
   "source": [
    "Listen to one voice:"
   ]
  },
  {
   "cell_type": "code",
   "execution_count": null,
   "metadata": {},
   "outputs": [],
   "source": [
    "t=Seq()\n",
    "m=MidiFile.metatrack(ins={0: Marimba})\n",
    "s=Score(out=t)\n",
    "s.compose(bwkeys(s, 120, bwoctaves, bwmotion, .125, 0))\n",
    "f=MidiFile(\"texture.mid\", [m,t]).write()\n",
    "print(f\"Wrote '{f.pathname}'\")\n",
    "playfile(f.pathname)"
   ]
  },
  {
   "cell_type": "markdown",
   "metadata": {},
   "source": [
    "Listen to two voices:"
   ]
  },
  {
   "cell_type": "code",
   "execution_count": null,
   "metadata": {},
   "outputs": [],
   "source": [
    "t=Seq()\n",
    "m=MidiFile.metatrack(ins={0: Marimba, 1: Marimba})\n",
    "s=Score(out=t)\n",
    "s.compose([[0, bwkeys(s, 120, bwoctaves, bwmotion, .125, 0)],\n",
    "          [2, bwkeys(s, 120, bwoctaves, bwmotion, .125, 1)]])\n",
    "f=MidiFile(\"texture.mid\", [m,t]).write()\n",
    "print(f\"Wrote '{f.pathname}'\")\n",
    "playfile(f.pathname)"
   ]
  },
  {
   "cell_type": "markdown",
   "metadata": {},
   "source": [
    "For a larger example of a musical Markov pattern see the demo file foster.ipynb."
   ]
  },
  {
   "cell_type": "markdown",
   "metadata": {},
   "source": [
    "<a id='states_section'></a>\n",
    "## The States pattern\n",
    "\n",
    "`States(cells, transfunc)`\n",
    "\n",
    "States returns evolving values from a state machine (cellular automata). The pattern supports both one and two dimensional automata; for a 1D automata the _cells_ argument is a list of states, for 2D automata it is a list of lists where each sublist defines a 'row' of initial states. \n",
    "\n",
    "### The transition function and `States.getstate()`\n",
    "\n",
    "States applies a user-defined _transition function_ to the automata's cells to produce the next generation of states. This function accepts two arguments, the cells array and an index, and returns the next state for the cell at the given index:\n",
    "\n",
    "    transfunc(cells, index)\n",
    "\n",
    "To determine the next state of the indexed cell the transition function typically has to access values in neighboring cells. The States class provides a static function that will access the current state of any cell in the array using relative offsets _xinc_ and _yinc_  to the current index:\n",
    "\n",
    "    States.getstate(cells, index, xinc=0, yinc=0)\n",
    "    \n",
    "For example, in a 1D automata: <pre>States.getstates(cells, index, 1)</pre> would return the state value of the cell to the immediate right of the indexed cell, and: <pre>States.getstate(cells, index, -2)</pre> would return the state of the cell two positions to the left of the current cell. The States.getstate() function computes addresses mod the size of the cell array so the transition function does not have to perform bounds checking when access neighbors. \n",
    "\n",
    "In this example the next state of the current cell will be determined by accessing the values of neighbor cells to the immediate left and right and adding them together mod 4:"
   ]
  },
  {
   "cell_type": "code",
   "execution_count": null,
   "metadata": {},
   "outputs": [],
   "source": [
    "def add_neighbors(cells, index):\n",
    "    left = States.getstate(cells, index, -1)\n",
    "    right = States.getstate(cells, index, 1)\n",
    "    #print(f\"cells: {cells}, index={index}, left: {left} right: {right}\")\n",
    "    return (left + right) % 4\n",
    "\n",
    "cells = States([0,1,0,1,0], transitions=add_neighbors)\n",
    "\n",
    "for _ in range(10): \n",
    "    print(cells.next(5))"
   ]
  },
  {
   "cell_type": "markdown",
   "metadata": {},
   "source": [
    "Use the pattern as decoration on an ascending line:"
   ]
  },
  {
   "cell_type": "code",
   "execution_count": null,
   "metadata": {},
   "outputs": [],
   "source": [
    "cells = States([0,1,0,1,0], transitions=add_neighbors)\n",
    "line = Range(60, 85, Cycle([1,2,3,4,5], period=3))\n",
    "\n",
    "def playcells(score, cells, reps, line, rate, amp):\n",
    "    for i in range(reps):\n",
    "        if i % 5 == 0:\n",
    "            k = line.next()\n",
    "        n = Note(time=score.now, pitch=cells.next() + k, duration=rate+.1, amplitude=amp)\n",
    "        score.add(n)\n",
    "        yield rate\n",
    "\n",
    "score=Score(out=Seq())\n",
    "score.compose(playcells(score, cells, 120, line, .125, .7))\n",
    "file=MidiFile(\"states.mid\", [score.out]).write()\n",
    "print(f\"Wrote '{file.pathname}'\")\n",
    "playfile(file.pathname)"
   ]
  },
  {
   "cell_type": "markdown",
   "metadata": {},
   "source": [
    "This example sonifies an eight-state automata. The values from the pattern controls both pitch and rhythm:"
   ]
  },
  {
   "cell_type": "code",
   "execution_count": null,
   "metadata": {},
   "outputs": [],
   "source": [
    "def eight_states (cells, index):\n",
    "    logand = lambda x,y: x & y   \n",
    "    left = States.getstate(cells, index, -1)\n",
    "    middle = States.getstate(cells, index, 0)\n",
    "    right = States.getstate(cells, index, 1)\n",
    "    return logand(left, 4) + logand(middle, 2) + logand(right, 1)\n",
    "\n",
    "cells = States([0, 1, 2, 3, 4, 5, 6, 7], eight_states)\n",
    "\n",
    "def play_eight_notes(score, cells, reps, amp):\n",
    "    keys = keynum(\"c4 fs af b d5 ef e g\")\n",
    "    for _ in range(reps):\n",
    "        i = cells.next()\n",
    "        k = keys[i]\n",
    "        r = rescale(i, 0, 7, .150, .400)\n",
    "        n = Note(time=score.now, duration=r*1.9, pitch=k, amplitude=amp)\n",
    "        score.add(n)\n",
    "        yield r\n",
    "\n",
    "score=Score(out=Seq())\n",
    "score.compose(play_eight_notes(score, cells, 128, .7))\n",
    "file=MidiFile(\"states.mid\", [score.out]).write()\n",
    "print(f\"Wrote '{file.pathname}'\")\n",
    "playfile(file.pathname)"
   ]
  }
 ],
 "metadata": {
  "kernelspec": {
   "display_name": "Python 3 (ipykernel)",
   "language": "python",
   "name": "python3"
  },
  "language_info": {
   "codemirror_mode": {
    "name": "ipython",
    "version": 3
   },
   "file_extension": ".py",
   "mimetype": "text/x-python",
   "name": "python",
   "nbconvert_exporter": "python",
   "pygments_lexer": "ipython3",
   "version": "3.10.6"
  }
 },
 "nbformat": 4,
 "nbformat_minor": 4
}

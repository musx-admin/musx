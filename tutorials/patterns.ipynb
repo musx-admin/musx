{
 "cells": [
  {
   "cell_type": "markdown",
   "metadata": {},
   "source": [
    "# Musical Patterns\n",
    "\n",
    "An introduction to musical pattern generation in musx.\n",
    "\n",
    "<hr style=\"height:1px;color:gray\">"
   ]
  },
  {
   "cell_type": "markdown",
   "metadata": {},
   "source": [
    "Notebook imports:"
   ]
  },
  {
   "cell_type": "code",
   "execution_count": 2,
   "metadata": {
    "scrolled": true
   },
   "outputs": [
    {
     "name": "stdout",
     "output_type": "stream",
     "text": [
      "musx version: N.N.N\n"
     ]
    }
   ],
   "source": [
    "import sys\n",
    "sys.path.append('/Users/taube/Software/musx')\n",
    "import matplotlib.pyplot as plt\n",
    "from random import randint\n",
    "from musx import version, Cycle, Choose, Palindrome, Shuffle, Rotation, Markov, States, setmidiplayer, between\n",
    "print(f\"musx version: {version}\")"
   ]
  },
  {
   "cell_type": "markdown",
   "metadata": {},
   "source": [
    "Generate midi files and automatically play them using [fluidsynth](https://www.fluidsynth.org/download/) and the [MuseScore_General.sf3](https://ftp.osuosl.org/pub/musescore/soundfont/MuseScore_General) sound font. See [INSTALL.md](https://github.com/musx-admin/musx/blob/main/INSTALL.md) for how to install a terminal based midi player to use with musx.  If you dont have a player installed you can access the output files in the same directory as this notebook:"
   ]
  },
  {
   "cell_type": "code",
   "execution_count": 3,
   "metadata": {},
   "outputs": [],
   "source": [
    "setmidiplayer(\"fluidsynth -iq -g1 /usr/local/sf/MuseScore_General.sf3\")"
   ]
  },
  {
   "cell_type": "markdown",
   "metadata": {},
   "source": [
    "## Musical patterns in musx\n",
    "\n",
    "Music is brimming with patterns! Composers are always looking for new ways to organize notes, rhythms, even elements of form. By encorporating patterns at various levels of their music composers can control the \"mix\" of new and heard-before ideas in artistic and interesting ways. \n",
    "\n",
    "In terms of coding, a pattern is a resource that generates data in a particular ordering. Since there are so many kinds of patterns in music, it is useful to have a toolbox of generic patterns and a way to implement new ones.\n",
    "\n",
    "In musx patterns are subclasses of a Pattern base class that implements an object-orientated interface for generating data, from simple looping and randomness to more complex processes such as markov chains, cellular automata and chaos.  \n",
    "Many of these patterns allow subpatterns to be embedded inside parent patterns and processed seamlessly by the Pattern's `next()` method.  Patterns that support embedding have a 'period' argument that regulate how many items are read from it before a parent pattern can move to its next item. The period value can be expressed as a constant value or a pattern of values.\n",
    "\n",
    "We will take a first look at these concepts using the simplest musx pattern, the Cycle."
   ]
  },
  {
   "cell_type": "markdown",
   "metadata": {},
   "source": [
    "## The Cycle pattern\n",
    "\n",
    "```Cycle(items, period=None)```\n",
    "\n",
    "A Cycle pattern generates items in an endless loop from front to back. "
   ]
  },
  {
   "cell_type": "code",
   "execution_count": null,
   "metadata": {
    "scrolled": true
   },
   "outputs": [],
   "source": [
    "pat = Cycle([1,2,3,4])\n",
    "print(f\"pat: {pat}\")"
   ]
  },
  {
   "cell_type": "markdown",
   "metadata": {},
   "source": [
    "### Reading pattern data\n",
    "\n",
    "To read data from a pattern call its `next()` method, which supports additional features not available in python's builtin `next()` function.\n",
    "\n",
    "\n",
    "`Pattern.next(more=False)`\n",
    "\n",
    "The pattern `next()` provides a *more* argument that allow pattern items to be accessed in several different ways.  \n",
    "\n",
    "If the more argument is False (the default), then next() returns just the next item from the pattern:"
   ]
  },
  {
   "cell_type": "code",
   "execution_count": null,
   "metadata": {},
   "outputs": [],
   "source": [
    "pat = Cycle([1,2,3,4])\n",
    "print(f\"next: {pat.next()}\")\n",
    "print(f\"next: {pat.next()}\")\n",
    "print(f\"next: {pat.next()}\")\n",
    "print(f\"next: {pat.next()}\")"
   ]
  },
  {
   "cell_type": "markdown",
   "metadata": {},
   "source": [
    "If the *more* argument is an integer then `next()`` returns that many elements from the pattern. In this next example the cyclic ordering 1, 2, 3, 4 is perserved in the output no matter how many items are returned in each call. \n",
    "The length of values returned is called the *period* of the pattern:"
   ]
  },
  {
   "cell_type": "code",
   "execution_count": null,
   "metadata": {},
   "outputs": [],
   "source": [
    "pat = Cycle([1,2,3,4])\n",
    "print(f\"pat: {pat}\")\n",
    "print(f\"next: {pat.next(7)}\")\n",
    "print(f\"next: {pat.next(4)}\")\n",
    "print(f\"next: {pat.next(1)}\")\n",
    "print(f\"next: {pat.next(5)}\")"
   ]
  },
  {
   "cell_type": "markdown",
   "metadata": {},
   "source": [
    "### Pattern periods\n",
    "\n",
    "Most patterns allow a period length to be specifed to a pattern when it is created. Patterns that allow this also provide a default period length if one is not provided by the caller.  \n",
    "\n",
    "In this next example, the period becomes something that the pattern controls internally. To tell the pattern to use its  intranl period pass True to the *more* parameter, as seen in this example:"
   ]
  },
  {
   "cell_type": "code",
   "execution_count": null,
   "metadata": {},
   "outputs": [],
   "source": [
    "pat = Cycle([1,2,3,4], period=3)\n",
    "print(f\"pat: {pat}\")\n",
    "print(f\"next: {pat.next(True)}\")\n",
    "print(f\"next: {pat.next(True)}\")\n",
    "print(f\"next: {pat.next(True)}\")\n",
    "print(f\"next: {pat.next(True)}\")"
   ]
  },
  {
   "cell_type": "markdown",
   "metadata": {},
   "source": [
    "Note that True actually returns the *remaining* items in a period; this keeps ordering in sync no matter what you pass to next()'s *more* argument when you call it."
   ]
  },
  {
   "cell_type": "code",
   "execution_count": null,
   "metadata": {},
   "outputs": [],
   "source": [
    "pat = Cycle([1,2,3,4], period=4)\n",
    "print(f\"pat: {pat}\")\n",
    "print(f\"reading remaining items in period: {pat.next(True)}\")\n",
    "print(f\"reading 1 item: {pat.next()}\")\n",
    "print(f\"reading remaining items in period: {pat.next(True)}\")\n",
    "print(f\"reading 3 items: {pat.next(3)}\")\n",
    "print(f\"reading remaining items in period: {pat.next(True)}\")\n",
    "print(f\"reading remaining items in period: {pat.next(True)}\")"
   ]
  },
  {
   "cell_type": "markdown",
   "metadata": {},
   "source": [
    "The period of a pattern can also be specified as a _pattern_ of integers, in which case the pattern's period will vary accordingly. In this next example, the length of the period `next(True)` will cycle through the lengths 5, 6, 7."
   ]
  },
  {
   "cell_type": "code",
   "execution_count": null,
   "metadata": {},
   "outputs": [],
   "source": [
    "pat = Cycle([1,2,3,4], period=Cycle([5,6,7]))\n",
    "print(f\"pat: {pat}\")\n",
    "for _ in range(7):\n",
    "    print(f\"next: {pat.next(True)}\")"
   ]
  },
  {
   "cell_type": "markdown",
   "metadata": {},
   "source": [
    "### Embedded subpatterns\n",
    "\n",
    "The period length is particularly important when working with *embedded* patterns, i.e. subpatterns.\n",
    "In this example, an outer cyclic pattern contains an embedded cyclic pattern. The outer pattern cycles through four items: [10, *subpattern*, 20, 30], the subpattern cycles through two items: [-1, -2].  "
   ]
  },
  {
   "cell_type": "code",
   "execution_count": null,
   "metadata": {},
   "outputs": [],
   "source": [
    "pat = Cycle(['a', \n",
    "             Cycle([-1, -2], period=Cycle([1,2,3])), \n",
    "             'b', \n",
    "             'c'])\n",
    "print(f\"{pat.next(20)}\")"
   ]
  },
  {
   "cell_type": "markdown",
   "metadata": {},
   "source": [
    "Note that each time the subpattern is encountered it yields 1, 2 or 3 of its items before the outer pattern can move on to its next item. The overall pattern is a merge of two streams of cyclic data: an outer pattern of 10, 20, 30...\n",
    "and an inner pattern -1, -2... In this image the yields from each pattern are marked by '**'.\n",
    "```\n",
    "outer:  **       **   **   **           **   **   **               **  **  **         **  **  **\n",
    "       ['a', -1, 'b', 'c', 'a', -2, -1, 'b', 'c', 'a', -2, -1, -2, 'b', 'c', 'a', -1, 'b', 'c', 'a']\n",
    "inner:       **                 **  **                 **  **  **                 ** \n",
    "```"
   ]
  },
  {
   "cell_type": "markdown",
   "metadata": {},
   "source": [
    "### Embedded expressions\n",
    "\n",
    "You can also embed python expressions inside patterns to calculate new values to return each time `next()` encounters them in the pattern. To embed an expression wrap it in a 'thunk', i.e. a lambda expression or function of zero arguments, and give the thunk as an element to the pattern. \n",
    "\n",
    "In this example the constants 'a' 'b' and 'c' are interleaved with two lambda expressions:"
   ]
  },
  {
   "cell_type": "code",
   "execution_count": 5,
   "metadata": {},
   "outputs": [
    {
     "name": "stdout",
     "output_type": "stream",
     "text": [
      "data: ['a', 10, 'b', -12, 'c', 'a', 18, 'b', -12, 'c', 'a', 15, 'b', -14, 'c', 'a', 10, 'b', -19, 'c']\n"
     ]
    }
   ],
   "source": [
    "items = ['a', lambda: between(10, 20), 'b', lambda: between(-20, -10), 'c']\n",
    "\n",
    "print(f\"data: {Cycle(items).next(20)}\")"
   ]
  },
  {
   "cell_type": "markdown",
   "metadata": {},
   "source": [
    "### The takeaway\n",
    "\n",
    "The basic rule to remember for most musx patterns is that constant data can usually be replaced by patterns or expressions of data, and embedded to any level in (other) patterns."
   ]
  },
  {
   "cell_type": "markdown",
   "metadata": {},
   "source": [
    "## The Palindrome pattern\n",
    "\n",
    "```palindrome(items, period=None, wrap='++')```\n",
    "\n",
    "The Palindrome pattern returns items both forwards and backwards. The `wrap` argument is a two character token that determines if the first or last elements are directly repeated when the pattern reverses: the first token applies to the first item and the second item applies to the second.  The '+' token means the element is repeated and '-' means it is not repeated.\n",
    "<!-- The Palindrome pattern returns its items both forwards and backwards. The `wrap` argument is a two character token that determines if the first and/or last elements are directly repeated when the pattern reverses: the + means the first or last element is directly repeated and the - means it is not. -->"
   ]
  },
  {
   "cell_type": "markdown",
   "metadata": {},
   "source": [
    "This palindrome uses the default wrap value ('++') which means that both the front and back items repeat on reversal:"
   ]
  },
  {
   "cell_type": "code",
   "execution_count": null,
   "metadata": {},
   "outputs": [],
   "source": [
    "pat = Palindrome([1,2,3])\n",
    "for _ in range(3):\n",
    "    print(f\"pat: {pat.next(True)}\")"
   ]
  },
  {
   "cell_type": "markdown",
   "metadata": {},
   "source": [
    "This Palindrome repeats only the front item on reversal:"
   ]
  },
  {
   "cell_type": "code",
   "execution_count": null,
   "metadata": {},
   "outputs": [],
   "source": [
    "pat = Palindrome([1,2,3], wrap='+-')\n",
    "for _ in range(3):\n",
    "    print(f\"pat: {pat.next(True)}\")"
   ]
  },
  {
   "cell_type": "markdown",
   "metadata": {},
   "source": [
    "This palindrome repeats only the back item on reversal:"
   ]
  },
  {
   "cell_type": "code",
   "execution_count": null,
   "metadata": {},
   "outputs": [],
   "source": [
    "pat = Palindrome([1,2,3], wrap='-+')\n",
    "for _ in range(3):\n",
    "    print(f\"pat: {pat.next(True)}\")"
   ]
  },
  {
   "cell_type": "markdown",
   "metadata": {},
   "source": [
    "If wrap includes only '-' signs the palindrome does not repeat either the front or back item on reversal:"
   ]
  },
  {
   "cell_type": "code",
   "execution_count": 4,
   "metadata": {
    "scrolled": true
   },
   "outputs": [
    {
     "name": "stdout",
     "output_type": "stream",
     "text": [
      "pat: [1, 2, 3, 2]\n",
      "pat: [1, 2, 3, 2]\n",
      "pat: [1, 2, 3, 2]\n"
     ]
    }
   ],
   "source": [
    "pat = Palindrome([1,2,3], wrap='--')\n",
    "for _ in range(3):\n",
    "    print(f\"pat: {pat.next(True)}\")"
   ]
  },
  {
   "cell_type": "markdown",
   "metadata": {},
   "source": [
    "## The Choose pattern\n",
    "\n",
    "```Choose(items, weights=[])```\n",
    "\n",
    "The Choose pattern performs weighted random selection to yield the next item. The *weights* argument allows the caller to pass a list of relative weights for each item. If a *weights* argument is not provided all items will have an equal probability of being selected."
   ]
  },
  {
   "cell_type": "markdown",
   "metadata": {},
   "source": [
    "Support for displaying results of 1000 Choose values. If matplotlib is available a graphic image as well a histogram dictionary will be presented:"
   ]
  },
  {
   "cell_type": "code",
   "execution_count": 9,
   "metadata": {},
   "outputs": [
    {
     "name": "stdout",
     "output_type": "stream",
     "text": [
      "Matplotlib is installed, results will include a graphic image :)\n"
     ]
    }
   ],
   "source": [
    "try: \n",
    "    import matplotlib.pyplot as plt\n",
    "    plot = True\n",
    "except:\n",
    "    plot = False\n",
    "\n",
    "print(f\"Matplotlib {'is' if plot else 'not'} installed, results will {'include' if plot else 'omit'} a graphic image :{')' if plot else '('}\")\n",
    "    \n",
    "def hist (data):\n",
    "    d = dict.fromkeys(sorted(data))\n",
    "    for i in d:\n",
    "        d[i] = data.count(i)\n",
    "    print(f\"histogram: {d}\")\n",
    "    if plotting:\n",
    "        plt.hist(data)"
   ]
  },
  {
   "cell_type": "markdown",
   "metadata": {},
   "source": [
    "Histogram of equal probabilities:"
   ]
  },
  {
   "cell_type": "code",
   "execution_count": 6,
   "metadata": {},
   "outputs": [
    {
     "name": "stdout",
     "output_type": "stream",
     "text": [
      "histogram: {'A': 323, 'B': 346, 'C': 331}\n"
     ]
    },
    {
     "data": {
      "image/png": "[encoded data removed]",
      "text/plain": [
       "<Figure size 640x480 with 1 Axes>"
      ]
     },
     "metadata": {},
     "output_type": "display_data"
    }
   ],
   "source": [
    "data = Choose(['A','B','C']).next(1000)\n",
    "hist(data)"
   ]
  },
  {
   "cell_type": "markdown",
   "metadata": {},
   "source": [
    "Histogram of 1000 datapoints yields weighted probabilities where the value 'B' is four as likely as 'A' and value 'C' is two times as likely:"
   ]
  },
  {
   "cell_type": "code",
   "execution_count": 7,
   "metadata": {},
   "outputs": [
    {
     "name": "stdout",
     "output_type": "stream",
     "text": [
      "histogram: {'A': 139, 'B': 567, 'C': 294}\n",
      "None\n"
     ]
    },
    {
     "data": {
      "image/png": "[encoded data removed]",
      "text/plain": [
       "<Figure size 640x480 with 1 Axes>"
      ]
     },
     "metadata": {},
     "output_type": "display_data"
    }
   ],
   "source": [
    "data = Choose(['A','B','C'], [1,4,2]).next(1000)\n",
    "print(hist(data))"
   ]
  },
  {
   "cell_type": "markdown",
   "metadata": {},
   "source": [
    "## The Shuffle pattern\n",
    "\n",
    "```Shuffle(items, norep=False)```\n",
    "\n",
    "The Shuffle pattern returns random permutations of its items.  To disallow immediate repetition of an item after reshuffling (e.g. the previous choice will also be the next choice) specify True to the *norep* parameter.\n",
    "\n",
    "In this example *norep* is False, so an item can repeat after every three values:"
   ]
  },
  {
   "cell_type": "code",
   "execution_count": 10,
   "metadata": {},
   "outputs": [
    {
     "name": "stdout",
     "output_type": "stream",
     "text": [
      "data: ['a', 'c', 'b', 'a', 'c', 'b', 'b', 'a', 'c', 'a', 'b', 'c', 'a', 'c', 'b', 'b', 'a', 'c', 'a', 'c', 'b']\n"
     ]
    }
   ],
   "source": [
    "data = Shuffle(['a','b','c']).next(21)\n",
    "print(f\"data: {data}\")"
   ]
  },
  {
   "cell_type": "markdown",
   "metadata": {},
   "source": [
    "If the *norep* parameter is True, the pattern rejects shuffles that would repeat the last item as the next item. "
   ]
  },
  {
   "cell_type": "code",
   "execution_count": null,
   "metadata": {},
   "outputs": [],
   "source": [
    "data = Shuffle(['a','b','c'], norep=True).next(21)\n",
    "print(f\"data: {data}\")"
   ]
  },
  {
   "cell_type": "markdown",
   "metadata": {},
   "source": [
    "Musical example of Shuffle patterns that generate a series of jazz sonorities each of which is made up of a mix of 3, 4, or 5 notes from a dorian scale."
   ]
  },
  {
   "cell_type": "code",
   "execution_count": 13,
   "metadata": {},
   "outputs": [
    {
     "name": "stdout",
     "output_type": "stream",
     "text": [
      "Wrote 'jazzriff.mid'.\n"
     ]
    }
   ],
   "source": [
    "from musx import keynum, intempo, Note, Seq, Score, MidiFile, playfile\n",
    "\n",
    "def playjazzriffs(score, num, amp):\n",
    "    keypat = Cycle([Shuffle(keynum(\"c6 d ef f g a bf\"), Choose([3, 4, 5])),\n",
    "                    Shuffle(keynum(\"c5 d ef f g a bf\"), Choose([3, 4, 5])),\n",
    "                    Shuffle(keynum(\"c4 d ef f g a bf\"), Choose([3, 4, 5]))\n",
    "                    ], period=1)\n",
    "    rhypat = Cycle([1, 1, 1, .5])\n",
    "    for _ in range(num):\n",
    "        rhy = intempo(rhypat.next(), 160)\n",
    "        chd = keypat.next(True)\n",
    "        score.add( Note(time=score.now, duration=rhy, pitch=chd, amplitude=amp))\n",
    "        yield rhy\n",
    "\n",
    "# Create a score and give it a seq to hold the score event data.\n",
    "score = Score(out=Seq())\n",
    "score.compose(playjazzriffs(score, 30, .8))\n",
    "# Write the tracks to a midi file in the current directory.\n",
    "file = MidiFile(\"jazzriff.mid\", score.out).write()\n",
    "print(f\"Wrote '{file.pathname}'.\")\n",
    "playfile(file.pathname)"
   ]
  }
 ],
 "metadata": {
  "kernelspec": {
   "display_name": "Python 3 (ipykernel)",
   "language": "python",
   "name": "python3"
  },
  "language_info": {
   "codemirror_mode": {
    "name": "ipython",
    "version": 3
   },
   "file_extension": ".py",
   "mimetype": "text/x-python",
   "name": "python",
   "nbconvert_exporter": "python",
   "pygments_lexer": "ipython3",
   "version": "3.10.6"
  }
 },
 "nbformat": 4,
 "nbformat_minor": 4
}

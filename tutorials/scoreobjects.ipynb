{
 "cells": [
  {
   "cell_type": "markdown",
   "id": "40cf4941",
   "metadata": {},
   "source": [
    "# SCORE OBJECTS\n",
    "\n",
    "An overview of musx objects that facilitate musical score generation.\n",
    "<hr style=\"height:1px;color:gray\">\n",
    "\n",
    "Notebook setup:"
   ]
  },
  {
   "cell_type": "code",
   "execution_count": null,
   "id": "f0b9f09a",
   "metadata": {},
   "outputs": [],
   "source": [
    "from IPython.display import display, HTML\n",
    "display(HTML(\"<style>.container { width:100% !important; }</style>\"))\n",
    "from musx import Event, Note, MidiEvent, Seq, Score, version, between, Pitch, MidiFile, setmidiplayer, playfile, rescale\n",
    "from musx.mxml import notation\n",
    "print(f\"musx.version: {version}\")"
   ]
  },
  {
   "cell_type": "markdown",
   "id": "0e155285",
   "metadata": {},
   "source": [
    "This notebook generates MIDI files and automatically plays them using [fluidsynth](https://www.fluidsynth.org/download/) and the [MuseScore_General.sf3](https://ftp.osuosl.org/pub/musescore/soundfont/MuseScore_General) sound font. See [INSTALL.md](https://github.com/musx-admin/musx/blob/main/INSTALL.md) for how to install a terminal-based MIDI player to use with musx.  If you don't have a player installed you can access the output files in the same directory as this notebook:"
   ]
  },
  {
   "cell_type": "code",
   "execution_count": null,
   "id": "66b3f746",
   "metadata": {},
   "outputs": [],
   "source": [
    "setmidiplayer(\"fluidsynth -iq -g1 /Users/taube/Music/SoundFonts/MuseScore_General.sf2\")\n",
    "print('OK!')"
   ]
  },
  {
   "cell_type": "markdown",
   "id": "0bf120fc",
   "metadata": {},
   "source": [
    "## Sound Events"
   ]
  },
  {
   "cell_type": "markdown",
   "id": "fae8315e",
   "metadata": {},
   "source": [
    "Musx defines several classes that bundle sound parameters and facilitate the creation and playback of musical sounds:"
   ]
  },
  {
   "cell_type": "markdown",
   "id": "4f3f6355",
   "metadata": {},
   "source": [
    "### Event\n",
    "\n",
    "`Event` is a base class that enables any subclass to be added to `Seq` containers. It provides a single sound parameter, `time`, that stores start time (in whatever units) of the sounding event:"
   ]
  },
  {
   "cell_type": "code",
   "execution_count": null,
   "id": "b40edea9",
   "metadata": {
    "scrolled": true
   },
   "outputs": [],
   "source": [
    "ev = Event(1.2)\n",
    "print(ev)\n",
    "print(ev.time)"
   ]
  },
  {
   "cell_type": "markdown",
   "id": "840b7fad",
   "metadata": {},
   "source": [
    "Defining new sound objects is straight-forward. As an example, here is the implementation of an simple OSC message that could be used to send OSC data to SuperCollider or other external apps (see the OSC tutorial in the same directory as this notebook):"
   ]
  },
  {
   "cell_type": "code",
   "execution_count": null,
   "id": "38f223a1",
   "metadata": {},
   "outputs": [],
   "source": [
    "class OSC(Event):\n",
    "    def __init__(self, address, time, *data):\n",
    "        super().__init__(time)\n",
    "        self.addr = address\n",
    "        self.data = [*data]\n",
    "    def __str__(self):\n",
    "        return f\"<OSC: '{self.addr}' {self.time} {self.data} {hex(id(self))}>\"\n",
    "    def __repr__(self):\n",
    "        return f\"OSC('{self.addr}', {self.time}, {', '.join([repr(d) for d in self.data])})\"\n",
    "\n",
    "osc = OSC('musx/synth', 2001, [220, 880], .5, \"x\")\n",
    "\n",
    "print(f\"{str(osc)}\\n\\n{repr(osc)}\")\n",
    "print(f\"\\ntime: {osc.time}, address: '{osc.addr}'', data: {osc.data}\")"
   ]
  },
  {
   "cell_type": "markdown",
   "id": "ac9e6504",
   "metadata": {},
   "source": [
    "### Note\n",
    "\n",
    "A `Note` is a flexible sound event that can be used in different contexts. For example, if a Note is passed to methods in the MIDI or Csound backends the note data is automatically converted to the format supported by that module. If a MusicXML file is loaded its symbolic note information will be represented in a Note. \n",
    "\n",
    "`Note(time=0.0, duration=1.0, pitch=60, amplitude=0.5, instrument=0 ...)`\n",
    "\n",
    "* The `time` of a note is its start time in a score, typically (but not necessarily) in seconds.\n",
    "* The `duration` is the length of time that the sound lasts, typically (but not necessarily) in seconds.\n",
    "* The `pitch` is the frequency of the sound. This parameter accept Pitch objects, integer key numbers, floating point key numbers (microtuning), chords (note lists) and rests (empty Pitches):\n",
    "* The `amplitude` is the loudness of the sound and ranges from 0.0 to 1.0.\n",
    "* The `instrument` is a timbre designation of some kind, defaults to 0. If you are generating midi then this value would be a channel integer 0 to 15, inclusive.\n",
    "\n",
    "The values assigned to Note parameters are flexible and ultimately depend on the 'back end' that is being composed for:"
   ]
  },
  {
   "cell_type": "code",
   "execution_count": null,
   "id": "c71cb226",
   "metadata": {},
   "outputs": [],
   "source": [
    "n=Note(time=1, duration=3, pitch=Pitch(\"C#3\"), amplitude=.5)\n",
    "print(n)\n",
    "print(n.time, n.duration, n.pitch, n.amplitude)"
   ]
  },
  {
   "cell_type": "markdown",
   "id": "33ff3c96",
   "metadata": {},
   "source": [
    "If a list of pitches or key numbers is given, the Note will be tagged as a chord and contain the first Pitch plus the remaining pitches converted into child Notes, each child containing the same attribute values as the parent except for pitch. A pitch can be detected by its `tag` attribute, and the text display will show multiple pitches delimited by ':'. If the note is tagged as a chord the `chord()` function will return the complete list of note objects:"
   ]
  },
  {
   "cell_type": "code",
   "execution_count": null,
   "id": "a5566ce4",
   "metadata": {},
   "outputs": [],
   "source": [
    "n=Note(pitch=[60, 64, 67])\n",
    "print(n)\n",
    "print(n.tag)\n",
    "print(n.pitch)\n",
    "print(n.chord())"
   ]
  },
  {
   "cell_type": "markdown",
   "id": "42b211f8",
   "metadata": {},
   "source": [
    "If the pitch parameter receives an empty Pitch the Note will be tagged as a rest (R):"
   ]
  },
  {
   "cell_type": "code",
   "execution_count": null,
   "id": "8097c2ad",
   "metadata": {},
   "outputs": [],
   "source": [
    "n=Note(pitch=Pitch())\n",
    "print(n)\n",
    "print(n.tag)\n",
    "print(n.pitch)"
   ]
  },
  {
   "cell_type": "markdown",
   "id": "05cfbdb4",
   "metadata": {},
   "source": [
    "Notes that are created by loading a MusicXML file will include a dictionary of MusicXML markup. In this example the Note markup is a voice assignment:"
   ]
  },
  {
   "cell_type": "code",
   "execution_count": null,
   "id": "46367ec5",
   "metadata": {},
   "outputs": [],
   "source": [
    "hello = notation.load(\"support/HelloWorld.musicxml\")\n",
    "hello.print()"
   ]
  },
  {
   "cell_type": "code",
   "execution_count": null,
   "id": "800a343f",
   "metadata": {},
   "outputs": [],
   "source": [
    "n=Note(pitch=Pitch(\"Bb3\"))\n",
    "n.set_mxml(\"voice\", 1)\n",
    "print(n)"
   ]
  },
  {
   "cell_type": "markdown",
   "id": "c2481136",
   "metadata": {},
   "source": [
    "### MidiEvent"
   ]
  },
  {
   "cell_type": "markdown",
   "id": "c3d4881c",
   "metadata": {},
   "source": [
    "A `MidiEvent` associates low-level midi messages (raw byte lists) with the inherited time attribute so they can be added to sequences, sorted, etc. The MidiEvent class contains factory methods to wrap any midi message, including meta messages.\n",
    "Avoid working with explicit `MidiEvent.note_on()` and `MidiEvent.note_off()` messages since the Note object does this conversion for you automatically when it is written to a midi file:"
   ]
  },
  {
   "cell_type": "code",
   "execution_count": null,
   "id": "13347b11",
   "metadata": {},
   "outputs": [],
   "source": [
    "# musx MIDI numbers start at 0, not 1, your midi keyboard would show 'channel 1' and 'program 1' (piano):\n",
    "\n",
    "pc = MidiEvent.program_change(chan=0, prog=0,time=10.0)\n",
    "print(str(pc))\n",
    "print(repr(pc))\n",
    "print(pc.time)\n",
    "print(pc.message)"
   ]
  },
  {
   "cell_type": "markdown",
   "id": "39ab8484",
   "metadata": {},
   "source": [
    "## Event containers\n",
    "\n",
    "### Seq"
   ]
  },
  {
   "cell_type": "markdown",
   "id": "fe824d2d",
   "metadata": {},
   "source": [
    "The `Seq` object is a container that maintains a time sorted sequence of Event objects, e.g. instances of Note, MidiEvent, or any other subclass. When objects are added to the sequence they are automatically inserted at the proper timepoint. This cell generates random note times, and then adds the notes to a sequence to sort them according to their start times:"
   ]
  },
  {
   "cell_type": "code",
   "execution_count": null,
   "id": "dcc0d142",
   "metadata": {},
   "outputs": [],
   "source": [
    "ran = [round(between(0.0, 10), 2) for _ in range(8)]\n",
    "print(f\"random times: {ran}\")\n",
    "seq = Seq()\n",
    "for r in ran:\n",
    "    seq.add(Note(r))\n",
    "seq.print()"
   ]
  },
  {
   "cell_type": "markdown",
   "id": "3c7f6535",
   "metadata": {},
   "source": [
    "Adding multiple events with the same time will appear in the order they were added to the sequence:"
   ]
  },
  {
   "cell_type": "code",
   "execution_count": null,
   "id": "2e4cfa85",
   "metadata": {},
   "outputs": [],
   "source": [
    "t = seq[-1].time\n",
    "for k in range(61,66):\n",
    "    seq.add(Note(t, pitch=k))\n",
    "seq.print()"
   ]
  },
  {
   "cell_type": "markdown",
   "id": "df3a9e5d",
   "metadata": {},
   "source": [
    "A Seq is an Python iterable so its events can be mapped, sliced, etc.:"
   ]
  },
  {
   "cell_type": "code",
   "execution_count": null,
   "id": "04c01ba9",
   "metadata": {},
   "outputs": [],
   "source": [
    "print(len(seq))\n",
    "print(seq[4:6])\n",
    "for s in seq:\n",
    "    print(s)"
   ]
  },
  {
   "cell_type": "markdown",
   "id": "fbcfffb8",
   "metadata": {},
   "source": [
    "### Score\n",
    "\n",
    "A `Score` is a container that acts as conductor: it manages a scheduling queue containing one or more *part composers* (python generators) that compute sound objects and add them to one (or more) Seq object maintained by the score. The part composer in this example adds notes whose pitches are ASCII values (0-127) of a given text string. A score is created and given an empty sequence to hold the generated composition. When Score.compose() method is called one instance (in this case) of the helloworld() part composer is passed in. The score then runs the composer, which creates one note for each letter in the text and adds it to the score.  When all the letters are rendered the composer stops and the score is complete:"
   ]
  },
  {
   "cell_type": "code",
   "execution_count": null,
   "id": "6d970da5",
   "metadata": {
    "scrolled": true
   },
   "outputs": [],
   "source": [
    "# [\"Hello, World!\", \"Hallo Welt!\", \"Salut le Monde!\", \"¡Hola mundo!\", \"Halò, a Shaoghail!\", \n",
    "# \"Ciao Mondo!\", \"Zdravo Svete!\", \"Ahoj, svet!\", \"Pozdravljen svet!\", \"Hallå världen!\"]\n",
    "\n",
    "def helloworld(score, text, rate, amp):\n",
    "    for char in text:\n",
    "        key = rescale(ord(char) % 127, 0, 127, 35, 81)\n",
    "        note = Note(time=score.now, duration=rate, pitch=key, amplitude=amp, instrument=9)\n",
    "        score.add(note)\n",
    "        yield rate\n",
    "\n",
    "score = Score(out=Seq())\n",
    "score.compose( helloworld(score, \"Pozdravljen svet!\", .5, .8) )\n",
    "print(score.out)\n",
    "score.out.print()"
   ]
  },
  {
   "cell_type": "markdown",
   "id": "522c5639",
   "metadata": {},
   "source": [
    "### MidiFile\n",
    "\n",
    "`MidiFile(path, tracks=[], divs=480)`\n",
    "\n",
    "A MidiFile is a 'backend' interface for writing to, or reading from, MIDI data stored in files on disk. To write a MIDI file, provide a filename and one or more MIDI sequence(s). If Note sequences are added to a midi file, the Note data will be automatically converted into MIDI messages:"
   ]
  },
  {
   "cell_type": "code",
   "execution_count": null,
   "id": "4d4ea357",
   "metadata": {},
   "outputs": [],
   "source": [
    "file = MidiFile(\"helloworld.mid\", tracks=score.out).write()\n",
    "print(f\"Wrote '{file.pathname}'.\")"
   ]
  },
  {
   "cell_type": "markdown",
   "id": "214dceef",
   "metadata": {},
   "source": [
    "Once the file has been written it can be played by any MIDI compatible software. If you have installed a terminal-based MIDI player (see top of this file) you can play the file without leaving Python:"
   ]
  },
  {
   "cell_type": "code",
   "execution_count": null,
   "id": "497f3cdc",
   "metadata": {},
   "outputs": [],
   "source": [
    "playfile(file.pathname)"
   ]
  },
  {
   "cell_type": "markdown",
   "id": "edc3f405",
   "metadata": {},
   "source": [
    "#### Reading MIDI files\n",
    "\n",
    "Use the `MidiFile.load()` function to load MIDI data into musx from a file on the disk. When you load a MidiFile each of its tracks will be converted into a musx sequence:"
   ]
  },
  {
   "cell_type": "code",
   "execution_count": null,
   "id": "e3265bd9",
   "metadata": {},
   "outputs": [],
   "source": [
    "here = %pwd\n",
    "fullpathname = here + \"/helloworld.mid\"\n",
    "infile = MidiFile(fullpathname).read()\n",
    "print(infile.tracks[0])\n",
    "infile.tracks[0].print()"
   ]
  },
  {
   "cell_type": "markdown",
   "id": "7ff1dcb2",
   "metadata": {},
   "source": [
    "## See Also\n",
    "\n",
    "[partcomposers.ipynb](./partcomposers.ipynb)\n",
    "\n",
    "Examples in the demos directory"
   ]
  }
 ],
 "metadata": {
  "kernelspec": {
   "display_name": "Python 3 (ipykernel)",
   "language": "python",
   "name": "python3"
  },
  "language_info": {
   "codemirror_mode": {
    "name": "ipython",
    "version": 3
   },
   "file_extension": ".py",
   "mimetype": "text/x-python",
   "name": "python",
   "nbconvert_exporter": "python",
   "pygments_lexer": "ipython3",
   "version": "3.10.6"
  }
 },
 "nbformat": 4,
 "nbformat_minor": 5
}

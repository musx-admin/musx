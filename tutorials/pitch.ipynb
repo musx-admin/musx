{
 "cells": [
  {
   "cell_type": "markdown",
   "metadata": {
    "slideshow": {
     "slide_type": "-"
    }
   },
   "source": [
    "# Pitch representation in musx\n",
    "\n",
    "An overview of pitch representation in musx.\n",
    "\n",
    "Running this notebook requires the musx package. See [INSTALL.md](https://github.com/musx-admin/musx/blob/main/INSTALL.md) for directions on how to install musx in your environment.\n",
    "<hr style=\"height:1px;color:gray\">"
   ]
  },
  {
   "cell_type": "code",
   "execution_count": null,
   "metadata": {
    "scrolled": true,
    "slideshow": {
     "slide_type": "-"
    }
   },
   "outputs": [],
   "source": [
    "from musx import version, keynum, hertz, pitch, Pitch, Interval\n",
    "print(f\"musx version: {version}\")"
   ]
  },
  {
   "cell_type": "markdown",
   "metadata": {
    "slideshow": {
     "slide_type": "-"
    }
   },
   "source": [
    "## Pitch representation\n",
    "\n",
    "<img src=\"./img/xxx.png\" alt=\"xxx.png\" width=\"90%\"/>\n",
    "\n",
    "musx provides mappings between various representations of musical pitch information:\n",
    "<ul>\n",
    "<li>hertz - cycles per second  (e.g. 261.23, 440)</li>\n",
    "<li>midi key numbers - ordinal indexes of keys on a virtual keyboard  (e.g. 60, 72)</li>\n",
    "<li>floating point key numbers - key numbers *kkk.ccc* whose fraction is taken to be microtonal cents (60.25)</li>\n",
    "<li>pitch names - strings containing letter, accidental & octave, ('C#4', \"Bb1\")</li>\n",
    "<li>Pitch objects - holds name, key and hertz with methods. (Pitch(\"c4\"))</li>\n",
    "<li>Interval objects - encodes the distance between two Pitches.</li>\n",
    "<li>Pitch classes and pitch class sets.\n",
    "</ul>\n",
    "</span>"
   ]
  },
  {
   "cell_type": "markdown",
   "metadata": {
    "slideshow": {
     "slide_type": "-"
    }
   },
   "source": [
    "## Pitch names\n",
    "\n",
    "Pitch names are strings containing a letter followed by an optional accidental and a required octave number.</p>\n",
    "<ul>\n",
    "<li>pitch letters can be upper or lower case 'C' 'D' 'E' 'F' 'G' 'A' 'B'</li>\n",
    "<li>sharps are '#' or 's' and double sharps are '##' or 'ss' (s='sharp')</li>\n",
    "<li>flats are 'b' or 'f' and  double flats are 'bb' or 'ff' (f=flat')</li>\n",
    "<li>octaves are '00' '0' '1' '2' '3' '4' '5' '6' '7' '8' '9'</li>\n",
    "</ul>\n",
    "<p>Examples:  'Cs4', 'Bb2', 'ef3' 'Gbb2'</p>\n",
    "</span>"
   ]
  },
  {
   "cell_type": "markdown",
   "metadata": {
    "slideshow": {
     "slide_type": "-"
    }
   },
   "source": [
    "## Pitch mapping\n",
    "\n",
    "This group of functions provides a mapping between three different pitch representations:\n",
    "\n",
    "<!-- A hash table (dictionary) contains all possible note spellings and hertz values from keynum 0 to 127. Three associated functions map pitch data into three different formats: -->\n",
    "\n",
    "<ul>\n",
    "<li>keynum(x)</li>\n",
    "<li>pitch(x)</li>\n",
    "<li>hertz(x)</li>\n",
    "</ul>\n"
   ]
  },
  {
   "cell_type": "markdown",
   "metadata": {},
   "source": [
    "Pitch name to key number:"
   ]
  },
  {
   "cell_type": "code",
   "execution_count": null,
   "metadata": {
    "slideshow": {
     "slide_type": "-"
    }
   },
   "outputs": [],
   "source": [
    "keynum(\"C#4\")"
   ]
  },
  {
   "cell_type": "markdown",
   "metadata": {},
   "source": [
    "Key number to hertz:"
   ]
  },
  {
   "cell_type": "code",
   "execution_count": null,
   "metadata": {
    "slideshow": {
     "slide_type": "-"
    }
   },
   "outputs": [],
   "source": [
    "hertz(61)"
   ]
  },
  {
   "cell_type": "markdown",
   "metadata": {},
   "source": [
    "Pitch name to hertz:"
   ]
  },
  {
   "cell_type": "code",
   "execution_count": null,
   "metadata": {
    "slideshow": {
     "slide_type": "-"
    }
   },
   "outputs": [],
   "source": [
    "hertz(\"C#4\")"
   ]
  },
  {
   "cell_type": "markdown",
   "metadata": {},
   "source": [
    "Key number to Pitch object:"
   ]
  },
  {
   "cell_type": "code",
   "execution_count": null,
   "metadata": {
    "scrolled": true,
    "slideshow": {
     "slide_type": "-"
    }
   },
   "outputs": [],
   "source": [
    "pitch(61)"
   ]
  },
  {
   "cell_type": "markdown",
   "metadata": {},
   "source": [
    "Use the optional hz parameter if the input is a hertz value instead of a key number:"
   ]
  },
  {
   "cell_type": "code",
   "execution_count": null,
   "metadata": {
    "slideshow": {
     "slide_type": "-"
    }
   },
   "outputs": [],
   "source": [
    "pitch(61, hz=True)"
   ]
  },
  {
   "cell_type": "markdown",
   "metadata": {},
   "source": [
    "Lowest possible pitch:"
   ]
  },
  {
   "cell_type": "code",
   "execution_count": null,
   "metadata": {
    "slideshow": {
     "slide_type": "-"
    }
   },
   "outputs": [],
   "source": [
    "keynum(\"C00\") "
   ]
  },
  {
   "cell_type": "markdown",
   "metadata": {},
   "source": [
    "Highest possible pitch:"
   ]
  },
  {
   "cell_type": "code",
   "execution_count": null,
   "metadata": {
    "scrolled": false,
    "slideshow": {
     "slide_type": "-"
    }
   },
   "outputs": [],
   "source": [
    "keynum('Abb9') "
   ]
  },
  {
   "cell_type": "markdown",
   "metadata": {},
   "source": [
    "'s' is the python-safe name for sharp:"
   ]
  },
  {
   "cell_type": "code",
   "execution_count": null,
   "metadata": {
    "slideshow": {
     "slide_type": "-"
    }
   },
   "outputs": [],
   "source": [
    "keynum('fs4') "
   ]
  },
  {
   "cell_type": "markdown",
   "metadata": {},
   "source": [
    "List of inputs produce lists of keynums:"
   ]
  },
  {
   "cell_type": "code",
   "execution_count": null,
   "metadata": {
    "slideshow": {
     "slide_type": "-"
    }
   },
   "outputs": [],
   "source": [
    "keynum(['C#3', \"D2\", \"G#2\"])  "
   ]
  },
  {
   "cell_type": "markdown",
   "metadata": {},
   "source": [
    "Embedded lists are recursively processed:"
   ]
  },
  {
   "cell_type": "code",
   "execution_count": null,
   "metadata": {
    "slideshow": {
     "slide_type": "-"
    }
   },
   "outputs": [],
   "source": [
    "keynum([\"a4\", [\"d4\", \"e4\"], [\"f4\", \"a4\", \"c5\"], \"d5\"])"
   ]
  },
  {
   "cell_type": "markdown",
   "metadata": {},
   "source": [
    "Strings with spaces are processed as lists with octave numbers 'sticky':"
   ]
  },
  {
   "cell_type": "code",
   "execution_count": null,
   "metadata": {
    "slideshow": {
     "slide_type": "-"
    }
   },
   "outputs": [],
   "source": [
    "keynum('cs5 d e f3 g eb9') "
   ]
  },
  {
   "cell_type": "markdown",
   "metadata": {},
   "source": [
    "Elements can be directly repeated using ',' :"
   ]
  },
  {
   "cell_type": "code",
   "execution_count": null,
   "metadata": {
    "slideshow": {
     "slide_type": "-"
    }
   },
   "outputs": [],
   "source": [
    "keynum('cs5,,, d,,, e,, f3, g') "
   ]
  },
  {
   "cell_type": "markdown",
   "metadata": {},
   "source": [
    "Lists and strings can be combined:"
   ]
  },
  {
   "cell_type": "code",
   "execution_count": null,
   "metadata": {
    "slideshow": {
     "slide_type": "-"
    }
   },
   "outputs": [],
   "source": [
    "keynum(['cs5 d e', \"f3, d\", 'g eb9']) "
   ]
  },
  {
   "cell_type": "markdown",
   "metadata": {},
   "source": [
    "Converting hertz values to keynums:"
   ]
  },
  {
   "cell_type": "code",
   "execution_count": null,
   "metadata": {
    "slideshow": {
     "slide_type": "-"
    }
   },
   "outputs": [],
   "source": [
    "keynum([220, 440, 880])"
   ]
  },
  {
   "cell_type": "markdown",
   "metadata": {},
   "source": [
    "keynum supports string lists of hertz values:"
   ]
  },
  {
   "cell_type": "code",
   "execution_count": null,
   "metadata": {
    "slideshow": {
     "slide_type": "-"
    }
   },
   "outputs": [],
   "source": [
    "keynum(\"100 200 300 400 500\")"
   ]
  },
  {
   "cell_type": "markdown",
   "metadata": {},
   "source": [
    "Optional filt (filter) argument converts to alternate formatting :"
   ]
  },
  {
   "cell_type": "code",
   "execution_count": null,
   "metadata": {
    "slideshow": {
     "slide_type": "-"
    }
   },
   "outputs": [],
   "source": [
    "keynum(\"100 200 300 400\", filt=lambda x: round(x,2))"
   ]
  },
  {
   "cell_type": "markdown",
   "metadata": {},
   "source": [
    "Pitch maps note names, keynums and hertz to Pitches:"
   ]
  },
  {
   "cell_type": "code",
   "execution_count": null,
   "metadata": {
    "slideshow": {
     "slide_type": "-"
    }
   },
   "outputs": [],
   "source": [
    "pitch(\"C#2\")"
   ]
  },
  {
   "cell_type": "markdown",
   "metadata": {},
   "source": [
    "Lists can be passed into the pitch function:"
   ]
  },
  {
   "cell_type": "code",
   "execution_count": null,
   "metadata": {
    "scrolled": true
   },
   "outputs": [],
   "source": [
    "pitch([k for k in range(60,72)])"
   ]
  },
  {
   "cell_type": "markdown",
   "metadata": {},
   "source": [
    "By default pitch() assumes values are key numbers:"
   ]
  },
  {
   "cell_type": "code",
   "execution_count": null,
   "metadata": {
    "slideshow": {
     "slide_type": "-"
    }
   },
   "outputs": [],
   "source": [
    "pitch(53)"
   ]
  },
  {
   "cell_type": "markdown",
   "metadata": {},
   "source": [
    "To convert hertz to pitch you must indicate the value is hertz:"
   ]
  },
  {
   "cell_type": "code",
   "execution_count": null,
   "metadata": {
    "slideshow": {
     "slide_type": "-"
    }
   },
   "outputs": [],
   "source": [
    "pitch(53, hz=True)"
   ]
  },
  {
   "cell_type": "markdown",
   "metadata": {},
   "source": [
    "By default, accidental spelling chooses the accidental from the most simple key spelling, e.g. the key number66 will be spelled as F# (a keysig of 1 sharp), not Gb (a keysig of 5 flats):"
   ]
  },
  {
   "cell_type": "code",
   "execution_count": null,
   "metadata": {
    "slideshow": {
     "slide_type": "-"
    }
   },
   "outputs": [],
   "source": [
    "pitch(66)"
   ]
  },
  {
   "cell_type": "markdown",
   "metadata": {},
   "source": [
    "You can specify the accidental used for a given key number or hertz value, using the values -2 to 2, where -2 is double-flat, -1 is flat, 0 is no sharps or flats, 1 is one sharp, and 2 is double-sharp:"
   ]
  },
  {
   "cell_type": "code",
   "execution_count": null,
   "metadata": {},
   "outputs": [],
   "source": [
    "pitch(66, acc=-1)"
   ]
  },
  {
   "cell_type": "code",
   "execution_count": null,
   "metadata": {
    "slideshow": {
     "slide_type": "-"
    }
   },
   "outputs": [],
   "source": [
    "pitch(53, acc=1)"
   ]
  },
  {
   "cell_type": "code",
   "execution_count": null,
   "metadata": {
    "slideshow": {
     "slide_type": "fragment"
    }
   },
   "outputs": [],
   "source": [
    "pitch(53, acc=-2)"
   ]
  },
  {
   "cell_type": "markdown",
   "metadata": {},
   "source": [
    "## The Pitch object\n",
    "\n",
    "A Pitch is an invariant object representing equal tempered pitches. It can return information in hertz, keynum, pitch name, pitch class, and Pnum formats. Pitches can be compared using standard math relations and maintain proper spelling when complemented or transposed by an Interval."
   ]
  },
  {
   "cell_type": "markdown",
   "metadata": {},
   "source": [
    "If Pitch() is called with no arguments then an 'empty pitch' is returned.  An empty pitch can be used to denote musical rests or an 'empty' status distinguishable from all other pitches:"
   ]
  },
  {
   "cell_type": "code",
   "execution_count": null,
   "metadata": {},
   "outputs": [],
   "source": [
    "p = Pitch()\n",
    "print('p is empty:', p.is_empty())"
   ]
  },
  {
   "cell_type": "markdown",
   "metadata": {},
   "source": [
    "Otherwise, Pitch() should be called with one argument, a string or a list of attributes:"
   ]
  },
  {
   "cell_type": "code",
   "execution_count": null,
   "metadata": {},
   "outputs": [],
   "source": [
    "# creating a pitch from a pitch string\n",
    "print(Pitch(\"Ab3\"))\n",
    "\n",
    "# creating a pitch from attribute list: [letter 0-6, accidental 0-4, octave 0-10]\n",
    "print(Pitch([5,1,4]))"
   ]
  },
  {
   "cell_type": "markdown",
   "metadata": {},
   "source": [
    "A pitch can return information in a variety of formats:"
   ]
  },
  {
   "cell_type": "code",
   "execution_count": null,
   "metadata": {
    "slideshow": {
     "slide_type": "slide"
    }
   },
   "outputs": [],
   "source": [
    "a,b = Pitch(\"Ef5\"), Pitch(\"E5\")\n",
    "print(f\"a = {a}\")\n",
    "print(f\"b = {b}\")\n",
    "print(f\"b.hertz() = {b.hertz()}\")\n",
    "print(f\"a.keynum() = {a.keynum()}\")\n",
    "print(f\"b.pc() = {b.pc()}\")\n",
    "print(f\"b.string() = {b.string()}\")\n",
    "print(f\"a < b = {a < b}\")"
   ]
  },
  {
   "cell_type": "markdown",
   "metadata": {},
   "source": [
    "A Pitch is a tuple so it is hygenic (immutable):"
   ]
  },
  {
   "cell_type": "code",
   "execution_count": null,
   "metadata": {},
   "outputs": [],
   "source": [
    "print(isinstance(Pitch('cs5'), tuple))\n",
    "\n",
    "bs3 = Pitch(\"B#3\")\n",
    "for x in bs3: print(x)\n",
    "    \n",
    "print(list(bs3))\n",
    "\n",
    "print(bs3._asdict())\n",
    "\n",
    "try:\n",
    "    bs3.letter = -99\n",
    "except:\n",
    "    print(f\"Error: pitch letter {bs3.letter} cannot be altered.\")"
   ]
  },
  {
   "cell_type": "markdown",
   "metadata": {},
   "source": [
    "Pitch strings allow upper or lower case pitch letters ('C' or 'c'), and 'symbolic' or 'safe' versions of accidentals. \n",
    "\n",
    "The symbolic versions are ['bb', 'b', '', '#', ##']. \n",
    "\n",
    "The safe versions are ['ff', 'f', 'n', 's', 'ss']. \n",
    "\n",
    "The safe versions can be used in variable names or if you are feeling too lazy to use the shift key when you type ;) Pitches always display symbolic accidentals."
   ]
  },
  {
   "cell_type": "code",
   "execution_count": null,
   "metadata": {},
   "outputs": [],
   "source": [
    "print([Pitch(\"af4\"), Pitch(\"gs4\"), Pitch(\"Fff4\")])"
   ]
  },
  {
   "cell_type": "markdown",
   "metadata": {},
   "source": [
    "Pitch's `__repr__()` method  produces a string that, if evaluated, will re-creates the pitch. "
   ]
  },
  {
   "cell_type": "code",
   "execution_count": null,
   "metadata": {},
   "outputs": [],
   "source": [
    "repr(Pitch('F##00'))"
   ]
  },
  {
   "cell_type": "markdown",
   "metadata": {},
   "source": [
    "Pitch's `__str__()` method should display the class name, the pitch string and the object's id inside <>, similar to Ratio. "
   ]
  },
  {
   "cell_type": "code",
   "execution_count": null,
   "metadata": {},
   "outputs": [],
   "source": [
    "print(Pitch([3, 4, 0]))"
   ]
  },
  {
   "cell_type": "markdown",
   "metadata": {},
   "source": [
    "The `string()` method returns just the pitch string name."
   ]
  },
  {
   "cell_type": "code",
   "execution_count": null,
   "metadata": {},
   "outputs": [],
   "source": [
    "p = Pitch('fss00')\n",
    "print(f\"p.string() = {p.string()}\")\n",
    "p"
   ]
  },
  {
   "cell_type": "markdown",
   "metadata": {},
   "source": [
    "Pitch has three instance attributes: letter, accidental and octave:"
   ]
  },
  {
   "cell_type": "code",
   "execution_count": null,
   "metadata": {},
   "outputs": [],
   "source": [
    "#          letter        accidental    octave\n",
    "a = Pitch([randint(0,6), randint(0,4), randint(0,8)])\n",
    "\n",
    "# self.letter holds a 'letter index' 0-6 corresponding to the \n",
    "# letter names: ['C', 'D', 'E', 'F', 'G', 'A', 'B']\n",
    "\n",
    "print('a.letter=', a.letter)\n",
    "\n",
    "# self.accidental holds an 'accidental index' 0-4 corresponding to the\n",
    "# accidental names: ['bb', 'b', '', '#', '##']\n",
    "\n",
    "print('a.accidental=', a.accidental)\n",
    "\n",
    "# self.letter holds a 'octave index' 0-10 corresponding to the octave\n",
    "# names: ['00', '0', '1', '2', '3', '4', '5', '6', '7', '8', '9', '10']\n",
    "\n",
    "print('a.octave=', a.octave)\n",
    "\n",
    "print(a)\n"
   ]
  },
  {
   "cell_type": "markdown",
   "metadata": {},
   "source": [
    "Pitches can be compared using the arithmetic relations ==, !=, <, <=, >=, and > :"
   ]
  },
  {
   "cell_type": "code",
   "execution_count": null,
   "metadata": {},
   "outputs": [],
   "source": [
    "l = [Pitch([randint(0,6), randint(0,4), randint(0,8)]) for i in range(20)]\n",
    "\n",
    "for p1,p2 in zip(l, l[1:]):\n",
    "    print(p1.string(),\"<=\", p2.string(), \" -> \", p1 <= p2 )"
   ]
  },
  {
   "cell_type": "markdown",
   "metadata": {},
   "source": [
    "How to sort a list of 20 random pitches:"
   ]
  },
  {
   "cell_type": "code",
   "execution_count": null,
   "metadata": {},
   "outputs": [],
   "source": [
    "from random import randint\n",
    "\n",
    "l = [Pitch([randint(0,6),randint(0,4),randint(0,8)]) for i in range(20)]\n",
    "print(l, \"\\n\")\n",
    "sorted(l)"
   ]
  },
  {
   "cell_type": "markdown",
   "metadata": {},
   "source": [
    "You can convert a Pitch into a MIDI keynum:"
   ]
  },
  {
   "cell_type": "code",
   "execution_count": null,
   "metadata": {},
   "outputs": [],
   "source": [
    "l = [Pitch([randint(0,6),randint(0,4),randint(0,8)]) for i in range(20)]\n",
    "\n",
    "for p in l:\n",
    "    print(p.string(), \"=>\", p.keynum())"
   ]
  },
  {
   "cell_type": "markdown",
   "metadata": {},
   "source": [
    "You can convert a Pitch into a hertz value:"
   ]
  },
  {
   "cell_type": "code",
   "execution_count": null,
   "metadata": {},
   "outputs": [],
   "source": [
    "l = [Pitch([randint(0,6),randint(0,4),randint(0,8)]) for i in range(20)]\n",
    "\n",
    "for p in l:\n",
    "    print(p.string(), \"=>\", p.hertz())"
   ]
  },
  {
   "cell_type": "markdown",
   "metadata": {},
   "source": [
    "You can convert a Pitch into pitch classes:"
   ]
  },
  {
   "cell_type": "code",
   "execution_count": null,
   "metadata": {},
   "outputs": [],
   "source": [
    "l = [Pitch([randint(0,6),randint(0,4),randint(0,8)]) for i in range(20)]\n",
    "\n",
    "for p in l:\n",
    "    print(p.string(), \"=>\", p.pc())"
   ]
  },
  {
   "cell_type": "markdown",
   "metadata": {},
   "source": [
    "Pitches can also return 'Pnums' (pitch nums).  A Pnum is an IntEnum that \n",
    "enumerates all the pitch letters and accidentals within an octave.\n",
    "Pnums are a bit like pitch classes (PCs) in the sense that they represent\n",
    "pitches without respect to octaves.  Like PCs and keynums, Pnums can be\n",
    "compared and sorted. But -- unlike PCs and keynums -- Pnums preserve letter\n",
    "and accidental information."
   ]
  },
  {
   "cell_type": "code",
   "execution_count": null,
   "metadata": {},
   "outputs": [],
   "source": [
    "from random import randint\n",
    "\n",
    "print(\"Css < Dff:\", Pitch.pnums.Css < Pitch.pnums.Dff)\n",
    "\n",
    "print(\"\\nCss letter=\", (Pitch.pnums.Css.value & 0xF0)>>4,\n",
    "      \", accidental=\", Pitch.pnums.Css.value & 0x0F, '\\n')\n",
    "\n",
    "l = [Pitch([randint(0,6),randint(0,4),randint(0,8)]) for i in range(20)]\n",
    "\n",
    "for p in l:\n",
    "    print(p.pnum(), \"name=\", p.pnum().name , \"value=\", p.pnum().value)\n",
    "    \n",
    "sorted( [p.pnum() for p in l] )"
   ]
  },
  {
   "cell_type": "markdown",
   "metadata": {},
   "source": [
    "## The Interval object\n",
    "\n",
    "A musical interval measures the distance between two Pitches. This distance\n",
    "can be measured in variety ways, for example lines-and-spaces, semitones, ratios, and cents. In classical music theory an interval distance is\n",
    "measured using the number of spanning lines and spaces (unison, second, third, etc) together with a (possible) chromatic adjustment called a 'quality', e.g. diminished, augmented, major, perfect. \n",
    "\n",
    "The Interval object supports the classical interval system, including the notion of descending or ascending intervals and simple or compound intervals. Intervals can be numerically compared for their size (span plus quality) and can be used to transpose Pitches.\n"
   ]
  },
  {
   "cell_type": "markdown",
   "metadata": {},
   "source": [
    "\n",
    "You can call the Interval constructor with one or two arguments, a single argument must be an interval string or an interval list: "
   ]
  },
  {
   "cell_type": "code",
   "execution_count": null,
   "metadata": {},
   "outputs": [],
   "source": [
    "i=Interval('P5')\n",
    "print(f\"i = {i}\")\n",
    "print(f\"repr(i) = {repr(i)}\")\n",
    "j=Interval([2,5,0,1])\n",
    "print(f\"j = {j}\")\n",
    "print(f\"repr(j) = {repr(j)}\")\n",
    "print(f'j.transpose(Pitch(\"Cs4\")) {j.transpose(Pitch(\"Cs4\"))}')"
   ]
  },
  {
   "cell_type": "markdown",
   "metadata": {},
   "source": [
    "Intervals less than or equal to an 8va are said to be *simple* intervals, otherwise they are *compound* intervals greater than an octave:"
   ]
  },
  {
   "cell_type": "code",
   "execution_count": null,
   "metadata": {
    "scrolled": true
   },
   "outputs": [],
   "source": [
    "print(Interval(\"m2\").is_simple())\n",
    "print(Interval(\"P8\").is_simple())\n",
    "print(Interval(\"+8\").is_simple())\n",
    "print(Interval(\"o9\").is_simple())\n",
    "print(Interval(\"o9\").is_compound())"
   ]
  },
  {
   "cell_type": "markdown",
   "metadata": {},
   "source": [
    "If two arguments are passed, they must both be pitches, in this case the interval will be determined from the distance between the two pitches:"
   ]
  },
  {
   "cell_type": "code",
   "execution_count": null,
   "metadata": {},
   "outputs": [],
   "source": [
    "a=Pitch('Ef3')\n",
    "b=Pitch('D4')\n",
    "print(a,b)\n",
    "Interval(a, b)"
   ]
  },
  {
   "cell_type": "markdown",
   "metadata": {},
   "source": [
    "If the first pitch is above the second pitch a 'descending' interval is formed:"
   ]
  },
  {
   "cell_type": "code",
   "execution_count": null,
   "metadata": {},
   "outputs": [],
   "source": [
    "Interval(Pitch('Ef4'), Pitch(\"D3\"))"
   ]
  },
  {
   "cell_type": "markdown",
   "metadata": {},
   "source": [
    "It is also possible to specify a descending interval by preceding the interval name with a minus sign:"
   ]
  },
  {
   "cell_type": "code",
   "execution_count": null,
   "metadata": {},
   "outputs": [],
   "source": [
    "print(Interval('-P5'))"
   ]
  },
  {
   "cell_type": "markdown",
   "metadata": {},
   "source": [
    "The minus sign does not mean negative it means descending! The direction is particularly useful for analyzing melodic motion:"
   ]
  },
  {
   "cell_type": "code",
   "execution_count": null,
   "metadata": {},
   "outputs": [],
   "source": [
    "m = ['e','e','f','g','g','f','e','d','c','c','d','e','e','d','d']\n",
    "l = [Interval(Pitch(a+'4'), Pitch(b+'4')) for a,b in zip(m[:],m[1:])]\n",
    "\n",
    "for i in l:\n",
    "    print(i.string())"
   ]
  },
  {
   "cell_type": "markdown",
   "metadata": {},
   "source": [
    "An Interval holds four integer attributes:\n",
    "\n",
    "* `span`  - the number of lines and spaces spanned by the interval (0-7)\n",
    "* `qual` -  an interval quality (0-12)\n",
    "* `xoct` - the 'extra' octaves in a compound interval (0-10)\n",
    "* `sign` - the direction,  -1 for descending, 1 for ascending"
   ]
  },
  {
   "cell_type": "code",
   "execution_count": null,
   "metadata": {},
   "outputs": [],
   "source": [
    "i = Interval(\"-M9\")\n",
    "print(\"-M9: span =\", i.span, \", qual =\", i.qual, \", xoct =\", i.xoct, \", sign =\", i.sign)\n",
    "i = Interval(\"+2\")\n",
    "print(\"+2: span =\", i.span, \", qual =\", i.qual, \", xoct =\", i.xoct, \", sign =\", i.sign)\n",
    "i = Interval(\"P5\")\n",
    "print(\"P5: span =\", i.span, \", qual =\", i.qual, \", xoct =\", i.xoct, \", sign =\", i.sign)"
   ]
  },
  {
   "cell_type": "markdown",
   "metadata": {},
   "source": [
    "An interval's `span` attribute ranges 0-7 inclusive. Span can be mapped to \n",
    "lines and spaces 1-8, names ['unison', 'second' ... 'octave'],\n",
    "and full names."
   ]
  },
  {
   "cell_type": "code",
   "execution_count": null,
   "metadata": {},
   "outputs": [],
   "source": [
    "i=Interval('P5')\n",
    "print('span =', i.span,\n",
    "      ', lines and spaces =', i.lines_and_spaces(),\n",
    "      ', name =', i.span_name(),\n",
    "      ', full name =', i.full_name(), '\\n')\n",
    "i=Interval('-M2')\n",
    "print('span =', i.span,\n",
    "      ', lines and spaces =', i.lines_and_spaces(),\n",
    "      ', name =', i.span_name(),\n",
    "      ', full name =', i.full_name())"
   ]
  },
  {
   "cell_type": "markdown",
   "metadata": {},
   "source": [
    "The Interval's `qual` attribute ranges 0-12 and can be mapped to symbolic or 'safe' quality values ranging from quintuply-diminished to quintuply-augmented: 'ooooo' ... 'o','m','P',\"M\",'+' ... '+++++' :"
   ]
  },
  {
   "cell_type": "code",
   "execution_count": null,
   "metadata": {},
   "outputs": [],
   "source": [
    "print(Interval(Pitch('Bbb4'), Pitch('F##5')))\n",
    "print(Interval(Pitch('Bbb4'), Pitch('F#5')))\n",
    "print(Interval(Pitch('Bb4'), Pitch('F#5')))\n",
    "print(Interval(Pitch('Bb4'), Pitch('F5')))\n",
    "print(Interval(Pitch('B4'), Pitch('F5')))\n",
    "print(Interval(Pitch('B4'), Pitch('Fb5')))\n",
    "print(Interval(Pitch('B#4'), Pitch('Fb5')))\n",
    "print(Interval(Pitch('B#4'), Pitch('Fbb5')))\n",
    "print(Interval(Pitch('B##4'), Pitch('Fbb5')))"
   ]
  },
  {
   "cell_type": "markdown",
   "metadata": {},
   "source": [
    "An interval's `xoct` (extra octaves) attribute is 0 for simple intervals and a positive integer for compound intervals:"
   ]
  },
  {
   "cell_type": "code",
   "execution_count": null,
   "metadata": {},
   "outputs": [],
   "source": [
    "i=Interval('M2')\n",
    "print('span=', i.span, 'xoct=', i.xoct)\n",
    "i=Interval('M9')\n",
    "print('span=', i.span, 'xoct=', i.xoct)\n",
    "i=Interval('M16')\n",
    "print('span=', i.span, 'xoct=', i.xoct)\n",
    "i=Interval('M23')\n",
    "print('span=', i.span, 'xoct=', i.xoct)"
   ]
  },
  {
   "cell_type": "markdown",
   "metadata": {},
   "source": [
    "An interval's `sign` attribute is 1 for ascending intervals and -1 for\n",
    "descending intervals:"
   ]
  },
  {
   "cell_type": "code",
   "execution_count": null,
   "metadata": {},
   "outputs": [],
   "source": [
    "i=Interval('M6')\n",
    "print('sign=', i.sign)\n",
    "i=Interval('-M6')\n",
    "print('sign=', i.sign)"
   ]
  },
  {
   "cell_type": "markdown",
   "metadata": {},
   "source": [
    "Intervals can be reduced to semitones:"
   ]
  },
  {
   "cell_type": "code",
   "execution_count": null,
   "metadata": {},
   "outputs": [],
   "source": [
    "print(Interval('ooooo5').semitones())\n",
    "print(Interval('M2').semitones())"
   ]
  },
  {
   "cell_type": "markdown",
   "metadata": {},
   "source": [
    "Intervals can be complemented:"
   ]
  },
  {
   "cell_type": "code",
   "execution_count": null,
   "metadata": {},
   "outputs": [],
   "source": [
    "print(Interval(\"+6\").complemented())\n",
    "print(Interval(\"M2\").complemented())\n",
    "print(Interval(\"P5\").complemented())"
   ]
  },
  {
   "cell_type": "markdown",
   "metadata": {},
   "source": [
    "Intervals can be compared. Their order (position in 'interval space') depends on their spelling.  The `span` index has the most 'weight', so any smaller span will be less than any larger, even if the smaller span has more semitones. Within a single span the `qual` index determines the ordering:"
   ]
  },
  {
   "cell_type": "code",
   "execution_count": null,
   "metadata": {},
   "outputs": [],
   "source": [
    "print(\"+5: semitones=\", Interval(\"+5\").semitones(), \n",
    "      \"\\no6: semitones=\", Interval(\"o6\").semitones(),'\\n')\n",
    "\n",
    "print(\"+5 < o6:\", Interval(\"+5\") < Interval(\"o6\"),'\\n')"
   ]
  },
  {
   "cell_type": "markdown",
   "metadata": {},
   "source": [
    "Within the same span, interval quality is compared:"
   ]
  },
  {
   "cell_type": "code",
   "execution_count": null,
   "metadata": {},
   "outputs": [],
   "source": [
    "Interval(\"oo5\") < Interval(\"o5\") < Interval(\"P5\") < Interval(\"+5\")"
   ]
  },
  {
   "cell_type": "markdown",
   "metadata": {},
   "source": [
    "Since Intervals are ordered they can be sorted:"
   ]
  },
  {
   "cell_type": "code",
   "execution_count": null,
   "metadata": {},
   "outputs": [],
   "source": [
    "l=[ran_interval() for i in range(10)]\n",
    "print(l,'\\n')\n",
    "print(sorted(l))"
   ]
  },
  {
   "cell_type": "markdown",
   "metadata": {},
   "source": [
    "Intervals can be inspected using a number of different methods:"
   ]
  },
  {
   "cell_type": "code",
   "execution_count": null,
   "metadata": {},
   "outputs": [],
   "source": [
    "i=Interval('P5')\n",
    "print(i.is_perfect())\n",
    "print(i.is_fifth())\n",
    "print(i.is_consonant())\n",
    "print(i.is_simple())\n",
    "\n",
    "i=Interval('m9')\n",
    "print(i.is_minor())\n",
    "print(i.is_second())\n",
    "print(i.is_dissonant())\n",
    "print(i.is_compound())"
   ]
  },
  {
   "cell_type": "markdown",
   "metadata": {},
   "source": [
    "`is_perfect_type()` and `is_imperfect_type()` are more general predicates, they return true if the interval's span is a member of the perfect spans (1,4,5,8) or imperfect spans (2 3 6 7)."
   ]
  },
  {
   "cell_type": "code",
   "execution_count": null,
   "metadata": {},
   "outputs": [],
   "source": [
    "print([Interval(s).is_perfect_type() for s in ['d5','d4', '+8', 'm2']])\n",
    "\n",
    "print([Interval(s).is_imperfect_type() for s in ['m2','+3','d7', 'd5']])"
   ]
  },
  {
   "cell_type": "markdown",
   "metadata": {},
   "source": [
    "The methods `is_diminished(`) and `is_augmented()` return true or false but the 'true' value will be the actual degree of diminution or augmentation:"
   ]
  },
  {
   "cell_type": "code",
   "execution_count": null,
   "metadata": {},
   "outputs": [],
   "source": [
    "print(Interval('o3').is_augmented())\n",
    "print(Interval('o3').is_diminished())\n",
    "print(Interval('oo3').is_diminished())\n",
    "print(Interval('ooo3').is_diminished())"
   ]
  },
  {
   "cell_type": "markdown",
   "metadata": {},
   "source": [
    "Intervals can be added:"
   ]
  },
  {
   "cell_type": "code",
   "execution_count": null,
   "metadata": {},
   "outputs": [],
   "source": [
    "print(\"P5 + m2:\", Interval('P5').add(Interval('m2')))\n",
    "\n",
    "print(\"P5 + +1:\", Interval('P5').add(Interval('+1')))"
   ]
  },
  {
   "cell_type": "markdown",
   "metadata": {},
   "source": [
    "Intervals can be used to transpose Pitches with proper spelling preserved:"
   ]
  },
  {
   "cell_type": "code",
   "execution_count": null,
   "metadata": {},
   "outputs": [],
   "source": [
    "print(Interval('M3').transpose(Pitch('D#4')))\n",
    "\n",
    "print(Interval('-M3').transpose(Pitch('D#4')))"
   ]
  },
  {
   "cell_type": "code",
   "execution_count": null,
   "metadata": {},
   "outputs": [],
   "source": [
    "p=Pitch(\"C4\")\n",
    "\n",
    "l=[Interval(n) for n in [\"P5\", \"+6\", \"m6\", \"+4\", \"P4\", \"o4\", \"P1\", \"M6\", \"+6\",\"m7\"]]\n",
    "\n",
    "for i in l:\n",
    "    print(p.string(),\"+\", i.string(), \"==\", i.transpose(p))"
   ]
  },
  {
   "cell_type": "markdown",
   "metadata": {},
   "source": [
    "`transpose()` also works with pnums. pnums have no octave so they should be thought of as always ascending:"
   ]
  },
  {
   "cell_type": "code",
   "execution_count": null,
   "metadata": {},
   "outputs": [],
   "source": [
    "print(Interval('m3').transpose(Pitch.pnums.D))\n",
    "print(Interval('m3').transpose(Pitch.pnums.Ds))\n",
    "print(Interval('M3').transpose(Pitch.pnums.Ds))\n",
    "print(Interval('-m6').transpose(Pitch.pnums.Ds))"
   ]
  }
 ],
 "metadata": {
  "celltoolbar": "Raw Cell Format",
  "interpreter": {
   "hash": "187b0d5a1c5527541f2aff21a07b3e6e464ec5be26f5cb21b171e0ced8c05872"
  },
  "kernelspec": {
   "display_name": "musxenv",
   "language": "python",
   "name": "musxenv"
  },
  "language_info": {
   "codemirror_mode": {
    "name": "ipython",
    "version": 3
   },
   "file_extension": ".py",
   "mimetype": "text/x-python",
   "name": "python",
   "nbconvert_exporter": "python",
   "pygments_lexer": "ipython3",
   "version": "3.10.6"
  }
 },
 "nbformat": 4,
 "nbformat_minor": 4
}

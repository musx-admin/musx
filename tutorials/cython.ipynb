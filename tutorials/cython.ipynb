{
 "cells": [
  {
   "cell_type": "markdown",
   "id": "8d553540-77e7-4792-80cd-14e2177754c6",
   "metadata": {},
   "source": [
    "# Optimizing instruments with Cython\n",
    "\n",
    "This tutorial demonstrates how to convert a \"pure Python\" instrument -- an instrument defined within a python environment such as a .py script or this running notebook -- into a C-compiled instrument that can run significantly faster.  It should be noted that in many cases pure Python instruments run fast enough to not need optimization. However, if instruments are complex, or require 'expensive' unit generators, the time it takes to render the audio file can become an impediment to the project at hand. In cases like this it makes sense to clone the instrument source code to a new file, compile that file down to a C shared library using Python's [Cython compiler](https://cython.org/), and import the optimized instrument into the Python.\n",
    "\n",
    "This notebook assumes that Cython is installed in your virtual environment. If you aren't sure, use this next cell to determine if you need to use pip to install it before proceeding."
   ]
  },
  {
   "cell_type": "code",
   "execution_count": null,
   "id": "d725800e-eb4c-41d9-aa33-ce516d7324c6",
   "metadata": {},
   "outputs": [],
   "source": [
    "! which cython cythonize"
   ]
  },
  {
   "cell_type": "markdown",
   "id": "6323db2a-d45e-4892-91db-dea63c37dd65",
   "metadata": {},
   "source": [
    "Notebook imports:"
   ]
  },
  {
   "cell_type": "code",
   "execution_count": null,
   "id": "1d6e9297-697e-4fdf-8579-bed62657f431",
   "metadata": {},
   "outputs": [],
   "source": [
    "import sys\n",
    "sys.path.append(\"/Users/taube/Software/musx\")\n",
    "from IPython.display import display, HTML\n",
    "display(HTML(\"<style>.container { width:100% !important; }</style>\"))\n",
    "from IPython.display import Code\n",
    "\n",
    "import numpy as np\n",
    "import pysndlib.clm as clm\n",
    "import pysndlib.sndlib as snd\n",
    "import pysndlib.instruments as ins\n",
    "import musx\n",
    "\n",
    "print(f\"musx version: {musx.version}\")"
   ]
  },
  {
   "cell_type": "markdown",
   "id": "a918c802-07d5-4b57-941d-008eac79b0b2",
   "metadata": {},
   "source": [
    "## A pure-python instrument"
   ]
  },
  {
   "cell_type": "markdown",
   "id": "66231b16-b6ed-4da1-906f-e963671b57ce",
   "metadata": {},
   "source": [
    "The candidate for optimization is an [additive synthesis](https://ccrma.stanford.edu/~jos/pasp/Additive_Synthesis.html) instrument called `ccbell()` that produces the sound of ten different bells that were installed in the Cathedral Church of Saint Michael (Coventry Cathedral) in Coventry, England in 1774. Tragically, the bells were destroyed along with the cathedral during a German blitzkrieg on November 14, 1940. However, acoustic measurements in the 1920s produced enough information for it to be possible to reconstruct the sounds using modern audio synthesis techniques. See: [https://www.hibberts.co.uk/coventry-cathedral-old-ten/](https://www.hibberts.co.uk/coventry-cathedral-old-ten/) for more information.\n",
    "\n",
    "<!-- The candidate instrument for optimization is called `ccbell()` and it uses [additive synthesis](https://ccrma.stanford.edu/~jos/pasp/Additive_Synthesis.html) to genreate the sound of ten unique bells that were installed in Cathedral Church of Saint Michael (Coventry Cathedral) in Coventry, England in 1774. The bells were destroyed along with the cathedral during a German blitzkrieg on November 14, 1940. See: [https://www.hibberts.co.uk/coventry-cathedral-old-ten/](https://www.hibberts.co.uk/coventry-cathedral-old-ten/) for more information. \n",
    "-->\n",
    "\n",
    "An additive synthesis instrument generates complex waveforms by summing the frequencies, phases and amplitudes of its constituent partials. This simple summation can produce very high quality results, but often at considerable cost due to the fact that each partial requires its own oscillator and amplitude envelope. As more partials are added the closer the instrument's sound comes to the actual source sound but at the expense of additional computation and longer wait times.\n",
    "\n",
    "<!--\n",
    "The consequence of this is that as more partials are added the closer the instrument's sound comes to the actual source sound but only at the cost of additional computation and longer wait times.\n",
    "\n",
    "\n",
    "This notebook uses an [Additive Synthesis](https://ccrma.stanford.edu/~jos/pasp/Additive_Synthesis.html) instrument as its optimization target. This technique can model any complex waveform by summing the frequencies, phases and amplitudes of the target's consituent partials. The result produces very high quality sounds, but at considerable cost due to the fact that each partial requires an oscilltor and amplitude envelope. As more partials are added the closer the instrument sound comes to the actual souce sound but the more compution the processess requires.\n",
    "\n",
    "uses [additive synthsis] to resurrect the sound of the original 10 bells of the Cathedral Church of Saint Michael (Coventry Cathedral) in Coventry, England. The bells were destroyed along with the cathedral during a German blitzkrieg on November 14, 1940. See: [https://www.hibberts.co.uk/coventry-cathedral-old-ten/](https://www.hibberts.co.uk/coventry-cathedral-old-ten/)\n",
    "-->"
   ]
  },
  {
   "cell_type": "markdown",
   "id": "d3acbf49-31da-4406-ae68-277cad59f45b",
   "metadata": {},
   "source": [
    "Evaluate this cell to define the pure Python `ccbell()` instrument. Be sure to look over the instrument's code and comments before moving on:"
   ]
  },
  {
   "cell_type": "code",
   "execution_count": null,
   "id": "11bfad99-261d-4d3d-bc6d-21924b76b002",
   "metadata": {},
   "outputs": [],
   "source": [
    "# coventry.py\n",
    "# A resurrection of Coventry Cathedral's 10 bells that were destroyed along with\n",
    "# the cathedral during a German blitzkrieg on November 14, 1940.\n",
    "# See: https://www.hibberts.co.uk/coventry-cathedral-old-ten/\n",
    "\n",
    "import numpy as np\n",
    "import pysndlib.clm as clm\n",
    "import pysndlib.sndlib as snd\n",
    "import pysndlib.instruments as ins\n",
    "\n",
    "# A dictionary storing the spectral information of seven bell partials (hum,\n",
    "# prime, tierce, quint, nominal, superquint, and octave-nominal) for each of the\n",
    "# ten Coventry bells. The partials are indexed high-to-low by integer id's\n",
    "# 1 to 10, and their frequencies in the table have all been 'normalized' to the\n",
    "# Prime harmonic (2nd partial) so the bells can be tuned (shifted) to frequencies\n",
    "# other than their original tunings.  \n",
    "\n",
    "coventry_bells = {\n",
    "# Bell Id  Hum      Prime Tierce  Quint   Nominal Superquint Octave-Nominal\n",
    "    1:     [0.6076, 1.0,  1.3304, 1.8727, 2.2176, 3.2756,    4.4376],\n",
    "    2:     [0.5988, 1.0,  1.3007, 1.844,  2.156,  3.1733,    4.3033],\n",
    "    3:     [0.5932, 1.0,  1.3327, 1.7515, 2.2325, 3.3006,    4.491],\n",
    "    4:     [0.5911, 1.0,  1.2961, 1.7712, 2.1615, 3.2019,    4.3872],\n",
    "    5:     [0.6042, 1.0,  1.3056, 1.7604, 2.1481, 3.162,     4.3009],\n",
    "    6:     [0.572,  1.0,  1.2537, 1.639,  2.0537, 3.022,     4.139],\n",
    "    7:     [0.5583, 1.0,  1.2333, 1.6611, 2.0556, 3.0639,    4.2139],\n",
    "    8:     [0.5096, 1.0,  1.1699, 1.5137, 1.9055, 2.8096,    3.8479],\n",
    "    9:     [0.5757, 1.0,  1.2368, 1.6924, 2.0263, 2.9868,    4.0888],\n",
    "    10:    [0.5608, 1.0,  1.2099, 1.5996, 1.9683, 2.903,     3.9718]\n",
    "}\n",
    "\n",
    "\n",
    "# A dictionary storing the prime frequencies of the original (destroyed) bells.\n",
    "\n",
    "coventry_primes = {1: 620.5, 2: 557, 3: 499, 4: 483, 5: 432, \n",
    "                   6: 410, 7: 360, 8: 365, 9: 304, 10: 283.5}\n",
    "\n",
    "\n",
    "# Amplitude envelopes for each bell partial, adapted from data on Hibberts'\n",
    "# original website (no longer available).\n",
    "\n",
    "coventry_amplitudes = [\n",
    "  # SplashAmp,   TailAmp,  Attack,  Decay   \n",
    "    [0.0,        0.1408,   0.3,     1.0   ], # Hum\n",
    "    [0.0,        0.704,    0.3,     0.4615], # Prime\n",
    "    [0.0,        0.7916,   0.0,     0.1714], # Tierce\n",
    "    [0.0833,     0.0317,   0.25,    0.08  ], # Quint\n",
    "    [1.0,        0.25,     0.1,     0.3429], # Nominal\n",
    "    [0.292,      0.1083,   0.5,     0.12  ], # Superquint\n",
    "    [0.15,       0.0617,   0.11,    0.1333]  # Octave Nominal\n",
    "]\n",
    "\n",
    "\n",
    "# The ccbell() instrument sounds a coventry bell given the bell's id number \n",
    "# 1 to 10 and the frequency in hertz of that bell's prime harmonic. If freq \n",
    "# is 0 the sound of the original (destroyed) bell will be heard.\n",
    "\n",
    "def ccbell(beg, bell=1, dur=6, freq=0, amp=0.3, deg=45, dist=0, rev=0):\n",
    "    if bell < 1 or bell > 10:\n",
    "        raise ValueError(f\"Bell id {bell} is not between 1 and 10 inclusive.\")\n",
    "    if freq <= 0:\n",
    "        freq = coventry_primes[bell]\n",
    "    # Frequencies for all seven partials given the frequency of the prime harmonic.\n",
    "    partials = [p * freq for p in coventry_bells[bell]]\n",
    "    start = clm.seconds2samples(beg)\n",
    "    end   = start + clm.seconds2samples(dur)\n",
    "    location = clm.make_locsig(degree=deg, distance=dist, reverb=rev)\n",
    "    radians, envarray = [], []\n",
    "    # gather phase and amp envelopes for each partial\n",
    "    for i, p in enumerate(partials):\n",
    "        hertz = round(p, 3)\n",
    "        amps = coventry_amplitudes[i]\n",
    "        splashamp = round(amps[0] * amp, 3)\n",
    "        tailamp = round(amps[1] * amp, 3)\n",
    "        attack = round(amps[2] if amps[2] else .001, 3)\n",
    "        decay = round(amps[3] * dur, 3)\n",
    "        envl =  [0, splashamp, attack/4, tailamp/1.5, attack, tailamp, attack+decay, 0]\n",
    "        radians.append(clm.hz2radians(hertz))\n",
    "        envarray.append(clm.make_env(envl, scaler=amp, duration=dur))\n",
    "    # store everything in a pysnlib 'oscil_bank'\n",
    "    bank_size = len(radians)\n",
    "    phase_array = np.zeros(bank_size)\n",
    "    amps_array = np.zeros(bank_size)\n",
    "    envs_array = np.array(envarray)\n",
    "    # use an oscil bank to hold the oscil/envelope pairs for each partial\n",
    "    oscils = clm.make_oscil_bank(radians, phase_array, amps_array)\n",
    "    for i in range(start, end):\n",
    "        for j in range(bank_size):\n",
    "            amps_array[j] = clm.env(envs_array[j])\n",
    "        clm.locsig(location, i, clm.oscil_bank(oscils))\n",
    "\n",
    "print(f\"ccbell: {ccbell}\")"
   ]
  },
  {
   "cell_type": "markdown",
   "id": "dd6f6fb0-5bde-4658-8a22-425ea538afa7",
   "metadata": {},
   "source": [
    "<!-- from support.coventry import ccbell\n",
    "\n",
    "Code('./support/coventry.py', language='python') -->"
   ]
  },
  {
   "cell_type": "markdown",
   "id": "1533d315-ef9c-4733-9979-0577dba79519",
   "metadata": {},
   "source": [
    "#### Example 1\n",
    "\n",
    "This example performs the ten bells sounding their original pitches. Bells are identified using integers with 1 representing the highest bell:"
   ]
  },
  {
   "cell_type": "code",
   "execution_count": null,
   "id": "aec5a139-cb8f-4a3d-bfdb-c677590c1859",
   "metadata": {},
   "outputs": [],
   "source": [
    "bells = [i for i in range(1, 11)]\n",
    "print(f\"bell ids: {bells}\")\n",
    "\n",
    "with clm.Sound(\"test.wav\", play=True, statistics=True):\n",
    "    for t, i in enumerate(bells):\n",
    "        ccbell(t*2, bell=i)"
   ]
  },
  {
   "cell_type": "markdown",
   "id": "b21a8f6b-2855-4129-8091-68a46644fb8d",
   "metadata": {},
   "source": [
    "#### Example 2\n",
    "\n",
    "This longer example performs a 60 note sequence with the bells set to 5-TET tuning (5 equal steps per octave, each step ~2.4 semitones wide).  The bell sequence starts with descending bells, followed by four peals in which all but the lowest bell are randomly ordered, and ending with a retrograde of the opening. A slight variance is added to start times, durations, and amplitudes so bell partials 'line up' in a realistic way:\n",
    "\n",
    "<!-- This example performs the 10 bells in 5-TET tuning (5 equal steps per octave, each step 2.4 semitones).  The 60-note peal (sequence) is a concatenation of the descending bells, followed by several rounds in which all but the lowest bell are randomly reordered, and ending with a retrograde of the opening. A slight variance is added to start times, durations, and amplitudes so bell partials 'line up' in a more realistic way. -->\n",
    "\n",
    "Be sure to notice the amount of time it takes for cbell() to render the audio file on your computer. As a reference point, on a 2021 Apple M1 Pro laptop it takes about 9 seconds... :"
   ]
  },
  {
   "cell_type": "code",
   "execution_count": null,
   "id": "c2371786-0560-47eb-9f56-1d833c0bc4b3",
   "metadata": {},
   "outputs": [],
   "source": [
    "def bongs(ids, reps):\n",
    "    # randomly order the top 9 bells keeping the lowest bell last.\n",
    "    return sum( [musx.shuffle(ids, end=len(ids)-1) for _ in range(reps)], [])\n",
    "\n",
    "def coda(ids):\n",
    "    # ascend through the top 9 bells keeping the lowest bell last.\n",
    "    return ids[-2::-1] + ids[-1:]\n",
    "\n",
    "def jiggle(value, amt=.025):\n",
    "    # returns small fluctation + or - a given value.\n",
    "    return musx.vary(value, amt)\n",
    "\n",
    "bells = [i for i in range(1, 11)]\n",
    "tunings = {i: round( musx.hertz(\"b5\") * (2 ** (- (i-1)/5)) ) for i in bells}\n",
    "peal = bells + bongs(bells, 4) + coda(bells)\n",
    "\n",
    "print(f\"bell ids: {bells}\")\n",
    "print(f\"tunings: {tunings}\")\n",
    "print(f\"strikes: {len(peal)}\")\n",
    "print(f\"peal: {peal}\")\n",
    "\n",
    "with clm.Sound(\"test.wav\", play=True, statistics=True): #reverb=ins.nrev(decay_time=8), \n",
    "    b = 0\n",
    "    for bell in peal:\n",
    "        freq = tunings[bell]\n",
    "        #amp, dur = (.6, 8) if bell == 10 else (.35, 4)\n",
    "        amp, dur = (.6, 7) if bell == 10 else (.35, 3.5)\n",
    "        ccbell(b, bell=bell, freq=freq, dur=jiggle(dur), amp=jiggle(amp)) #, rev=.01, dist=5\n",
    "        b += jiggle(.5)"
   ]
  },
  {
   "cell_type": "markdown",
   "id": "f5434163-c482-4149-926a-b5c80cd5025c",
   "metadata": {},
   "source": [
    "<!--\n",
    "\n",
    "Optimizing the all-python cbell instrument involves several steps. \n",
    "\n",
    "1.  Copy the instrument source code to a new source file for optimization.\n",
    "2.  Compile instrument code into a C shared using Cython that can be imported into a Pyton sessions\n",
    "3.  Add variable typing to the instrument source code to gain more speed\n",
    "\n",
    "coventry.py -> coventry.pyx -> coventry.c => coventry.so\n",
    "-->"
   ]
  },
  {
   "cell_type": "markdown",
   "id": "b1c0c95f-c240-430a-8013-623a551feb6c",
   "metadata": {},
   "source": [
    "#### Example 3\n",
    "\n",
    "This last example of the \"pure Python\" instrument performs a famous bell ringing pattern called Plain Bob, which swaps pairs of bells on each peal to produces 21 permutations of the bells without repeating. On ten bells, the complete pattern takes 210 strikes. For more infomation see [change-ringing](https://en.wikipedia.org/wiki/Change_ringing),  [Plain Bob](https://www.thomasalspaugh.org/pub/crg/plainBob.html), the [Rotation pattern](https://github.com/musx-admin/musx/blob/main/docs/patterns.html) and the musx [coventry demo](https://github.com/musx-admin/musx/blob/main/demos/coventry.ipynb).\n"
   ]
  },
  {
   "cell_type": "code",
   "execution_count": null,
   "id": "c1950baf-1190-47d6-9d90-d3eb22fbf3e6",
   "metadata": {},
   "outputs": [],
   "source": [
    "def jiggle(value, amt=.1):\n",
    "    # returns small fluctation + or - a given value.\n",
    "    return musx.vary(value, amt)\n",
    "    \n",
    "with clm.Sound(\"test.wav\", play=True, statistics=True, reverb=ins.nrev(decay_time=2.5)):\n",
    "    t, d, a  = 0, .23, .6\n",
    "    plain_bob = musx.Rotation([b for b in range(1,11)], [[0, 2, 1], [1, 2, 1]]).all(wrapped=True)\n",
    "    print(f'strikes: {len(plain_bob)}')\n",
    "    print(f'pattern: {plain_bob}')\n",
    "    for i, b in enumerate(plain_bob):\n",
    "        ccbell(t, bell=b, dur=jiggle(1), amp=jiggle(a), rev=0.01)\n",
    "        t += jiggle(d)"
   ]
  },
  {
   "cell_type": "markdown",
   "id": "38d09516-8249-49eb-aa22-33eb879ceeee",
   "metadata": {},
   "source": [
    "<!-- ##ORIGINAL\n",
    "#bellnames = [i for i in range(1,11)]\n",
    "#plain_bob = musx.Rotation(bellnames, [[0, 2, 1], [1, 2, 1]]).all(wrapped=True) \n",
    "#numbells = len(plain_bob)\n",
    "#ldeg = [0, 45, numbells*.25, 45, numbells*.75, 0 ]\n",
    "#rdeg = [0, 45, numbells*.25, 45, numbells*.75, 90]\n",
    "#print(f\"{numbells} bells in pattern, cranking...\")\n",
    "#top, bot = bellnames[0],bellnames[-1]\n",
    "#hilite = [top, bot]\n",
    "\n",
    "#with clm.Sound(play=True, channels=2, reverb=ins.nrev(decay_time=6), statistics=True):\n",
    "#    beg = 0\n",
    "#    for i,b in enumerate(plain_bob):\n",
    "#        dur = musx.between(1.4, 3.8)\n",
    "#        amp = musx.between(.1,.15)\n",
    "#        ccbell(beg=beg, bell=b,\n",
    "#                 dur=dur if b not in hilite else dur * {top:1.5, bot: 2.25}[b],\n",
    "#                 freq=0,\n",
    "#                 amp=amp*1.1 if b not in hilite else amp * {top:1.8, bot:2.3}[b], #top:1.75, bot:2.35\n",
    "#                 deg=musx.between(musx.interp(i, ldeg), musx.interp(i, rdeg)),\n",
    "#                 dist=musx.interp(i, 0, 2,  numbells/2,  2,  numbells, 15),   \n",
    "#                 rev=musx.interp(i, 0, .001,numbells/2, .03, numbells, .06) )\n",
    "#        beg += musx.between(.27,.30)\n",
    "->"
   ]
  },
  {
   "cell_type": "markdown",
   "id": "8a3865c5-6657-4e47-a188-d23d2b3228aa",
   "metadata": {},
   "source": [
    "## Optimizing the ccbell() instrument\n",
    "\n",
    "### Step 1: copy coventry.py to coventry.pyx\n",
    "\n",
    "This next cell takes the 'pure python' ccbell() source code defined above and saves it in a file called \"coventry.pyx\" located in the support/ subfolder of this notebook's directory, e.g. \"musx/tutorials/support/coventry.pyx\". Python uses the .pyx file extension to distinguish between 'regular' python file (.py) and python files to be compiled by Cython:"
   ]
  },
  {
   "cell_type": "code",
   "execution_count": null,
   "id": "80418361-8020-4fe1-9e78-8740633ad8b7",
   "metadata": {},
   "outputs": [],
   "source": [
    "for s in _ih:\n",
    "    if s.startswith('# coventry.py'):\n",
    "        with open(\"./support/coventry.pyx\", \"w\") as pyxfile:\n",
    "            pyxfile.write(s)\n",
    "print(f\"wrote {pyxfile.name}\")"
   ]
  },
  {
   "cell_type": "markdown",
   "id": "e1840bcc-4788-42ad-b8dc-5607f1b38989",
   "metadata": {},
   "source": [
    "<!-- ### Step 2: create setup.py\n",
    "\n",
    "Evaluate the next cell to create a './support/setup.py' script that Python will use to build projects and packages.  In our case, the script will pass the 'coventry.pyx' file to Cython for compilation to a C sharded library that can be imported into a python session. --?"
   ]
  },
  {
   "cell_type": "markdown",
   "id": "74996a40-7e80-41d8-a45c-4e563851642c",
   "metadata": {},
   "source": [
    "### Step 2: Compile coventry.pyx with Cython"
   ]
  },
  {
   "cell_type": "markdown",
   "id": "bc4a3045-1eee-4791-b6e6-a22deeddb34b",
   "metadata": {},
   "source": [
    "There are a number of ways to interface with Cython; this notebook uses the most direct way, by calling the `cythonize` command line tool.  Cythonize will take the .pyx file, convert it to a C text file (coventry.c) and compile the C file into shared library. In the command line below, the `--3str` argument informs Cython that the file is Python3 and `--inline` places the newly compiled instrurment (a C shared library) in the same directory as the .pyx file. Note that the compilation process will generate some warnings, suppressing these is possible using a Python 'setup.py' build script, but is beyond the scope of this tutorial:"
   ]
  },
  {
   "cell_type": "code",
   "execution_count": null,
   "id": "feb935dc-284f-4043-98e6-6b8b8be71a98",
   "metadata": {},
   "outputs": [],
   "source": [
    "! cythonize --3str --inplace support/coventry.pyx"
   ]
  },
  {
   "cell_type": "markdown",
   "id": "b67e7489-054c-4d28-b78a-aa91b7dd4965",
   "metadata": {},
   "source": [
    "### Step 3: Load the compiled C instrument into Python\n",
    "\n",
    "Check to make sure the shared library was created and is located in the support directory along with 'coventry.pyx' and 'coventry.c'.  The compete name of this shared library depends on the operating system and python build but will start with 'coventry':"
   ]
  },
  {
   "cell_type": "code",
   "execution_count": null,
   "id": "2b95ad60-dfe0-48e4-b10f-8fd68b05d937",
   "metadata": {},
   "outputs": [],
   "source": [
    "! ls support/coventry*"
   ]
  },
  {
   "cell_type": "markdown",
   "id": "eb8cd3bc-3ba6-48a7-bf48-36844bbfa09e",
   "metadata": {},
   "source": [
    "Use Python's standard import statement to load the compiled ccbell() instrument. Notice that after importing the variable `ccbell`  now points to a 'cyfunction' and not a 'function':"
   ]
  },
  {
   "cell_type": "code",
   "execution_count": null,
   "id": "c6a35530-1403-490e-bfe5-9ed0ed619bce",
   "metadata": {},
   "outputs": [],
   "source": [
    "from support.coventry import ccbell\n",
    "\n",
    "print(f\"ccbell: {ccbell}\")"
   ]
  },
  {
   "cell_type": "markdown",
   "id": "cac7bc1b-ec0c-452f-be6a-08ed0ea04e71",
   "metadata": {},
   "source": [
    "Test the compiled version of ccbell:"
   ]
  },
  {
   "cell_type": "code",
   "execution_count": null,
   "id": "9cbfa922-3087-4a05-8b31-4110cae3fbe0",
   "metadata": {},
   "outputs": [],
   "source": [
    "with clm.Sound(\"test.wav\", play=True, statistics=True): #reverb=ins.nrev(decay_time=8), \n",
    "    b = 0\n",
    "    for bell in peal:\n",
    "        freq = tunings[bell]\n",
    "        amp, dur = (.6, 8) if bell == 10 else (.35, 4)\n",
    "        ccbell(b, bell=bell, freq=freq, dur=jiggle(dur), amp=jiggle(amp)) #, rev=.01, dist=5\n",
    "        b += jiggle(.5)"
   ]
  },
  {
   "cell_type": "markdown",
   "id": "a76ae40a-78e9-4e2a-9376-b0ce0b6212b0",
   "metadata": {},
   "source": [
    "## Optimizing using Cython datatypes\n",
    "\n",
    "Significant speedup can be achieved for some instruments using Cython's C datatypes to statically type critical variables and functions, for example, those involved with the instument's run time (sample-by-sample) `for` loop."
   ]
  },
  {
   "cell_type": "code",
   "execution_count": null,
   "id": "632ad437-ef2f-4321-87bb-f1a3001f964e",
   "metadata": {
    "scrolled": true
   },
   "outputs": [],
   "source": [
    "PYX CODE"
   ]
  },
  {
   "cell_type": "code",
   "execution_count": null,
   "id": "64377fa6-8a17-471b-a466-5dc7cca46ae2",
   "metadata": {},
   "outputs": [],
   "source": []
  },
  {
   "cell_type": "code",
   "execution_count": null,
   "id": "4b68de31-de70-4b4c-ae95-77848d03e654",
   "metadata": {},
   "outputs": [],
   "source": []
  },
  {
   "cell_type": "code",
   "execution_count": null,
   "id": "39b37bb1-ac3a-4b1b-b0a2-9cd0a4fa9439",
   "metadata": {},
   "outputs": [],
   "source": []
  },
  {
   "cell_type": "code",
   "execution_count": null,
   "id": "88f2c316-f4e9-4981-8620-f377492c1e8c",
   "metadata": {},
   "outputs": [],
   "source": []
  },
  {
   "cell_type": "markdown",
   "id": "f79c74a0-0ff1-403f-ad68-4ef58b4321bc",
   "metadata": {},
   "source": [
    "For more information about compiling and optimizing Pure Python code, see Cython's [Basic Tutorial](https://cython.readthedocs.io/en/latest/src/tutorial/cython_tutorial.html) and Peter Baumgartens [An Introduction to Just Enough Cython to be Useful](https://www.peterbaumgartner.com/blog/intro-to-just-enough-cython-to-be-useful/)."
   ]
  },
  {
   "cell_type": "markdown",
   "id": "aac8c658-6d09-4c94-ba2e-4970de03f457",
   "metadata": {},
   "source": [
    "Optional cleanup:"
   ]
  },
  {
   "cell_type": "code",
   "execution_count": null,
   "id": "0cba0cf6-db0c-47b4-9846-a11a1e5c4e86",
   "metadata": {},
   "outputs": [],
   "source": [
    "! rm -r ./support/coventry.c ./support/coventry.cpython* ./support/build"
   ]
  }
 ],
 "metadata": {
  "kernelspec": {
   "display_name": "Python 3 (ipykernel)",
   "language": "python",
   "name": "python3"
  },
  "language_info": {
   "codemirror_mode": {
    "name": "ipython",
    "version": 3
   },
   "file_extension": ".py",
   "mimetype": "text/x-python",
   "name": "python",
   "nbconvert_exporter": "python",
   "pygments_lexer": "ipython3",
   "version": "3.11.7"
  }
 },
 "nbformat": 4,
 "nbformat_minor": 5
}

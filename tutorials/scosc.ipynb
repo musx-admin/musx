{
 "cells": [
  {
   "cell_type": "markdown",
   "metadata": {},
   "source": [
    "# WORKING WITH SUPERCOLLIDER AND OSC IN PYTHON\n",
    "\n",
    "Explaination of how to send [OSC](http://opensoundcontrol.org/spec-1_0.html) messages from Python to [SuperCollider](https://supercollider.github.io/download) to generate audio in real time.  It assumes you have at least a passing experience with these technologies.\n",
    "\n",
    "<hr style=\"height:1px;color:gray\">\n",
    "\n",
    "Notebook imports:"
   ]
  },
  {
   "cell_type": "code",
   "execution_count": null,
   "metadata": {},
   "outputs": [],
   "source": [
    "import sys\n",
    "sys.path.append('/Users/taube/Software/musx')\n",
    "from IPython.display import display, HTML\n",
    "display(HTML(\"<style>.container { width:100% !important; }</style>\"))\n",
    "from musx import Event, Seq, Score, Rotation, version, hertz\n",
    "print(f\"musx.version: {version}\")"
   ]
  },
  {
   "cell_type": "markdown",
   "metadata": {},
   "source": [
    "## About SuperCollider\n",
    "\n",
    "Supercollider is a powerful synthesis program and coding environment. The SuperCollider app is built on a client-server model with two-way communication between the SuperCollider language (sclang) and it's sound server (scsynth). This communication is implemented using the OSC protocol.  The OSC protocol, in turn, makes it very easy for external environments such as Python to send audio commands to SuperCollider for realtime playback.<superscript>**</superscript>\n",
    "\n",
    "For more information about the SuperCollider architecture the [DXARTS client/server guide to SC](http://depts.washington.edu/dxscdoc/Help/Guides/ClientVsServer.html).\n",
    "\n",
    "![dxarts](http://depts.washington.edu/dxscdoc/Help/Guides/scEn.png)\n",
    "\n",
    "<p style=\"font-size:smaller\">**Sclang provides a rich coding environment for sound synthesis and composition, running Supercollider from python is not a replacement for the SC IDE!</p>"
   ]
  },
  {
   "cell_type": "markdown",
   "metadata": {},
   "source": [
    "## Installation and setup\n",
    "\n",
    "* If you don't already have SuperCollider installed on your computer, [download the app](https://supercollider.github.io/downloads.html) and follow the installation instructions.\n",
    "\n",
    "* With your musx virtual environment activated, install the [python-osc ](https://pypi.org/project/python-osc/) package:\n",
    "\n",
    "        (venv) $ python -m pip install python-osc\n",
    "\n",
    "* Start the SuperCollider app and use its File menu to open the [bell.scd](./img/bell.scd) file located in the support/ subdirectory of this notebook.  This file defines an additive syntheses instrument that synthesizes sound based on spectral information taken from William A. Hibbert's terrific [website](https://www.hibberts.co.uk/lehr_1986_partial_groups/) about bell spectra.\n",
    "\n",
    "\n",
    "* Once you have opened bell.scd in SuperCollider perform the two keyboard commands visible at the very top of the file: \n",
    "\n",
    "<pre>To execute this file type the following two keyboard commands:`\n",
    "    COMMAND-A  (select all)\n",
    "    COMMAND-Return  (evaluate)\n",
    "</pre>        \n",
    "\n",
    "Note: on Windows you will use Control-A and Control-Return.\n",
    "\n",
    "    \n",
    " \n",
    " "
   ]
  },
  {
   "cell_type": "markdown",
   "metadata": {},
   "source": [
    "## Sending Osc"
   ]
  },
  {
   "cell_type": "markdown",
   "metadata": {},
   "source": [
    "To send musical data to SuperCollider we first create a subclass of musx's base Event class so OSC playback data can be generated to a musx Seq object. Our new class is called OscMessage and it bundles together an OSC address, a start time, and synthesis data so all will be sent to SuperCollider in a single OSC packet to be processed by SuperCollider as a bell sound. The OSC address is a string identifier for the packet, the time is the start time, and the data are the values that constitute the bell information being sent:"
   ]
  },
  {
   "cell_type": "code",
   "execution_count": null,
   "metadata": {},
   "outputs": [],
   "source": [
    "class OscMessage(Event):\n",
    "    def __init__(self, address, time, *data):\n",
    "        super().__init__(time)\n",
    "        self.addr = address\n",
    "        self.data = [time, *data]\n",
    "    def __str__(self):\n",
    "        return f\"<OscMessage: '{self.addr}' {self.data} {hex(id(self))}>\"\n",
    "    __repr__ = __str__\n",
    "\n",
    "print(f'OscMessage: {OscMessage}')"
   ]
  },
  {
   "cell_type": "markdown",
   "metadata": {},
   "source": [
    "Here is an example of an OscMessage instance:"
   ]
  },
  {
   "cell_type": "code",
   "execution_count": null,
   "metadata": {
    "scrolled": true
   },
   "outputs": [],
   "source": [
    "om = OscMessage(\"/musx\", 0, 4, 220, .5)\n",
    "print(f\"message: {om}\")\n",
    "print(f\"message time: {om.time}\")\n",
    "print(f\"message address: '{om.addr}'\")\n",
    "print(f\"message data: {[d for d in om.data]}\")"
   ]
  },
  {
   "cell_type": "markdown",
   "metadata": {},
   "source": [
    "Now define the function that will send OSC messages to SuperCollider in real time from a Python thread. The player accepts two inputs: a musx Seq containing the OSC messages, and an open OSC port.  The player processes the OSC messages in a loop, sending bell messages that match the current time and then waiting until the next time to play."
   ]
  },
  {
   "cell_type": "code",
   "execution_count": null,
   "metadata": {},
   "outputs": [],
   "source": [
    "def oscplayer(oscseq, oscout):\n",
    "    messages = oscseq.events\n",
    "    length = len(messages)\n",
    "    thistime = messages[0].time\n",
    "    nexttime = thistime\n",
    "    i = 0\n",
    "    while i < length:\n",
    "        if messages[i].time == thistime:\n",
    "            #print(f'playing {messages[i]}')\n",
    "            oscout.send_message(messages[i].addr, messages[i].data)\n",
    "            i += 1\n",
    "            continue\n",
    "        # if here then midi[i] is later than thistime so sleep\n",
    "        nexttime = messages[i].time\n",
    "        #print(f'waiting {nexttime-thistime}')\n",
    "        time.sleep(nexttime - thistime) \n",
    "        thistime = nexttime\n",
    "\n",
    "print(f'oscplayer: {oscplayer}')"
   ]
  },
  {
   "cell_type": "markdown",
   "metadata": {},
   "source": [
    "### Composition\n",
    "\n",
    "Define a part composer to add OSC messages to a score. This composer uses the Plain Hunt algorithm to generate the bell ringing pattern. For more information see the [Change Ringing](./changeringing.ipynb) tutorial:"
   ]
  },
  {
   "cell_type": "code",
   "execution_count": null,
   "metadata": {},
   "outputs": [],
   "source": [
    "def plain_hunt(score, rhy, dur):\n",
    "    # one descending octave of bells numbered 8, 7, ... 1\n",
    "    bells = [n for n in range(8, 0, -1)]\n",
    "    # dictionary of hertz values for each descending bell (D major)\n",
    "    freqs = {i:f for i,f in zip(bells, hertz(\"d5 c# b4 a g f# e d\"))}\n",
    "    # Plain Hunt's rotation rules\n",
    "    rules = [[0, 2, 1], [1, 2, 1]]\n",
    "    # generate the Plain Hunt pattern for 8 bells\n",
    "    peals = Rotation(bells, rules).all(False, True)\n",
    "    # write OscMessages to the score.\n",
    "    for b in peals:\n",
    "        f = freqs[b]\n",
    "        m = OscMessage(\"/musx\", score.now, dur, f, .9)\n",
    "        score.add(m)\n",
    "        yield rhy\n",
    "        \n",
    "print(f'plain_hunt: {plain_hunt}')"
   ]
  },
  {
   "cell_type": "markdown",
   "metadata": {},
   "source": [
    "Open an OSC output connection to SuperCollider using its default port 57120 (NetAddr.langPort in SuperCollider):"
   ]
  },
  {
   "cell_type": "code",
   "execution_count": null,
   "metadata": {},
   "outputs": [],
   "source": [
    "import pythonosc.udp_client\n",
    "import threading, time\n",
    "\n",
    "oscout = pythonosc.udp_client.SimpleUDPClient(\"127.0.0.1\", 57120)\n",
    "print(f'oscout: {oscout}')"
   ]
  },
  {
   "cell_type": "markdown",
   "metadata": {},
   "source": [
    "Generate the composition to a sequence:"
   ]
  },
  {
   "cell_type": "code",
   "execution_count": null,
   "metadata": {},
   "outputs": [],
   "source": [
    "oscseq = Seq()   \n",
    "score = Score(out=oscseq)\n",
    "score.compose(plain_hunt(score, .3, 4))\n",
    "print(f\"oscseq: {oscseq}\\nOSC messages:\")\n",
    "oscseq.print(end=3)\n",
    "print(\"...\")"
   ]
  },
  {
   "cell_type": "markdown",
   "metadata": {},
   "source": [
    "Create a Python thread and pass it the realtime oscplayer function, the sequence and the output port. If you look in the SuperCollider window you will see printout of the score data being processed as it arrives at SuperCollider's input port:"
   ]
  },
  {
   "cell_type": "code",
   "execution_count": null,
   "metadata": {},
   "outputs": [],
   "source": [
    "player = threading.Thread(target=oscplayer, args=(oscseq, oscout))\n",
    "player.start()\n",
    "print(f'Playing {oscseq}')"
   ]
  }
 ],
 "metadata": {
  "interpreter": {
   "hash": "b9a7535c48ecc49f8d59d15672f7814045ffcccfb639e46db1a813b15e5edbb9"
  },
  "kernelspec": {
   "display_name": "Python 3 (ipykernel)",
   "language": "python",
   "name": "python3"
  },
  "language_info": {
   "codemirror_mode": {
    "name": "ipython",
    "version": 3
   },
   "file_extension": ".py",
   "mimetype": "text/x-python",
   "name": "python",
   "nbconvert_exporter": "python",
   "pygments_lexer": "ipython3",
   "version": "3.10.6"
  }
 },
 "nbformat": 4,
 "nbformat_minor": 4
}

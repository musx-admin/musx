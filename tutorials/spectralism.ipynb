{
 "cells": [
  {
   "cell_type": "markdown",
   "metadata": {},
   "source": [
    "# SPECTRALISM\n",
    "\n",
    "An introduction the Spectrum class and musx algorithms for composing with spectral data.\n",
    "\n",
    "<hr style=\"height:1px;color:gray\">\n",
    "\n",
    "Notebook imports:"
   ]
  },
  {
   "cell_type": "code",
   "execution_count": 1,
   "metadata": {},
   "outputs": [
    {
     "data": {
      "text/html": [
       "<style>.container { width:100% !important; }</style>"
      ],
      "text/plain": [
       "<IPython.core.display.HTML object>"
      ]
     },
     "metadata": {},
     "output_type": "display_data"
    },
    {
     "name": "stdout",
     "output_type": "stream",
     "text": [
      "version: N.N.N\n"
     ]
    }
   ],
   "source": [
    "import sys\n",
    "sys.path.append('/Users/taube/Software/musx')\n",
    "from IPython.display import display, HTML, Audio\n",
    "display(HTML(\"<style>.container { width:100% !important; }</style>\"))\n",
    "#from IPython IPython.display.Audio(\"my_audio_file.mp3\")\n",
    "import math\n",
    "from musx import Score, Note, MidiEvent, Seq, MidiFile, Cycle, Choose, Shuffle, version, \\\n",
    "setmidiplayer, playfile, import_spear_frames, PCSet, rmspectrum, fmspectrum, hertz, pitch, \\\n",
    "keynum, scale, intempo, odds, pick, between\n",
    "from musx.midi.gm import Koto, Flute, Marimba, Clarinet\n",
    "print(f'version: {version}')"
   ]
  },
  {
   "cell_type": "markdown",
   "metadata": {},
   "source": [
    "This notebook generates MIDI files and automatically plays them using [fluidsynth](https://www.fluidsynth.org/download/) and the [MuseScore_General.sf3](https://ftp.osuosl.org/pub/musescore/soundfont/MuseScore_General) sound font. See [INSTALL.md](https://github.com/musx-admin/musx/blob/main/INSTALL.md) for how to install a terminal-based MIDI player to use with musx.  If you don't have a player installed you can access the output files in the same directory as this notebook:"
   ]
  },
  {
   "cell_type": "code",
   "execution_count": null,
   "metadata": {},
   "outputs": [],
   "source": [
    "setmidiplayer(\"fluidsynth -iq -g1 /Users/taube/Music/SoundFonts/MuseScore_General.sf2\")\n",
    "print('OK!')"
   ]
  },
  {
   "cell_type": "markdown",
   "metadata": {},
   "source": [
    "## The Spectrum class\n",
    "\n",
    "<!-- In spectralism, synthesis and audio analysis algorithms are tools for composing music based on acoustic information. A *spectral composer* adopts both  This notebook shows how this can be done using two different audio algorithms. -->\n",
    "\n",
    "The musx Spectrum class is contains frequency and amplitude pairs with methods that operate on this information for  compositional purposes.  Spectrums can be created by loading spectral datafiles created from\n",
    "Michael Klingbeil's remarkable <a href=\"https://www.klingbeil.com/spear/\">SPEAR</a> application, or directly computed by the `fmspectum()` and `rmspectum()` functions in musx. Given a spectrum the composer can convert its data into compositional forms such as note sets, pitch classes, amplitude envelopes, etc."
   ]
  },
  {
   "cell_type": "markdown",
   "metadata": {},
   "source": [
    "### Spectral information"
   ]
  },
  {
   "cell_type": "markdown",
   "metadata": {},
   "source": [
    "\n",
    "There are two basic approaches to spectral composition:\n",
    "\n",
    "- Recorded sound is analyzed for its spectral content using software that provides FFT and sonogram sevices. This spectral information is then used as source material that composers manipulate, orchestrate, convert into note sets, melodic tropes, harmonic progressions etc.\n",
    "- Frequency (notes) are directly *synthesized* using audio algorithms, then organized by the composer and performed by instrumentalists.\n",
    "\n",
    "In this example, spectral information from a single log-drum note is analyzed in Spear and imported into python as musx Spectrum objects, then analyzed for its characteristics and used as note data in a composition.\n",
    "\n",
    "[Click here](support/log-drum.txt) to see the raw spectral data exported from SPEAR. \n",
    "\n",
    "Use this audio control to listen to the sound:\n",
    "\n",
    "<audio controls=true src=\"support/log-drum.mp3\"/>"
   ]
  },
  {
   "cell_type": "markdown",
   "metadata": {},
   "source": [
    "The first step in the process is to import Spear's spectral frame data into Python using `import_spear_frames()`.  Each frame will be represented in Python as a `Spectrum` object. A Spectrum is a sorted list of pairs: [[*freq1*, *amp1*], [*freq2*, *amp2*], ... [*freqN*, *ampN*]] and when it is printed it displays the number of pairs it contains:"
   ]
  },
  {
   "cell_type": "code",
   "execution_count": null,
   "metadata": {},
   "outputs": [],
   "source": [
    "frames = import_spear_frames('./support/log-drum.txt')\n",
    "print(f\"Imported {len(frames)} frames:\\n{frames}\")"
   ]
  },
  {
   "cell_type": "markdown",
   "metadata": {},
   "source": [
    "Take the sixth spectrum to use as an example:"
   ]
  },
  {
   "cell_type": "code",
   "execution_count": null,
   "metadata": {},
   "outputs": [],
   "source": [
    "spec = frames[5]\n",
    "print(spec)"
   ]
  },
  {
   "cell_type": "markdown",
   "metadata": {},
   "source": [
    "Spectrum pairs are sorted by frequency:"
   ]
  },
  {
   "cell_type": "code",
   "execution_count": null,
   "metadata": {},
   "outputs": [],
   "source": [
    "print(spec.pairs())"
   ]
  },
  {
   "cell_type": "markdown",
   "metadata": {},
   "source": [
    "Access the spectrum's frequencies:"
   ]
  },
  {
   "cell_type": "code",
   "execution_count": null,
   "metadata": {},
   "outputs": [],
   "source": [
    "print(spec.freqs())"
   ]
  },
  {
   "cell_type": "markdown",
   "metadata": {},
   "source": [
    "Access it's amplitudes:"
   ]
  },
  {
   "cell_type": "code",
   "execution_count": null,
   "metadata": {},
   "outputs": [],
   "source": [
    "print(spec.amps())"
   ]
  },
  {
   "cell_type": "markdown",
   "metadata": {},
   "source": [
    "Print the minimum and maximum frequencies:"
   ]
  },
  {
   "cell_type": "code",
   "execution_count": null,
   "metadata": {},
   "outputs": [],
   "source": [
    "print(f\"min freq: {spec.minfreq()}, max freq: {spec.maxfreq()}\")"
   ]
  },
  {
   "cell_type": "markdown",
   "metadata": {},
   "source": [
    "Print the minimum and maximum amplitudes:"
   ]
  },
  {
   "cell_type": "code",
   "execution_count": null,
   "metadata": {},
   "outputs": [],
   "source": [
    "print(f\"min amp: {spec.minamp()}, max amp: {spec.maxamp()}\")"
   ]
  },
  {
   "cell_type": "markdown",
   "metadata": {},
   "source": [
    "The `keynums(quant=None, unique=None, minkey=0, maxkey=127, thresh=0)` function converts hertz frequencies into floating point key numbers *kkk.nnn*, where the fractional values *nnn* are cents above *kkk*.  The method is really a \"swiss army knife\" for converting spectral frequencies into easily understood compositional information. Here are some of the things it can do:` "
   ]
  },
  {
   "cell_type": "code",
   "execution_count": null,
   "metadata": {},
   "outputs": [],
   "source": [
    "print(spec.keynums())"
   ]
  },
  {
   "cell_type": "markdown",
   "metadata": {},
   "source": [
    "Return frequencies quantized to integer key numbers:"
   ]
  },
  {
   "cell_type": "code",
   "execution_count": null,
   "metadata": {},
   "outputs": [],
   "source": [
    "print(spec.keynums(quant=1))"
   ]
  },
  {
   "cell_type": "markdown",
   "metadata": {},
   "source": [
    "Return frequencies quantized to quarter tones:"
   ]
  },
  {
   "cell_type": "code",
   "execution_count": null,
   "metadata": {},
   "outputs": [],
   "source": [
    "print(spec.keynums(quant=.5))"
   ]
  },
  {
   "cell_type": "markdown",
   "metadata": {},
   "source": [
    "Return frequencies quantized to integer whole steps:"
   ]
  },
  {
   "cell_type": "code",
   "execution_count": null,
   "metadata": {},
   "outputs": [],
   "source": [
    "print(spec.keynums(quant=2))"
   ]
  },
  {
   "cell_type": "markdown",
   "metadata": {},
   "source": [
    "The quant value can also be a function:"
   ]
  },
  {
   "cell_type": "code",
   "execution_count": null,
   "metadata": {},
   "outputs": [],
   "source": [
    "print(spec.keynums(quant=math.floor))"
   ]
  },
  {
   "cell_type": "markdown",
   "metadata": {},
   "source": [
    "The `minkey` and `maxkey` parameters force a returning keynum to lie above a specified minimum and/or below a maximum value:"
   ]
  },
  {
   "cell_type": "code",
   "execution_count": null,
   "metadata": {},
   "outputs": [],
   "source": [
    "print(spec.keynums(quant=1, minkey=60, maxkey=80))"
   ]
  },
  {
   "cell_type": "markdown",
   "metadata": {},
   "source": [
    "If `unique` is True then any duplicate key numbers will be removed:"
   ]
  },
  {
   "cell_type": "code",
   "execution_count": null,
   "metadata": {},
   "outputs": [],
   "source": [
    "print(spec.keynums(quant=1, unique=True, minkey=60, maxkey=71))"
   ]
  },
  {
   "cell_type": "markdown",
   "metadata": {},
   "source": [
    "This example computes a pitch class set and matrix from the timbre of a log drum recording =:)"
   ]
  },
  {
   "cell_type": "code",
   "execution_count": null,
   "metadata": {},
   "outputs": [],
   "source": [
    "pcs = [k % 12 for k in spec.keynums(quant=1, unique=True, minkey=60, maxkey=71)]\n",
    "print(f\"pcs: {pcs}\\nset: {PCSet(pcs)}\\nmatrix:\")\n",
    "PCSet(pcs).matrix().print()"
   ]
  },
  {
   "cell_type": "markdown",
   "metadata": {},
   "source": [
    "### Musical example\n",
    "\n",
    "Once a spectrum has been converted to key numbers, pitch classes, or Pitches, it is in a format that any composer can imagine how music could be created from it. \n",
    "\n",
    "This simple example treats each Spectrum (log drum frame) as a chord to strum and sing."
   ]
  },
  {
   "cell_type": "code",
   "execution_count": null,
   "metadata": {},
   "outputs": [],
   "source": [
    "def strum_spectra (score, specs, dur, rhy):\n",
    "    strum = .1\n",
    "    for s in specs:\n",
    "        for k in s.keynums():\n",
    "            m = Note(time=score.now, duration=dur, pitch=k, \n",
    "                     amplitude=.7, instrument=0)\n",
    "            score.add(m)\n",
    "            yield strum\n",
    "        yield rhy - (strum * s.size())\n",
    "        \n",
    "def sing_spectra (score, specs, dur, rhy):\n",
    "    for s in specs:\n",
    "        for k in s.keynums():\n",
    "            m = Note(time=score.now, duration=rhy+.5, pitch=k, \n",
    "                     amplitude=.20, instrument=2)\n",
    "            score.add(m)\n",
    "        yield rhy\n",
    "        \n",
    "meta = MidiFile.metatrack(ins={0: Koto, 2: 52}, microdivs=2)\n",
    "score = Score(out=Seq())\n",
    "score.compose([strum_spectra(score, frames, 2, 6), \n",
    "               sing_spectra(score, frames, 2, 6)])\n",
    "\n",
    "file = MidiFile(\"spectralism.mid\", [meta, score.out]).write()\n",
    "print(f\"Wrote '{file.pathname}'.\")\n",
    "playfile(file.pathname)"
   ]
  },
  {
   "cell_type": "markdown",
   "metadata": {},
   "source": [
    "## Spectral syntheses"
   ]
  },
  {
   "cell_type": "markdown",
   "metadata": {},
   "source": [
    "### Ring Modulation\n",
    "\n",
    "In ring modulation two signals f1 and f2 are multiplied, which results in *sum and difference* tones: f1+f2 and |f1-f2|. \n",
    "\n",
    "<img src=\"support/rm1.png\" width=300 />\n",
    "\n",
    "If f1 and f2 are sine waves then the output spectrum consists of two sidebands, and if either f1 or f2 is a complex wave the output spectrum consists of the sum and difference tones for each harmonic in both signals.\n",
    "\n",
    "This results in an output signal with the following characteristics:\n",
    "\n",
    "* The output spectrum is not related to the inputs by a harmonic relationship because partials are additive not multiplicative.\n",
    "\n",
    "* f1 and f2 are not present in the resulting spectrum.\n",
    "\n",
    "* The fact that each partial in f1 produces the sum and difference with every partial in f2 can result in a very dense output spectrum."
   ]
  },
  {
   "cell_type": "markdown",
   "metadata": {},
   "source": [
    "----\n",
    "`rmspectrum(reqs1, freqs2, asfreqs=False)`\n",
    "\n",
    "The musx function `rmspectrum()` returns the ring-modulated spectrum of two input signals, either of which can be a frequency, a list of frequencies, or a Spectrum of frequencies.  The `asfreqs` parameter allows the output to be returned as either a Spectrum or a list of frequencies.\n",
    "\n",
    "The next example performs a series of spectra immediately followed by their ring modulated versions. In each input string the first note (C5) becomes first input spectrum and the remaining notes constitute the second input spectrum, resulting in the following set of frequencies.\n",
    "\n",
    "The first half notes in each measure are the input spectra and the second are their ring modulated versions:\n",
    "<img src=\"support/rm2.png\" width=550 />"
   ]
  },
  {
   "cell_type": "code",
   "execution_count": null,
   "metadata": {},
   "outputs": [],
   "source": [
    "def rmchords(score, sets, dur):\n",
    "    for set in sets:\n",
    "        res = rmspectrum(set[0], set[1:])\n",
    "        for k in set:\n",
    "            m = Note(time=score.now, pitch=keynum(k), duration=dur)\n",
    "            score.add(m)\n",
    "        # print(pitch(set, hz=True), \" -> \", pitch(res.keynums()))\n",
    "        for k in res.keynums():\n",
    "            m = Note(time=score.now + dur, pitch=k, duration=dur)\n",
    "            score.add(m)\n",
    "        yield dur*2\n",
    "\n",
    "inputs = hertz([\"C5 b\", \"C5 bf\", \"C5 a\", \"C5 af\", \"C5 g\",\n",
    "                \"C5 fs\", \"C5 f\", \"C5 e\", \"C5 ef\", \"C5 d\", \"C5 db\",\n",
    "                \"C5 ef b\", \"C5 f bf\", \"C5 f b\", \"C5 fs b\",\n",
    "                \"C5 af b\", \"C5 f fs b\", \"C5 d f g a\"])\n",
    "\n",
    "meta = MidiFile.metatrack(ins= {0: Flute})\n",
    "score = Score(out=Seq())\n",
    "score.compose(rmchords(score, inputs, .75))\n",
    "file = MidiFile(\"spectralism.mid\", [meta, score.out]).write()\n",
    "print(f\"Wrote '{file.pathname}'.\")\n",
    "playfile(file.pathname)"
   ]
  },
  {
   "cell_type": "markdown",
   "metadata": {},
   "source": [
    "### Example: ring modulation etude\n",
    "\n",
    "This etude performs the input and output spectra from ring modulation using a melody and accompaniment texture sounding a bit like a hurdy-gurdy circus ensemble. The melodic part (clarinet) performs the modulated output spectrum and the accompaniment (marimba) plays the input spectrum. The `main()` part composer sprouts the melody and accompaniment part composers passing them randomized input and output spectra:"
   ]
  },
  {
   "cell_type": "code",
   "execution_count": null,
   "metadata": {},
   "outputs": [],
   "source": [
    "def melody(score, reps, dur, set3):\n",
    "    # Create a cycle of the output set.\n",
    "    pat = Cycle(set3)\n",
    "    for _ in range(2 * reps):\n",
    "        m = Note(time=score.now, duration=dur/2, pitch=pat.next(), amplitude=.7, instrument=1)\n",
    "        score.add(m)\n",
    "        # Wait till the next note\n",
    "        yield dur\n",
    "        \n",
    "def accompaniment(score, reps, dur, set1, set2):\n",
    "    # Create a cycle of the two inputs\n",
    "    pat = Cycle([set1, set2])\n",
    "    for _ in range(reps*2):\n",
    "        # Get the next set.\n",
    "        keys = pat.next()\n",
    "        # Iterate the keys, play each as a chord.\n",
    "        for k in keys:\n",
    "            # Create a midi note at the current time.\n",
    "            m = Note(time=score.now, duration=dur, pitch=k, amplitude=.3, instrument=0)\n",
    "            # Add it to our output seq.\n",
    "            score.add(m)\n",
    "        # Wait till the next chord.\n",
    "        yield dur\n",
    "\n",
    "def main(score, reps, dur, keys):\n",
    "    # sprout the melody and accompanyment for each measure \n",
    "    num = Choose([1,2,3])\n",
    "    # scramble the cycle of fourths\n",
    "    pat = Shuffle(keys)\n",
    "    for _ in range(reps):\n",
    "        # input1 is 1, 2 or 3 notes from cycle of 4ths\n",
    "        keys1 = [pat.next() for _ in range(num.next())]\n",
    "        # input2 is same\n",
    "        keys2 = [pat.next() for _ in range(num.next())]\n",
    "        # ring modulate the inputs\n",
    "        spect = rmspectrum([hertz(k) for k in keys1], [hertz(k) for k in keys2])\n",
    "        # convert output spectrum to keynums\n",
    "        keys3 = spect.keynums(quant=1, unique=True, minkey=21, maxkey=108)\n",
    "        # sprout composers to play inputs and outputs\n",
    "        playn = pick(3,4,5)\n",
    "        score.compose(accompaniment(score, playn, dur, keys1, keys2))\n",
    "        #shuffle(keys3)\n",
    "        #print(keys2)\n",
    "        score.compose(melody(score, playn, dur, Shuffle(keys3).next(True)))\n",
    "        # do it again after composers finish\n",
    "        yield (dur * playn * 2)\n",
    "        \n",
    "meta = MidiFile.metatrack(ins={0: Marimba, 1: Clarinet})\n",
    "score = Score(out=Seq())\n",
    "keys = scale(40, 12, 5)\n",
    "rhy = intempo(.25, 74)\n",
    "score.compose( main(score, 24, rhy, keys) )\n",
    "file = MidiFile(\"spectralism.mid\", [meta, score.out]).write()\n",
    "print(f\"Wrote '{file.pathname}'.\")\n",
    "playfile(file.pathname)"
   ]
  },
  {
   "cell_type": "markdown",
   "metadata": {},
   "source": [
    "## Frequency Modulation\n",
    "\n",
    "In Frequency Modulation (FM), the frequency of a carrier wave is altered by a modulator signal:"
   ]
  },
  {
   "cell_type": "markdown",
   "metadata": {},
   "source": [
    "<img src=\"support/fm1.png\" width=200/>   <img src=\"support/fm2.png\" width=200 />"
   ]
  },
  {
   "cell_type": "markdown",
   "metadata": {},
   "source": [
    "Deviations of the carrier (c) cause spectral sidebands to appear at multiples of the modulator (m) above and below the carrier:\n",
    "\n",
    "c ± (k*m)  where k=sideband order  0,1,2...\n",
    "\n",
    "<img src=\"support/fm3.png\" width=350 />"
   ]
  },
  {
   "cell_type": "markdown",
   "metadata": {},
   "source": [
    "### The Carrier to Modulator Ratio\n",
    "\n",
    "* The carrier to modulator ratio (C:M) determines the harmonicity of the resulting spectrum.\n",
    "\n",
    "* For harmonic spectra, M must have an integer relationship to C.\n",
    "\n",
    "* Non-integer ratios produce inharmonic spectra.\n",
    "\n",
    "<img src=\"support/fm4.png\" width=400 />"
   ]
  },
  {
   "cell_type": "markdown",
   "metadata": {},
   "source": [
    "### The FM Index\n",
    "\n",
    "* The FM index (I) controls the amount of frequency deviation around the carrier: dev=m* I\n",
    "\n",
    "* The higher the index the more sidebands are active: k=round(I)+1;  spectral density=2k+1\n",
    "\n",
    "<img src=\"support/fm5.png\" width=800 />"
   ]
  },
  {
   "cell_type": "markdown",
   "metadata": {},
   "source": [
    "### Composing with FM\n",
    "\n",
    "FM is a powerful algorithm for generating spectral note sets!\n",
    "\n",
    "* It can generate inharmonic (dissonant) or harmonic (consonant) sets.\n",
    "\n",
    "* It requires only three basic parameters:\n",
    "    * carrier (center frequency)\n",
    "    * c/m ratio (carrier/modulator ratio)\n",
    "    * index (density, or width, of the spectrum.)"
   ]
  },
  {
   "cell_type": "markdown",
   "metadata": {},
   "source": [
    "`fmspectrum(carrier, ratio, index)`\n",
    "\n",
    "The musx `fmspectrum()` function returns an FM generated Spectrum given a carrier (in hertz), a carrier to modulator ratio, and an FM index.  This example produces a pure harmonic series based on 100 Hz:"
   ]
  },
  {
   "cell_type": "code",
   "execution_count": null,
   "metadata": {},
   "outputs": [],
   "source": [
    "fmspec = fmspectrum(400, 1/4, 8)\n",
    "print(fmspec.freqs())"
   ]
  },
  {
   "cell_type": "markdown",
   "metadata": {},
   "source": [
    "This example produces an inharmonic spectrum based on 100 Hz:"
   ]
  },
  {
   "cell_type": "code",
   "execution_count": null,
   "metadata": {},
   "outputs": [],
   "source": [
    "fmspec = fmspectrum(100, math.e, 3)\n",
    "print(fmspec.freqs())"
   ]
  },
  {
   "cell_type": "markdown",
   "metadata": {},
   "source": [
    "Converting the hertz values into floating point key numbers, notes and pitch classes gives us a better idea of the possible compositional materials produced by this spectrum:"
   ]
  },
  {
   "cell_type": "code",
   "execution_count": null,
   "metadata": {
    "scrolled": true
   },
   "outputs": [],
   "source": [
    "print(f\"keynums: {fmspec.keynums()}\")\n",
    "\n",
    "print(f\"\\npitches: {pitch(fmspec.keynums(minkey=36, maxkey=84, unique=True))}\")\n",
    "\n",
    "print(f\"\\npcset: {PCSet([round(k) % 12 for k in fmspec.keynums(minkey=36, maxkey=84, unique=True)])}\")"
   ]
  },
  {
   "cell_type": "markdown",
   "metadata": {},
   "source": [
    "### Example: Fluctuating Harmony\n",
    "\n",
    "Listen to a rising series of microtonal FM generated chords with random fluctuations in their c:m ratio and index:"
   ]
  },
  {
   "cell_type": "code",
   "execution_count": null,
   "metadata": {},
   "outputs": [],
   "source": [
    "def fmchords(score, center, cm1, cm2, in1, in2, rhy, tune):\n",
    "    for c in center:\n",
    "        carrier = hertz(c)\n",
    "        cmrat = between(cm1, cm2)\n",
    "        index = between(in1, in2)\n",
    "        spec = fmspectrum(carrier, cmrat, index)\n",
    "        #print(\"spectrum freqs:\", spec.freqs())\n",
    "        keys = spec.keynums(minkey=c-12, maxkey=c+12)\n",
    "        #print(\"spectrum keynums:\", keynums)\n",
    "        for k in keys:\n",
    "            note = Note(time=score.now, pitch=k, duration=rhy)\n",
    "            score.add(note)\n",
    "        yield .75\n",
    "\n",
    "meta = MidiFile.metatrack(microdivs=1)\n",
    "score = Score(out=Seq())\n",
    "centers = [i for i in range(50, 71, 2)]\n",
    "score.compose(fmchords(score, centers, 1.0, 2.0, 2.0, 3.0, .75, 4))\n",
    "file = MidiFile(\"spectralism.mid\", [meta, score.out]).write()\n",
    "print(f\"Wrote '{file.pathname}'.\")\n",
    "playfile(file.pathname)"
   ]
  },
  {
   "cell_type": "markdown",
   "metadata": {},
   "source": [
    "### Example: FM improvisor\n",
    "\n",
    "This example is an improvisor where FM spectra produce melodic gestures 70% of the time and chordal structures 30% of the time. The improvisation is controlled by a carrier frequency contour line that moves around in a semi melodic manner."
   ]
  },
  {
   "cell_type": "code",
   "execution_count": null,
   "metadata": {},
   "outputs": [],
   "source": [
    "contour = keynum(\"a4 g f e a4 b c d gs b c5 ef fs gs \"\n",
    "                 \"a5 bf g f e a5 b c d gs3 f e cs c \" \n",
    "                 \"bf5 gs5 as3 cs5 e6 f4 gs5 d6 e f g \"\n",
    "                 \"c5 b a g bf c5 cs e4 f gs d4 c b \"\n",
    "                 \"a4 e5 f g a5\")\n",
    "\n",
    "def fmimprov(score, line, beat):\n",
    "    amp = .7\n",
    "    dur = beat\n",
    "    for knum in line:\n",
    "        ismel = odds(.7)\n",
    "        rhy = pick(dur, dur / 2, dur / 4)\n",
    "        label = \"melody\" if ismel else \"chord\"\n",
    "        f, r, x = hertz(knum), between(1.1, 1.9), pick(1, 2, 3)\n",
    "        print(f\"{label} -> carrier: {f}, c/m ratio: {r}, fm index: {x}\")\n",
    "        spec = fmspectrum(f,r,x)\n",
    "        keys = spec.keynums(unique=True, minkey=knum-14, maxkey=knum+14)\n",
    "        if ismel:\n",
    "            keys = Shuffle(keys).next(True)\n",
    "        sub = rhy / len(keys) if ismel else 0\n",
    "        #print(\"melody:\" if ismel else \"chord:\", \"time=\", q.now, \"dur=\", rhy, \"keys=\", keys)\n",
    "        for i, k in enumerate(keys):\n",
    "            m = Note(time=score.now + (i * sub), duration=dur, pitch=k, amplitude=amp)\n",
    "            score.add(m)\n",
    "        yield rhy     \n",
    "\n",
    "meta = MidiFile.metatrack(microdivs=1) \n",
    "score = Score(out=Seq())\n",
    "score.compose(fmimprov(score, contour, 1))\n",
    "file = MidiFile(\"spectralism.mid\", [meta, score.out]).write()\n",
    "print(f\"Wrote '{file.pathname}'.\")\n",
    "playfile(file.pathname)"
   ]
  }
 ],
 "metadata": {
  "kernelspec": {
   "display_name": "Python 3 (ipykernel)",
   "language": "python",
   "name": "python3"
  },
  "language_info": {
   "codemirror_mode": {
    "name": "ipython",
    "version": 3
   },
   "file_extension": ".py",
   "mimetype": "text/x-python",
   "name": "python",
   "nbconvert_exporter": "python",
   "pygments_lexer": "ipython3",
   "version": "3.10.6"
  }
 },
 "nbformat": 4,
 "nbformat_minor": 4
}

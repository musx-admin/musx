{
 "cells": [
  {
   "cell_type": "markdown",
   "metadata": {},
   "source": [
    "# Change Ringing\n",
    "\n",
    "Change ringing is an algorithmic procedure for ringing church bells. It was invented in the 17th century by those clever British, who also gave these algorithms great names like Plain Bob Minimus, Grandsire Doubles, Reverse Canterbury Pleasure Place Doubles, etc. The algorithms all involve rotating different pairs of bells in the peal, but \"...the composer's job is to be sure that (s)he has selected as far as possible the most musical sequences from the many thousands available.\" I was first made aware of this compositional technique by the British composer Nicky Hind.\n",
    "\n",
    "*Note*: This notebook assumes you are familiar with the `Rotation` pattern, its 'rules' and its support function `all()`.  To learn about Rotation see the notebook [patterns.ipynb](patterns.ipynb) located in the same directory as this file.\n",
    "\n",
    "Here are a few worthwhile videos about change ringing:\n",
    "\n",
    "- [Mathematical Impressions: Change Ringing](https://www.youtube.com/watch?v=3lyDCUKsWZs):<br>A quick intro to change ringing and connection to math (6min).\n",
    "- [Change Ringing: The Beautiful Intersection Between Math and Music](https://www.youtube.com/watch?v=f5GmUxl2NaU):<br>In depth video about connections with group theory (~29min). \n",
    "- [The Craft of Bellringing](https://www.youtube.com/watch?v=yLMiK-TMyPI):<br>Long video includes history, information about bell mechanics, ringing techniques, training, etc. (~50min). \n",
    "\n",
    "<hr style=\"height:1px;color:gray\">"
   ]
  },
  {
   "cell_type": "markdown",
   "metadata": {},
   "source": [
    "Notebook imports:"
   ]
  },
  {
   "cell_type": "code",
   "execution_count": null,
   "metadata": {
    "scrolled": true
   },
   "outputs": [],
   "source": [
    "import sys\n",
    "from random import randint\n",
    "from musx import Rotation, Range, Score, Note, Seq, MidiFile, MidiEvent, version,\\\n",
    "setmidiplayer, playfile, keynum, rescale, rhythm\n",
    "from musx.midi.gm import TubularBells, Flute, OrchestralHarp\n",
    "print(f\"musx version: {version}\")"
   ]
  },
  {
   "cell_type": "markdown",
   "metadata": {},
   "source": [
    "Generate midi files and automatically play them using [fluidsynth](https://www.fluidsynth.org/download/) and the [MuseScore_General.sf3](https://ftp.osuosl.org/pub/musescore/soundfont/MuseScore_General) sound font. See [INSTALL.md](https://github.com/musx-admin/musx/blob/main/INSTALL.md) for how to install a terminal based midi player to use with musx.  If you dont have a player installed you can access the output files in the same directory as this notebook:"
   ]
  },
  {
   "cell_type": "code",
   "execution_count": null,
   "metadata": {},
   "outputs": [],
   "source": [
    "setmidiplayer(\"fluidsynth -iq -g1 /usr/local/sf/MuseScore_General.sf3\")\n",
    "print('OK!')"
   ]
  },
  {
   "cell_type": "markdown",
   "metadata": {},
   "source": [
    "Utilities for displaying and performing change ringing examples:"
   ]
  },
  {
   "cell_type": "code",
   "execution_count": null,
   "metadata": {},
   "outputs": [],
   "source": [
    "# a dictionary that maps bell names a,b,c... to key numbers 65,66,67...\n",
    "peal = dict(zip(['a','b','c','d','e','f','g'], keynum('f5 e d c b4 a g f')))\n",
    "\n",
    "default_rate = .2\n",
    "\n",
    "def printdata(data):\n",
    "    genlen = len(data[0])\n",
    "    total = len(data) * genlen\n",
    "    print(f\"num bells: {genlen}, generations: {len(data)}, bell strikes: {total}\")\n",
    "    print(f\"\\nperformance time at strike rate {default_rate} is {round(default_rate*total/60,1)} minutes.\")\n",
    "    print(f\"\\n{data}\")\n",
    "\n",
    "def playbells(data, rate=default_rate, dur=.6, amp=.5, ins=TubularBells):\n",
    "    meta = MidiFile.metatrack(ins={0: ins})\n",
    "    if (isinstance(data[0], list)): # flatten if sublist generations\n",
    "        data = [i for g in data for i in g]\n",
    "    score = Score(out=Seq())\n",
    "    def play(score):\n",
    "        for d in data:\n",
    "            k = peal[d]\n",
    "            m = Note(time=score.now, pitch=k, duration=dur, amplitude=amp)\n",
    "            score.add(m)\n",
    "            yield rate\n",
    "    score.compose(play(score))\n",
    "    file = MidiFile(\"changeringing.mid\", [meta, score.out]).write()\n",
    "    print(f\"Wrote '{file.pathname}'.\")\n",
    "    playfile(file.pathname)\n",
    "\n",
    "print(f'playbells: {playbells}')"
   ]
  },
  {
   "cell_type": "markdown",
   "metadata": {},
   "source": [
    "## Plain Hunt\n",
    "\n",
    "In change ringing rules rotational changes almost always use just the first two rule numbers, i.e. the start index and the stepping increment of the rotation. Change ringing rotates (almost always) by pairs, so the step increment between rotations is generally 2. The start index is (almost always) the mod 2 cycle.\n",
    "\n",
    "Even numbered bell hunting can be implemeted as a Rotation with two swapping rules: [[0, 2, 1] [1, 2, 1]]. The pattern that results from these rules is called the Plain Hunt. Plain Hunt causes a set of N elements to repeat after 2N changes, or N times through the cycle. \n",
    "\n",
    "As an example, here is a depiction of Plain Hunt Minumus on 4 'bells': [A, B, C, D], where 'x' marks the rotations that produces the next generation from the previous one. The first swap rule is [0, 2, 1] and it exchanges pairs  at index 0 1 then steps 2 over to swap the next pair at indexes 2 3. The second rule [1, 2, 1] does the same but starts at position 1 so alternate pairs are swapped.  For n elements, this process brings a pattern back to its original form after 2*n changes.\n",
    "\n",
    "```\n",
    "0 1 2 3\n",
    "-------\n",
    "A B C D    : generation 1\n",
    " x   x\n",
    "B A D C    : generation 2\n",
    "   x\n",
    "B D A C    : generation 3\n",
    " x   x\n",
    "D B C A    : generation 4\n",
    "   x\n",
    "D C B A    : generation 5\n",
    " x   x\n",
    "C D A B    : generation 6\n",
    "   x\n",
    "C A D B    : generation 7\n",
    " x   x\n",
    "A C B D    : generation 8\n",
    "   x\n",
    "A B C D    : generation 1 ...\n",
    "```"
   ]
  },
  {
   "cell_type": "markdown",
   "metadata": {},
   "source": [
    "The Plain Hunt is the most basic pattern for an even number of bells. This example perform the pattern on 6 bells and ends with the repetition of the first generation of notes. The generations will appear as sublists in the printout:"
   ]
  },
  {
   "cell_type": "code",
   "execution_count": null,
   "metadata": {},
   "outputs": [],
   "source": [
    "def plain_hunt():\n",
    "    return [[0, 2, 1], [1, 2, 1]]\n",
    "\n",
    "rules = plain_hunt()\n",
    "print('rules:', rules)\n",
    "\n",
    "bells = Rotation(['a','b','c','d','e','f'], rules)\n",
    "data = bells.all(grouped=True, wrapped=True)\n",
    "printdata(data)\n",
    "playbells(data)"
   ]
  },
  {
   "cell_type": "markdown",
   "metadata": {},
   "source": [
    "## Plain Bob\n",
    "\n",
    "Plain Bob builds on the Plain Hunt: n-1 repetions of cycle(0,1) followed by a \"dodge\" on the nth: cycle(0,2), which causes the rotation to start at the 2nd index instead of the first, this stops the return of the pattern, which finally repeats after 2n*(n-1) changes:"
   ]
  },
  {
   "cell_type": "code",
   "execution_count": null,
   "metadata": {},
   "outputs": [],
   "source": [
    "def dodge(start, step):\n",
    "    \"\"\"returns a 'dodged' cycle, i.e. instead of 0,1,1 its 0,x,1.\"\"\"\n",
    "    return [[0, 2, 1], [start, step, 1]]\n",
    "\n",
    "def plain_bob(n):\n",
    "    rules = []\n",
    "    for _ in range(n - 1):\n",
    "        rules.extend(plain_hunt())\n",
    "    return rules + dodge(2, 2)\n",
    "\n",
    "rules = plain_bob(4)\n",
    "print('rules:', rules)\n",
    "\n",
    "bells = Rotation(['a','b','c','d','e','f'], plain_bob(4))\n",
    "data = bells.all(grouped=True, wrapped=True)\n",
    "printdata(data)\n",
    "playbells(data)"
   ]
  },
  {
   "cell_type": "markdown",
   "metadata": {},
   "source": [
    "## Call Bob\n",
    "Call Bob builds on Plain Bob. It's n-2 repetitions of Plain Bob followed by a plain bob whose dodge is different: cycle(1,3). The total number of changes become 3*(2n*(n-1)). So for 6 bells (Call Bob Minumus), the pattern repeats after 3*60 or 180 changes."
   ]
  },
  {
   "cell_type": "code",
   "execution_count": null,
   "metadata": {},
   "outputs": [],
   "source": [
    "def call_bob(n):\n",
    "    rules = []\n",
    "    for _ in range(n - 2):\n",
    "        rules.extend(plain_bob(n))\n",
    "    for _ in range(n - 1):\n",
    "        rules.extend(plain_hunt())\n",
    "    rules.extend(dodge(1, 3))\n",
    "    return rules\n",
    "\n",
    "rules = call_bob(6)\n",
    "print('rules:', rules)\n",
    "\n",
    "bells = Rotation(['a','b','c','d','e','f'], call_bob(6))\n",
    "data = bells.all(grouped=True, wrapped=True)\n",
    "printdata(data)\n",
    "playbells(data)"
   ]
  },
  {
   "cell_type": "markdown",
   "metadata": {},
   "source": [
    "## Call Single\n",
    "\n",
    "Call Single builds on Call Bob, but the very last dodge of 1,3 is replaced by a rotation of just the last two elements, which causes the process to double (360 changes for 6 bells). \n",
    "\n",
    "<b>Note</b>: performing this example at the default rate (.2 sec) will take over 7 minutes =;) If you listen for sub-patterns and slow changes it can be a lovely experience. You will know you are halfway thru when you hear a generation of completely ascending notes (i.e. the inversion of the first generation)."
   ]
  },
  {
   "cell_type": "code",
   "execution_count": null,
   "metadata": {
    "scrolled": false
   },
   "outputs": [],
   "source": [
    "def call_single(n):\n",
    "    rules = []\n",
    "    for _ in range(2):\n",
    "        rules.extend(call_bob(n))\n",
    "    for _ in range(n - 2):\n",
    "        rules.extend(plain_bob(n))\n",
    "    for _ in range(n - 1):\n",
    "        rules.extend(plain_hunt())\n",
    "    rules.extend(dodge(n - 2, 2))\n",
    "    return rules\n",
    "\n",
    "rules = call_single(6)\n",
    "print('rules:', rules)\n",
    "\n",
    "bells = Rotation(['a','b','c','d','e','f'], call_single(6))\n",
    "data = bells.all(grouped=True, wrapped=True)\n",
    "printdata(data)\n",
    "playbells(data)"
   ]
  },
  {
   "cell_type": "markdown",
   "metadata": {},
   "source": [
    "## Grandsire \n",
    "\n",
    "Grandsire rotates an <u>odd</u> number of bells based on a simple deviation to the plain hunt. *Grandsire doubles* is rung on five bells, *grandsire triples* on seven, *grandsire caters* on nine and *grandsire cinques* on eleven:"
   ]
  },
  {
   "cell_type": "code",
   "execution_count": null,
   "metadata": {},
   "outputs": [],
   "source": [
    "def grandsire(n):\n",
    "    rules = []\n",
    "    rules.append([0, 3, 1])\n",
    "    for i in range(n - 1):\n",
    "        rules.extend([[1, 2, 1], [0, 2, 1]])\n",
    "    rules.append([1, 2, 1])\n",
    "    return rules\n",
    "\n",
    "rules = grandsire(7)\n",
    "print('rules:', rules)\n",
    "\n",
    "bells = Rotation(['a','b','c','d','e','f','g'], grandsire(7))\n",
    "data = bells.all(grouped=True)\n",
    "printdata(data)\n",
    "playbells(data)"
   ]
  },
  {
   "cell_type": "markdown",
   "metadata": {},
   "source": [
    "## Roll your own Rotations\n",
    "\n",
    "The Rotation in this example uses its own invented rules. In addition, the first element in the Rotation isn't a single value (e.g. a bell), it's a Range subpattern that descends by whole step. The subpattern has a period of 1 so it's descent will be 'spread out' over various points in the texture. Finally, the `descend()` composer treats the entire Rotation as a two voice composition by assigning the descent and accompanyment with different instruments and characteristics:"
   ]
  },
  {
   "cell_type": "code",
   "execution_count": null,
   "metadata": {},
   "outputs": [],
   "source": [
    "melody = Rotation([ Range(keynum(\"c6\"), 0, -2, period=1), \n",
    "                   'g2', 'cs4', 'b4', 'f3'], [[0, 1, 1,], [0, 1, 2]])\n",
    "\n",
    "def descend(score, reps, mel, rate):\n",
    "    amp2vel = lambda amp: int(rescale(amp, 0, 1, 0, 127))\n",
    "    prev = 0\n",
    "    for _ in range(reps):\n",
    "        x = mel.next()\n",
    "        # whole-tone descent (legato flute)\n",
    "        if isinstance(x, int):\n",
    "            k, a, d, c = x, amp2vel(.7), rate*4, 0\n",
    "            # flute creates legato effect using on and off messages so the\n",
    "            # next note starts immediately after the previous note stops.\n",
    "            score.add(MidiEvent.note_off(channel=c, keynum=prev, velocity=127, time=score.now))\n",
    "            score.add(MidiEvent.note_on(channel=c, keynum=k, velocity=a, time=score.now))\n",
    "            prev = k\n",
    "        # accompaniment (plucked harp)            \n",
    "        else:                  \n",
    "            k, a, d, c = keynum(x), .36, rate*2.5, 1\n",
    "            score.add( Note(time=score.now, pitch=k, duration=d, amplitude=a, instrument=c))\n",
    "        yield rate\n",
    "    # all done, turn last note off.\n",
    "    score.add(MidiEvent.note_off(channel=0, keynum=prev, velocity=127, time=score.now+rate))\n",
    "        \n",
    "meta = MidiFile.metatrack(ins={0: Flute, 1: OrchestralHarp})\n",
    "score = Score(out=Seq())\n",
    "score.compose( descend(score, 69, melody, .5))\n",
    "file = MidiFile(\"changeringing.mid\", [meta, score.out]).write()\n",
    "print(f\"Wrote '{file.pathname}'.\")\n",
    "playfile(file.pathname) "
   ]
  },
  {
   "cell_type": "markdown",
   "metadata": {},
   "source": [
    "This example generates chords from change ringing rules:"
   ]
  },
  {
   "cell_type": "code",
   "execution_count": null,
   "metadata": {},
   "outputs": [],
   "source": [
    "pbc = Rotation([0, 3, 4, 7, 8, 11], plain_bob(6))\n",
    "\n",
    "def plainbobchords(score, reps, pat, rate, dur, knum, amp, step):\n",
    "    for _ in range(reps):\n",
    "        k = knum\n",
    "        for i in pat.next(6):\n",
    "            if i != 0:\n",
    "                note = Note(time=score.now, duration=dur, pitch=k, amplitude=amp)\n",
    "                score.add(note)\n",
    "                k += i\n",
    "        knum += step\n",
    "        yield rate\n",
    "        \n",
    "score = Score(out=Seq())\n",
    "score.compose(plainbobchords(score, 60, pbc, .6, .6, 48, .7, 0))\n",
    "file = MidiFile(\"changeringing.mid\", score.out).write()\n",
    "print(f\"Wrote '{file.pathname}'.\")\n",
    "playfile(file.pathname)"
   ]
  },
  {
   "cell_type": "markdown",
   "metadata": {},
   "source": [
    "The same but with two layers:"
   ]
  },
  {
   "cell_type": "code",
   "execution_count": null,
   "metadata": {},
   "outputs": [],
   "source": [
    "# Two layers of plain bob chords\n",
    "\n",
    "x = Rotation([0, 3, 4, 7, 8, 11], plain_bob(6))\n",
    "y = Rotation([0, 3, 4, 7, 8, 11], plain_bob(6))\n",
    "score = Score(out=Seq())\n",
    "score.compose([plainbobchords(score, 60, x, .7, 2, 80, .3, -1),\n",
    "               plainbobchords(score, 60, y, .7, 2, 20, .3,  1)])\n",
    "file = MidiFile(\"changeringing.mid\", score.out).write()\n",
    "print(f\"Wrote '{file.pathname}'.\")\n",
    "playfile(file.pathname)"
   ]
  }
 ],
 "metadata": {
  "kernelspec": {
   "display_name": "Python 3 (ipykernel)",
   "language": "python",
   "name": "python3"
  },
  "language_info": {
   "codemirror_mode": {
    "name": "ipython",
    "version": 3
   },
   "file_extension": ".py",
   "mimetype": "text/x-python",
   "name": "python",
   "nbconvert_exporter": "python",
   "pygments_lexer": "ipython3",
   "version": "3.10.6"
  }
 },
 "nbformat": 4,
 "nbformat_minor": 4
}

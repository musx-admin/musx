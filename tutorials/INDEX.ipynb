{
 "cells": [
  {
   "cell_type": "markdown",
   "id": "edfb0e77",
   "metadata": {},
   "source": [
    "# MUSX TUTORIALS\n",
    "\n",
    "This directory contains verious tutorials that I have culled and assembled from several of my SC+Music courses.\n",
    "\n",
    "## Scores and structure\n",
    "\n",
    "- [Pitch]()\n",
    "- [Rhythm]()\n",
    "- [Score Composers](composers.ipynb)\n",
    "\n",
    "## Score generation\n",
    "\n",
    "\n",
    "## Composition\n",
    "- [Change Ringing](changringing.ipynb)\n",
    "- [Patterns](patterns.ipynb)\n",
    "- [Spectralism]()\n",
    "-\n",
    "\n",
    "## Realtime connections\n",
    "\n",
    "- [rtmidi](rtmidi.ipynb)\n",
    "- [osc/sc](osc-sc.ipynb]\n",
    "\n",
    "## Music Xml\n",
    "\n",
    "\n"
   ]
  },
  {
   "cell_type": "code",
   "execution_count": null,
   "id": "2e989bd9",
   "metadata": {},
   "outputs": [],
   "source": []
  }
 ],
 "metadata": {
  "kernelspec": {
   "display_name": "Python 3 (ipykernel)",
   "language": "python",
   "name": "python3"
  },
  "language_info": {
   "codemirror_mode": {
    "name": "ipython",
    "version": 3
   },
   "file_extension": ".py",
   "mimetype": "text/x-python",
   "name": "python",
   "nbconvert_exporter": "python",
   "pygments_lexer": "ipython3",
   "version": "3.10.6"
  }
 },
 "nbformat": 4,
 "nbformat_minor": 5
}

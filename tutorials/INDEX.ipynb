{
 "cells": [
  {
   "cell_type": "markdown",
   "id": "edfb0e77",
   "metadata": {},
   "source": [
    "# MUSX TUTORIALS\n",
    "\n",
    "This directory contains a number of tutorials I developed for two of my CS+Music courses at the UIUC.  These notebooks assume the musx package is installed in your Python environment according to the instructions in README.md. The musx demos directory contains numerous examples of the concepts introduced here.\n",
    "\n",
    "---\n",
    "\n",
    "## Elements, Scores and Structure\n",
    "\n",
    "- [Pitch](pitch.ipynb) : Pitches, key numbers, intervals, sets and matrices in musx.\n",
    "- [Rhythm](rhythm.ipynb) : Metrical time expression in musx.\n",
    "- [Score Objects](scoreobjects.ipynb) : Overview of musx objects that facilitate score generation.\n",
    "- [Part Composers](partcomposers.ipynb) : Python generators that add musical events to a musx Score.\n",
    "- [Patterns](patterns.ipynb) : Musical pattern generation in musx\n",
    "- [Midi IO](midiio.ipynb) : Introduction to reading and writing MIDI from files.\n",
    "\n",
    "## Composition and Techniques\n",
    "\n",
    "- [Mapping](mapping.ipynb) : Transforming data from one domain into 'equivalent' values in another.\n",
    "- [Randomness](randomness.ipynb) : Overview of musx tools for working with randomness.\n",
    "- [Change Ringing](changeringing.ipynb) : Composing with algorithmic procedures for ringing church bells.\n",
    "- [Spectralism](spectralism.ipynb) : The Spectrum class and composing with spectral data.\n",
    "- [Sonification](sonification.ipynb) : Composing with non-musical resources.\n",
    "- [Microtonal MIDI](micromidi.ipynb) : Composing with harmonics, microtones, just intervals.\n",
    "\n",
    "## Realtime Connections\n",
    "\n",
    "- [rtmidi](rtmidi.ipynb) : Sending and receiving real time MIDI with rtmidi. \n",
    "- [supercollider/osc](scosc.ipynb) : Sending real time OSC messages to SuperCollider for audio.\n",
    "\n",
    "## Music Xml\n",
    "\n",
    "- [MusicXML](musicxml.ipynb) : Loading and processing musical information stored in MusicXML files.\n"
   ]
  }
 ],
 "metadata": {
  "kernelspec": {
   "display_name": "Python 3 (ipykernel)",
   "language": "python",
   "name": "python3"
  },
  "language_info": {
   "codemirror_mode": {
    "name": "ipython",
    "version": 3
   },
   "file_extension": ".py",
   "mimetype": "text/x-python",
   "name": "python",
   "nbconvert_exporter": "python",
   "pygments_lexer": "ipython3",
   "version": "3.10.6"
  }
 },
 "nbformat": 4,
 "nbformat_minor": 5
}

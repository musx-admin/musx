{
 "cells": [
  {
   "cell_type": "markdown",
   "id": "edfb0e77",
   "metadata": {},
   "source": [
    "# MUSX TUTORIALS\n",
    "\n",
    "This directory contains a variety of tutorials that I developed in several of my SC+Music courses. There is no particular order to the presentations except that the first group explains basic concepts in musx.  \n",
    "\n",
    "For additional informatino see the demos and code documentation directorues.\n",
    "\n",
    "They all assume that the musx package is installed in your python enviroment according to the instuctureion in README.md\n",
    "\n",
    "This document contains a some of the tutorials I developed for two of my CS+Music classes at the UIUC.  \n",
    "\n",
    "In addition to this tutorials directory there are also many demostrations\n",
    "\n",
    "\n",
    "\n",
    "## Scores and structure\n",
    "\n",
    "- [Pitch](pitch.ipynb)\n",
    "- [Rhythm](rhythm.ipynb)\n",
    "- [Part Composers](partcomposers.ipynb)\n",
    "- [Patterns](patterns.ipynb)\n",
    "\n",
    "\n",
    "__topics/tools__\n",
    "randomness\n",
    "mapping\n",
    "\n",
    "## Score generation\n",
    "\n",
    "## Compositional Techniques\n",
    "- [Change Ringing](changringing.ipynb)\n",
    "\n",
    "- [Spectralism](spectralism.ipynb)\n",
    "- [Sonification](sonification.ipynb)\n",
    "\n",
    "## Realtime connections\n",
    "\n",
    "- [rtmidi](rtmidi.ipynb)\n",
    "- [sc/osc](scosc.ipynb)\n",
    "\n",
    "## Music Xml\n",
    "\n",
    "\n"
   ]
  },
  {
   "cell_type": "code",
   "execution_count": null,
   "id": "2e989bd9",
   "metadata": {},
   "outputs": [],
   "source": []
  }
 ],
 "metadata": {
  "kernelspec": {
   "display_name": "Python 3 (ipykernel)",
   "language": "python",
   "name": "python3"
  },
  "language_info": {
   "codemirror_mode": {
    "name": "ipython",
    "version": 3
   },
   "file_extension": ".py",
   "mimetype": "text/x-python",
   "name": "python",
   "nbconvert_exporter": "python",
   "pygments_lexer": "ipython3",
   "version": "3.10.6"
  }
 },
 "nbformat": 4,
 "nbformat_minor": 5
}

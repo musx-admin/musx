{
 "cells": [
  {
   "cell_type": "markdown",
   "metadata": {},
   "source": [
    "# Markov Processes in Music"
   ]
  },
  {
   "cell_type": "code",
   "execution_count": 1,
   "metadata": {
    "scrolled": true
   },
   "outputs": [
    {
     "name": "stdout",
     "output_type": "stream",
     "text": [
      "2.0.6\n"
     ]
    }
   ],
   "source": [
    "import musx\n",
    "from musx import markov, markov_analyze, Note, Seq, Score, MidiFile,\\\n",
    "    fit, interp, pick, between, intempo, keynum, rhythm, odds, choose, playfile\n",
    "musx.setmidiplayer(\"fluidsynth -iq -g1 /Users/taube/Music/SoundFonts/MuseScore_General.sf2\")\n",
    "print(musx.version)"
   ]
  },
  {
   "cell_type": "markdown",
   "metadata": {},
   "source": [
    "A *markov process* (markov chain) is a random process whose outcomes are affected by previous choices (<I>conditional probability</I>).\n",
    "<P ALIGN=CENTER><IMG SRC=\"img/Markov3.jpg\">\n",
    "\n",
    "Internally we can think of this process as a table of conditional probabilities: each row defines the outcome probabilities of one (or more) past choices, and outcomes of the process are fed back into the process to become the past outcome that determines the next output.\n",
    "    \n",
    "<IMG SRC=\"img/Markov4.jpg\">\n",
    "\n",
    "* Line one says: The probablity of A given A is .5 and the probabilty of B given A is .5.\n",
    "* Line two says: The probability of A given B is .2 and the probability of B given B is .8.\n",
    "\n",
    "What is the probability of sequence ABA given A? \n",
    "\n",
    "<p>P<sub>ba</sub> * P<sub>ab</sub> = .5*.2 = .1</p>\n",
    "\n",
    "\n",
    "<p>\n",
    "A Markov process can be easily represented as a <I>transition table</I> that maps inputs to outputs according to probabilities.  The total proability of each transition (row) must equal 1.0, meaning that some outcome in a row must result from the past choice(s).\n",
    "</p>\n",
    "\n",
    "<IMG SRC=\"img/Markov5.jpg\">\n",
    "\n",
    "<p>A Markov process is generic, it can be applied to anything by mapping outcome probabilties to specific data. In music this data might be pitches, rhythms, harmony, etc.</p>\n",
    "\n",
    "<IMG SRC=\"img/Markov6.jpg\">\n",
    "\n",
    "<p>\n",
    "Because past choices influence subsequent choices the process can <I>mimic</I> many types of real-world behavior. \n",
    "</p>    \n"
   ]
  },
  {
   "cell_type": "markdown",
   "metadata": {},
   "source": [
    "### The markov generator\n",
    "\n",
    "```musx.markov(rules, stop=None, initial=[])```\n",
    "\n",
    "A generator that produces its items according to a dictionary of (nth order) transition rules whose keys and values link past outcomes to a set of possible future outcomes:\n",
    "\n",
    "<code>{(*past1*, ...): [[<em>next</em>, <em>prob</em>], [<em>next</em>, <em>prob</em>], ...], \n",
    "  (*past2*, ...): [[<em>next</em>,<em>prob</em>], [<em>next</em>, <em>prob</em>], ...],\n",
    "  ...}\n",
    "</code>\n",
    "\n",
    "Each key is a tuple of one or more past outcomes and its value is a list of probability/outcome pairs that determine the next outcome."
   ]
  },
  {
   "cell_type": "code",
   "execution_count": 3,
   "metadata": {},
   "outputs": [
    {
     "name": "stdout",
     "output_type": "stream",
     "text": [
      "['c', 'a', 'b', 'a', 'c', 'a', 'c', 'a', 'c', 'c', 'a', 'b', 'a', 'b', 'a', 'c', 'a', 'c', 'c', 'a']\n"
     ]
    }
   ],
   "source": [
    "# Basic example \n",
    "rules = {('a'): [['b', 1], ['c', 3]], \n",
    "         ('b'): [['a', 1]], \n",
    "         ('c'): [['a', 5], ['c', 1], ['b', 2.5]]}\n",
    "data = [x for x in markov(rules, stop=20)]\n",
    "print(data)"
   ]
  },
  {
   "cell_type": "markdown",
   "metadata": {},
   "source": [
    "For convenience sake, in the case of first order Markov where rules only use one past event (see example above) the rule's key can be the item itself, rather than a tuple containing that item.  In addition, any future value that would otherwise be a list with a weight of 1 can be replaced by just the future value.  \n",
    "\n",
    "This next example uses both these convenieces to make a more readable version of the rules."
   ]
  },
  {
   "cell_type": "code",
   "execution_count": 4,
   "metadata": {},
   "outputs": [
    {
     "name": "stdout",
     "output_type": "stream",
     "text": [
      "['c', 'b', 'a', 'c', 'a', 'c', 'a', 'c', 'a', 'c', 'b', 'a', 'c', 'a', 'b', 'a', 'c', 'a', 'c', 'a']\n"
     ]
    }
   ],
   "source": [
    "rules = {'a': ['b', ['c', 3]], \n",
    "         'b': ['a'], \n",
    "         'c': [['a', 5], 'c', ['b', 2.5]]}\n",
    "data = [x for x in markov(rules, stop=20)]\n",
    "print(data)"
   ]
  },
  {
   "cell_type": "code",
   "execution_count": 5,
   "metadata": {},
   "outputs": [
    {
     "name": "stdout",
     "output_type": "stream",
     "text": [
      "OK!\n"
     ]
    }
   ],
   "source": [
    "# support\n",
    "\n",
    "import matplotlib.pyplot as plt\n",
    "\n",
    "def hist (items):\n",
    "    d = dict.fromkeys(items)\n",
    "    for i in d:\n",
    "        d[i] = items.count(i)\n",
    "    return d\n",
    "\n",
    "def plothist(items):\n",
    "    plt.hist(items, bins=len(dict.fromkeys(items)))\n",
    "\n",
    "def envplot(env):\n",
    "    x, y = env[::2], env[1::2]\n",
    "    plt.plot(x, y)\n",
    "    plt.xticks([0,1])\n",
    "    plt.yticks([0,1])\n",
    "    plt.show()\n",
    "\n",
    "print('OK!')"
   ]
  },
  {
   "cell_type": "markdown",
   "metadata": {},
   "source": [
    "### Markov orders and markov_analyze()\n",
    "\n",
    "One of the most interesting uses of Markov is to model real-world phenomena by analyzing its outcome (data) to extract the probability of its next outcome given N previous outcomes. Given such an analysis one can then generate 'Markov chains' with characteristics statistically similar to the original data. How similar the results will depend on the number of previous outcomes N used to determine the next outcome.\n",
    "The number N ois called the *markov order* of the process, and as the order increases, a markov process will come closer and closer to exactly mimicing the data it is derived from.\n",
    "\n",
    "The next few examples demonstrate the effect of increasing the order of a markov process.  By increasing the Markov order the process produces a melody that comes closer and closer to the original."
   ]
  },
  {
   "cell_type": "code",
   "execution_count": 6,
   "metadata": {
    "scrolled": false
   },
   "outputs": [
    {
     "name": "stdout",
     "output_type": "stream",
     "text": [
      "OK!\n"
     ]
    }
   ],
   "source": [
    "# setup\n",
    "\n",
    "melody = [60, 60, 62, 60, 65, 64, 60, 60, 62, 60, 67, 65,\n",
    "          60, 60, 72, 69, 65, 64, 62, 70, 70, 69, 65, 67, 65]\n",
    "\n",
    "def markovmelody(score, reps, rules, rate):\n",
    "    pat = musx.markov(rules)\n",
    "    for _ in range(reps):\n",
    "      score.add(musx.Note(time=score.now, pitch=next(pat), duration=rate * 1.5))\n",
    "      yield rate\n",
    "        \n",
    "def playmarkov(rules):\n",
    "    seq=Seq()\n",
    "    score=Score(out=seq)\n",
    "    score.compose( markovmelody(score, 50, rules, .2) )\n",
    "    f=MidiFile(\"markovmelody.mid\", seq).write()\n",
    "    playfile(f.pathname)\n",
    "    return rules\n",
    "    \n",
    "print('OK!')"
   ]
  },
  {
   "cell_type": "code",
   "execution_count": 15,
   "metadata": {},
   "outputs": [
    {
     "name": "stdout",
     "output_type": "stream",
     "text": [
      "markov: {(): [[60, 8], [62, 3], [65, 5], [64, 2], [67, 2], [72, 1], [69, 2], [70, 2]]}\n"
     ]
    },
    {
     "data": {
      "image/png": "[encoded data removed]",
      "text/plain": [
       "<Figure size 640x480 with 1 Axes>"
      ]
     },
     "metadata": {},
     "output_type": "display_data"
    }
   ],
   "source": [
    "# Zeroth order Markov is equivalent to weighted random selection using the choose() generator.\n",
    "rules = musx.markov_analyze(melody, order=0)\n",
    "print(\"markov:\", rules)\n",
    "a,b = zip(*rules[()])\n",
    "#print(\"choose:\", list(a), list(b))\n",
    "data = [x for x in musx.choose(list(a),list(b), 50)]\n",
    "plothist(data)\n",
    "\n",
    "def choosemelody(score, data, rate):\n",
    "    for d in data:\n",
    "      score.add(Note(time=score.now, pitch=d, duration=rate * 1.5))\n",
    "      yield rate\n",
    "seq=Seq()\n",
    "score=Score(out=seq)\n",
    "score.compose( choosemelody(score, data, .2) )\n",
    "f=MidiFile(\"markovmelody.mid\", seq).write()\n",
    "playfile(f.pathname)"
   ]
  },
  {
   "cell_type": "code",
   "execution_count": 10,
   "metadata": {},
   "outputs": [
    {
     "data": {
      "text/plain": [
       "{(60,): [[60, 3], [62, 2], [65, 1], [67, 1], [72, 1]],\n",
       " (62,): [[60, 2], [70, 1]],\n",
       " (65,): [[64, 2], [60, 2], [67, 1]],\n",
       " (64,): [[60, 1], [62, 1]],\n",
       " (67,): [[65, 2]],\n",
       " (72,): [[69, 1]],\n",
       " (69,): [[65, 2]],\n",
       " (70,): [[70, 1], [69, 1]]}"
      ]
     },
     "execution_count": 10,
     "metadata": {},
     "output_type": "execute_result"
    }
   ],
   "source": [
    "# 1st order Markov considers one past value\n",
    "\n",
    "rules = musx.markov_analyze(melody, order=1)\n",
    "playmarkov(rules)"
   ]
  },
  {
   "cell_type": "code",
   "execution_count": 11,
   "metadata": {},
   "outputs": [
    {
     "data": {
      "text/plain": [
       "{(60, 60): [[62, 2], [72, 1]],\n",
       " (60, 62): [[60, 2]],\n",
       " (62, 60): [[65, 1], [67, 1]],\n",
       " (60, 65): [[64, 1]],\n",
       " (65, 64): [[60, 1], [62, 1]],\n",
       " (64, 60): [[60, 1]],\n",
       " (60, 67): [[65, 1]],\n",
       " (67, 65): [[60, 2]],\n",
       " (65, 60): [[60, 2]],\n",
       " (60, 72): [[69, 1]],\n",
       " (72, 69): [[65, 1]],\n",
       " (69, 65): [[64, 1], [67, 1]],\n",
       " (64, 62): [[70, 1]],\n",
       " (62, 70): [[70, 1]],\n",
       " (70, 70): [[69, 1]],\n",
       " (70, 69): [[65, 1]],\n",
       " (65, 67): [[65, 1]]}"
      ]
     },
     "execution_count": 11,
     "metadata": {},
     "output_type": "execute_result"
    }
   ],
   "source": [
    "# 2nd order Markov considers two past values\n",
    "\n",
    "rules = musx.markov_analyze(melody, order=2)\n",
    "playmarkov(rules)"
   ]
  },
  {
   "cell_type": "code",
   "execution_count": 12,
   "metadata": {},
   "outputs": [
    {
     "data": {
      "text/plain": [
       "{(60, 60, 62): [[60, 2]],\n",
       " (60, 62, 60): [[65, 1], [67, 1]],\n",
       " (62, 60, 65): [[64, 1]],\n",
       " (60, 65, 64): [[60, 1]],\n",
       " (65, 64, 60): [[60, 1]],\n",
       " (64, 60, 60): [[62, 1]],\n",
       " (62, 60, 67): [[65, 1]],\n",
       " (60, 67, 65): [[60, 1]],\n",
       " (67, 65, 60): [[60, 2]],\n",
       " (65, 60, 60): [[72, 1], [62, 1]],\n",
       " (60, 60, 72): [[69, 1]],\n",
       " (60, 72, 69): [[65, 1]],\n",
       " (72, 69, 65): [[64, 1]],\n",
       " (69, 65, 64): [[62, 1]],\n",
       " (65, 64, 62): [[70, 1]],\n",
       " (64, 62, 70): [[70, 1]],\n",
       " (62, 70, 70): [[69, 1]],\n",
       " (70, 70, 69): [[65, 1]],\n",
       " (70, 69, 65): [[67, 1]],\n",
       " (69, 65, 67): [[65, 1]],\n",
       " (65, 67, 65): [[60, 1]]}"
      ]
     },
     "execution_count": 12,
     "metadata": {},
     "output_type": "execute_result"
    }
   ],
   "source": [
    "# 3rd order Markov \n",
    "\n",
    "rules = musx.markov_analyze(melody, order=3)\n",
    "playmarkov(rules)"
   ]
  },
  {
   "cell_type": "code",
   "execution_count": 13,
   "metadata": {},
   "outputs": [
    {
     "data": {
      "text/plain": [
       "{(60, 60, 62, 60): [[65, 1], [67, 1]],\n",
       " (60, 62, 60, 65): [[64, 1]],\n",
       " (62, 60, 65, 64): [[60, 1]],\n",
       " (60, 65, 64, 60): [[60, 1]],\n",
       " (65, 64, 60, 60): [[62, 1]],\n",
       " (64, 60, 60, 62): [[60, 1]],\n",
       " (60, 62, 60, 67): [[65, 1]],\n",
       " (62, 60, 67, 65): [[60, 1]],\n",
       " (60, 67, 65, 60): [[60, 1]],\n",
       " (67, 65, 60, 60): [[72, 1], [62, 1]],\n",
       " (65, 60, 60, 72): [[69, 1]],\n",
       " (60, 60, 72, 69): [[65, 1]],\n",
       " (60, 72, 69, 65): [[64, 1]],\n",
       " (72, 69, 65, 64): [[62, 1]],\n",
       " (69, 65, 64, 62): [[70, 1]],\n",
       " (65, 64, 62, 70): [[70, 1]],\n",
       " (64, 62, 70, 70): [[69, 1]],\n",
       " (62, 70, 70, 69): [[65, 1]],\n",
       " (70, 70, 69, 65): [[67, 1]],\n",
       " (70, 69, 65, 67): [[65, 1]],\n",
       " (69, 65, 67, 65): [[60, 1]],\n",
       " (65, 67, 65, 60): [[60, 1]],\n",
       " (65, 60, 60, 62): [[60, 1]]}"
      ]
     },
     "execution_count": 13,
     "metadata": {},
     "output_type": "execute_result"
    }
   ],
   "source": [
    "# 4th order Markov \n",
    "\n",
    "rules = musx.markov_analyze(melody, order=4)\n",
    "playmarkov(rules)"
   ]
  },
  {
   "cell_type": "code",
   "execution_count": 14,
   "metadata": {},
   "outputs": [
    {
     "data": {
      "text/plain": [
       "{(60, 60, 62, 60, 65): [[64, 1]],\n",
       " (60, 62, 60, 65, 64): [[60, 1]],\n",
       " (62, 60, 65, 64, 60): [[60, 1]],\n",
       " (60, 65, 64, 60, 60): [[62, 1]],\n",
       " (65, 64, 60, 60, 62): [[60, 1]],\n",
       " (64, 60, 60, 62, 60): [[67, 1]],\n",
       " (60, 60, 62, 60, 67): [[65, 1]],\n",
       " (60, 62, 60, 67, 65): [[60, 1]],\n",
       " (62, 60, 67, 65, 60): [[60, 1]],\n",
       " (60, 67, 65, 60, 60): [[72, 1]],\n",
       " (67, 65, 60, 60, 72): [[69, 1]],\n",
       " (65, 60, 60, 72, 69): [[65, 1]],\n",
       " (60, 60, 72, 69, 65): [[64, 1]],\n",
       " (60, 72, 69, 65, 64): [[62, 1]],\n",
       " (72, 69, 65, 64, 62): [[70, 1]],\n",
       " (69, 65, 64, 62, 70): [[70, 1]],\n",
       " (65, 64, 62, 70, 70): [[69, 1]],\n",
       " (64, 62, 70, 70, 69): [[65, 1]],\n",
       " (62, 70, 70, 69, 65): [[67, 1]],\n",
       " (70, 70, 69, 65, 67): [[65, 1]],\n",
       " (70, 69, 65, 67, 65): [[60, 1]],\n",
       " (69, 65, 67, 65, 60): [[60, 1]],\n",
       " (65, 67, 65, 60, 60): [[62, 1]],\n",
       " (67, 65, 60, 60, 62): [[60, 1]],\n",
       " (65, 60, 60, 62, 60): [[65, 1]]}"
      ]
     },
     "execution_count": 14,
     "metadata": {},
     "output_type": "execute_result"
    }
   ],
   "source": [
    "# 5th order Markov\n",
    "\n",
    "rules = musx.markov_analyze(melody, order=5)\n",
    "playmarkov(rules)"
   ]
  },
  {
   "cell_type": "markdown",
   "metadata": {},
   "source": [
    "## Markov Modeling"
   ]
  },
  {
   "cell_type": "markdown",
   "metadata": {},
   "source": [
    "### Markov Chanting\n",
    "\n",
    "In the crudest of terms, a Gregorian Chant is characterized by mostly stepwise motion within a range of modal degrees. From any given tone there is more likelihood that a chant will move a step up or down than leap to a tone further away. The larger the skip, the more unlikely it is to occur. In addition, certain tones, such as the\n",
    "final and tenor, have more influence over the melody than other tones. For example, in the Dorian mode the tenor note A is occasionally decorated by the B-flat directly above it. This B-flat almost always returns back to the tenor tone. In an authentic mode, the final of the mode also acts as a kind of reflecting boundary\n",
    "that redirects the melody in the opposite direction. \n",
    "\n",
    "We can mimic these stylistic tendencies using a first order Markov process:"
   ]
  },
  {
   "cell_type": "code",
   "execution_count": 16,
   "metadata": {},
   "outputs": [],
   "source": [
    "chantrules = { \n",
    "    ('d4',): [['d4', .1],  ['e4', .35], ['f4', .25], ['g4', .1], ['a4', .15]],\n",
    "    ('e4',): [['d4', .35], ['e4', .1], ['f4', .35], ['g4', .1], ['a4', 1]],\n",
    "    ('f4',): [['d4', .2], ['e4', .2], ['f4', .1], ['g4', .2], ['a4', .12]],\n",
    "    ('g4',): [['d4', .2], ['e4', .1], ['f4', .3], ['g4', .1], ['a4', .3], ['bf4', .2]],\n",
    "    ('a4',): [['d4', .1], ['e4', .1], ['f4', .2], ['g4', .3], ['a4', .2], ['bf4', .3]],\n",
    "    ('bf4',): [['a4', 1]]\n",
    "}\n",
    "\n",
    "def monk(score, reps, chant, rhy):\n",
    "    pat = markov(chant)\n",
    "    for _ in range(reps):\n",
    "        k = keynum(next(pat))\n",
    "        n = Note(time=score.now, pitch=k, duration=rhy)\n",
    "        score.add(n)\n",
    "        yield rhy\n",
    "        \n",
    "def playchant(rules):\n",
    "    m=MidiFile.metatrack(ins={0: musx.midi.gm.ChoirAahs})\n",
    "    t=Seq()\n",
    "    s=Score(out=t)\n",
    "    s.compose( monk(s, 50, chantrules, .35) )\n",
    "    f=musx.MidiFile(\"chant.mid\", [m, t]).write()\n",
    "    musx.playfile(f.pathname)\n",
    "    return rules"
   ]
  },
  {
   "cell_type": "code",
   "execution_count": 18,
   "metadata": {},
   "outputs": [
    {
     "data": {
      "text/plain": [
       "{('d4',): [['d4', 0.1], ['e4', 0.35], ['f4', 0.25], ['g4', 0.1], ['a4', 0.15]],\n",
       " ('e4',): [['d4', 0.35], ['e4', 0.1], ['f4', 0.35], ['g4', 0.1], ['a4', 1]],\n",
       " ('f4',): [['d4', 0.2], ['e4', 0.2], ['f4', 0.1], ['g4', 0.2], ['a4', 0.12]],\n",
       " ('g4',): [['d4', 0.2],\n",
       "  ['e4', 0.1],\n",
       "  ['f4', 0.3],\n",
       "  ['g4', 0.1],\n",
       "  ['a4', 0.3],\n",
       "  ['bf4', 0.2]],\n",
       " ('a4',): [['d4', 0.1],\n",
       "  ['e4', 0.1],\n",
       "  ['f4', 0.2],\n",
       "  ['g4', 0.3],\n",
       "  ['a4', 0.2],\n",
       "  ['bf4', 0.3]],\n",
       " ('bf4',): [['a4', 1]]}"
      ]
     },
     "execution_count": 18,
     "metadata": {},
     "output_type": "execute_result"
    }
   ],
   "source": [
    "playchant(chantrules)"
   ]
  },
  {
   "cell_type": "markdown",
   "metadata": {},
   "source": [
    "In the next example we can add some rhythmic interest by possibly adjusting the duration if the note is in the tonic triad and always making sure the last note is the tonic."
   ]
  },
  {
   "cell_type": "code",
   "execution_count": 19,
   "metadata": {},
   "outputs": [],
   "source": [
    "def chant_dur(knum, dur):\n",
    "    pc = knum % 12\n",
    "    if pc == 2:\n",
    "        return odds(.7, dur * 2, dur)\n",
    "    elif pc == 9:\n",
    "        return odds(.5, dur * 2, dur)\n",
    "    elif pc == 5:\n",
    "        return odds(.25, dur * 2, dur)\n",
    "    return dur\n",
    "\n",
    "def choir_monk(score, endtime, chant, dur, octave):\n",
    "    pat = markov(chant)\n",
    "    while True:\n",
    "        k = keynum(next(pat))\n",
    "        if score.elapsed > endtime and ((k % 12) == 2):\n",
    "            yield -1\n",
    "        d = chant_dur(k, dur)\n",
    "        score.add(Note(time=score.now, pitch=k+octave, amplitude=.8, duration=dur))\n",
    "        yield dur"
   ]
  },
  {
   "cell_type": "code",
   "execution_count": 21,
   "metadata": {},
   "outputs": [],
   "source": [
    "t=Seq()\n",
    "m=MidiFile.metatrack(ins={0: musx.midi.gm.ChoirAahs})\n",
    "s=Score(out=t)\n",
    "s.compose([choir_monk(s, 20, chantrules, .8, 6), \n",
    "           choir_monk(s, 20, chantrules, .8, 0) ,  \n",
    "           choir_monk(s, 20, chantrules, .8, -6)])\n",
    "f=MidiFile(\"chorus.mid\", [m,t]).write()\n",
    "playfile(f.pathname)"
   ]
  },
  {
   "cell_type": "markdown",
   "metadata": {},
   "source": [
    "### Markov Harmony\n",
    "\n",
    "A Markov process can be used to determine an interesting mix intervals that be stacked to create a chord.\n",
    "This example uses the one table to create both the harmony <i>and</i> the melodic tones above it.\n"
   ]
  },
  {
   "cell_type": "code",
   "execution_count": 23,
   "metadata": {},
   "outputs": [],
   "source": [
    "harmonyrules = {1: [[3, .4], [4, .4], [6, .1]],\n",
    "                2: [[2, .2], [3, .4], [4, .4], [6, .1]],\n",
    "                3: [[1, .2], [2, .6], [4, .4]],\n",
    "                4: [[2, .2], [3, .4], [4, .4]],\n",
    "                6: [[2, .4], [3, .2], [4, .2]]\n",
    "}\n",
    "\n",
    "def markov_harmonizer (score, length, rules, top, size, upward, rhy, dur):\n",
    "    pat = markov(rules)\n",
    "    for _ in range(length):\n",
    "        i = next(pat)\n",
    "        top = fit(top + odds(upward, i, -i), 50, 90)\n",
    "        k = top\n",
    "        for _ in range(size):\n",
    "            m = Note(time=score.now, pitch=k, duration=dur)\n",
    "            score.add(m)\n",
    "            k -= next(pat)\n",
    "        yield rhy\n",
    "\n",
    "t=Seq()\n",
    "m=MidiFile.metatrack(ins={0: musx.midi.gm.AcousticGrandPiano}) #musx.midi.gm.ChoirAahs\n",
    "s=Score(out=t)\n",
    "s.compose(markov_harmonizer(s, 25, harmonyrules, 67, 6, .7, 1.2, 1.2))\n",
    "f=MidiFile(\"harmony.mid\", [m,t]).write()\n",
    "musx.playfile(f.pathname)"
   ]
  },
  {
   "cell_type": "markdown",
   "metadata": {},
   "source": [
    "### Markov Rhythmic Patterns\n",
    "\n",
    "Imagine generating a melody for a soloist in which the rhythms are determined by weighted random selection. Even if only a few simple rhythms are used, a moments reflection tells us that since the random process can place sixteenths and dotted eighths anywhere within a beat, the sequence of rhythmic values that result will only occasionally line up with the start of a metric pulse. If a tempo curve is also applied it becomes even harder to get a sense of the underlying pulse. In this example, rhythms selected by weighted random selection (markov 0th order) are used\n",
    "in conjuction with a tempo curve.\n"
   ]
  },
  {
   "cell_type": "code",
   "execution_count": 24,
   "metadata": {},
   "outputs": [
    {
     "data": {
      "image/png": "[encoded data removed]",
      "text/plain": [
       "<Figure size 640x480 with 1 Axes>"
      ]
     },
     "metadata": {},
     "output_type": "display_data"
    }
   ],
   "source": [
    "tcurve = [0, 1, .7, .75, 1, 1]\n",
    "envplot(tcurve)"
   ]
  },
  {
   "cell_type": "code",
   "execution_count": 25,
   "metadata": {},
   "outputs": [],
   "source": [
    "\n",
    "def ranrhythm(s, leng, rhys, lo, hi):\n",
    "    tcurve = [0, 1, .7, .75, 1, 1]\n",
    "    for i in range(leng):\n",
    "        k = between(lo, hi)\n",
    "        r = next(rhys)\n",
    "        d = intempo(r, 120) * interp(i / leng, tcurve)\n",
    "        m = Note(time=s.now, pitch=k, duration=d)\n",
    "        s.add(m)\n",
    "        yield d\n",
    "\n",
    "rhythms = choose([1, .75, .5, .25])\n",
    "        \n",
    "t=Seq()\n",
    "m=MidiFile.metatrack(ins={0: musx.midi.gm.Marimba})\n",
    "s=Score(out=t)\n",
    "s.compose(ranrhythm(s, 75, rhythms, 40, 80))\n",
    "f=MidiFile(\"rhythm.mid\", [m,t]).write()\n",
    "playfile(f.pathname)"
   ]
  },
  {
   "cell_type": "markdown",
   "metadata": {},
   "source": [
    "In the next version a first order markov process produces random variations that support the perception of an underlying pulse, even in the case of a tempo curve warping the timing.\n",
    "\n",
    "|    \t| q \t| e. \t| e   \t| s     |\n",
    "|----\t|---\t|---\t|-----\t|-----\t|\n",
    "| **q**: \t| .5 \t| .75 \t| 2   \t| 2   \t|\n",
    "| **e.**: \t| 0 \t| 0 \t| 0   \t| 1   \t|\n",
    "| **e**: \t| 2 \t| 1 \t| 2 \t| 0   \t|\n",
    "| **s**: \t| 1 \t| 0 \t| 2 \t| 1   \t|"
   ]
  },
  {
   "cell_type": "code",
   "execution_count": 27,
   "metadata": {},
   "outputs": [],
   "source": [
    "rules = {\n",
    "    1: [[1, .5], [.75, .75], [.5, 2]],\n",
    "    .75: [.25],\n",
    "    .5: [[1, 2], .75, [.5, 2]],\n",
    "    .25: [1, [.5, 2], .25]\n",
    "}\n",
    "\n",
    "rhythms = markov(rules)\n",
    "\n",
    "t=Seq()\n",
    "m=MidiFile.metatrack(ins={0: musx.midi.gm.Marimba})\n",
    "s=Score(out=t)\n",
    "s.compose(ranrhythm(s, 75, rhythms, 40, 80))\n",
    "f=MidiFile(\"rhythm.mid\", [m,t]).write()\n",
    "playfile(f.pathname)"
   ]
  },
  {
   "cell_type": "markdown",
   "metadata": {},
   "source": [
    "### Markov Texture\n",
    "\n"
   ]
  },
  {
   "cell_type": "code",
   "execution_count": 28,
   "metadata": {},
   "outputs": [],
   "source": [
    "bwmotion = {\n",
    "    0:  [[0, .5],  [2, 2],   [4, 1.5], [5, 1],   [7, .5],   [9, .5],  [11, .5],  [1, .2], [3, .1], [6, .1], [8, .1],  [10, .1]],\n",
    "    1:  [[1, .5],  [3, 2],   [6, 1.5], [8, 1],   [10, 1],   [0, .2],  [2, .2],   [4, .1], [5, .1], [7, .1], [9, .1],  [11, .1]],\n",
    "    2:  [[0, 2],   [2, .5],  [4, 2],   [5, 1.5], [7, 1],    [9, .5],  [1, .2],   [3, .2], [6, .1], [8, .1], [10, .1], [11, .1]],\n",
    "    3:  [[1, 2],   [3, .5],  [6, 1.5], [8, 1],   [10, .5],  [0, .1],  [2, .2],   [4, .2], [5, .1], [7, .1], [9, .1],  [11, .1]],\n",
    "    4:  [[0, 1.5], [2, 2],   [4, .5],  [5, 2],   [7, 1.5],  [9, 1],   [11, .5],  [1, .1], [3, .2], [6, .2], [8, .1],  [10, .1]],\n",
    "    5:  [[0, 1],   [2, 1.5], [4, 2],   [5, .5],  [7, 2],    [9, 1.5], [11, 1],   [1, .1], [3, .2], [6, .2], [8, .1],  [10, .1]],\n",
    "    6:  [[1, 1.5], [3, 2],   [6, .5],  [8, 2],   [10, 1.5], [0, .1],  [2, .1],   [4, .1], [5, .2], [7, .2], [9, .1],  [11, .1]],\n",
    "    7:  [[0, .5],  [2, 1],   [4, 1.5], [5, 2],   [7, .5],   [9, 2],   [11, 1.5], [1, .1], [3, .1], [6, .2], [8, .2],  [10, .1]],\n",
    "    8:  [[1, 1],   [3, 1.5], [6, 2],   [8, .5],  [10, 2],   [0, .1],  [2, .1],   [4, .1], [5, .1], [7, .2], [9, .2],  [11, .1]],\n",
    "    9:  [[0, .5],  [2, .4],  [4, 1],   [5, 1.5], [7, 2],    [9, .5],  [11, 2],   [1, .1], [3, .1], [6, .1], [8, .2],  [10, .2]],\n",
    "    10: [[1, .5],  [3, 1],   [6, 1.5], [8, 2],   [10, .5],  [0, .1],  [2, .1],   [4, .1], [5, .1], [7, .1], [9, .2],  [11, .2]],\n",
    "    11: [[0, .5],  [2, .5],  [4, .5],  [5, 1],   [7, 1.5],  [9, 2],   [11, .5],  [1, .1], [3, .1], [6, .1], [8, .1],  [10, .2]]\n",
    "}\n",
    "\n",
    "bwoctaves = {\n",
    "    'c3': [['c3', 2],   ['c4', 1],  ['c5', .5], ['c6', .25]],\n",
    "    'c4': [['c3', 1],   ['c4', 2],  ['c5', 1],  ['c6', .5]],\n",
    "    'c5': [['c3', .5],  ['c4', 1],  ['c5', 2],  ['c6', 1]],\n",
    "    'c6': [['c3', .25], ['c4', .5], ['c5', 1],  ['c6', 2]]\n",
    "}\n",
    "\n",
    "def bwkeys(score, length, octlist, intlist, rate, chan):\n",
    "    ints = markov(intlist)\n",
    "    octs = markov(octlist)\n",
    "    reps = 0\n",
    "    octv = 0\n",
    "    for _ in range(length):\n",
    "        if reps == 0:\n",
    "            reps = pick(4, 8, 12, 16)\n",
    "            octv = keynum(next(octs))\n",
    "        intr = next(ints)\n",
    "        n = Note(time=score.now, duration=rate * 1, pitch=octv + intr, instrument=chan)\n",
    "        score.add(n)\n",
    "        reps = reps - 1\n",
    "        yield rate"
   ]
  },
  {
   "cell_type": "markdown",
   "metadata": {},
   "source": [
    "Listen to one voice:"
   ]
  },
  {
   "cell_type": "code",
   "execution_count": null,
   "metadata": {},
   "outputs": [],
   "source": [
    "t=Seq()\n",
    "m=MidiFile.metatrack(ins={0: musx.midi.gm.Marimba})\n",
    "s=Score(out=t)\n",
    "s.compose(bwkeys(s, 120, bwoctaves, bwmotion, .125, 0))\n",
    "f=MidiFile(\"texture.mid\", [m,t]).write()\n",
    "playfile(f.pathname)"
   ]
  },
  {
   "cell_type": "markdown",
   "metadata": {},
   "source": [
    "Listen to two voices:"
   ]
  },
  {
   "cell_type": "code",
   "execution_count": 30,
   "metadata": {},
   "outputs": [],
   "source": [
    "t=Seq()\n",
    "m=MidiFile.metatrack(ins={0: musx.midi.gm.Marimba, 1: musx.midi.gm.Marimba})\n",
    "s=Score(out=t)\n",
    "s.compose([[0, bwkeys(s, 120, bwoctaves, bwmotion, .125, 0)],\n",
    "          [2, bwkeys(s, 120, bwoctaves, bwmotion, .125, 1)]])\n",
    "f=MidiFile(\"texture.mid\", [m,t]).write()\n",
    "playfile(f.pathname)"
   ]
  },
  {
   "cell_type": "code",
   "execution_count": null,
   "metadata": {},
   "outputs": [],
   "source": []
  }
 ],
 "metadata": {
  "kernelspec": {
   "display_name": "venv",
   "language": "python",
   "name": "venv"
  },
  "language_info": {
   "codemirror_mode": {
    "name": "ipython",
    "version": 3
   },
   "file_extension": ".py",
   "mimetype": "text/x-python",
   "name": "python",
   "nbconvert_exporter": "python",
   "pygments_lexer": "ipython3",
   "version": "3.10.6"
  }
 },
 "nbformat": 4,
 "nbformat_minor": 4
}

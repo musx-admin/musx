{
 "cells": [
  {
   "cell_type": "markdown",
   "metadata": {},
   "source": [
    "# Markov processes\n",
    "\n",
    "This tutorial explains markov processes and how they can be used to generate musical material.\n",
    "\n",
    "Running this notebook requires a jupyter kernel that contains the musx package.  See [INSTALL.md](https://github.com/musx-admin/musx/blob/main/INSTALL.md) for directions on how to install musx in your environment.\n",
    "<hr style=\"height:1px;color:gray\">"
   ]
  },
  {
   "cell_type": "markdown",
   "metadata": {},
   "source": [
    "Python imports:"
   ]
  },
  {
   "cell_type": "code",
   "execution_count": 29,
   "metadata": {
    "scrolled": false
   },
   "outputs": [
    {
     "name": "stdout",
     "output_type": "stream",
     "text": [
      "N.N.N\n"
     ]
    }
   ],
   "source": [
    "import matplotlib.pyplot as plt\n",
    "from musx import version, setmidiplayer, playfile, Score, Seq, Note, MidiFile, \\\n",
    "    Markov, Choose, fit, interp, pick, between, intempo, keynum, rhythm, odds, playfile\n",
    "from musx.midi.gm import ChoirAahs, AcousticGrandPiano, Marimba\n",
    "print(version)"
   ]
  },
  {
   "cell_type": "markdown",
   "metadata": {},
   "source": [
    "Generate midi files and automatically play them using [fluidsynth](https://www.fluidsynth.org/download/) and the [MuseScore_General.sf3](https://ftp.osuosl.org/pub/musescore/soundfont/MuseScore_General) sound font. See [INSTALL.md](https://github.com/musx-admin/musx/blob/main/INSTALL.md) for how to install a terminal based midi player to use with musx.  If you dont have a player installed you can access the output files in the same directory as this notebook:"
   ]
  },
  {
   "cell_type": "code",
   "execution_count": 6,
   "metadata": {},
   "outputs": [],
   "source": [
    "setmidiplayer(\"fluidsynth -iq -g1 /usr/local/sf/MuseScore_General.sf3\")"
   ]
  },
  {
   "cell_type": "markdown",
   "metadata": {},
   "source": [
    "### Markov processes"
   ]
  },
  {
   "cell_type": "markdown",
   "metadata": {},
   "source": [
    "A *markov process* (markov chain) is a random process whose outcomes are affected by previous choices (<I>conditional probability</I>).\n",
    "\n",
    "<IMG SRC=\"img/markov1.jpg\">\n",
    "\n",
    "We can think of this process as a table where each row defines the outcome probabilities of one (or more) past choices. Outcomes from the process are then fed back into the process to determine the next outputs.\n",
    "    \n",
    "<IMG SRC=\"img/markov2.jpg\">\n",
    "\n",
    "* Line one: The probablity of A given A is .5 and the probabilty of B given A is .5.\n",
    "* Line two: The probability of A given B is .2 and the probability of B given B is .8.\n",
    "\n",
    "What is the probability of sequence ABA given A? \n",
    "\n",
    "<p>P<sub>ba</sub> * P<sub>ab</sub> = .5*.2 = .1</p>\n",
    "\n",
    "<p>\n",
    "A Markov process can be easily represented as a <I>transition table</I> that maps inputs to outputs according to probabilities.  The total proability of each transition (row) must equal 1.0, meaning that some outcome in a row must result from the past choice(s).\n",
    "</p>\n",
    "\n",
    "<IMG SRC=\"img/markov3.jpg\">\n",
    "\n",
    "<p>A Markov process is generic -- its outputs can be applied to many types of data sets. In music the data might be pitches, rhythms, harmonic choices, etc.  Because past choices influence subsequent choices the process can <I>mimic</I> many types of musical pattern behavior.</p>\n",
    "\n",
    "<IMG SRC=\"img/markov4.jpg\">\n",
    "    "
   ]
  },
  {
   "cell_type": "markdown",
   "metadata": {},
   "source": [
    "### The Markov pattern\n",
    "\n",
    "```musx.Markov(rules, stop=None, initial=[])```\n",
    "\n",
    "The Markov pattern class produces its items according to a dictionary of (nth order) transition rules whose keys and values link past outcomes to a set of possible future outcomes:\n",
    "\n",
    "<code>{(*past1*, ...): [[<em>next</em>, <em>prob</em>], [<em>next</em>, <em>prob</em>], ...], \n",
    "  (*past2*, ...): [[<em>next</em>,<em>prob</em>], [<em>next</em>, <em>prob</em>], ...],\n",
    "  ...}\n",
    "</code> \n",
    "\n",
    "<!--In first order markov, each key in the dictionary is a 1-tuple holding one past outcomes and the key's value is a list of probability outcome pairs.-->\n",
    "Here is a first order markov process that outputs a pattern of 'a', 'b', and 'c'. Note that the second rule says that if the previous output is 'b' then 'a' always follows -- you can veryify this by looking at output chain of values:"
   ]
  },
  {
   "cell_type": "code",
   "execution_count": null,
   "metadata": {},
   "outputs": [],
   "source": [
    "rules = {('a'): [['b', 1], ['c', 3]], \n",
    "         ('b'): [['a', 1]], \n",
    "         ('c'): [['a', 5], ['c', 1], ['b', 2.5]]}\n",
    "pat = Markov(rules)\n",
    "data = pat.next(20)\n",
    "print(data)"
   ]
  },
  {
   "cell_type": "markdown",
   "metadata": {},
   "source": [
    "For convenience sake, in the case of first order Markov where rules only use one past event (see example above) the rule's key can be the item itself, rather than a tuple containing that item.  In addition, any future value that would otherwise be a list with a weight of 1 can be replaced by just the future value.  \n",
    "\n",
    "This next example uses both these convenieces to make a simplified version of the rules."
   ]
  },
  {
   "cell_type": "code",
   "execution_count": null,
   "metadata": {},
   "outputs": [],
   "source": [
    "rules = {'a': ['b', ['c', 3]], \n",
    "         'b': ['a'], \n",
    "         'c': [['a', 5], 'c', ['b', 2.5]]}\n",
    "pat = Markov(rules)\n",
    "data = pat.next(20)\n",
    "print(data)"
   ]
  },
  {
   "cell_type": "markdown",
   "metadata": {},
   "source": [
    "### Markov orders and `Markov.analyze()`\n",
    "\n",
    "One of the most interesting uses of Markov is to model real-world phenomena by analyzing its outcomes (data) to extract the probability of its next outcome given N previous outcomes. Given such an analysis one can then generate chains with characteristics approaching original data. How similar the results will depend on the number of previous outcomes N used to determine the next outcome.\n",
    "\n",
    "The number N is called the *markov order* of the process, and as the order increases, a markov process will come closer and closer to exactly mimicing the data it is derived from.\n",
    "\n",
    "The next examples demonstrate the effect of increasing the order of a markov process to create melodies that come closer and closer to the original data."
   ]
  },
  {
   "cell_type": "markdown",
   "metadata": {},
   "source": [
    "Markov setup:"
   ]
  },
  {
   "cell_type": "code",
   "execution_count": null,
   "metadata": {
    "scrolled": false
   },
   "outputs": [],
   "source": [
    "# The melodic pitches to use\n",
    "melody = [60, 60, 62, 60, 65, 64, 60, 60, 62, 60, 67, 65,\n",
    "          60, 60, 72, 69, 65, 64, 62, 70, 70, 69, 65, 67, 65]\n",
    "        \n",
    "def playmarkov(mpat):\n",
    "    '''Generates output from a markov pattern to a midi file.'''\n",
    "    def markovmelody(score, reps, mpat, rate):\n",
    "        '''Generates notes to a score from a markov pattern.'''\n",
    "        for _ in range(reps):\n",
    "            p = mpat.next()\n",
    "            score.add(Note(time=score.now, pitch=p, duration=rate * 1.5))\n",
    "            yield rate\n",
    "    print(f\"rules: {mpat.items}\")\n",
    "    seq=Seq()\n",
    "    score=Score(out=seq)\n",
    "    score.compose( markovmelody(score, 50, mpat, .2) )\n",
    "    f=MidiFile(\"markovmelody.mid\", seq).write()\n",
    "    print(f\"Wrote '{f.pathname}'\")\n",
    "    playfile(f.pathname)\n",
    "    \n",
    "print(f'playmarkov: {playmarkov}')"
   ]
  },
  {
   "cell_type": "markdown",
   "metadata": {},
   "source": [
    "### Markov.analyze(data, order)\n",
    "\n",
    "The following examples call the  `Markov.analyze()` factory method to return patterns with increasing orders of Markov data that will increaseing identify the melody.  At what order do you recognize the melody?"
   ]
  },
  {
   "cell_type": "markdown",
   "metadata": {},
   "source": [
    "1st order Markov considers one past value, the original melody is only vaguely present:"
   ]
  },
  {
   "cell_type": "code",
   "execution_count": null,
   "metadata": {},
   "outputs": [],
   "source": [
    "markov = Markov.analyze(melody, order=1)\n",
    "playmarkov(markov)"
   ]
  },
  {
   "cell_type": "markdown",
   "metadata": {},
   "source": [
    "2nd order Markov considers two past values, some motives are recognizable:"
   ]
  },
  {
   "cell_type": "code",
   "execution_count": null,
   "metadata": {},
   "outputs": [],
   "source": [
    "rules = Markov.analyze(melody, order=2)\n",
    "playmarkov(rules)"
   ]
  },
  {
   "cell_type": "markdown",
   "metadata": {},
   "source": [
    "3rd order Markov...getting closer!"
   ]
  },
  {
   "cell_type": "code",
   "execution_count": null,
   "metadata": {},
   "outputs": [],
   "source": [
    "rules = Markov.analyze(melody, order=3)\n",
    "playmarkov(rules)"
   ]
  },
  {
   "cell_type": "markdown",
   "metadata": {},
   "source": [
    "4th order Markov, you should recogize the melody by now:"
   ]
  },
  {
   "cell_type": "code",
   "execution_count": null,
   "metadata": {},
   "outputs": [],
   "source": [
    "rules = Markov.analyze(melody, order=4)\n",
    "playmarkov(rules)"
   ]
  },
  {
   "cell_type": "markdown",
   "metadata": {},
   "source": [
    "In 5th order Markov the pattern is completely determined since there is only one possible output for each row:"
   ]
  },
  {
   "cell_type": "code",
   "execution_count": null,
   "metadata": {},
   "outputs": [],
   "source": [
    "rules = Markov.analyze(melody, order=5)\n",
    "playmarkov(rules)"
   ]
  },
  {
   "cell_type": "markdown",
   "metadata": {},
   "source": [
    "## Markov Examples"
   ]
  },
  {
   "cell_type": "markdown",
   "metadata": {},
   "source": [
    "### Markov Chanting\n",
    "\n",
    "In the crudest of terms, a Gregorian Chant is characterized by mostly stepwise motion within a range of modal degrees. From any given tone there is more likelihood that a chant will move a step up or down than leap to a tone further away. The larger the skip, the more unlikely it is to occur. In addition, certain tones, such as the\n",
    "final and tenor, have more influence over the melody than other tones. For example, in the Dorian mode the tenor note A is occasionally decorated by the B-flat directly above it. This B-flat almost always returns back to the tenor tone. In an authentic mode, the final of the mode also acts as a kind of reflecting boundary\n",
    "that redirects the melody in the opposite direction. \n",
    "\n",
    "We can loosely mimic these stylistic tendencies using a first order Markov process. (The table values were created ad hoc, a much better way would be to analyze a collection of dorian chants...):"
   ]
  },
  {
   "cell_type": "code",
   "execution_count": 10,
   "metadata": {},
   "outputs": [
    {
     "name": "stdout",
     "output_type": "stream",
     "text": [
      "OK!\n"
     ]
    }
   ],
   "source": [
    "chantrules = { \n",
    "    ('d4',): [['d4', .1],  ['e4', .35], ['f4', .25], ['g4', .1], ['a4', .15]],\n",
    "    ('e4',): [['d4', .35], ['e4', .1], ['f4', .35], ['g4', .1], ['a4', 1]],\n",
    "    ('f4',): [['d4', .2], ['e4', .2], ['f4', .1], ['g4', .2], ['a4', .12]],\n",
    "    ('g4',): [['d4', .2], ['e4', .1], ['f4', .3], ['g4', .1], ['a4', .3], ['bf4', .2]],\n",
    "    ('a4',): [['d4', .1], ['e4', .1], ['f4', .2], ['g4', .3], ['a4', .2], ['bf4', .3]],\n",
    "    ('bf4',): [['a4', 1]]\n",
    "}\n",
    "\n",
    "def monk(score, reps, chant, rhy):\n",
    "    pat = Markov(chant)\n",
    "    for _ in range(reps):\n",
    "        k = keynum(pat.next())\n",
    "        n = Note(time=score.now, pitch=k, duration=rhy)\n",
    "        score.add(n)\n",
    "        yield rhy\n",
    "        \n",
    "def playchant(rules):\n",
    "    m=MidiFile.metatrack(ins={0: ChoirAahs})\n",
    "    t=Seq()\n",
    "    s=Score(out=t)\n",
    "    s.compose( monk(s, 50, chantrules, .35) )\n",
    "    f=MidiFile(\"chant.mid\", [m, t]).write()\n",
    "    playfile(f.pathname)\n",
    "    return rules\n",
    "\n",
    "print(f\"OK!\")"
   ]
  },
  {
   "cell_type": "code",
   "execution_count": 13,
   "metadata": {},
   "outputs": [
    {
     "data": {
      "text/plain": [
       "{('d4',): [['d4', 0.1], ['e4', 0.35], ['f4', 0.25], ['g4', 0.1], ['a4', 0.15]],\n",
       " ('e4',): [['d4', 0.35], ['e4', 0.1], ['f4', 0.35], ['g4', 0.1], ['a4', 1]],\n",
       " ('f4',): [['d4', 0.2], ['e4', 0.2], ['f4', 0.1], ['g4', 0.2], ['a4', 0.12]],\n",
       " ('g4',): [['d4', 0.2],\n",
       "  ['e4', 0.1],\n",
       "  ['f4', 0.3],\n",
       "  ['g4', 0.1],\n",
       "  ['a4', 0.3],\n",
       "  ['bf4', 0.2]],\n",
       " ('a4',): [['d4', 0.1],\n",
       "  ['e4', 0.1],\n",
       "  ['f4', 0.2],\n",
       "  ['g4', 0.3],\n",
       "  ['a4', 0.2],\n",
       "  ['bf4', 0.3]],\n",
       " ('bf4',): [['a4', 1]]}"
      ]
     },
     "execution_count": 13,
     "metadata": {},
     "output_type": "execute_result"
    }
   ],
   "source": [
    "playchant(chantrules)"
   ]
  },
  {
   "cell_type": "markdown",
   "metadata": {},
   "source": [
    "In the next example we can add some rhythmic interest by possibly adjusting a note's duration if it is in the tonic triad and also forcing the last note to be the tonic."
   ]
  },
  {
   "cell_type": "code",
   "execution_count": 18,
   "metadata": {},
   "outputs": [
    {
     "name": "stdout",
     "output_type": "stream",
     "text": [
      "choir_monk: <function choir_monk at 0x12951a290>\n"
     ]
    }
   ],
   "source": [
    "def chant_dur(knum, dur):\n",
    "    pc = knum % 12\n",
    "    if pc == 2:\n",
    "        return odds(.7, dur * 2, dur)\n",
    "    elif pc == 9:\n",
    "        return odds(.5, dur * 2, dur)\n",
    "    elif pc == 5:\n",
    "        return odds(.25, dur * 2, dur)\n",
    "    return dur\n",
    "\n",
    "def choir_monk(score, endtime, chant, dur, octave):\n",
    "    pat = Markov(chant)\n",
    "    while True:\n",
    "        k = keynum(pat.next())\n",
    "        if score.elapsed > endtime and ((k % 12) == 2):\n",
    "            yield -1\n",
    "        d = chant_dur(k, dur)\n",
    "        score.add(Note(time=score.now, pitch=k+octave, amplitude=.8, duration=dur))\n",
    "        yield dur\n",
    "print(f'choir_monk: {choir_monk}')"
   ]
  },
  {
   "cell_type": "markdown",
   "metadata": {},
   "source": [
    "For fun will run three monks simultaneously at the interval of a tritone."
   ]
  },
  {
   "cell_type": "code",
   "execution_count": 19,
   "metadata": {},
   "outputs": [],
   "source": [
    "t=Seq()\n",
    "m=MidiFile.metatrack(ins={0: ChoirAahs})\n",
    "s=Score(out=t)\n",
    "s.compose([choir_monk(s, 20, chantrules, .8, 6), \n",
    "           choir_monk(s, 20, chantrules, .8, 0) ,  \n",
    "           choir_monk(s, 20, chantrules, .8, -6)])\n",
    "f=MidiFile(\"chorus.mid\", [m,t]).write()\n",
    "print(f\"Wrote '{f.pathname}'\")\n",
    "playfile(f.pathname)"
   ]
  },
  {
   "cell_type": "markdown",
   "metadata": {},
   "source": [
    "### Markov Harmony\n",
    "\n",
    "A Markov process can be used to determine an interesting mix intervals that can be stacked to create different chords.\n",
    "This example uses an ad hoc table to compose harmony and melody vaguely reminiscent of Messiaen's modes."
   ]
  },
  {
   "cell_type": "code",
   "execution_count": 25,
   "metadata": {},
   "outputs": [],
   "source": [
    "harmonyrules = {1: [[3, .4], [4, .4], [6, .1]],\n",
    "                2: [[2, .2], [3, .4], [4, .4], [6, .1]],\n",
    "                3: [[1, .2], [2, .6], [4, .4]],\n",
    "                4: [[2, .2], [3, .4], [4, .4]],\n",
    "                6: [[2, .4], [3, .2], [4, .2]]\n",
    "}\n",
    "\n",
    "def markov_harmonizer (score, length, rules, top, size, upward, rhy, dur):\n",
    "    pat = Markov(rules)\n",
    "    for _ in range(length):\n",
    "        i = pat.next()\n",
    "        top = fit(top + odds(upward, i, -i), 50, 90)\n",
    "        k = top\n",
    "        for _ in range(size):\n",
    "            m = Note(time=score.now, pitch=k, duration=dur)\n",
    "            score.add(m)\n",
    "            k -= pat.next()\n",
    "        yield rhy\n",
    "\n",
    "t=Seq()\n",
    "m=MidiFile.metatrack(ins={0: AcousticGrandPiano}) \n",
    "s=Score(out=t)\n",
    "s.compose(markov_harmonizer(s, 25, harmonyrules, 67, 6, .7, 1.2, 1.2))\n",
    "f=MidiFile(\"harmony.mid\", [m,t]).write()\n",
    "print(f\"Wrote '{f.pathname}'\")\n",
    "playfile(f.pathname)"
   ]
  },
  {
   "cell_type": "markdown",
   "metadata": {},
   "source": [
    "### Markov Rhythmic Patterns\n",
    "\n",
    "Imagine generating a melody for a soloist in which the rhythms are determined by weighted random selection. Even if only a few simple rhythms are used, the 'metric pulse' of the process will be weak since sixteenths and dotted eighths can appear anywhere, only occasionally lining up with the start of a metric pulse. If a tempo curve is also applied the beat becomes even more obscured."
   ]
  },
  {
   "cell_type": "code",
   "execution_count": 43,
   "metadata": {},
   "outputs": [
    {
     "name": "stdout",
     "output_type": "stream",
     "text": [
      "Wrote 'rhythm.mid'\n"
     ]
    }
   ],
   "source": [
    "def ranrhythm(s, leng, rhys, lo, hi):\n",
    "    tcurve = [0, 1, .7, .75, 1, 1]\n",
    "    for i in range(leng):\n",
    "        k = between(lo, hi)\n",
    "        r = rhys.next()\n",
    "        d = intempo(r, 120) * interp(i / leng, tcurve)\n",
    "        m = Note(time=s.now, pitch=k, duration=d)\n",
    "        s.add(m)\n",
    "        yield d\n",
    "\n",
    "# rhythms are random\n",
    "rhythms = Choose([1, .75, .5, .25])\n",
    "        \n",
    "t=Seq()\n",
    "m=MidiFile.metatrack(ins={0: Marimba})\n",
    "s=Score(out=t)\n",
    "s.compose(ranrhythm(s, 75, rhythms, 40, 80))\n",
    "f=MidiFile(\"rhythm.mid\", [m,t]).write()\n",
    "print(f\"Wrote '{f.pathname}'\")\n",
    "playfile(f.pathname)"
   ]
  },
  {
   "cell_type": "markdown",
   "metadata": {},
   "source": [
    "In the next version a first order markov process produces random variations that support the perception of an underlying pulse, even in the case of a tempo curve warping the timing. Table labels are Q=quarter, E.=dotted eighth, E=eighth, S=sixteenth, and table values are probability weights.\n",
    "\n",
    "<table>\n",
    "    <tr> <td> </td>   <td>Q</td>   <td>E.</td>   <td>E</td>  <td>S</td>  </tr>\n",
    "    <tr> <td>Q</td>   <td>.5</td>  <td>.75</td>  <td>2</td>  <td>2</td>  </tr>\n",
    "    <tr> <td>E.</td>  <td>0</td>   <td>0</td>    <td>0</td>  <td>1</td>  </tr>\n",
    "    <tr> <td>E</td>   <td>2</td>   <td>1</td>    <td>2</td>  <td>0</td>  </tr> \n",
    "    <tr> <td>S</td>   <td>1</td>   <td>0</td>    <td>2</td>  <td>1</td>  </tr> \n",
    "    <tfoot></tfoot>\n",
    "</table>"
   ]
  },
  {
   "cell_type": "code",
   "execution_count": 44,
   "metadata": {},
   "outputs": [
    {
     "name": "stdout",
     "output_type": "stream",
     "text": [
      "Wrote 'rhythm.mid'\n"
     ]
    }
   ],
   "source": [
    "rules = {\n",
    "    1: [[1, .5], [.75, .75], [.5, 2]],\n",
    "    .75: [.25],\n",
    "    .5: [[1, 2], .75, [.5, 2]],\n",
    "    .25: [1, [.5, 2], .25]\n",
    "}\n",
    "\n",
    "# ryhthms are \n",
    "rhythms = Markov(rules)\n",
    "\n",
    "t=Seq()\n",
    "m=MidiFile.metatrack(ins={0: Marimba})\n",
    "s=Score(out=t)\n",
    "s.compose(ranrhythm(s, 75, rhythms, 40, 80))\n",
    "f=MidiFile(\"rhythm.mid\", [m,t]).write()\n",
    "print(f\"Wrote '{f.pathname}'\")\n",
    "playfile(f.pathname)"
   ]
  },
  {
   "cell_type": "markdown",
   "metadata": {},
   "source": [
    "### Markov Texture\n",
    "\n",
    "This example is a take on keyboard motions between black keys and white keys that can be found in some of Ligeti's works. THe choice of octives is also made using a markov process."
   ]
  },
  {
   "cell_type": "code",
   "execution_count": 38,
   "metadata": {},
   "outputs": [
    {
     "name": "stdout",
     "output_type": "stream",
     "text": [
      "bwkeys: <function bwkeys at 0x1296c7520>\n"
     ]
    }
   ],
   "source": [
    "bwmotion = {\n",
    "    0:  [[0, .5],  [2, 2],   [4, 1.5], [5, 1],   [7, .5],   [9, .5],  [11, .5],  [1, .2], [3, .1], [6, .1], [8, .1],  [10, .1]],\n",
    "    1:  [[1, .5],  [3, 2],   [6, 1.5], [8, 1],   [10, 1],   [0, .2],  [2, .2],   [4, .1], [5, .1], [7, .1], [9, .1],  [11, .1]],\n",
    "    2:  [[0, 2],   [2, .5],  [4, 2],   [5, 1.5], [7, 1],    [9, .5],  [1, .2],   [3, .2], [6, .1], [8, .1], [10, .1], [11, .1]],\n",
    "    3:  [[1, 2],   [3, .5],  [6, 1.5], [8, 1],   [10, .5],  [0, .1],  [2, .2],   [4, .2], [5, .1], [7, .1], [9, .1],  [11, .1]],\n",
    "    4:  [[0, 1.5], [2, 2],   [4, .5],  [5, 2],   [7, 1.5],  [9, 1],   [11, .5],  [1, .1], [3, .2], [6, .2], [8, .1],  [10, .1]],\n",
    "    5:  [[0, 1],   [2, 1.5], [4, 2],   [5, .5],  [7, 2],    [9, 1.5], [11, 1],   [1, .1], [3, .2], [6, .2], [8, .1],  [10, .1]],\n",
    "    6:  [[1, 1.5], [3, 2],   [6, .5],  [8, 2],   [10, 1.5], [0, .1],  [2, .1],   [4, .1], [5, .2], [7, .2], [9, .1],  [11, .1]],\n",
    "    7:  [[0, .5],  [2, 1],   [4, 1.5], [5, 2],   [7, .5],   [9, 2],   [11, 1.5], [1, .1], [3, .1], [6, .2], [8, .2],  [10, .1]],\n",
    "    8:  [[1, 1],   [3, 1.5], [6, 2],   [8, .5],  [10, 2],   [0, .1],  [2, .1],   [4, .1], [5, .1], [7, .2], [9, .2],  [11, .1]],\n",
    "    9:  [[0, .5],  [2, .4],  [4, 1],   [5, 1.5], [7, 2],    [9, .5],  [11, 2],   [1, .1], [3, .1], [6, .1], [8, .2],  [10, .2]],\n",
    "    10: [[1, .5],  [3, 1],   [6, 1.5], [8, 2],   [10, .5],  [0, .1],  [2, .1],   [4, .1], [5, .1], [7, .1], [9, .2],  [11, .2]],\n",
    "    11: [[0, .5],  [2, .5],  [4, .5],  [5, 1],   [7, 1.5],  [9, 2],   [11, .5],  [1, .1], [3, .1], [6, .1], [8, .1],  [10, .2]]\n",
    "}\n",
    "\n",
    "bwoctaves = {\n",
    "    'c3': [['c3', 2],   ['c4', 1],  ['c5', .5], ['c6', .25]],\n",
    "    'c4': [['c3', 1],   ['c4', 2],  ['c5', 1],  ['c6', .5]],\n",
    "    'c5': [['c3', .5],  ['c4', 1],  ['c5', 2],  ['c6', 1]],\n",
    "    'c6': [['c3', .25], ['c4', .5], ['c5', 1],  ['c6', 2]]\n",
    "}\n",
    "\n",
    "def bwkeys(score, length, octlist, intlist, rate, chan):\n",
    "    ints = Markov(intlist)\n",
    "    octs = Markov(octlist)\n",
    "    reps = 0\n",
    "    octv = 0\n",
    "    for _ in range(length):\n",
    "        if reps == 0:\n",
    "            reps = pick(4, 8, 12, 16)\n",
    "            octv = keynum(octs.next())\n",
    "        intr = ints.next()\n",
    "        n = Note(time=score.now, duration=rate * 1, pitch=octv + intr, instrument=chan)\n",
    "        score.add(n)\n",
    "        reps = reps - 1\n",
    "        yield rate\n",
    "\n",
    "print(f'bwkeys: {bwkeys}')"
   ]
  },
  {
   "cell_type": "markdown",
   "metadata": {},
   "source": [
    "Listen to one voice:"
   ]
  },
  {
   "cell_type": "code",
   "execution_count": 41,
   "metadata": {},
   "outputs": [
    {
     "name": "stdout",
     "output_type": "stream",
     "text": [
      "Wrote 'texture.mid'\n"
     ]
    }
   ],
   "source": [
    "t=Seq()\n",
    "m=MidiFile.metatrack(ins={0: Marimba})\n",
    "s=Score(out=t)\n",
    "s.compose(bwkeys(s, 120, bwoctaves, bwmotion, .125, 0))\n",
    "f=MidiFile(\"texture.mid\", [m,t]).write()\n",
    "print(f\"Wrote '{f.pathname}'\")\n",
    "playfile(f.pathname)"
   ]
  },
  {
   "cell_type": "markdown",
   "metadata": {},
   "source": [
    "Listen to two voices:"
   ]
  },
  {
   "cell_type": "code",
   "execution_count": 40,
   "metadata": {},
   "outputs": [],
   "source": [
    "t=Seq()\n",
    "m=MidiFile.metatrack(ins={0: Marimba, 1: Marimba})\n",
    "s=Score(out=t)\n",
    "s.compose([[0, bwkeys(s, 120, bwoctaves, bwmotion, .125, 0)],\n",
    "          [2, bwkeys(s, 120, bwoctaves, bwmotion, .125, 1)]])\n",
    "f=MidiFile(\"texture.mid\", [m,t]).write()\n",
    "print(f\"Wrote '{f.pathname}'\")\n",
    "playfile(f.pathname)"
   ]
  }
 ],
 "metadata": {
  "kernelspec": {
   "display_name": "Python 3 (ipykernel)",
   "language": "python",
   "name": "python3"
  },
  "language_info": {
   "codemirror_mode": {
    "name": "ipython",
    "version": 3
   },
   "file_extension": ".py",
   "mimetype": "text/x-python",
   "name": "python",
   "nbconvert_exporter": "python",
   "pygments_lexer": "ipython3",
   "version": "3.10.6"
  }
 },
 "nbformat": 4,
 "nbformat_minor": 4
}

{
 "cells": [
  {
   "cell_type": "markdown",
   "metadata": {},
   "source": [
    "# Introduction to Score Analysis\n",
    "\n",
    "<!-- list some kinds of melodic analyis.\n",
    "if we have a MusicXLM file x.mxl how do we know it contains anythin melodic? How do we recognize a melody?\n",
    "how would we implment an analysis given our score struture?\n",
    "-->"
   ]
  },
  {
   "cell_type": "code",
   "execution_count": 1,
   "metadata": {
    "scrolled": true
   },
   "outputs": [
    {
     "name": "stdout",
     "output_type": "stream",
     "text": [
      "OK!\n"
     ]
    }
   ],
   "source": [
    "# Setup \n",
    "\n",
    "import sys\n",
    "sys.path.append('/Users/taube/Classes/mus105/Sources')\n",
    "import score\n",
    "from theory import TimeLine, TimePoint, Transition, Analysis, Rule, timepoints\n",
    "\n",
    "# load a few demo scores\n",
    "\n",
    "laitz = score.import_score(\"./Laitz_p84D.musicxml\")\n",
    "species1 = score.import_score(\"./1-001-B_zawang2.musicxml\")\n",
    "species2 = score.import_score(\"./2-000-A_sz18.musicxml\")\n",
    "bach = score.import_score(\"./Aus_meines_Herzens_Grunde.xml\")\n",
    "chopin = score.import_score(\"./chopin_prelude_op28_no20.xml\")\n",
    "print(\"OK!\")"
   ]
  },
  {
   "cell_type": "markdown",
   "metadata": {},
   "source": [
    "In order to perform score analysis we need to extract note information from the score and perform analytical operations on it.\n",
    "\n",
    "<!-- What kinds of analysis can be performed on a melodic score? Given a score object how do we access the melodic data? -->"
   ]
  },
  {
   "cell_type": "code",
   "execution_count": 2,
   "metadata": {},
   "outputs": [
    {
     "data": {
      "text/plain": [
       "{'work_title': 'Untitled',\n",
       " 'main_key': Key(1, \"Major\"),\n",
       " 'main_meter': Meter(4, 4),\n",
       " 'voices_melodic': True,\n",
       " 'voices_static': True,\n",
       " 'voice_ids': ['P1.1']}"
      ]
     },
     "execution_count": 2,
     "metadata": {},
     "output_type": "execute_result"
    }
   ],
   "source": [
    "laitz.metadata"
   ]
  },
  {
   "cell_type": "code",
   "execution_count": 3,
   "metadata": {},
   "outputs": [
    {
     "name": "stdout",
     "output_type": "stream",
     "text": [
      "<Score: \"Untitled\">\n",
      "  <Part: P1>\n",
      "    <Staff: 1>\n",
      "      <Bar: 1 Treble G-Major 4/4 STANDARD>\n",
      "        <Voice: 1>\n",
      "          <Note: G4 1/4>\n",
      "          <Note: A4 1/4>\n",
      "          <Note: C5 1/4>\n",
      "          <Note: B4 1/4>\n",
      "      <Bar: 2 STANDARD>\n",
      "        <Voice: 1>\n",
      "          <Note: A4 1/4>\n",
      "          <Note: B4 1/4>\n",
      "          <Note: D5 1/4>\n",
      "          <Note: C5 1/4>\n",
      "      <Bar: 3 STANDARD>\n",
      "        <Voice: 1>\n",
      "          <Note: B4 1/4>\n",
      "          <Note: C5 1/4>\n",
      "          <Note: E5 1/4>\n",
      "          <Note: D5 1/4>\n",
      "      <Bar: 4 FINAL_DOUBLE>\n",
      "        <Voice: 1>\n",
      "          <Note: C5 1/4>\n",
      "          <Note: F#4 1/4>\n",
      "          <Note: G4 1/2>\n"
     ]
    }
   ],
   "source": [
    "laitz.print()"
   ]
  },
  {
   "cell_type": "code",
   "execution_count": 4,
   "metadata": {
    "scrolled": true
   },
   "outputs": [],
   "source": [
    "# A naive implementation of a note accessor for scores\n",
    "\n",
    "def notes(score, p, s, v):\n",
    "    data = []\n",
    "    for b in score.parts[p].staffs[s]:\n",
    "        data += b.voices[v]\n",
    "    return data"
   ]
  },
  {
   "cell_type": "code",
   "execution_count": 5,
   "metadata": {
    "scrolled": true
   },
   "outputs": [
    {
     "data": {
      "text/plain": [
       "[<Note: G4 1/4>,\n",
       " <Note: A4 1/4>,\n",
       " <Note: C5 1/4>,\n",
       " <Note: B4 1/4>,\n",
       " <Note: A4 1/4>,\n",
       " <Note: B4 1/4>,\n",
       " <Note: D5 1/4>,\n",
       " <Note: C5 1/4>,\n",
       " <Note: B4 1/4>,\n",
       " <Note: C5 1/4>,\n",
       " <Note: E5 1/4>,\n",
       " <Note: D5 1/4>,\n",
       " <Note: C5 1/4>,\n",
       " <Note: F#4 1/4>,\n",
       " <Note: G4 1/2>]"
      ]
     },
     "execution_count": 5,
     "metadata": {},
     "output_type": "execute_result"
    }
   ],
   "source": [
    "notes(laitz, 0, 0, 0)"
   ]
  },
  {
   "cell_type": "code",
   "execution_count": 6,
   "metadata": {},
   "outputs": [
    {
     "data": {
      "text/plain": [
       "{'work_title': 'Untitled',\n",
       " 'main_key': Key(-3, \"Major\"),\n",
       " 'main_meter': Meter(4, 4),\n",
       " 'voices_melodic': True,\n",
       " 'voices_static': True,\n",
       " 'voice_ids': ['P1.1', 'P2.1']}"
      ]
     },
     "execution_count": 6,
     "metadata": {},
     "output_type": "execute_result"
    }
   ],
   "source": [
    "species1.metadata"
   ]
  },
  {
   "cell_type": "code",
   "execution_count": 7,
   "metadata": {},
   "outputs": [
    {
     "name": "stdout",
     "output_type": "stream",
     "text": [
      "<Score: \"Untitled\">\n",
      "  <Part: P1>\n",
      "    <Staff: 1>\n",
      "      <Bar: 1 Treble Ef-Major 4/4 STANDARD>\n",
      "        <Voice: 1>\n",
      "          <Note: Eb4 1/1>\n",
      "      <Bar: 2 STANDARD>\n",
      "        <Voice: 1>\n",
      "          <Note: G4 1/1>\n",
      "      <Bar: 3 STANDARD>\n",
      "        <Voice: 1>\n",
      "          <Note: F4 1/1>\n",
      "      <Bar: 4 STANDARD>\n",
      "        <Voice: 1>\n",
      "          <Note: Bb4 1/1>\n",
      "      <Bar: 5 STANDARD>\n",
      "        <Voice: 1>\n",
      "          <Note: C5 1/1>\n",
      "      <Bar: 6 STANDARD>\n",
      "        <Voice: 1>\n",
      "          <Note: Bb4 1/1>\n",
      "      <Bar: 7 STANDARD>\n",
      "        <Voice: 1>\n",
      "          <Note: G4 1/1>\n",
      "      <Bar: 8 STANDARD>\n",
      "        <Voice: 1>\n",
      "          <Note: Ab4 1/1>\n",
      "      <Bar: 9 STANDARD>\n",
      "        <Voice: 1>\n",
      "          <Note: F4 1/1>\n",
      "      <Bar: 10 FINAL_DOUBLE>\n",
      "        <Voice: 1>\n",
      "          <Note: Eb4 1/1>\n",
      "  <Part: P2>\n",
      "    <Staff: 1>\n",
      "      <Bar: 1 Bass Ef-Major 4/4 STANDARD>\n",
      "        <Voice: 1>\n",
      "          <Note: Eb3 1/1>\n",
      "      <Bar: 2 STANDARD>\n",
      "        <Voice: 1>\n",
      "          <Note: C3 1/1>\n",
      "      <Bar: 3 STANDARD>\n",
      "        <Voice: 1>\n",
      "          <Note: D3 1/1>\n",
      "      <Bar: 4 STANDARD>\n",
      "        <Voice: 1>\n",
      "          <Note: D3 1/1>\n",
      "      <Bar: 5 STANDARD>\n",
      "        <Voice: 1>\n",
      "          <Note: Eb3 1/1>\n",
      "      <Bar: 6 STANDARD>\n",
      "        <Voice: 1>\n",
      "          <Note: D3 1/1>\n",
      "      <Bar: 7 STANDARD>\n",
      "        <Voice: 1>\n",
      "          <Note: Eb3 1/1>\n",
      "      <Bar: 8 STANDARD>\n",
      "        <Voice: 1>\n",
      "          <Note: C3 1/1>\n",
      "      <Bar: 9 STANDARD>\n",
      "        <Voice: 1>\n",
      "          <Note: D3 1/1>\n",
      "      <Bar: 10 FINAL_DOUBLE>\n",
      "        <Voice: 1>\n",
      "          <Note: Eb3 1/1>\n"
     ]
    }
   ],
   "source": [
    "species1.print()"
   ]
  },
  {
   "cell_type": "markdown",
   "metadata": {},
   "source": [
    "Using our notes() accessor we can perform melodic analysis on both voices."
   ]
  },
  {
   "cell_type": "code",
   "execution_count": 32,
   "metadata": {},
   "outputs": [
    {
     "data": {
      "text/plain": [
       "[<Note: Eb4 1/1>,\n",
       " <Note: G4 1/1>,\n",
       " <Note: F4 1/1>,\n",
       " <Note: Bb4 1/1>,\n",
       " <Note: C5 1/1>,\n",
       " <Note: Bb4 1/1>,\n",
       " <Note: G4 1/1>,\n",
       " <Note: Ab4 1/1>,\n",
       " <Note: F4 1/1>,\n",
       " <Note: Eb4 1/1>]"
      ]
     },
     "execution_count": 32,
     "metadata": {},
     "output_type": "execute_result"
    }
   ],
   "source": [
    "mel1 = notes(species1, 0, 0, 0)\n",
    "mel1"
   ]
  },
  {
   "cell_type": "markdown",
   "metadata": {},
   "source": [
    "Simple analysis example: compute the intervals in both melodies"
   ]
  },
  {
   "cell_type": "code",
   "execution_count": 33,
   "metadata": {},
   "outputs": [
    {
     "data": {
      "text/plain": [
       "[Interval(\"M3\"),\n",
       " Interval(\"-M2\"),\n",
       " Interval(\"P4\"),\n",
       " Interval(\"M2\"),\n",
       " Interval(\"-M2\"),\n",
       " Interval(\"-m3\"),\n",
       " Interval(\"m2\"),\n",
       " Interval(\"-m3\"),\n",
       " Interval(\"-M2\")]"
      ]
     },
     "execution_count": 33,
     "metadata": {},
     "output_type": "execute_result"
    }
   ],
   "source": [
    "[score.Interval(a.pitch, b.pitch) for a, b in zip(mel1, mel1[1:])]"
   ]
  },
  {
   "cell_type": "code",
   "execution_count": 36,
   "metadata": {},
   "outputs": [
    {
     "data": {
      "text/plain": [
       "[<Note: Eb3 1/1>,\n",
       " <Note: C3 1/1>,\n",
       " <Note: D3 1/1>,\n",
       " <Note: D3 1/1>,\n",
       " <Note: Eb3 1/1>,\n",
       " <Note: D3 1/1>,\n",
       " <Note: Eb3 1/1>,\n",
       " <Note: C3 1/1>,\n",
       " <Note: D3 1/1>,\n",
       " <Note: Eb3 1/1>]"
      ]
     },
     "execution_count": 36,
     "metadata": {},
     "output_type": "execute_result"
    }
   ],
   "source": [
    "mel2 = notes(species1, 1, 0, 0)\n",
    "mel2"
   ]
  },
  {
   "cell_type": "code",
   "execution_count": 37,
   "metadata": {},
   "outputs": [
    {
     "data": {
      "text/plain": [
       "[Interval(\"-m3\"),\n",
       " Interval(\"M2\"),\n",
       " Interval(\"P1\"),\n",
       " Interval(\"m2\"),\n",
       " Interval(\"-m2\"),\n",
       " Interval(\"m2\"),\n",
       " Interval(\"-m3\"),\n",
       " Interval(\"M2\"),\n",
       " Interval(\"m2\")]"
      ]
     },
     "execution_count": 37,
     "metadata": {},
     "output_type": "execute_result"
    }
   ],
   "source": [
    "[score.Interval(a.pitch, b.pitch) for a, b in zip(mel2, mel2[1:])]"
   ]
  },
  {
   "cell_type": "markdown",
   "metadata": {},
   "source": [
    "What about a vertical analysis? How do we access simultaneous harmonic data?\n",
    "<!-- [x for x in zip(notes(species1, 0, 0, 0), notes(species1, 1, 0, 0))] -->"
   ]
  },
  {
   "cell_type": "code",
   "execution_count": 10,
   "metadata": {
    "scrolled": true
   },
   "outputs": [
    {
     "data": {
      "text/plain": [
       "[(<Note: Eb4 1/1>, <Note: Eb3 1/1>),\n",
       " (<Note: G4 1/1>, <Note: C3 1/1>),\n",
       " (<Note: F4 1/1>, <Note: D3 1/1>),\n",
       " (<Note: Bb4 1/1>, <Note: D3 1/1>),\n",
       " (<Note: C5 1/1>, <Note: Eb3 1/1>),\n",
       " (<Note: Bb4 1/1>, <Note: D3 1/1>),\n",
       " (<Note: G4 1/1>, <Note: Eb3 1/1>),\n",
       " (<Note: Ab4 1/1>, <Note: C3 1/1>),\n",
       " (<Note: F4 1/1>, <Note: D3 1/1>),\n",
       " (<Note: Eb4 1/1>, <Note: Eb3 1/1>)]"
      ]
     },
     "execution_count": 10,
     "metadata": {},
     "output_type": "execute_result"
    }
   ],
   "source": [
    "[x for x in zip(notes(species1, 0, 0, 0), notes(species1, 1, 0, 0))]"
   ]
  },
  {
   "cell_type": "markdown",
   "metadata": {},
   "source": [
    "Try a second species score"
   ]
  },
  {
   "cell_type": "code",
   "execution_count": 11,
   "metadata": {},
   "outputs": [
    {
     "data": {
      "text/plain": [
       "[(<Note: C4 1/2>, <Note: C3 1/1>),\n",
       " (<Note: B3 1/2>, <Note: E3 1/1>),\n",
       " (<Note: A3 1/2>, <Note: D3 1/1>),\n",
       " (<Note: B3 1/2>, <Note: G3 1/1>),\n",
       " (<Note: C4 1/2>, <Note: A3 1/1>),\n",
       " (<Note: D4 1/2>, <Note: G3 1/1>),\n",
       " (<Note: B3 1/2>, <Note: E3 1/1>),\n",
       " (<Note: B3 1/2>, <Note: F3 1/1>),\n",
       " (<Note: A3 1/2>, <Note: D3 1/1>),\n",
       " (<Note: B3 1/2>, <Note: C3 1/1>)]"
      ]
     },
     "execution_count": 11,
     "metadata": {},
     "output_type": "execute_result"
    }
   ],
   "source": [
    "[x for x in zip(notes(species2, 0, 0, 0), notes(species2, 1, 0, 0))]"
   ]
  },
  {
   "cell_type": "markdown",
   "metadata": {},
   "source": [
    "Summary: to perform many kinds of musical score analyses we need to take 'vertical slices' of the score at each time point in the score when a new note starts. For some kinds of tonal analyses we will also need a flexible way to move forward and backward in the vertical slices."
   ]
  },
  {
   "cell_type": "markdown",
   "metadata": {},
   "source": [
    "\n",
    "## The Theory package\n",
    "\n",
    "The theory package provides a framework for analyzing symbolic music scores. The main classes are:\n",
    "\n",
    "* TimePoint - a vertical slice of the score at each time point in the score.\n",
    "* TimeLine - a series of TimePoints\n",
    "* Transition - An optional link that allows you to move forwards and backwards in timepoints.\n",
    "* Analysis - A generic class and API for creating score analyses.\n",
    "* Rule - A generic class for defining analytical steps in an analysis"
   ]
  },
  {
   "cell_type": "markdown",
   "metadata": {},
   "source": [
    "### The TimePoint Class\n",
    "\n",
    "A TimePoint is an analytical structure containing the set of all vertical notes in a score that are sounding when any note begins. \n",
    "\n",
    "A TimePoint has two attributes:\n",
    "* beat - The Ratio start time of the timepoint in its measure.\n",
    "* nmap - A \"notemap\" dictionary containing the notes for each part/voice active in this timepoint.\n",
    "\n",
    "There are two ways to create timepoints: call the  timepoints() function, or create a TimeLine instance."
   ]
  },
  {
   "cell_type": "markdown",
   "metadata": {},
   "source": [
    "### timepoints(score, span=False, measures=True, trace=False)\n",
    "\n",
    "The timepoints() function returns a list of timepoints for the given score. If measure is true then timepoints are organized in sublists representing the measures in the score. If trace is True then timepoints are printed to the terminal as they are parsed from the score."
   ]
  },
  {
   "cell_type": "code",
   "execution_count": 12,
   "metadata": {},
   "outputs": [
    {
     "data": {
      "text/plain": [
       "[[<TimePoint 0 0x7faf984e7910>,\n",
       "  <TimePoint 1 0x7faf984e7b10>,\n",
       "  <TimePoint 2 0x7faf984e78d0>,\n",
       "  <TimePoint 3 0x7faf984e7950>],\n",
       " [<TimePoint 4 0x7faf984e7790>,\n",
       "  <TimePoint 5 0x7faf984e7110>,\n",
       "  <TimePoint 6 0x7faf984e7190>,\n",
       "  <TimePoint 7 0x7faf984e7c90>],\n",
       " [<TimePoint 8 0x7faf984e7dd0>,\n",
       "  <TimePoint 9 0x7faf984e7290>,\n",
       "  <TimePoint 10 0x7faf984e7410>,\n",
       "  <TimePoint 11 0x7faf984e75d0>],\n",
       " [<TimePoint 12 0x7faf984e7250>,\n",
       "  <TimePoint 13 0x7faf984e7650>,\n",
       "  <TimePoint 14 0x7faf984e7d10>]]"
      ]
     },
     "execution_count": 12,
     "metadata": {},
     "output_type": "execute_result"
    }
   ],
   "source": [
    "tps = timepoints(laitz)\n",
    "tps"
   ]
  },
  {
   "cell_type": "code",
   "execution_count": 13,
   "metadata": {},
   "outputs": [
    {
     "data": {
      "text/plain": [
       "[<TimePoint 0 0x7fafa936fc90>,\n",
       " <TimePoint 1 0x7fafa936f750>,\n",
       " <TimePoint 2 0x7fafa936f9d0>,\n",
       " <TimePoint 3 0x7fafa936fed0>,\n",
       " <TimePoint 4 0x7fafa936f990>,\n",
       " <TimePoint 5 0x7fafa936f2d0>,\n",
       " <TimePoint 6 0x7fafa936ff90>,\n",
       " <TimePoint 7 0x7fafa936fad0>,\n",
       " <TimePoint 8 0x7fafa936f790>,\n",
       " <TimePoint 9 0x7fafa936fcd0>,\n",
       " <TimePoint 10 0x7fafa936f450>,\n",
       " <TimePoint 11 0x7fafa936fa50>,\n",
       " <TimePoint 12 0x7fafa936f550>,\n",
       " <TimePoint 13 0x7fafa936f110>,\n",
       " <TimePoint 14 0x7fafa936f150>]"
      ]
     },
     "execution_count": 13,
     "metadata": {},
     "output_type": "execute_result"
    }
   ],
   "source": [
    "tps = timepoints(laitz, measures=False)\n",
    "tps"
   ]
  },
  {
   "cell_type": "code",
   "execution_count": 14,
   "metadata": {},
   "outputs": [
    {
     "name": "stdout",
     "output_type": "stream",
     "text": [
      "<Ratio: 0/1 0x7fafa92d0950>    {'P1.1': <Note: G4 1/4>}\n",
      "<Ratio: 1/4 0x7fafa9360650>    {'P1.1': <Note: A4 1/4>}\n",
      "<Ratio: 1/2 0x7fafa9360590>    {'P1.1': <Note: C5 1/4>}\n",
      "<Ratio: 3/4 0x7fafa9360710>    {'P1.1': <Note: B4 1/4>}\n",
      "<Ratio: 0/1 0x7fafa93601d0>    {'P1.1': <Note: A4 1/4>}\n",
      "<Ratio: 1/4 0x7fafa93603b0>    {'P1.1': <Note: B4 1/4>}\n",
      "<Ratio: 1/2 0x7fafa9360170>    {'P1.1': <Note: D5 1/4>}\n",
      "<Ratio: 3/4 0x7fafa9360110>    {'P1.1': <Note: C5 1/4>}\n",
      "<Ratio: 0/1 0x7fafa93605f0>    {'P1.1': <Note: B4 1/4>}\n",
      "<Ratio: 1/4 0x7fafa93600b0>    {'P1.1': <Note: C5 1/4>}\n",
      "<Ratio: 1/2 0x7fafa9360770>    {'P1.1': <Note: E5 1/4>}\n",
      "<Ratio: 3/4 0x7fafa93607d0>    {'P1.1': <Note: D5 1/4>}\n",
      "<Ratio: 0/1 0x7fafa9360890>    {'P1.1': <Note: C5 1/4>}\n",
      "<Ratio: 1/4 0x7fafa9360830>    {'P1.1': <Note: F#4 1/4>}\n",
      "<Ratio: 1/2 0x7fafa93608f0>    {'P1.1': <Note: G4 1/2>}\n"
     ]
    }
   ],
   "source": [
    "for tp in tps: print(tp.beat,'  ', tp.nmap)"
   ]
  },
  {
   "cell_type": "markdown",
   "metadata": {},
   "source": [
    "### The TimeLine Class\n",
    "\n",
    "TimeLine is a wrapper around a list of timepoints. It has three attributes and a `print()` method that displays all the vertical timeline slices in the score.\n",
    "\n",
    "* self.timepoints - A list of TimePoints\n",
    "* self.measured - If True the timepoints are organized by measures, e.g. each measure is represented as sublist in the timepoints list. If False then timepoints is a flat list.\n",
    "* self.spanning - If False a note only appear in the timepoint in which it begins, if True the note will also appear in all the timepoints spanned by its duration."
   ]
  },
  {
   "cell_type": "code",
   "execution_count": 15,
   "metadata": {
    "scrolled": false
   },
   "outputs": [
    {
     "name": "stdout",
     "output_type": "stream",
     "text": [
      "0/1 \t P1.1: G4 1/4\n",
      "1/4 \t P1.1: A4 1/4\n",
      "1/2 \t P1.1: C5 1/4\n",
      "3/4 \t P1.1: B4 1/4\n",
      "----------------------------------------------------------------\n",
      "0/1 \t P1.1: A4 1/4\n",
      "1/4 \t P1.1: B4 1/4\n",
      "1/2 \t P1.1: D5 1/4\n",
      "3/4 \t P1.1: C5 1/4\n",
      "----------------------------------------------------------------\n",
      "0/1 \t P1.1: B4 1/4\n",
      "1/4 \t P1.1: C5 1/4\n",
      "1/2 \t P1.1: E5 1/4\n",
      "3/4 \t P1.1: D5 1/4\n",
      "----------------------------------------------------------------\n",
      "0/1 \t P1.1: C5 1/4\n",
      "1/4 \t P1.1: F#4 1/4\n",
      "1/2 \t P1.1: G4 1/2\n",
      "----------------------------------------------------------------\n"
     ]
    }
   ],
   "source": [
    "laitz_tl = TimeLine(laitz)\n",
    "laitz_tl.print()"
   ]
  },
  {
   "cell_type": "markdown",
   "metadata": {},
   "source": [
    "By default, notes only appear their starting TimePoint, regardless of how long their duration is.  For example, in this next listing the whole notes in P2.1 only appear in the downbeat timepoint of each measure even though they sound the entire measure."
   ]
  },
  {
   "cell_type": "code",
   "execution_count": 16,
   "metadata": {},
   "outputs": [
    {
     "name": "stdout",
     "output_type": "stream",
     "text": [
      "0/1 \t P1.1: C4 1/2, P2.1: C3 1/1\n",
      "1/2 \t P1.1: B3 1/2, P2.1: ------\n",
      "----------------------------------------------------------------\n",
      "0/1 \t P1.1: A3 1/2, P2.1: E3 1/1\n",
      "1/2 \t P1.1: B3 1/2, P2.1: ------\n",
      "----------------------------------------------------------------\n",
      "0/1 \t P1.1: C4 1/2, P2.1: D3 1/1\n",
      "1/2 \t P1.1: D4 1/2, P2.1: ------\n",
      "----------------------------------------------------------------\n",
      "0/1 \t P1.1: B3 1/2, P2.1: G3 1/1\n",
      "1/2 \t P1.1: B3 1/2, P2.1: ------\n",
      "----------------------------------------------------------------\n",
      "0/1 \t P1.1: A3 1/2, P2.1: A3 1/1\n",
      "1/2 \t P1.1: B3 1/2, P2.1: ------\n",
      "----------------------------------------------------------------\n",
      "0/1 \t P1.1: C4 1/2, P2.1: G3 1/1\n",
      "1/2 \t P1.1: D4 1/2, P2.1: ------\n",
      "----------------------------------------------------------------\n",
      "0/1 \t P1.1: C4 1/2, P2.1: E3 1/1\n",
      "1/2 \t P1.1: B3 1/2, P2.1: ------\n",
      "----------------------------------------------------------------\n",
      "0/1 \t P1.1: A3 1/2, P2.1: F3 1/1\n",
      "1/2 \t P1.1: G3 1/2, P2.1: ------\n",
      "----------------------------------------------------------------\n",
      "0/1 \t P1.1: G3 1/2, P2.1: D3 1/1\n",
      "1/2 \t P1.1: A3 1/2, P2.1: ------\n",
      "----------------------------------------------------------------\n",
      "0/1 \t P1.1: C4 1/1, P2.1: C3 1/1\n",
      "----------------------------------------------------------------\n"
     ]
    }
   ],
   "source": [
    "species2_tl = TimeLine(species2)\n",
    "species2_tl.print()"
   ]
  },
  {
   "cell_type": "markdown",
   "metadata": {},
   "source": [
    "Set the TimeLine() method's span argument to True if you want to include notes in all the timepoints that their durations spans. You can also use the TimePoint's reset() method to remake timepoints in an existing TimeLine."
   ]
  },
  {
   "cell_type": "code",
   "execution_count": 17,
   "metadata": {},
   "outputs": [
    {
     "name": "stdout",
     "output_type": "stream",
     "text": [
      "0/1 \t P1.1: C4 1/2, P2.1: C3 1/1\n",
      "1/2 \t P1.1: B3 1/2, P2.1: C3 1/1\n",
      "----------------------------------------------------------------\n",
      "0/1 \t P1.1: A3 1/2, P2.1: E3 1/1\n",
      "1/2 \t P1.1: B3 1/2, P2.1: E3 1/1\n",
      "----------------------------------------------------------------\n",
      "0/1 \t P1.1: C4 1/2, P2.1: D3 1/1\n",
      "1/2 \t P1.1: D4 1/2, P2.1: D3 1/1\n",
      "----------------------------------------------------------------\n",
      "0/1 \t P1.1: B3 1/2, P2.1: G3 1/1\n",
      "1/2 \t P1.1: B3 1/2, P2.1: G3 1/1\n",
      "----------------------------------------------------------------\n",
      "0/1 \t P1.1: A3 1/2, P2.1: A3 1/1\n",
      "1/2 \t P1.1: B3 1/2, P2.1: A3 1/1\n",
      "----------------------------------------------------------------\n",
      "0/1 \t P1.1: C4 1/2, P2.1: G3 1/1\n",
      "1/2 \t P1.1: D4 1/2, P2.1: G3 1/1\n",
      "----------------------------------------------------------------\n",
      "0/1 \t P1.1: C4 1/2, P2.1: E3 1/1\n",
      "1/2 \t P1.1: B3 1/2, P2.1: E3 1/1\n",
      "----------------------------------------------------------------\n",
      "0/1 \t P1.1: A3 1/2, P2.1: F3 1/1\n",
      "1/2 \t P1.1: G3 1/2, P2.1: F3 1/1\n",
      "----------------------------------------------------------------\n",
      "0/1 \t P1.1: G3 1/2, P2.1: D3 1/1\n",
      "1/2 \t P1.1: A3 1/2, P2.1: D3 1/1\n",
      "----------------------------------------------------------------\n",
      "0/1 \t P1.1: C4 1/1, P2.1: C3 1/1\n",
      "----------------------------------------------------------------\n"
     ]
    }
   ],
   "source": [
    "# Set span to true if you want entries to span all the timepoints\n",
    "# in which they are still sounding \n",
    "\n",
    "species2_tl.reset(species2, span=True)\n",
    "species2_tl.print()"
   ]
  },
  {
   "cell_type": "code",
   "execution_count": 18,
   "metadata": {},
   "outputs": [
    {
     "name": "stdout",
     "output_type": "stream",
     "text": [
      "1/2 \t P1.1: G4 1/4, P1.2: D4 1/4, P1.3: B3 1/4, P1.4: G2 1/4\n",
      "----------------------------------------------------------------\n",
      "0/1 \t P1.1: G4 1/2, P1.2: D4 1/4, P1.3: B3 1/4, P1.4: G3 1/4\n",
      "1/4 \t P1.1: ------, P1.2: E4 1/4, P1.3: C4 1/8, P1.4: E3 1/4\n",
      "3/8 \t P1.1: ------, P1.2: ------, P1.3: B3 1/8, P1.4: ------\n",
      "1/2 \t P1.1: D5 1/4, P1.2: D4 1/4, P1.3: A3 1/4, P1.4: F#3 1/4\n",
      "----------------------------------------------------------------\n",
      "0/1 \t P1.1: B4 3/8, P1.2: D4 1/2, P1.3: G3 1/4, P1.4: G3 1/4\n",
      "1/4 \t P1.1: ------, P1.2: ------, P1.3: F#3 1/4, P1.4: D3 1/4\n",
      "3/8 \t P1.1: A4 1/8, P1.2: ------, P1.3: ------, P1.4: ------\n",
      "1/2 \t P1.1: G4 1/4, P1.2: B3 1/4, P1.3: G3 1/4, P1.4: E3 1/4\n",
      "----------------------------------------------------------------\n",
      "0/1 \t P1.1: G4 3/8, P1.2: E4 1/8, P1.3: C4 1/8, P1.4: C3 1/4\n",
      "1/8 \t P1.1: ------, P1.2: D4 1/8, P1.3: B3 1/8, P1.4: ------\n",
      "1/4 \t P1.1: ------, P1.2: E4 1/8, P1.3: C4 1/4, P1.4: B2 1/8\n",
      "3/8 \t P1.1: A4 1/8, P1.2: F#4 1/8, P1.3: ------, P1.4: A2 1/8\n",
      "1/2 \t P1.1: B4 1/4, P1.2: G4 1/4, P1.3: D4 1/4, P1.4: G2 1/4\n",
      "----------------------------------------------------------------\n",
      "0/1 \t P1.1: A4 1/2, P1.2: F#4 1/2, P1.3: D4 1/2, P1.4: D3 1/2\n",
      "1/2 \t P1.1: B4 1/4, P1.2: G4 1/4, P1.3: D4 1/4, P1.4: G2 1/4\n",
      "----------------------------------------------------------------\n",
      "0/1 \t P1.1: D5 1/2, P1.2: D4 1/4, P1.3: A3 1/4, P1.4: F#2 1/4\n",
      "1/4 \t P1.1: ------, P1.2: E4 1/4, P1.3: B3 1/4, P1.4: G2 1/4\n",
      "1/2 \t P1.1: C5 1/4, P1.2: F#4 1/4, P1.3: C4 1/4, P1.4: A2 1/4\n",
      "----------------------------------------------------------------\n",
      "0/1 \t P1.1: B4 1/4, P1.2: G4 1/2, P1.3: D4 1/4, P1.4: B2 1/4\n",
      "1/4 \t P1.1: A4 1/2, P1.2: ------, P1.3: E4 1/4, P1.4: C3 1/4\n",
      "1/2 \t P1.1: ------, P1.2: F#4 1/4, P1.3: D4 1/8, P1.4: D3 1/4\n",
      "5/8 \t P1.1: ------, P1.2: ------, P1.3: C4 1/8, P1.4: ------\n",
      "----------------------------------------------------------------\n",
      "0/1 \t P1.1: G4 1/2, P1.2: D4 1/2, P1.3: B3 1/2, P1.4: G2 1/2\n",
      "----------------------------------------------------------------\n",
      "1/2 \t P1.1: B4 1/4, P1.2: G4 1/4, P1.3: D4 1/4, P1.4: G2 1/4\n",
      "----------------------------------------------------------------\n",
      "0/1 \t P1.1: B4 1/4, P1.2: G4 1/8, P1.3: D4 1/4, P1.4: G2 1/4\n",
      "1/8 \t P1.1: ------, P1.2: F#4 1/8, P1.3: ------, P1.4: ------\n",
      "1/4 \t P1.1: C5 1/4, P1.2: E4 1/8, P1.3: C4 1/4, P1.4: A2 1/4\n",
      "3/8 \t P1.1: ------, P1.2: F#4 1/8, P1.3: ------, P1.4: ------\n",
      "1/2 \t P1.1: D5 1/4, P1.2: G4 1/4, P1.3: B3 1/8, P1.4: B2 1/4\n",
      "5/8 \t P1.1: ------, P1.2: ------, P1.3: A3 1/8, P1.4: ------\n",
      "----------------------------------------------------------------\n",
      "0/1 \t P1.1: D5 3/8, P1.2: G4 1/8, P1.3: B3 1/8, P1.4: B2 3/8\n",
      "1/8 \t P1.1: ------, P1.2: A4 1/8, P1.3: C4 1/8, P1.4: ------\n",
      "1/4 \t P1.1: ------, P1.2: G4 1/8, P1.3: D4 1/4, P1.4: ------\n",
      "3/8 \t P1.1: C5 1/8, P1.2: F#4 1/8, P1.3: ------, P1.4: A2 1/8\n",
      "1/2 \t P1.1: B4 1/4, P1.2: G4 1/4, P1.3: D4 1/4, P1.4: G2 1/4\n",
      "----------------------------------------------------------------\n",
      "0/1 \t P1.1: A4 1/2, P1.2: F#4 1/2, P1.3: D4 1/2, P1.4: D3 1/2\n",
      "1/2 \t P1.1: G4 1/4, P1.2: E4 1/4, P1.3: B3 1/4, P1.4: E3 1/4\n",
      "----------------------------------------------------------------\n",
      "0/1 \t P1.1: B4 1/2, P1.2: E4 1/4, P1.3: G3 1/4, P1.4: E3 1/4\n",
      "1/4 \t P1.1: ------, P1.2: F#4 1/8, P1.3: B3 1/4, P1.4: D3 1/4\n",
      "3/8 \t P1.1: ------, P1.2: G4 1/8, P1.3: ------, P1.4: ------\n",
      "1/2 \t P1.1: C5 1/4, P1.2: A4 1/4, P1.3: E4 1/4, P1.4: C3 1/4\n",
      "----------------------------------------------------------------\n",
      "0/1 \t P1.1: D5 1/2, P1.2: A4 1/4, P1.3: D4 1/2, P1.4: B2 3/8\n",
      "1/4 \t P1.1: ------, P1.2: G4 1/4, P1.3: ------, P1.4: ------\n",
      "3/8 \t P1.1: ------, P1.2: ------, P1.3: ------, P1.4: C3 1/8\n",
      "1/2 \t P1.1: C5 1/4, P1.2: G4 1/8, P1.3: D4 1/4, P1.4: D3 1/4\n",
      "5/8 \t P1.1: ------, P1.2: F#4 1/8, P1.3: ------, P1.4: ------\n",
      "----------------------------------------------------------------\n",
      "0/1 \t P1.1: B4 3/4, P1.2: G4 1/2, P1.3: D4 3/4, P1.4: G2 1/8\n",
      "1/8 \t P1.1: ------, P1.2: ------, P1.3: ------, P1.4: A2 1/8\n",
      "1/4 \t P1.1: ------, P1.2: ------, P1.3: ------, P1.4: B2 1/4\n",
      "1/2 \t P1.1: ------, P1.2: F4 1/4, P1.3: ------, P1.4: G2 1/4\n",
      "----------------------------------------------------------------\n",
      "0/1 \t P1.1: G4 1/2, P1.2: E4 1/2, P1.3: C4 1/2, P1.4: C3 1/2\n",
      "1/2 \t P1.1: B4 1/4, P1.2: G4 1/4, P1.3: D4 1/4, P1.4: G2 1/4\n",
      "----------------------------------------------------------------\n",
      "0/1 \t P1.1: D5 1/2, P1.2: A4 3/8, P1.3: D4 1/8, P1.4: F#2 1/4\n",
      "1/8 \t P1.1: ------, P1.2: ------, P1.3: C4 1/8, P1.4: ------\n",
      "1/4 \t P1.1: ------, P1.2: ------, P1.3: B3 1/4, P1.4: G2 1/4\n",
      "3/8 \t P1.1: ------, P1.2: G4 1/8, P1.3: ------, P1.4: ------\n",
      "1/2 \t P1.1: C5 1/4, P1.2: F#4 1/4, P1.3: C4 1/4, P1.4: A2 1/4\n",
      "----------------------------------------------------------------\n",
      "0/1 \t P1.1: B4 1/2, P1.2: G4 1/2, P1.3: D4 1/2, P1.4: B2 1/4\n",
      "1/4 \t P1.1: ------, P1.2: ------, P1.3: ------, P1.4: G2 1/4\n",
      "1/2 \t P1.1: A4 1/4, P1.2: F#4 1/4, P1.3: D4 1/8, P1.4: D3 1/4\n",
      "5/8 \t P1.1: ------, P1.2: ------, P1.3: C4 1/8, P1.4: ------\n",
      "----------------------------------------------------------------\n",
      "0/1 \t P1.1: G4 3/8, P1.2: F#4 1/8, P1.3: B3 1/4, P1.4: E3 1/8\n",
      "1/8 \t P1.1: ------, P1.2: E4 1/8, P1.3: ------, P1.4: D3 1/8\n",
      "1/4 \t P1.1: ------, P1.2: E4 1/8, P1.3: C4 1/4, P1.4: C3 1/8\n",
      "3/8 \t P1.1: A4 1/8, P1.2: F#4 1/8, P1.3: ------, P1.4: B2 1/8\n",
      "1/2 \t P1.1: B4 1/4, P1.2: G4 1/4, P1.3: D4 1/4, P1.4: A2 1/8\n",
      "5/8 \t P1.1: ------, P1.2: ------, P1.3: ------, P1.4: G2 1/8\n",
      "----------------------------------------------------------------\n",
      "0/1 \t P1.1: A4 1/2, P1.2: F#4 1/2, P1.3: D4 1/2, P1.4: D3 1/2\n",
      "1/2 \t P1.1: B4 1/4, P1.2: G4 1/4, P1.3: D4 1/4, P1.4: G3 1/4\n",
      "----------------------------------------------------------------\n",
      "0/1 \t P1.1: D5 1/2, P1.2: A4 1/2, P1.3: D4 1/2, P1.4: G3 1/4\n",
      "1/4 \t P1.1: ------, P1.2: ------, P1.3: ------, P1.4: F#3 1/4\n",
      "1/2 \t P1.1: C5 1/4, P1.2: G4 1/8, P1.3: E4 1/4, P1.4: E3 1/4\n",
      "5/8 \t P1.1: ------, P1.2: F#4 1/8, P1.3: ------, P1.4: ------\n",
      "----------------------------------------------------------------\n",
      "0/1 \t P1.1: B4 1/4, P1.2: G4 1/2, P1.3: E4 1/2, P1.4: E3 1/8\n",
      "1/8 \t P1.1: ------, P1.2: ------, P1.3: ------, P1.4: D3 1/8\n",
      "1/4 \t P1.1: A4 1/2, P1.2: ------, P1.3: ------, P1.4: C3 1/4\n",
      "1/2 \t P1.1: ------, P1.2: F#4 1/4, P1.3: D4 1/8, P1.4: D3 1/4\n",
      "5/8 \t P1.1: ------, P1.2: ------, P1.3: C4 1/8, P1.4: ------\n",
      "----------------------------------------------------------------\n",
      "0/1 \t P1.1: G4 1/2, P1.2: D4 1/2, P1.3: B3 1/2, P1.4: G2 1/2\n",
      "----------------------------------------------------------------\n"
     ]
    }
   ],
   "source": [
    "bach_tl = TimeLine(bach)\n",
    "bach_tl.print()"
   ]
  },
  {
   "cell_type": "code",
   "execution_count": 19,
   "metadata": {},
   "outputs": [
    {
     "name": "stdout",
     "output_type": "stream",
     "text": [
      "0/1 \t P1.1: (G3, C4, Eb4, G4) 1/4, P1.2: R 1/4, P1.5: (C2, C3) 1/4\n",
      "1/4 \t P1.1: (Ab3, C4, Eb4, Ab4) 1/4, P1.2: R 1/4, P1.5: (F1, F2) 1/4\n",
      "1/2 \t P1.1: (G3, B3) 1/4, P1.2: (Eb4, G4) 3/16, P1.5: (G1, G2) 1/4\n",
      "11/16 \t P1.1: ------, P1.2: (D4, F4) 1/16, P1.5: ------\n",
      "3/4 \t P1.1: (Eb3, G3, C4, Eb4) 1/4, P1.2: R 1/4, P1.5: (C2, G2, C3) 1/4\n",
      "----------------------------------------------------------------\n",
      "0/1 \t P1.1: (Eb3, Ab3, C4, Eb4) 1/4, P1.2: R 1/4, P1.5: (Ab1, Ab2) 1/4\n",
      "1/4 \t P1.1: (F3, Ab3, Db4, F4) 1/4, P1.2: R 1/4, P1.5: (Db1, Db2) 1/4\n",
      "1/2 \t P1.1: (Db3, Eb3, G3) 1/4, P1.2: (C4, Eb4) 3/16, P1.5: (Eb1, Eb2) 1/4\n",
      "11/16 \t P1.1: ------, P1.2: (Bb3, Db4) 1/16, P1.5: ------\n",
      "3/4 \t P1.1: (C3, Eb3, Ab3, C4) 1/4, P1.2: R 1/4, P1.5: (Ab1, Ab2) 1/4\n",
      "----------------------------------------------------------------\n",
      "0/1 \t P1.1: (D3, F3, B3, D4) 1/4, P1.2: R 1/4, P1.5: (G1, G2) 1/4\n",
      "1/4 \t P1.1: (E3, G3, Bb3, C4, E4) 1/4, P1.2: R 1/4, P1.5: (C1, C2) 1/4\n",
      "1/2 \t P1.1: (Ab3, C4) 1/4, P1.2: G4 3/16, P1.5: (F1, F2) 1/4\n",
      "11/16 \t P1.1: ------, P1.2: F4 1/16, P1.5: ------\n",
      "3/4 \t P1.1: (G3, C4, Eb4) 1/4, P1.2: R 1/4, P1.5: (C2, C3) 1/4\n",
      "----------------------------------------------------------------\n",
      "0/1 \t P1.1: (F#3, C4, D4) 1/4, P1.2: R 1/4, P1.5: (D2, A2, D3) 1/4\n",
      "1/4 \t P1.1: (G3, B3, D4, G4) 1/4, P1.2: R 1/4, P1.5: (G1, G2) 1/4\n",
      "1/2 \t P1.1: (C4, D4, F#4) 1/4, P1.2: B4 3/16, P1.5: (D1, D2) 1/4\n",
      "11/16 \t P1.1: ------, P1.2: A4 1/16, P1.5: ------\n",
      "3/4 \t P1.1: (B3, D4, G4) 1/4, P1.2: R 1/4, P1.5: (G1, G2) 1/4\n",
      "----------------------------------------------------------------\n",
      "0/1 \t P1.1: (Eb4, G4, Eb5) 1/4, P1.2: R 1/4, P1.5: (C2, C3) 1/4\n",
      "1/4 \t P1.1: (Eb4, Ab4, Eb5) 1/4, P1.2: R 1/4, P1.5: (C3, C4) 1/4\n",
      "1/2 \t P1.1: (D4, D5) 1/4, P1.2: Ab4 3/16, P1.5: (B2, B3) 1/4\n",
      "11/16 \t P1.1: ------, P1.2: F#4 1/16, P1.5: ------\n",
      "3/4 \t P1.1: (D4, G4, D5) 1/4, P1.2: R 1/4, P1.5: (Bb2, Bb3) 1/4\n",
      "----------------------------------------------------------------\n",
      "0/1 \t P1.1: (C4, G4, C5) 1/4, P1.2: R 3/4, P1.5: (A2, A3) 1/4\n",
      "1/4 \t P1.1: (C4, D4, F#4, D5) 1/4, P1.2: ------, P1.5: (Ab2, Ab3) 1/4\n",
      "1/2 \t P1.1: (D4, G4, B4) 3/16, P1.2: ------, P1.5: (G2, G3) 1/4\n",
      "11/16 \t P1.1: (C4, A4) 1/16, P1.2: ------, P1.5: ------\n",
      "3/4 \t P1.1: (B3, D4, G4) 1/4, P1.2: R 1/4, P1.5: (F2, F3) 1/4\n",
      "----------------------------------------------------------------\n",
      "0/1 \t P1.1: (C4, G4, C5) 1/4, P1.2: R 1/4, P1.5: (Eb2, Eb3) 1/4\n",
      "1/4 \t P1.1: (Ab3, C4, Ab4) 1/4, P1.2: R 1/4, P1.5: (F2, F3) 1/4\n",
      "1/2 \t P1.1: (G3, D4) 1/4, P1.2: G4 3/16, P1.5: (B1, B2) 1/4\n",
      "11/16 \t P1.1: ------, P1.2: F4 1/16, P1.5: ------\n",
      "3/4 \t P1.1: (G3, C4, Eb4) 1/4, P1.2: R 1/4, P1.5: (C2, C3) 1/4\n",
      "----------------------------------------------------------------\n",
      "0/1 \t P1.1: (Eb3, Ab3, C4, Eb4) 1/4, P1.2: R 1/4, P1.5: (Ab1, Ab2) 1/4\n",
      "1/4 \t P1.1: (F3, Ab3, Db4, F4) 1/4, P1.2: R 1/4, P1.5: (Db1, Db2) 1/4\n",
      "1/2 \t P1.1: (F3, G3, B3) 1/4, P1.2: Eb4 3/16, P1.5: (G1, G2) 1/4\n",
      "11/16 \t P1.1: ------, P1.2: D4 1/16, P1.5: ------\n",
      "3/4 \t P1.1: (Eb3, G3, C4) 1/4, P1.2: R 1/4, P1.5: (C1, C2) 1/4\n",
      "----------------------------------------------------------------\n",
      "0/1 \t P1.1: (Eb4, G4, Eb5) 1/4, P1.2: R 1/4, P1.5: (C2, C3) 1/4\n",
      "1/4 \t P1.1: (Eb4, Ab4, Eb5) 1/4, P1.2: R 1/4, P1.5: (C3, C4) 1/4\n",
      "1/2 \t P1.1: (D4, D5) 1/4, P1.2: Ab4 3/16, P1.5: (B2, B3) 1/4\n",
      "11/16 \t P1.1: ------, P1.2: F#4 1/16, P1.5: ------\n",
      "3/4 \t P1.1: (D4, G4, D5) 1/4, P1.2: R 1/4, P1.5: (Bb2, Bb3) 1/4\n",
      "----------------------------------------------------------------\n",
      "0/1 \t P1.1: (C4, G4, C5) 1/4, P1.2: R 3/4, P1.5: (A2, A3) 1/4\n",
      "1/4 \t P1.1: (C4, D4, F#4, D5) 1/4, P1.2: ------, P1.5: (Ab2, Ab3) 1/4\n",
      "1/2 \t P1.1: (D4, G4, B4) 3/16, P1.2: ------, P1.5: (G2, G3) 1/4\n",
      "11/16 \t P1.1: (C4, A4) 1/16, P1.2: ------, P1.5: ------\n",
      "3/4 \t P1.1: (B3, D4, G4) 1/4, P1.2: R 1/4, P1.5: (F2, F3) 1/4\n",
      "----------------------------------------------------------------\n",
      "0/1 \t P1.1: (C4, G4, C5) 1/4, P1.2: R 1/4, P1.5: (Eb2, Eb3) 1/4\n",
      "1/4 \t P1.1: (Ab3, C4, Ab4) 1/4, P1.2: R 1/4, P1.5: (F2, F3) 1/4\n",
      "1/2 \t P1.1: (G3, D4) 1/4, P1.2: G4 3/16, P1.5: (B1, B2) 1/4\n",
      "11/16 \t P1.1: ------, P1.2: F4 1/16, P1.5: ------\n",
      "3/4 \t P1.1: (G3, C4, Eb4) 1/4, P1.2: R 1/4, P1.5: (C2, C3) 1/4\n",
      "----------------------------------------------------------------\n",
      "0/1 \t P1.1: (Eb3, Ab3, C4, Eb4) 1/4, P1.2: R 1/4, P1.5: (Ab1, Ab2) 1/4\n",
      "1/4 \t P1.1: (F3, Ab3, Db4, F4) 1/4, P1.2: R 1/4, P1.5: (Db1, Db2) 1/4\n",
      "1/2 \t P1.1: (F3, G3, B3) 1/4, P1.2: Eb4 3/16, P1.5: (G1, G2) 1/4\n",
      "11/16 \t P1.1: ------, P1.2: D4 1/16, P1.5: ------\n",
      "3/4 \t P1.1: (Eb3, G3, C4) 1/4, P1.2: R 1/4, P1.5: (C1, C2) 1/4\n",
      "----------------------------------------------------------------\n",
      "0/1 \t P1.1: (C4, Eb4, G4, C5) 1/1, P1.5: (C3, G3) 1/1\n",
      "----------------------------------------------------------------\n"
     ]
    }
   ],
   "source": [
    "chopin_tl = TimeLine(chopin)\n",
    "chopin_tl.print()"
   ]
  },
  {
   "cell_type": "markdown",
   "metadata": {},
   "source": [
    "### The Analysis Class\n",
    "\n",
    "Analysis is an *abstract base class* for implementing score analysis. It declares attributes and methods that can be overridden by subclasses and provides one abstract (virtual) method `setup()` that all subclasses _must_ define. \n",
    "\n",
    "Analysis declares three attributes: self.score, self.rules, and self.timepoints.\n",
    "\n",
    "* self.score: The score being analyzed\n",
    "* self.rules: A list of rules that run to perform the analysis.\n",
    "* self.timepoints: A list of timepoints (if your analyses creates them)\n",
    "\n",
    "Analysis declares three virtual methods: setup(), display(), and cleanup().\n",
    "\n",
    "* setup(self, args, kwargs): The setup() method must be defined. It is automatically called to initialize your analysis just before it runs. It is passed whatever positional and keyword arguments the user provided to the analyse() function (see below). \n",
    "* display(): Can be overridden to display any post-analysis results you want. The default implementation does not display anything.\n",
    "* cleanup(): Can be overridden to reset instance variables in preparation for another analysis() call. The default implementation does nothing.\n",
    "* analyze(self, \\*args, \\*\\*kwargs): Called by the user to invoke the analysis. You can pass any set of arguments you want to this function and it will pass them on to your setup() method.\n",
    "\n",
    "To define your own Analysis you:\n",
    "\n",
    "1. Define a subclass of Analysis and implement the required setup() method.\n",
    "2. Define a set of Rules to invoke during analysis.\n",
    "\n",
    "To perform a specific Analysis you:\n",
    "\n",
    "1. Create an instance of your analysis class and pass it a score and whatever arguments your init method takes.\n",
    "2. Call the instance's analyze() method and pass it whatever analysis specific arguments you want.\n",
    " "
   ]
  },
  {
   "cell_type": "markdown",
   "metadata": {},
   "source": [
    "### The Rule Class\n",
    "\n",
    "An abstract base class for implementing analytical steps and checks.  The constructor for your analysis class should add your rules to its self.rules list.\n",
    "\n",
    "Rule declares two attributes: self.analysis, self.title.\n",
    "\n",
    "* self.analysis: a back pointer to the Analysis to which this rule belongs.\n",
    "* self.title: A string title for the rule.\n",
    "\n",
    "Rule declares two virtual methods: apply() and display().\n",
    "\n",
    "* apply(): The code that runs to accomplish whatever your rule wants to do, including\n",
    " accessing or setting attributes of the rule's owning analysis (self.analysis).\n",
    "* display(): Can be overridden to display any post-rule results. The default implementation does not display anything.\n"
   ]
  },
  {
   "cell_type": "markdown",
   "metadata": {},
   "source": [
    "## Example 1."
   ]
  },
  {
   "cell_type": "code",
   "execution_count": 21,
   "metadata": {},
   "outputs": [],
   "source": [
    "class MyAnalysis (Analysis):\n",
    "    # Define a rule to run.\n",
    "    class MyRule1(Rule):\n",
    "        def __init__(self, analysis):\n",
    "            # Pass the analysis and title to superclass so their\n",
    "            # values are stored in self.analysis and self.title.\n",
    "            super().__init__(analysis, \"MyRule1\")\n",
    "        def apply(self):\n",
    "            # This is the function that perfoms the work\n",
    "            print(f'Applying Rule 1 in analysis {self.analysis}')\n",
    "            # If this method is defined it will be called after\n",
    "            # the rule is run to display something.\n",
    "        def display(self, index):\n",
    "            # This rule just prints a message.\n",
    "            print(f'Displaying Rule 1 results, rule index is {index}')\n",
    "    # Define another rule to run\n",
    "    class MyRule2(Rule):\n",
    "        def __init__(self, analysis):\n",
    "            super().__init__(analysis, \"MyRule2\")\n",
    "        def apply(self):\n",
    "            print('Applying Rule 2 in analysis {self.analysis}')\n",
    "        # This rule does not override its display() method\n",
    "        # def display(self, index):\n",
    "        #     print(f'Displaying Rule 1 results, rule index is {index}')\n",
    "\n",
    "    def __init__(self, score):\n",
    "        # Call the superclass Analysis and give it the score.\n",
    "        super().__init__(score)\n",
    "        # Create the rules that the analysis will run.\n",
    "        self.rules = [self.MyRule1(self), self.MyRule2(self)]\n",
    "        # Initialize attribitues.\n",
    "        self.cleanup()\n",
    "    # Initialize analysis variables to default state\n",
    "    def cleanup(self):\n",
    "        # print('in cleanup!')\n",
    "        self.mymelody = []\n",
    "        self.myintervals = []\n",
    "        self.myhistogram = []\n",
    "    # This setup function just tells you what it received.\n",
    "    def setup(self, args, kwargs):\n",
    "        print(f'myanalysis.setup(): args={args} kwargs={kwargs}')\n",
    "    # The analysis display() is called when everthing is done.\n",
    "    def display(self):\n",
    "        print(f'myanalysis.display(): All done, ta-ta! =:)')"
   ]
  },
  {
   "cell_type": "code",
   "execution_count": 22,
   "metadata": {},
   "outputs": [
    {
     "name": "stdout",
     "output_type": "stream",
     "text": [
      "myanalysis.setup(): args=() kwargs={'voiceid': 123}\n",
      "Applying Rule 1 in analysis <__main__.MyAnalysis object at 0x7fafa975ddd0>\n",
      "Displaying Rule 1 results, rule index is 0\n",
      "Applying Rule 2 in analysis {self.analysis}\n",
      "myanalysis.display(): All done, ta-ta! =:)\n"
     ]
    }
   ],
   "source": [
    "# do an analysis \n",
    "a = MyAnalysis(laitz)\n",
    "a.analyze(voiceid=123)"
   ]
  },
  {
   "cell_type": "code",
   "execution_count": 23,
   "metadata": {},
   "outputs": [
    {
     "name": "stdout",
     "output_type": "stream",
     "text": [
      "myanalysis.setup(): args=(1, 2, 3, 4, 5) kwargs={'foo': True, 'bar': False}\n",
      "Applying Rule 1 in analysis <__main__.MyAnalysis object at 0x7fafa975ddd0>\n",
      "Displaying Rule 1 results, rule index is 0\n",
      "Applying Rule 2 in analysis {self.analysis}\n",
      "myanalysis.display(): All done, ta-ta! =:)\n"
     ]
    }
   ],
   "source": [
    "# do another analysis on the same score\n",
    "a.analyze(1,2,3,4,5, foo=True, bar=False)"
   ]
  },
  {
   "cell_type": "markdown",
   "metadata": {},
   "source": [
    "## Example 2.\n",
    "\n",
    "This analysis performs a note histogram for a given part and voice."
   ]
  },
  {
   "cell_type": "code",
   "execution_count": 24,
   "metadata": {},
   "outputs": [],
   "source": [
    "class Histos (Analysis):\n",
    "    # A Rule that peforms a note histogram for a given part and voice.\n",
    "    class NoteHist(Rule):\n",
    "        # The init method passes the analysis and title to the superclass.\n",
    "        def __init__(self, analysis):\n",
    "            super().__init__(analysis, \"Note Histogram\")\n",
    "        # The apply method performs the analysis.\n",
    "        def apply(self):\n",
    "            for tp in self.analysis.timepoints:\n",
    "                k = tp.nmap[self.analysis.melodic_id]\n",
    "                # Continue if voice is not in this timepoint or not a pitch\n",
    "                if not isinstance(k, score.Note): \n",
    "                    continue\n",
    "                # Add or update this pitch in the histogram\n",
    "                k = k.pitch.string()\n",
    "                if k in self.analysis.notehist: \n",
    "                    self.analysis.notehist[k] += 1\n",
    "                else:\n",
    "                    self.analysis.notehist[k] = 1\n",
    "        \n",
    "    def __init__(self, score):\n",
    "        # Call superclass (Analysis) and pass it the score\n",
    "        super().__init__(score)\n",
    "        # Create the list of rules. Only one is used.\n",
    "        self.rules = [self.NoteHist(self)]\n",
    "        # Set attributes to default state.\n",
    "        self.cleanup()\n",
    "    \n",
    "    # Initialize analysis variables to default state\n",
    "    def cleanup(self):\n",
    "        # Cleanup after an analysis.\n",
    "        #self.notehist = {}\n",
    "        pass\n",
    "        \n",
    "    def setup(self, args, kwargs):\n",
    "        self.notehist = {}\n",
    "        # Make sure the part/voice identifier is valid\n",
    "        if args[0] not in self.score.get_metadata('voice_ids'):\n",
    "            raise ValueError(f'Part/voice identifier {args[0]} not in score.')\n",
    "        # Setup the analysis data for the rules to use.\n",
    "        self.melodic_id = args[0]\n",
    "        self.timepoints = timepoints(self.score, measures=False)\n",
    "        \n",
    "    def display(self):\n",
    "        print(f'note histogram {self.notehist}')\n"
   ]
  },
  {
   "cell_type": "code",
   "execution_count": 25,
   "metadata": {},
   "outputs": [
    {
     "name": "stdout",
     "output_type": "stream",
     "text": [
      "<Score: \"Aus meines Herzens Grunde\" 0x7fafc83dd850>\n",
      "['P1.1', 'P1.2', 'P1.3', 'P1.4']\n"
     ]
    }
   ],
   "source": [
    "print(bach)\n",
    "print(bach.get_metadata('voice_ids'))"
   ]
  },
  {
   "cell_type": "code",
   "execution_count": 26,
   "metadata": {},
   "outputs": [
    {
     "name": "stdout",
     "output_type": "stream",
     "text": [
      "note histogram {'D4': 8, 'E4': 10, 'B3': 1, 'F#4': 17, 'G4': 20, 'A4': 5, 'F4': 1}\n"
     ]
    },
    {
     "data": {
      "image/png": "[encoded data removed]",
      "text/plain": [
       "<Figure size 432x288 with 1 Axes>"
      ]
     },
     "metadata": {
      "needs_background": "light"
     },
     "output_type": "display_data"
    }
   ],
   "source": [
    "a = Histos(bach)\n",
    "a.analyze('P1.2')\n",
    "labels = [k for k in a.notehist]\n",
    "counts = [a.notehist[k] for k in a.notehist]\n",
    "import matplotlib.pyplot as plt\n",
    "fig = plt.figure()\n",
    "ax = fig.add_axes([0,0,1,1])\n",
    "ax.bar(labels,counts)\n",
    "plt.show()"
   ]
  },
  {
   "cell_type": "code",
   "execution_count": null,
   "metadata": {},
   "outputs": [],
   "source": []
  }
 ],
 "metadata": {
  "kernelspec": {
   "display_name": "Python 3 (ipykernel)",
   "language": "python",
   "name": "python3"
  },
  "language_info": {
   "codemirror_mode": {
    "name": "ipython",
    "version": 3
   },
   "file_extension": ".py",
   "mimetype": "text/x-python",
   "name": "python",
   "nbconvert_exporter": "python",
   "pygments_lexer": "ipython3",
   "version": "3.10.6"
  }
 },
 "nbformat": 4,
 "nbformat_minor": 2
}

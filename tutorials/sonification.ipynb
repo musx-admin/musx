{
 "cells": [
  {
   "cell_type": "markdown",
   "metadata": {},
   "source": [
    "# Sonification, Chaos, and Fractals\n",
    "\n",
    "The purpose of this notebook is twofold: to understand how [mapping](mapping.ipynb) can be applied to non-musical equations, and to demonstrate how *sonification* can reveal the behavior of non-musical functions.  The term sonification means to use an acoustic signal to perceive information inherent in a collection of data [Cramer]. Sonification is to the ear what graphic plotting is to the eye -- a way to understand relationships that would otherwise be difficult or impossible to perceive. Our ears are very keen instruments that can detect subtle, multidimensional changes in sound space. We are probably all familiar with listening to small fluxations in sound in order to detect the source of a mechanical problem. Sonification can yield information about regularity, overall shape, grouping, transitions, and deviations in data that present in an acoustic signal.\n",
    "\n",
    "Running this notebook requires the musx package. See [INSTALL.md](https://github.com/musx-admin/musx/blob/main/INSTALL.md) for directions on how to install musx in your environment.\n",
    "<hr style=\"height:1px;color:gray\">"
   ]
  },
  {
   "cell_type": "markdown",
   "metadata": {},
   "source": [
    "Python imports:"
   ]
  },
  {
   "cell_type": "code",
   "execution_count": null,
   "metadata": {},
   "outputs": [],
   "source": [
    "import sys\n",
    "sys.path.append('/Users/taube/Software/musx')\n",
    "from musx import Score, Note, Seq, MidiFile, setmidiplayer, version, playfile, rescale, \\\n",
    "    uniran, Choose, temper, scale, quantize, keynum\n",
    "from musx.midi.gm import TaikoDrum, Celesta\n",
    "print(f\"musx version: {version}\")"
   ]
  },
  {
   "cell_type": "markdown",
   "metadata": {},
   "source": [
    "Generate midi files and automatically play them using [fluidsynth](https://www.fluidsynth.org/download/) and the [MuseScore_General.sf3](https://ftp.osuosl.org/pub/musescore/soundfont/MuseScore_General) sound font. See [INSTALL.md](https://github.com/musx-admin/musx/blob/main/INSTALL.md) for how to install a terminal based midi player to use with musx.  If you dont have a player installed you can access the output files in the same directory as this notebook:"
   ]
  },
  {
   "cell_type": "code",
   "execution_count": null,
   "metadata": {},
   "outputs": [],
   "source": [
    "setmidiplayer(\"fluidsynth -iq -g1 /Users/taube/Music/SoundFonts/MuseScore_General.sf2\")\n",
    "print('OK!')"
   ]
  },
  {
   "cell_type": "markdown",
   "metadata": {},
   "source": [
    "## Chaos"
   ]
  },
  {
   "cell_type": "markdown",
   "metadata": {},
   "source": [
    "The term *deterministic chaos* refers to the behavior of systems that are not random but are nevertheless unpredictable in nature. The physical world is filled with complex dynamic processes such as turbulence and weather that are not random but whose behavior is nevertheless impossible to predict. There are several features that characterize these systems. First, chaotic systems are highly sensitive to initial conditions -- in one initial arrangement their elements produces periodicity; in another, closely proximate arrangement, complete unpredictability ensues. This is because chaotic system are nonlinear, which means that changes in one element do not produce a like, or equivalent change in others. Because of nonlinearity, cause and effect relationships are not proportional in a chaotic system, so that two functions for a single equation may evolve in a similar way but can then suddenly diverge into different paths:"
   ]
  },
  {
   "attachments": {},
   "cell_type": "markdown",
   "metadata": {},
   "source": [
    "<img src=\"support/butterfly.jpg\">\n",
    "\n",
    "Development of the logistic function for f0=.95 and f0=.949999999 (blue) for c=3.75 in both cases. This minimal variation of the initial value yields dramatically different sequences for n>30."
   ]
  },
  {
   "attachments": {},
   "cell_type": "markdown",
   "metadata": {},
   "source": [
    "## The Logistic Map\n",
    "\n",
    "The Logistic Map is a simple example of a discrete dynamical system that actually names a whole family of iterative functions described by the Logistic Equation:\n",
    "\n",
    "<!-- fn + 1 = cfn(1 - fn); for 0.0 ≤ c ≤ 4.0 -->\n",
    "\n",
    "<code>f<sub>n+1</sub> = cf<sub>n</sub>(1 - f<sub>n</sub>); for 0.0 ≤ c ≤ 4.0</code>\n",
    "\n",
    "Each real value of c in the equation yields a different dynamic behavior and hence a different function.\n",
    "\n",
    "As a model for the development of populations (and similar processes), the logistic map may be broken down into an activating and inhibiting term, related by a function R and with a weighting constant c applied to one of the terms:\n",
    "\n",
    "`f=(c * activator) R inhibitor.`\n",
    "\n",
    "In the case of the Logistic Map, R is multiplication:\n",
    "\n",
    "`f=(c * activator) * inhibitor`\n",
    "\n",
    "<img src=\"support/actinhib.jpg\">\n",
    "\n",
    "Activator term x (green) and inhibitor term 1-x (red) of the logistic map and their product (blue), which exhibits a global maximum of 0.25. To keep the final product c*x(1-x) stable between 0.0 and 1.0 it is required that 0≤c≤4.0."
   ]
  },
  {
   "cell_type": "markdown",
   "metadata": {},
   "source": [
    "### Bifurcation\n",
    "\n",
    "The behavior of the logistic map does not depend on the value of f0 alone but also on the constant c. In fact, for numerous values of c, f0 doesn't matter much at all since the function will converge eventually. Most obviously, setting c=0 yields zero values for all values of fn for n>0. (Figure 4) Similar behavior results for all values of c<~3.0. At this point, the map converges to several attractors again, depending on the value of the initial f0. It converges first to 2, then to 4, 8, 16 ... attractors until it reaches chaotic behavior. (This repeated doubling within families of functions such as the logistic map has been first noted and extensively studied by the physicist Mitchell J. Feigenbaum.) Interestingly, the sequence of functions of the logistic map traverse several states of temporary tranquility on their way to sheer chaotic behavior . Thus, fn is actually a family of functions of the form y(s,c) = c * y * (1 - y), with seed values s = {0.0005, 0.001 ... 1.0}. Although the logistic map may give radically different numerical sequences for any two functions of the same family (functions with equal c but differing seed value s) the distribution pattern of a family after i iterations and the histogram of any of its functions up to the ith iteration approach the same attractor.\n",
    "\n",
    "This animation shows a sequence of iterations from 0 through 560, using 1000 initial seed values. Note a) how each iteration adds a new sinusoidal branch to the attractor and b) how each new branch is limited by its neighboring branches. Note, too, how distinctly chaotic and non-chaotic areas of attraction coexist as the number of iterations increases. The repeated doubling of attractors within families of functions such as the logistic map was first noted and extensively studied by the physicist Mitchell J. Feigenbaum."
   ]
  },
  {
   "cell_type": "markdown",
   "metadata": {},
   "source": [
    "See this video:"
   ]
  },
  {
   "cell_type": "code",
   "execution_count": null,
   "metadata": {},
   "outputs": [],
   "source": [
    "from IPython.display import Video\n",
    "Video(\"support/bifurcation.mp4\", embed=True)"
   ]
  },
  {
   "cell_type": "markdown",
   "metadata": {},
   "source": [
    "### Mapping the Logistic Map\n",
    "\n",
    "The logmap composer defined below maps values from the Logistic Map onto key numbers between *key1* and *key2*.  Initial conditions are represented by the parameter *c*, which may range\n",
    "between 0 less than 4.0, and the initial value for *y*|:"
   ]
  },
  {
   "cell_type": "code",
   "execution_count": null,
   "metadata": {},
   "outputs": [],
   "source": [
    "def logmap(score, c, y, num, rate, dur, key1, key2, amp, chan=0):\n",
    "    for _ in range(num):\n",
    "        k = rescale(y, 0, 1, key1, key2)\n",
    "        m = Note(time=score.now, pitch=k, duration=dur, amplitude=amp, instrument=chan)\n",
    "        score.add(m)\n",
    "        y = (y * c * (1 - y))\n",
    "        yield rate\n",
    "\n",
    "print(f\"logmap: {logmap}\")"
   ]
  },
  {
   "cell_type": "markdown",
   "metadata": {},
   "source": [
    "Listen to it:"
   ]
  },
  {
   "cell_type": "code",
   "execution_count": null,
   "metadata": {},
   "outputs": [],
   "source": [
    "C, Y = 3.7, uniran() \n",
    "print(f\"C: {C}, Y: {Y}\")\n",
    "score = Score(out=Seq())\n",
    "score.compose( logmap(score, C, Y, 200, .125, .25, 60, 96, .6) )\n",
    "file = MidiFile(\"sonification.mid\", score.out).write()\n",
    "print(f\"Wrote '{file.pathname}'.\")\n",
    "playfile(file.pathname)"
   ]
  },
  {
   "cell_type": "markdown",
   "metadata": {},
   "source": [
    "Increase the chaos factor close to the maximum:"
   ]
  },
  {
   "cell_type": "code",
   "execution_count": null,
   "metadata": {},
   "outputs": [],
   "source": [
    "C, Y = 3.99, uniran()\n",
    "print(f\"C: {C}, Y: {Y}\")\n",
    "score=Score(out=Seq())\n",
    "score.compose(logmap(score, C, Y, 200, .125, .25, 60, 96, .6))\n",
    "file = MidiFile(\"sonification.mid\", score.out).write()\n",
    "print(f\"Wrote '{file.pathname}'.\")\n",
    "playfile(file.pathname)"
   ]
  },
  {
   "cell_type": "markdown",
   "metadata": {},
   "source": [
    "Listen to two voices diverging:"
   ]
  },
  {
   "cell_type": "code",
   "execution_count": null,
   "metadata": {},
   "outputs": [],
   "source": [
    "C = 3.99\n",
    "Y1 = .95\n",
    "Y2 = .934567\n",
    "print(f\"C: {C}, Y1: {Y1}, Y2: {Y2}\")\n",
    "\n",
    "score = Score(out=Seq())\n",
    "score.compose([logmap(score, C, Y1, 200, .125, .25, 60-24, 96-24, .6),\n",
    "               logmap(score, C, Y2, 200, .125, .25, 60, 96, .6, chan=0)])\n",
    "file = MidiFile(\"sonification.mid\", score.out).write()\n",
    "print(f\"Wrote '{file.pathname}'.\")\n",
    "playfile(file.pathname)"
   ]
  },
  {
   "cell_type": "markdown",
   "metadata": {},
   "source": [
    "This example maps chaotic rhythms onto random choices from the midi drum map (channel 9):"
   ]
  },
  {
   "cell_type": "code",
   "execution_count": null,
   "metadata": {},
   "outputs": [],
   "source": [
    "def groove(score, chaos, y, num, pulse):\n",
    "    keynums = [between(35,82), between(35,82)]\n",
    "    c = Choose(keynums)\n",
    "    for _ in range(num):\n",
    "        k = c.next()\n",
    "        score.add(Note(time=score.now, pitch=k, duration=.01, amplitude=.75, instrument=9))\n",
    "        yield pulse * y\n",
    "        y = y * chaos * (1 - y)\n",
    "\n",
    "C, Y = 3.99, uniran()\n",
    "print(\"C:\", C, \", Y:\", Y)\n",
    "score = Score(out=Seq())\n",
    "score.compose(groove(score, C, Y, 50, .5))\n",
    "file = MidiFile(\"sonification.mid\", score.out).write()\n",
    "print(f\"Wrote '{file.pathname}'.\")\n",
    "playfile(file.pathname)"
   ]
  },
  {
   "cell_type": "markdown",
   "metadata": {},
   "source": [
    "Use a scale other than chromatic, for example three complete octaves of a Slendro scale (5-Tone Equal Temperment) starting on middle C:"
   ]
  },
  {
   "cell_type": "code",
   "execution_count": null,
   "metadata": {},
   "outputs": [],
   "source": [
    "slendro = scale(60, 5 * 3 + 1, temper(2**(1/5)))\n",
    "print(f\"3-octave slendro scale:\\n{slendro}\")"
   ]
  },
  {
   "cell_type": "code",
   "execution_count": null,
   "metadata": {},
   "outputs": [],
   "source": [
    "def logmapscale (score, y, c, num, rate, dur, scl, amp, chan):\n",
    "    for _ in range(num):\n",
    "        i = round(rescale(y, 0, 1, 0, len(scl)-1))\n",
    "        k = scl[i]\n",
    "        m = Note(time=score.now, duration=dur, pitch=k, amplitude=amp, instrument=chan)\n",
    "        score.add(m)\n",
    "        yield rate\n",
    "        y = (y * c * (1 - y))\n",
    "\n",
    "C, Y = 3.8, uniran()\n",
    "print(\"C:\", C, \", Y:\", Y)\n",
    "\n",
    "meta = MidiFile.metatrack(ins={0: TaikoDrum, 1: Celesta, 2: TaikoDrum, 3:Celesta}, \n",
    "                          microdivs=4)\n",
    "score = Score(out=Seq())\n",
    "score.compose(logmapscale(score, Y, C, 100, .125, .25, slendro, .6, 0))\n",
    "file = MidiFile(\"sonification.mid\", [meta, score.out]).write()\n",
    "print(f\"Wrote '{file.pathname}'.\")\n",
    "playfile(file.pathname)"
   ]
  },
  {
   "cell_type": "markdown",
   "metadata": {},
   "source": [
    "This example links both rhythms and pitches together to form more distinctive sonic gestures. The rhythms are quantized to increments of .2:"
   ]
  },
  {
   "cell_type": "code",
   "execution_count": null,
   "metadata": {},
   "outputs": [],
   "source": [
    "def logmap2d(q, chaos, y, num, pulse, key1, key2, dur):\n",
    "    for _ in range(num):\n",
    "        k = rescale(y, 0, 1, key1, key2)\n",
    "        d = quantize(rescale(y, 0, 1, 0, pulse), .2)\n",
    "        score.add(Note(time=score.now, pitch=k, duration=dur, amplitude=.5))\n",
    "        yield d\n",
    "        y = y * chaos * (1 - y)\n",
    "        \n",
    "C, Y = 3.99, uniran()\n",
    "print(\"C:\", C, \", Y:\", Y)\n",
    "\n",
    "meta = MidiFile.metatrack(ins={0: TaikoDrum, 1: TaikoDrum, 2: Celesta, 3: Celesta}, \n",
    "                          microdivs=4)\n",
    "score = Score(out=Seq())\n",
    "score.compose(logmap2d(score, C, Y, 200, .25, 60, 96, 1))\n",
    "file = MidiFile(\"sonification.mid\", [meta, score.out]).write()\n",
    "print(f\"Wrote '{file.pathname}'.\")\n",
    "playfile(file.pathname)\n"
   ]
  },
  {
   "cell_type": "markdown",
   "metadata": {},
   "source": [
    "### Henon Map\n",
    "\n",
    "The formula for calculating values in the Henon Map is:\n",
    "\n",
    "`x[n+1] = 1 + a*x[n]^2 +  b*y[n]`\n",
    "\n",
    "`y[n+1] = x[n]`\n",
    "\n",
    "\n",
    "<img src=\"support/henon.jpg\"/>\n",
    "\n",
    "We can define a function that does this for us, it takes an old x y \"point\" (a list of 2 numbers) and returns a  new point representing the new x and y values\n"
   ]
  },
  {
   "cell_type": "code",
   "execution_count": null,
   "metadata": {},
   "outputs": [],
   "source": [
    "def henon(point, alpha, beta):\n",
    "    oldx = point[0]\n",
    "    oldy = point[1]\n",
    "    newx = 1 + (alpha * oldx * oldx) + (beta * oldy)\n",
    "    newy = oldx\n",
    "    return [newx, newy]\n",
    "\n",
    "print(f\"henon: {henon}\")"
   ]
  },
  {
   "cell_type": "markdown",
   "metadata": {},
   "source": [
    "Some choices for alpha and beta:\n",
    "\n",
    "| a        | b        | x        | y       |\n",
    "|----------|----------|----------|---------|\n",
    "| -1.56693 | 0.003937 | 0.189406 | 0.18940 |\n",
    "| 0.42     | -0.999   |          |         |\n",
    "| 0.22     | -0.999   |          |         |\n",
    "| 0.22     | -1.0     |          |         |\n",
    "| -0.989   | 0.51     |          |         |\n",
    "| -1.191   | 0.31     |          |         |\n",
    "| -1.595   | 0.21     |          |         |\n",
    "| -4       | 0.3      |          |         |\n",
    "\n",
    "<!--\n",
    "| a        \t| b        \t| x        \t| y       \t|\n",
    "| ---------\t| ---------\t| ---------\t| --------\t|\n",
    "| -1.56693 \t| 0.003937 \t| 0.189406 \t| 0.18940 \t|\n",
    "| 0.42     \t| -0.999   \t|          \t|         \t|\n",
    "| 0.22     \t| -0.999   \t|          \t|         \t|\n",
    "| 0.22     \t| -1.0     \t|          \t|         \t|\n",
    "| -0.989   \t| 0.51     \t|          \t|         \t|\n",
    "| -1.191   \t| 0.31     \t|          \t|         \t|\n",
    "| -1.595   \t| 0.21     \t|          \t|         \t|\n",
    "| -1.4     \t| 0.3      \t|          \t|         \t|\n",
    "-->"
   ]
  },
  {
   "cell_type": "code",
   "execution_count": null,
   "metadata": {},
   "outputs": [],
   "source": [
    "def playhemap(score, num, rhy, dur, lok, hik, a, b, x, y, amp):\n",
    "    point = [x,y]\n",
    "    for _ in range(num):\n",
    "        k = rescale( point[0], -1, 1, lok, hik)\n",
    "        m = Note(time=score.now, duration=dur, amplitude=amp, pitch=k)\n",
    "        score.add(m)\n",
    "        yield rhy\n",
    "        point = henon(point, a, b)\n",
    "\n",
    "print(f'playhemap: {playhemap}')"
   ]
  },
  {
   "cell_type": "code",
   "execution_count": null,
   "metadata": {},
   "outputs": [],
   "source": [
    "score = Score(out=Seq())\n",
    "score.compose( playhemap(score, 100, .125, .25, 30, 100, 0.42, -.999, 0.0, 0.0, .7) )\n",
    "file = MidiFile(\"sonification.mid\", score.out).write()\n",
    "print(f\"Wrote '{file.pathname}'.\")\n",
    "playfile(file.pathname)"
   ]
  },
  {
   "cell_type": "markdown",
   "metadata": {},
   "source": [
    "playhemap2 is similar to playhemap except it plays notes that lie within the\n",
    "low/high keynum range and pauses (rests) for note outside the range. This give the algorithm some rhythmic interest."
   ]
  },
  {
   "cell_type": "code",
   "execution_count": null,
   "metadata": {},
   "outputs": [],
   "source": [
    "def playhemap2(score, num, rhy, dur, lok, hik, a, b, x, y, amp):\n",
    "    poi = [x,y]\n",
    "    for _ in range(num):\n",
    "        k = rescale( poi[0], -1, 1, 0, 127)\n",
    "        if k >= lok and k <= hik:\n",
    "            m = Note(time=score.now, duration=dur, amplitude=amp, pitch=k)\n",
    "            score.add(m)\n",
    "        yield rhy\n",
    "        poi = henon(poi,a,b)\n",
    "\n",
    "print(f'playhemap2: {playhemap2}')"
   ]
  },
  {
   "cell_type": "code",
   "execution_count": null,
   "metadata": {},
   "outputs": [],
   "source": [
    "score = Score(out=Seq())\n",
    "A, B = -1.56693, 0.003937\n",
    "score.compose( playhemap2(score, 200, .1, .21, 30, 100, A, B, X, Y, .7) )\n",
    "file = MidiFile(\"sonification.mid\", score.out).write()\n",
    "print(f\"A: {A}, B: {B}, X: {X}, Y: {Y}\")\n",
    "print(f\"Wrote '{file.pathname}'.\")\n",
    "playfile(file.pathname)"
   ]
  },
  {
   "cell_type": "markdown",
   "metadata": {},
   "source": [
    "## Fractals"
   ]
  },
  {
   "cell_type": "markdown",
   "metadata": {},
   "source": [
    "### Sierpinksi's Triangle\n",
    "\n",
    "Sierpinksi's Triangle is a famous two-dimensional fractal. The rules to create Sierpinski's triangle are simple:\n",
    "\n",
    "* Start with a triangle.\n",
    "* Draw a smaller triangle in the middle of the larger triangle with the points of the smaller triangle on the midpoints of the larger triangle's sides. This partitions the large triangle into 4 smaller triangles: a middle triangle and the triangles at each of the corners of the larger triangle.\n",
    "* Leave the middle triangle empty.\n",
    "* Visit each of the corner triangles in the larger triangle and repeat the rules starting with step 1 but now using each of these smaller triangles as the starting triangle.\n",
    "\n",
    "Repeat for as many levels as you want: the result is Sierpinski's Triangle.\n",
    "\n",
    "<img src=\"support/sierp.png\"/>"
   ]
  },
  {
   "cell_type": "markdown",
   "metadata": {},
   "source": [
    "Here is a musical “homage” to the Sierpinski triangle using a recursive process to generate a self-similar melody based on a set set of 3 tones representing the \"sides\" of the triangle:\n",
    "\n",
    "<img src=\"support/map-7.png\"/>"
   ]
  },
  {
   "cell_type": "code",
   "execution_count": null,
   "metadata": {},
   "outputs": [],
   "source": [
    "def sierpinski(score, tone, shape, trans, levels, dur, amp):\n",
    "    num = len(shape)\n",
    "    for i in shape:\n",
    "        k = tone + i\n",
    "        # play current tone in melody\n",
    "        m = Note(time=score.now, duration=dur, pitch=min(k,127),\n",
    "                 amplitude=amp, instrument=0)\n",
    "        score.add(m)\n",
    "        if (levels > 1):\n",
    "            # sprout melody on tone at next level\n",
    "            score.compose(sierpinski(score, (k + trans), shape,\n",
    "                            trans, levels - 1, dur / num,  amp))\n",
    "        yield dur\n",
    "\n",
    "print(f\"sierpinski: {sierpinski}\")"
   ]
  },
  {
   "cell_type": "markdown",
   "metadata": {},
   "source": [
    "Note: Specify levels and melody length with care! The number of events sierpinski generates is exponentially related to the length of the melody and the number of levels. For example the first compose() generates 120 events, the second 726 and the third 2728!"
   ]
  },
  {
   "cell_type": "code",
   "execution_count": null,
   "metadata": {},
   "outputs": [],
   "source": [
    "score = Score(Seq())\n",
    "\n",
    "score.compose(sierpinski(score, keynum('a0'), [0, 11, 3], 12, 4, 3, .5))\n",
    "#score.compose(sierpinski(score, keynum('a0'), [0, 7, 5], 8, 5, 7, .5))\n",
    "#score.compose(sierpinski(score, keynum('a0'), [0, -1, 2, 13], 12, 5, 24, .5))\n",
    "\n",
    "file = MidiFile(\"sonification.mid\", score.out).write()\n",
    "print(f\"Wrote '{file.pathname}'.\")\n",
    "playfile(file.pathname)"
   ]
  },
  {
   "cell_type": "markdown",
   "metadata": {},
   "source": [
    "## Just for fun\n",
    "\n",
    "* Start with a positive integer.\n",
    "* If it is odd, multiply it by 3 and add 1.\n",
    "* If it is even, divide it by 2.\n",
    "* Apply the same two rules to the new value and continue.\n",
    "\n",
    "No matter what number you start with, the system seems to eventually settle down to an infinite loop 4, 2, 1... BUT no one has been able to prove this conjecture is true.\n",
    "\n",
    "Define a function or generator `three_x_plus_1(num, stop=None)` that produces a sequence of 3x+1 numbers until it reaches the 4 2 1 cycle, or optionally terminates after `stop` number of repetitions.   Given this stream of numbers, map the values to musical material according to rules you derive or by adopting some of the mapping and transformation techniques outlined in this lesson and the previous notebooks.\n",
    "\n",
    "For more information on 3x+1 see the video: [The Simplest Math Problem No One Can Solve](https://www.youtube.com/watch?v=094y1Z2wpJg)\n"
   ]
  },
  {
   "cell_type": "code",
   "execution_count": null,
   "metadata": {},
   "outputs": [],
   "source": [
    "\n"
   ]
  }
 ],
 "metadata": {
  "kernelspec": {
   "display_name": "Python 3 (ipykernel)",
   "language": "python",
   "name": "python3"
  },
  "language_info": {
   "codemirror_mode": {
    "name": "ipython",
    "version": 3
   },
   "file_extension": ".py",
   "mimetype": "text/x-python",
   "name": "python",
   "nbconvert_exporter": "python",
   "pygments_lexer": "ipython3",
   "version": "3.10.6"
  }
 },
 "nbformat": 4,
 "nbformat_minor": 4
}

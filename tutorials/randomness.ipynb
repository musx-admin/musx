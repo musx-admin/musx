{
 "cells": [
  {
   "cell_type": "markdown",
   "metadata": {},
   "source": [
    "# Randomness and stochastic music\n",
    "\n",
    "This notebook gives an overview of musx tools for working with randomness.\n",
    "\n",
    "Running this notebook requires the musx package. See [INSTALL.md](https://github.com/musx-admin/musx/blob/main/INSTALL.md) for directions on how to install musx in your environment.\n",
    "<hr style=\"height:1px;color:gray\">"
   ]
  },
  {
   "cell_type": "markdown",
   "metadata": {},
   "source": [
    "Notebook imports:"
   ]
  },
  {
   "cell_type": "code",
   "execution_count": null,
   "metadata": {},
   "outputs": [],
   "source": [
    "import math\n",
    "import matplotlib.pyplot as plt\n",
    "import sys\n",
    "sys.path.append('/Users/taube/Software/musx')\n",
    "from musx import Score, Note, Seq, MidiFile, choose, scale, jumble, intempo, \\\n",
    "    odds, pick, between, setmidiplayer, version, playfile, interp, rescale, \\\n",
    "    uniran, lowran, midran, highran, beta, gauss, white, pink, brown, vary, spray\n",
    "from musx.paint import spray\n",
    "print(f\"musx version: {version}\")"
   ]
  },
  {
   "cell_type": "markdown",
   "metadata": {},
   "source": [
    "Generate midi files and automatically play them using [fluidsynth](https://www.fluidsynth.org/download/) and the [MuseScore_General.sf3](https://ftp.osuosl.org/pub/musescore/soundfont/MuseScore_General) sound font. See [INSTALL.md](https://github.com/musx-admin/musx/blob/main/INSTALL.md) for how to install a terminal based midi player to use with musx.  If you dont have a player installed you can access the output files in the same directory as this notebook:"
   ]
  },
  {
   "cell_type": "code",
   "execution_count": null,
   "metadata": {},
   "outputs": [],
   "source": [
    "setmidiplayer(\"fluidsynth -iq -g1 /Users/taube/Music/SoundFonts/MuseScore_General.sf2\")\n",
    "print('OK!')"
   ]
  },
  {
   "cell_type": "markdown",
   "metadata": {},
   "source": [
    "## Discrete vs continuous random selection\n",
    "\n",
    "In music composition, random processes are used to generate both continuous and descrete musical outcomes. In this notebook floating point values used for continuous values and integers for discrete choices. For example, amplitude and hertz values (frequency) are continuous since any change in hertz produces a unique frequency. In contrast, equal tempered pitch and midi key numbers produce discrete (specific) pitchs. Musx provide a number of different random number generators, each with a unique *probability distribution* that determines its possible outcomes. The following sections demonstrate examples of  distrubute sonified to descrete and continuous results."
   ]
  },
  {
   "cell_type": "markdown",
   "metadata": {},
   "source": [
    "Setup for graphing and performing distributions. Note: since standard midi files are inherently discrete, the midi performances of continuous results use channel tuning to quantize hertz to ~12 cent increments (100¢ / 9 = 12.5)).  The mode parameter to the discrete() composer allows experimentation with variety of musical scales, all of which start on keynum 21 and end on keynum 107."
   ]
  },
  {
   "cell_type": "code",
   "execution_count": null,
   "metadata": {},
   "outputs": [],
   "source": [
    "# midi microtuning\n",
    "meta = MidiFile.metatrack(microdivs=9)\n",
    "\n",
    "def continuous(score, num, rans, mini, maxi, dur, amp):\n",
    "    for i in range(num):\n",
    "        r = rans[i]\n",
    "        k = rescale(r, mini, maxi, 21, 106)\n",
    "        m = Note(time=score.now, duration=dur, pitch=k, amplitude=amp)\n",
    "        score.add(m)\n",
    "        yield dur\n",
    "\n",
    "def playcontinuous(data, a=0, b=1):\n",
    "    score = Score(out=Seq())\n",
    "    score.compose(continuous(score, 80, data, a, b, .12, .7))\n",
    "    file = MidiFile(\"randomness.mid\", [meta, score.out]).write()\n",
    "    print(f\"Wrote '{file.pathname}'.\")\n",
    "    playfile(file.pathname) \n",
    "\n",
    "def discrete(score, num, rans, mini, maxi, dur, amp, mode):\n",
    "    if mode == 1:    # pentatonic\n",
    "        gamut = scale(21, 37, 2,2,3,2,3)\n",
    "    elif mode == 2:  # blues\n",
    "        gamut = scale(21, 6*7+2, 3,2,1,1,3,2)\n",
    "    elif mode == 3:  # hexatonic\n",
    "        gamut = scale(21, 6*7+2, 1,3)    \n",
    "    elif mode == 4:  # octatonic\n",
    "        gamut = scale(21, 8*7+2, 2,1)\n",
    "    else:            # chromatic\n",
    "        gamut = [k for k in range(21, 107)]\n",
    "        raise ValueError(f\"mode {mode} not 1,2,3, or 4.\")\n",
    "    for i in range(num):\n",
    "        r = rans[i]\n",
    "        h = rescale(r, mini, maxi, 0, len(gamut))\n",
    "        k = gamut[int(h)]\n",
    "        m = Note(time=score.now, duration=dur, pitch=k, amplitude=amp)\n",
    "        score.add(m)\n",
    "        yield dur\n",
    "\n",
    "def playdiscrete(data, a=0, b=1, mode=1):\n",
    "    score = Score(out=Seq())\n",
    "    score.compose(discrete(score, 80, data, a, b, .12, .7, mode))\n",
    "    f = MidiFile(\"discrete.mid\", [meta, score.out]).write()\n",
    "    playfile(f.pathname)\n",
    "    \n",
    "def plot(data):\n",
    "    plt.plot(data)\n",
    "    plt.show()\n",
    "        \n",
    "def histogram(data):\n",
    "    plt.hist(data, bins=30, facecolor=\"blue\", alpha=0.5) \n",
    "    plt.show()\n",
    "\n",
    "print('OK!')"
   ]
  },
  {
   "cell_type": "markdown",
   "metadata": {},
   "source": [
    "### Uniform distribution\n",
    "\n",
    "```uniran()```\n",
    "\n",
    "Returns uniform random numbers between 0.0 and 1.0 (exclusive)."
   ]
  },
  {
   "cell_type": "code",
   "execution_count": null,
   "metadata": {},
   "outputs": [],
   "source": [
    "data = [uniran() for _ in range(5000)]\n",
    "histogram(data)"
   ]
  },
  {
   "cell_type": "markdown",
   "metadata": {},
   "source": [
    "Listen to continuous uniform randomness:"
   ]
  },
  {
   "cell_type": "code",
   "execution_count": null,
   "metadata": {},
   "outputs": [],
   "source": [
    "playcontinuous(data)"
   ]
  },
  {
   "cell_type": "markdown",
   "metadata": {},
   "source": [
    "Listen to discrete uniform randomness:"
   ]
  },
  {
   "cell_type": "code",
   "execution_count": null,
   "metadata": {},
   "outputs": [],
   "source": [
    "playdiscrete(data, mode=1)"
   ]
  },
  {
   "cell_type": "markdown",
   "metadata": {},
   "source": [
    "### Low-pass distribution\n",
    "\n",
    "```lowran()```\n",
    "\n",
    "Returns a floating point value between 0.0 and 1.0 with lower values more likely.\n",
    "\n",
    "Histogram plot:"
   ]
  },
  {
   "cell_type": "code",
   "execution_count": null,
   "metadata": {},
   "outputs": [],
   "source": [
    "data = [lowran() for _ in range(5000)]\n",
    "histogram(data)"
   ]
  },
  {
   "cell_type": "markdown",
   "metadata": {},
   "source": [
    "Listen to 'continuous' low-pass randomness:"
   ]
  },
  {
   "cell_type": "code",
   "execution_count": null,
   "metadata": {},
   "outputs": [],
   "source": [
    "playcontinuous(data)"
   ]
  },
  {
   "cell_type": "markdown",
   "metadata": {},
   "source": [
    "Listen to discrete low-pass randomness:"
   ]
  },
  {
   "cell_type": "code",
   "execution_count": null,
   "metadata": {},
   "outputs": [],
   "source": [
    "playdiscrete(data, mode=1)"
   ]
  },
  {
   "cell_type": "markdown",
   "metadata": {},
   "source": [
    "### Mid-pass distribution\n",
    "\n",
    "```midran()```\n",
    "\n",
    "Returns a floating point value between 0.0 and 1.0 with midrange values more likely.\n",
    "\n",
    "Histogram plot:"
   ]
  },
  {
   "cell_type": "code",
   "execution_count": null,
   "metadata": {},
   "outputs": [],
   "source": [
    "data = [midran() for _ in range(5000)]\n",
    "histogram(data)"
   ]
  },
  {
   "cell_type": "markdown",
   "metadata": {},
   "source": [
    "Listen to 'continuous' mid-range randomness:"
   ]
  },
  {
   "cell_type": "code",
   "execution_count": null,
   "metadata": {},
   "outputs": [],
   "source": [
    "playcontinuous(data)"
   ]
  },
  {
   "cell_type": "markdown",
   "metadata": {},
   "source": [
    "Listen to discrete mid-range randomness:"
   ]
  },
  {
   "cell_type": "code",
   "execution_count": null,
   "metadata": {},
   "outputs": [],
   "source": [
    "playdiscrete(data, mode=4)"
   ]
  },
  {
   "cell_type": "markdown",
   "metadata": {},
   "source": [
    "### High-pass distribution\n",
    "\n",
    "```highran()```\n",
    "\n",
    "Returns a floating point value between 0.0 and 1.0 with higher values more likely.\n",
    "\n",
    "Histogram plot:"
   ]
  },
  {
   "cell_type": "code",
   "execution_count": null,
   "metadata": {},
   "outputs": [],
   "source": [
    "data = [highran() for _ in range(5000)]\n",
    "histogram(data)"
   ]
  },
  {
   "cell_type": "markdown",
   "metadata": {},
   "source": [
    "Listen to 'continuous' high-pass randomness:"
   ]
  },
  {
   "cell_type": "code",
   "execution_count": null,
   "metadata": {},
   "outputs": [],
   "source": [
    "playcontinuous(data)"
   ]
  },
  {
   "cell_type": "markdown",
   "metadata": {},
   "source": [
    "Listen to discrete high-pass randomness:"
   ]
  },
  {
   "cell_type": "code",
   "execution_count": null,
   "metadata": {},
   "outputs": [],
   "source": [
    "playdiscrete(data, mode=2)"
   ]
  },
  {
   "cell_type": "markdown",
   "metadata": {},
   "source": [
    "### Beta distribution\n",
    "\n",
    "```beta(alpha, beta)```\n",
    "\n",
    "Returns value between 0 and 1 from the [beta distribution](https://en.wikipedia.org/wiki/Beta_distribution). When alpha=beta=1 the distribution is uniform. When alpha=beta, the distribution is symmetric around .5. When alpha<1 and beta<1 then the density of larger and smaller numbers increases. When alpha>1 and beta>1, density is similar to the gaussian distribution.\n",
    "\n",
    "Histogram plots for different alpha and beta values (a and b):"
   ]
  },
  {
   "cell_type": "code",
   "execution_count": null,
   "metadata": {},
   "outputs": [],
   "source": [
    "a,b = 5,5\n",
    "data = [beta(a,b) for _ in range(5000)]\n",
    "histogram(data)"
   ]
  },
  {
   "cell_type": "code",
   "execution_count": null,
   "metadata": {
    "scrolled": true
   },
   "outputs": [],
   "source": [
    "a,b = 1,1\n",
    "data = [beta(a,b) for _ in range(5000)]\n",
    "histogram(data)"
   ]
  },
  {
   "cell_type": "code",
   "execution_count": null,
   "metadata": {},
   "outputs": [],
   "source": [
    "a,b = .1,.1\n",
    "data = [beta() for _ in range(5000)]\n",
    "histogram(data)"
   ]
  },
  {
   "cell_type": "code",
   "execution_count": null,
   "metadata": {
    "scrolled": false
   },
   "outputs": [],
   "source": [
    "a,b = .3,.3\n",
    "data = [beta(a,b) for _ in range(5000)]\n",
    "histogram(data)"
   ]
  },
  {
   "cell_type": "markdown",
   "metadata": {},
   "source": [
    "Listen to 'continuous' beta randomness:"
   ]
  },
  {
   "cell_type": "code",
   "execution_count": null,
   "metadata": {},
   "outputs": [],
   "source": [
    "playcontinuous(data)"
   ]
  },
  {
   "cell_type": "markdown",
   "metadata": {},
   "source": [
    "Listen to discrete beta randomness:"
   ]
  },
  {
   "cell_type": "code",
   "execution_count": null,
   "metadata": {},
   "outputs": [],
   "source": [
    "playdiscrete(data, mode=1)"
   ]
  },
  {
   "cell_type": "markdown",
   "metadata": {},
   "source": [
    "Interpolate beta smoothly from \"normal\" &rarr; \"uniform\" &rarr; beta=.1 :"
   ]
  },
  {
   "cell_type": "code",
   "execution_count": null,
   "metadata": {},
   "outputs": [],
   "source": [
    "def playbeta(score, num, dur, amp):\n",
    "    gamut = scale(21, 37, 2,2,3,2,3) #(21, 8*7+2, 2,1)\n",
    "    for i in range(num):\n",
    "        c = interp(i, 0, 5, 100, .1)\n",
    "        r = beta(c,c)\n",
    "        h = rescale(r, 0, 1, 0, len(gamut)-1)\n",
    "        k = gamut[int(h)]\n",
    "        m = Note(time=score.now, duration=dur, pitch=k, amplitude=.7)\n",
    "        score.add(m)\n",
    "        yield dur\n",
    "        \n",
    "score = Score(out=Seq())\n",
    "score.compose(playbeta(score, 150, .12, .7))\n",
    "file = MidiFile(\"randomness.mid\", score.out).write()\n",
    "print(f\"Wrote '{file.pathname}'.\")\n",
    "playfile(file.pathname)"
   ]
  },
  {
   "cell_type": "markdown",
   "metadata": {},
   "source": [
    "### Gaussian distribution\n",
    "\n",
    "```gauss(*sigma*=1, *mu*=0)```\n",
    "\n",
    "Returns unbounded value from the [normal distribution](https://en.wikipedia.org/wiki/Normal_distribution) with standard deviation *sigma* and mean *mu*.  The spread (standard deviation) is 1.0 centered at 0, so 68.26% of the results are between -1 and 1 inclusive and 99.74% of the results are between -3 and 3 inclusive.\n",
    "\n",
    "Histogram plots:"
   ]
  },
  {
   "cell_type": "code",
   "execution_count": null,
   "metadata": {},
   "outputs": [],
   "source": [
    "data = [gauss() for _ in range(5000)]\n",
    "histogram(data)"
   ]
  },
  {
   "cell_type": "markdown",
   "metadata": {},
   "source": [
    "Listen to 'continuous' gaussian randomness:"
   ]
  },
  {
   "cell_type": "code",
   "execution_count": null,
   "metadata": {},
   "outputs": [],
   "source": [
    "playcontinuous(data, -3, 3)"
   ]
  },
  {
   "cell_type": "markdown",
   "metadata": {},
   "source": [
    "Listen to discrete gaussian randomness:"
   ]
  },
  {
   "cell_type": "code",
   "execution_count": null,
   "metadata": {},
   "outputs": [],
   "source": [
    "playdiscrete(data, -3, 3)"
   ]
  },
  {
   "cell_type": "markdown",
   "metadata": {},
   "source": [
    "### White noise\n",
    "\n",
    "```white()```\n",
    "\n",
    "Returns white (uniform noise) samples between -1.0 and 1.0."
   ]
  },
  {
   "cell_type": "code",
   "execution_count": null,
   "metadata": {},
   "outputs": [],
   "source": [
    "data = [white() for _ in range(5000)]\n",
    "histogram(data)"
   ]
  },
  {
   "cell_type": "markdown",
   "metadata": {},
   "source": [
    "Listen to 'continuous' white noise randomness:"
   ]
  },
  {
   "cell_type": "code",
   "execution_count": null,
   "metadata": {},
   "outputs": [],
   "source": [
    "playcontinuous(data, -1, 1)"
   ]
  },
  {
   "cell_type": "markdown",
   "metadata": {},
   "source": [
    "Listen to  discrete white noise randomness:"
   ]
  },
  {
   "cell_type": "code",
   "execution_count": null,
   "metadata": {},
   "outputs": [],
   "source": [
    "playdiscrete(data, -1, 1)"
   ]
  },
  {
   "cell_type": "markdown",
   "metadata": {},
   "source": [
    "### Pink noise\n",
    "\n",
    "```pink()```\n",
    "\n",
    "Returns pinkish (1/f) noise samples between -1.0 and 1.0. See:\n",
    "\n",
    "* Voss RF, Clarke J (1975) [1/f noise’ in music and speech](http://123.physics.ucdavis.edu/week_3_files/voss-clarke.pdf). Nature 258(5533):317–318.\n",
    "* Dan Wu,Keith M. Kendrick,Daniel J. Levitin,Chaoyi Li,Dezhong Yao (2015) [Bach Is the Father of Harmony: Revealed by a 1/f Fluctuation Analysis across Musical Genres](https://journals.plos.org/plosone/article?id=10.1371/journal.pone.0142431). PloS One. 2015;10. doi: e0142431.\n",
    "* Levitin DJ, Chordia P, Menon V. (2012) [Musical rhythm spectra from Bach to Joplin obey a 1/f power law](https://www.pnas.org/content/109/10/3716/). Proceedings of the National Academy of Sciences. 2012;109:3716–20\n",
    "\n",
    "Histogram plot:"
   ]
  },
  {
   "cell_type": "code",
   "execution_count": null,
   "metadata": {},
   "outputs": [],
   "source": [
    "data = [pink() for _ in range(5000)]\n",
    "histogram(data)"
   ]
  },
  {
   "cell_type": "markdown",
   "metadata": {},
   "source": [
    "Listen to  'continuous' pink noise randomness:"
   ]
  },
  {
   "cell_type": "code",
   "execution_count": null,
   "metadata": {},
   "outputs": [],
   "source": [
    "playcontinuous(data, -1, 1)"
   ]
  },
  {
   "cell_type": "markdown",
   "metadata": {},
   "source": [
    "Listen to  discrete pink noise randomness:"
   ]
  },
  {
   "cell_type": "code",
   "execution_count": null,
   "metadata": {},
   "outputs": [],
   "source": [
    "playdiscrete(data, -1, 1)"
   ]
  },
  {
   "cell_type": "markdown",
   "metadata": {},
   "source": [
    "### Brown noise\n",
    "\n",
    "```brown()```\n",
    "\n",
    "Returns brownish (1/f**2) noise samples between -1 and 1.\n",
    "\n",
    "Histogram plot:"
   ]
  },
  {
   "cell_type": "code",
   "execution_count": null,
   "metadata": {},
   "outputs": [],
   "source": [
    "data = [brown() for _ in range(5000)]\n",
    "histogram(data)"
   ]
  },
  {
   "cell_type": "markdown",
   "metadata": {},
   "source": [
    "Listen to 'continuous' brown noise randomness:"
   ]
  },
  {
   "cell_type": "code",
   "execution_count": null,
   "metadata": {},
   "outputs": [],
   "source": [
    "playcontinuous(data, -1, 1)"
   ]
  },
  {
   "cell_type": "markdown",
   "metadata": {},
   "source": [
    "Listen to  discrete brown noise randomness:"
   ]
  },
  {
   "cell_type": "code",
   "execution_count": null,
   "metadata": {},
   "outputs": [],
   "source": [
    "playdiscrete(data, -1, 1)"
   ]
  },
  {
   "cell_type": "markdown",
   "metadata": {},
   "source": [
    "## Special purpose random generators"
   ]
  },
  {
   "cell_type": "markdown",
   "metadata": {},
   "source": [
    "### ```between(a, b)```\n",
    "\n",
    "Returns a random value between a and b (exclusive). An int is returned if both a and b are ints, otherwise a float is returned. "
   ]
  },
  {
   "cell_type": "code",
   "execution_count": null,
   "metadata": {},
   "outputs": [],
   "source": [
    "[between(20, 30) for _ in range(10)]"
   ]
  },
  {
   "cell_type": "code",
   "execution_count": null,
   "metadata": {},
   "outputs": [],
   "source": [
    "[between(20.0, 30) for _ in range(10)]"
   ]
  },
  {
   "cell_type": "markdown",
   "metadata": {},
   "source": [
    "### ```odds(prob, true, false)```\n",
    "\n",
    "Returns the value in *true* if a random choice is less than *prob* else returns the value in *false*."
   ]
  },
  {
   "cell_type": "code",
   "execution_count": null,
   "metadata": {},
   "outputs": [],
   "source": [
    "[odds(.2, \"c4\", \"fs4\") for _ in range(10)]"
   ]
  },
  {
   "cell_type": "markdown",
   "metadata": {},
   "source": [
    "### ```vary(num, pct, shift)```\n",
    "\n",
    "\n",
    "\n",
    "Returns a random number that deviates from value *num* or list of the same by up to variance (1=100%) according to shift. If shift is None then then value is at the center of what could be returned. Shift \"+\" places the selected value at the minimum of what could be returned and \"-\" means that the value is the maximum possible value returned."
   ]
  },
  {
   "cell_type": "code",
   "execution_count": null,
   "metadata": {},
   "outputs": [],
   "source": [
    "[vary(1, .2) for _ in range(10)]"
   ]
  },
  {
   "cell_type": "markdown",
   "metadata": {},
   "source": [
    "Variance above value:"
   ]
  },
  {
   "cell_type": "code",
   "execution_count": null,
   "metadata": {},
   "outputs": [],
   "source": [
    "[vary(1, .2, '+') for _ in range(10)]"
   ]
  },
  {
   "cell_type": "markdown",
   "metadata": {},
   "source": [
    "Variance below value:"
   ]
  },
  {
   "cell_type": "code",
   "execution_count": null,
   "metadata": {},
   "outputs": [],
   "source": [
    "\n",
    "[vary(1, .2, '-') for _ in range(10)]"
   ]
  },
  {
   "cell_type": "markdown",
   "metadata": {},
   "source": [
    "### The spray() note generator\n",
    "\n",
    "The musx.paint module provides a `spray()` generator that outputs musical notes who's parameters are determined through controlled random selection.  \n",
    "\n",
    "This example uses `spray()` to create a short blues-ish piece. The choice of notes and their characterisics are determined by random selection within boundaries determined by the composer, but the sectional organization of the composition is completely determined:"
   ]
  },
  {
   "cell_type": "code",
   "execution_count": null,
   "metadata": {},
   "outputs": [],
   "source": [
    "blues = [0, 3, 5, 6, 7, 10, 12]\n",
    "\n",
    "score = Score(out=Seq())\n",
    "s1 = spray(score, duration=.2, rhythm=.2, band=[0, 3, 5], pitch=30, amplitude=0.35, end=36)\n",
    "s2 = spray(score, duration=.2, rhythm=[-.2, -.4, .2, .2], band=[3, 7, 6], pitch=pick(30, 42), amplitude=0.5, end=25)\n",
    "s3 = spray(score, duration=.2, rhythm=[-.2, .2, .2], band=blues, pitch=pick(42, 54), instrument=2, end=20)\n",
    "s4 = spray(score, duration=.2, rhythm=[-.6, .4, .4], band=blues, pitch=66, amplitude=0.4, end=15)\n",
    "s5 = spray(score, duration=.2, rhythm=.2, band=[0, 3, 5], pitch=30, amplitude=0.5, end=10)\n",
    "s6 = spray(score, duration=.2, rhythm=[-.2, -.4, .2, .2], band=[3, 7, 6], pitch=pick(30, 42), amplitude=0.8, end=10)\n",
    "s7 = spray(score, duration=.2, rhythm=[-.2, .2, .2], band=blues, pitch=pick(42, 54), instrument=2, end=10)\n",
    "s8 = spray(score, duration=.2, rhythm=[-.6, .4, .4], band=blues, pitch=66, amplitude=0.6, end=10)\n",
    "s9 = spray(score, duration=.2, rhythm=.2, band=blues, pitch=66, amplitude=0.4, end=6)\n",
    "\n",
    "score.compose([[0, s1], [5, s2], [10, s3], [15, s4], [37, s5], \n",
    "               [37, s6], [37, s7], [37,s8], [47,s9]])\n",
    "\n",
    "file = MidiFile(\"randomness.mid\", score.out).write()\n",
    "print(f\"Wrote '{file.pathname}'\")\n",
    "playfile(file.pathname)"
   ]
  },
  {
   "cell_type": "code",
   "execution_count": null,
   "metadata": {},
   "outputs": [],
   "source": []
  }
 ],
 "metadata": {
  "kernelspec": {
   "display_name": "Python 3 (ipykernel)",
   "language": "python",
   "name": "python3"
  },
  "language_info": {
   "codemirror_mode": {
    "name": "ipython",
    "version": 3
   },
   "file_extension": ".py",
   "mimetype": "text/x-python",
   "name": "python",
   "nbconvert_exporter": "python",
   "pygments_lexer": "ipython3",
   "version": "3.10.6"
  }
 },
 "nbformat": 4,
 "nbformat_minor": 4
}

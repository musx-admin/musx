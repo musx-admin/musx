{
 "cells": [
  {
   "cell_type": "markdown",
   "id": "16d9da08-17fd-417d-9435-6ad44e81cf07",
   "metadata": {},
   "source": [
    "# AUDIO SYNTHESIS WITH PYSNDLIB\n",
    "\n",
    "This tutorial provides an introduction to working with Todd Ingalls' [pysndlib](https://pypi.org/project/pysndlib/), a python wrapper around [sndlib](https://ccrma.stanford.edu/software/snd/sndlib/), an audio synthesis library developed by Bill Schottstaedt at CCRMA, Stanford University.\n",
    "\n",
    "To install pysndlib (mac and linux) do:\n",
    "\n",
    "```\n",
    "$ pip install pysndlib\n",
    "```\n",
    "<hr style=\"height:1px; color: grey;\">"
   ]
  },
  {
   "cell_type": "markdown",
   "id": "80716771-bba1-4883-a29e-6860b5ddc2c1",
   "metadata": {},
   "source": [
    "Notebook setup:"
   ]
  },
  {
   "cell_type": "code",
   "execution_count": null,
   "id": "f2218638-e29b-437c-9875-6fc194a62e96",
   "metadata": {},
   "outputs": [],
   "source": [
    "import sys\n",
    "sys.path.append(\"/Users/taube/Software/musx\")\n",
    "from IPython.display import display, HTML\n",
    "display(HTML(\"<style>.container { width:100% !important; }</style>\"))\n",
    "from IPython.display import Code\n",
    "import math\n",
    "import pysndlib.clm as clm\n",
    "import pysndlib.sndlib as snd\n",
    "import pysndlib.instruments as ins\n",
    "import pysndlib.env as envs\n",
    "import matplotlib.pyplot as plt\n",
    "import musx    \n",
    "\n",
    "def plotenv(env, title='', figsize=(3, 3)):\n",
    "    xdata, ydata = env[::2], env[1::2]\n",
    "    fig, ax = plt.subplots(figsize=figsize)\n",
    "    if title: plt.title(title)\n",
    "    ax.plot(xdata, ydata)\n",
    "    plt.show()\n",
    "\n",
    "def plotenvs(envs, titles=[], figsize=(6.4, 4.8), sharex=True, sharey=True):\n",
    "    fig, axes = plt.subplots(nrows=1, ncols=len(envs), sharex=sharex, sharey=sharey, figsize=figsize)\n",
    "    for i,env in enumerate(envs):\n",
    "        xdata, ydata = env[::2], env[1::2]\n",
    "        if titles: axes[i].title.set_text(titles[i])\n",
    "        axes[i].plot(xdata,ydata)\n",
    "    plt.show()\n",
    "    \n",
    "print(f\"musx version: {musx.version}\")"
   ]
  },
  {
   "cell_type": "markdown",
   "id": "f63a37fc-2cee-4b18-961c-5572f8fdedb2",
   "metadata": {},
   "source": [
    "## Introduction\n",
    "\n",
    "The pysndlib package provides support for reading and writing audio samples to files and <!--reading/writing audio samples to/from files--> and [numpy](https://pypi.org/project/numpy/) arrays.  The software consists of several large modules:\n",
    "\n",
    "* pysndlib.clm : defines unit generators, utility functions, enum definitions, and input/output support for arrays and files, including the all-important `with Sound():` context.\n",
    "\n",
    "* pysndlib.snd : defines functions and enums for manipulating audio file header data. sndlib supports over 70 different sound file formats; each format has its own notion of what header information consists of, and this module allows you to get and set header data in a fairly generic way.\n",
    "\n",
    "* pysndlib.instruments : contains many historical audio instruments developed at CCRMA, including several of John Chowning's ground breaking FM instruments; reverb/spacialization tools; physical models; and various implementations of acoustic musical insturment using FM, amplitude modulation, additive syntheses, filters, etc.\n",
    "\n",
    "* pysndlib.env : defines functions related to creating and modifying x,y envelopes.\n",
    "\n",
    "This notebook imports these namespaces as 'clm', 'snd', 'ins', and 'envs' in an attempt to make it clear which pysndlib module a given reference belongs to. In a similar way, musx references always start with the 'musx' prefix."
   ]
  },
  {
   "cell_type": "markdown",
   "id": "2ff39a2f-51f6-41ca-81b5-324f12a89dc9",
   "metadata": {},
   "source": [
    "## Building a simple audio instrument"
   ]
  },
  {
   "cell_type": "markdown",
   "id": "d7b458a6-d77c-4ae7-b4b8-137b6a7db616",
   "metadata": {},
   "source": [
    "In pysndlib an audio instrument is a function that outputs a stream of audio samples.  To generate the stream an instrument allocates unit generators (units of code that implement specific audio tasks) and runs them in a loop to output the stream of samples.  An audio sample is a number (int or float, depending) that represents the instantaneous amplitude of a waveform at a particular point in time. Each output sample is written to a particular location in a file; the exact location depends on the sampling rate -- the number of samples per second the audio player is processing."
   ]
  },
  {
   "cell_type": "markdown",
   "id": "589bbc87-eec3-4bac-a585-a9f049693270",
   "metadata": {},
   "source": [
    "The `simp()` instrument introduces these concepts along with several of the core unit generators and functions that pysndlib provides:"
   ]
  },
  {
   "cell_type": "code",
   "execution_count": null,
   "id": "43e019fd-2306-4a8f-95fd-68da4e1a55a3",
   "metadata": {},
   "outputs": [],
   "source": [
    "def simp(start=0, dur=1, freq=440, amp=.5):\n",
    "    beg = clm.seconds2samples(start)\n",
    "    end = clm.seconds2samples(start + dur)\n",
    "    osc = clm.make_oscil(freq)\n",
    "    for i in range(beg, end):\n",
    "        sample = clm.oscil(osc) * amp\n",
    "        clm.outa(i, sample)\n",
    "\n",
    "print(f\"instrument: {simp}\")"
   ]
  },
  {
   "cell_type": "markdown",
   "id": "68fdc351-d32b-45cc-b46f-6fd9125a4d4c",
   "metadata": {},
   "source": [
    "Here is a line-by-line explanation of the instrument.\n",
    "\n",
    "1. Defines the simp instrument (function) with four input parameters:\n",
    "    - start (*int | float*) : The start time of the sound in seconds, defaults to 0.\n",
    "    - dur  (*int | float*) : The time that the sound lasts in seconds, defaults to 1 second.\n",
    "    - freq (*int | float*) : The frequency of the sound in hertz, defaults to 440 hz.\n",
    "    - amp (*int | float*) : The amplitude of the sound ranging from 0.0 to 1.0, defaults to .5.\n",
    "2. Converts time in seconds into a starting sample position in the output audio stream.<!-- This position depends on the start time and the underlying sample rate: (`time` * SRATE), more about this later.-->\n",
    "3. Same operation, but determines the ending sample position.\n",
    "4. Allocates an `oscil()` unit generator to produce sine wave values (-1.0 to 1.0) at a given frequency (rate). \n",
    "5. Iterates `i` over all the sample positions from `beg` to `end`.\n",
    "6. Gets the next sample returned by `oscil()` and scale it by the `amp` parameter.\n",
    "7. Calls `outa()` to write the sample at the i'th position in channel a, where 'a' is an old-fashioned name for channel index 0."
   ]
  },
  {
   "cell_type": "markdown",
   "id": "860618f3-df0d-47f6-b965-4468654e3b2c",
   "metadata": {},
   "source": [
    "## Generating audio files"
   ]
  },
  {
   "cell_type": "markdown",
   "id": "9aff2bf0-f076-4db1-91ae-077580e8a1d1",
   "metadata": {},
   "source": [
    "Use pysndlib's `with Sound()` context to generate audio to a file. `with Sound()` behaves very much like Python's `with Open()` -- it provides a hygenic environment (safe read/write open/close) in which Python expressions can process data to files. It also provides [controls to customize the audio stream](https://testcase.github.io/pysndlib/with_sound.html); a number of these will will be used over the course of this notebook.\n",
    "\n",
    "Here are some examples of generating audio files using `with Sound()`."
   ]
  },
  {
   "cell_type": "markdown",
   "id": "723507f3-8930-47c7-8fa5-9cb6fc77984b",
   "metadata": {},
   "source": [
    "Call `simp()` using its default parameter values; play the file and print information as soon as the file is written:"
   ]
  },
  {
   "cell_type": "code",
   "execution_count": null,
   "id": "a2e66581-22f8-4d8b-9f72-97e4b972c7af",
   "metadata": {},
   "outputs": [],
   "source": [
    "with clm.Sound(\"test.wav\", play=True, statistics=True):\n",
    "    simp()"
   ]
  },
  {
   "cell_type": "markdown",
   "id": "6a03af4a-d65a-4356-b2e2-5ed3b8ba1273",
   "metadata": {},
   "source": [
    "Play the 4th and 5th octaves of the harmonic series as a musical scale with diminishing amplitudes:"
   ]
  },
  {
   "cell_type": "code",
   "execution_count": null,
   "id": "70ccd78a-500d-44f9-a798-2aa1fa1b4a72",
   "metadata": {},
   "outputs": [],
   "source": [
    "with clm.Sound(\"test.wav\", play=True):\n",
    "    scale = musx.harmonics(8, 32, fund=200.0)\n",
    "    print(scale)\n",
    "    for i,f in enumerate(scale):\n",
    "        a = musx.rescale(i, 0, 32, 1, .01, mode='-exp')\n",
    "        simp(start=i/2, dur=.4, freq=f, amp=a)"
   ]
  },
  {
   "cell_type": "markdown",
   "id": "05bacd25-43a5-4128-9043-86ae26957bbb",
   "metadata": {},
   "source": [
    "\"Hello World!\":"
   ]
  },
  {
   "cell_type": "code",
   "execution_count": null,
   "id": "2ff4a2dc-9100-4366-941e-81adc84b4a23",
   "metadata": {},
   "outputs": [],
   "source": [
    "with clm.Sound(\"test.wav\", play=True):\n",
    "    text, beg, rate = \"Hello, World!\", 0, .5\n",
    "    for hz in [musx.hertz(ord(c)) for c in text]:\n",
    "        simp(start=beg, dur=rate*.7, freq=hz/3, amp=.25)\n",
    "        beg += rate"
   ]
  },
  {
   "cell_type": "markdown",
   "id": "81f31198-81b2-4426-aa9b-0b6ae9f3012c",
   "metadata": {
    "scrolled": true
   },
   "source": [
    "Sound cloud of 10 random pitches:"
   ]
  },
  {
   "cell_type": "code",
   "execution_count": null,
   "id": "d8b4a5d8-735c-445a-9604-81416628ba1c",
   "metadata": {},
   "outputs": [],
   "source": [
    "with clm.Sound(\"test.wave\", play=True):\n",
    "    for r in range(10):\n",
    "        simp(start=r/4, dur=8-(r/4), freq=musx.between(200, 600), amp=.1)"
   ]
  },
  {
   "cell_type": "markdown",
   "id": "af610122-0503-4dbf-bde0-bcb1024a5160",
   "metadata": {},
   "source": [
    "Chopsticks with left and right index fingers. There is no need to time sort the two independant hands: audio instruments write to absolute sample positions and a written sample will be merged with any sample value that is already there:"
   ]
  },
  {
   "cell_type": "code",
   "execution_count": null,
   "id": "a437e05f-e67c-48e5-ac0b-37f60cfa2025",
   "metadata": {},
   "outputs": [],
   "source": [
    "with clm.Sound(\"test.wave\", play=True):\n",
    "    \n",
    "    def chopsticks(hand, rate):\n",
    "        right = \"d5*8 d*8  f#*6 e f# g\"\n",
    "        left  = \"c5*8 b4*8 a*8       g\" \n",
    "        finger = musx.hertz(right if hand == 'right' else left)\n",
    "        beg = 0\n",
    "        for hz in finger:\n",
    "            simp(start=beg, dur=rate*.75, freq=hz)\n",
    "            beg += rate\n",
    "\n",
    "    chopsticks(\"right\", .25)\n",
    "    chopsticks(\"left\", .25)"
   ]
  },
  {
   "cell_type": "markdown",
   "id": "f2fe2f93-af6e-40d9-a9b7-7df908791d9d",
   "metadata": {},
   "source": [
    "## Adding audio controls\n",
    "\n",
    "We can greatly improve on our `simp()` instrument by adding four new unit generators to the mix: `make_env()` and `env()` for envelope control, and `make_locsig()` and `locsig()` for placing audio at specific locations in speaker-space:"
   ]
  },
  {
   "cell_type": "code",
   "execution_count": null,
   "id": "8c61ec98-8db6-4f04-aca6-d6c656c68875",
   "metadata": {},
   "outputs": [],
   "source": [
    "def gimp(start=0, dur=1, freq=440, amp=.25, ampenv=[0, 0, .15, 1, .85, 1, 1, 0], \n",
    "         freqskw=0, freqenv=[0,0,1,0], degree=45, distance=0, reverb_amount=0):\n",
    "    beg = clm.seconds2samples(start)\n",
    "    end = clm.seconds2samples(start + dur)\n",
    "    osc = clm.make_oscil(freq)\n",
    "    ampenv = clm.make_env(ampenv, scaler=amp, duration=dur)\n",
    "    glsenv = clm.make_env(freqenv, scaler=clm.hz2radians(freq) * freqskw, duration=dur)\n",
    "    loc = clm.make_locsig(degree=degree, distance=distance, reverb=reverb_amount)\n",
    "    for i in range(beg, end):\n",
    "        samp = clm.env(ampenv) * clm.oscil(osc, clm.env(glsenv))\n",
    "        clm.locsig(loc, i, samp)\n",
    "\n",
    "print(f\"instrument: {gimp}\")"
   ]
  },
  {
   "cell_type": "markdown",
   "id": "93057399-c547-4bbb-8e9e-aec2babd5e46",
   "metadata": {},
   "source": [
    "### Amplitude envelopes\n",
    "\n",
    "In pysndlib an envelope is a Python list containing a series of x,y number pairs: [_x1,y1,x2,y2...xn,yn_]. The x values must be monotonically increasing left to right; the y values can range as they like. Envelopes are used to shape values for a certain effect. An envelope's coordinate system is not fixed, but it usually makes sense to work with \"normalized\" envelopes, e.g. envelopes who's x and y values range 0 -> 1, or 0 -> 100. This makes the envelope shape easy to grasp and you can scale and offset the envelope shape for different contexts.\n",
    "\n",
    "In addition to adding envelope controls, `gimp()` provides several new parameters, including two that affect the amplitude and location of the sound:\n",
    "\n",
    "* ampenv (*list*) : An x,y amplitude envelope, defaults to a three segment trapezoid (rise, steady-state, fall).\n",
    "* degree (*int* | *float*) : The sound's location, in degrees, within a stereo speaker space.\n",
    "\n",
    "This next example highlights the improvements implemented in `gimp()`. For example, the original `simp()` instrument produces notes that start and end with an annoying 'snap', and its audio signal appears in only the left channel of a two-channel audio file. The snap occurs because `simp()` moves to its maximum amplitude instantaneously, over the course of one sample. The audio appears only in the left channel because that is what the `outa()` generator is defined to do. In comparison, the amplitude envelope in `gimp()` ramps amplitude up and down over a number of samples, and its `locsig()` generator places audio in multichannel space:"
   ]
  },
  {
   "cell_type": "code",
   "execution_count": null,
   "id": "6beed34b-f151-4798-b624-22ba5c0b75fb",
   "metadata": {},
   "outputs": [],
   "source": [
    "simpenv, gimpenv =  [0, 1, 1, 1], [0, 0, .15, 1, .85, 1, 1, 0]\n",
    "plotenvs([simpenv, gimpenv], figsize=(3,1), titles=[\"simp() amp\", \"gimp() amp\"])\n",
    "\n",
    "with clm.Sound(\"test.wav\", play=True, channels=2):\n",
    "    simp(start=0, dur=1, amp=.9)\n",
    "    gimp(start=2, dur=1, amp=.9)"
   ]
  },
  {
   "cell_type": "markdown",
   "id": "42d8845c-cb45-4b74-98e5-6f02968fe141",
   "metadata": {},
   "source": [
    "In this example `gimp()`  generates eleven notes; each note receives its own unique amplitude shape as the initial normalized envelope morphs into its mirror image:"
   ]
  },
  {
   "cell_type": "code",
   "execution_count": null,
   "id": "64d7beb6-52eb-49d4-a917-41b589e6f81e",
   "metadata": {},
   "outputs": [],
   "source": [
    "ampenvs = [[0, 1-i, 1, 0+i] for i in musx.frange(0, 1.1, .1)]\n",
    "plotenvs(ampenvs, titles=[i for i in range(1,12)], figsize=(8,1))\n",
    "\n",
    "with clm.Sound(\"test.wav\", play=True, channels=2):\n",
    "    for i, env in enumerate(ampenvs):\n",
    "        gimp(i, .75, 440, .9, ampenv=env)"
   ]
  },
  {
   "cell_type": "markdown",
   "id": "8b80fb49-8e41-43b1-b81c-bd8488662977",
   "metadata": {},
   "source": [
    "Exponential amplitude envelopes work well for percussive sounds. This example plays a nice percussive 2 octave pentatonic scale."
   ]
  },
  {
   "cell_type": "code",
   "execution_count": null,
   "id": "ea7e6c83-3b06-403d-95cb-113e0b428986",
   "metadata": {},
   "outputs": [],
   "source": [
    "scale = musx.scale(60, 16, 2, 2, 3, 2, 3 )\n",
    "ampenv = musx.exp_env()\n",
    "print(f\"scale: {scale}\")\n",
    "print(f\"ampenv: {ampenv}\")\n",
    "plotenv(ampenv, title=\"perc env\", figsize=(2,1))\n",
    "\n",
    "with clm.Sound(\"test.wav\", play=True, channels=2):\n",
    "    for t, k in enumerate(scale):\n",
    "        for u in musx.frange(0, .3, .1):\n",
    "            gimp(t*.3+u, .15, musx.hertz(k), .9, ampenv=ampenv)"
   ]
  },
  {
   "cell_type": "markdown",
   "id": "e0f38b02-bd42-4e25-b50d-ecc75f382883",
   "metadata": {},
   "source": [
    "### Frequency Envelopes\n",
    "\n",
    "Envelopes can be applied to frequency as well as amplitude. A frequency envelope is effectively a shaped glissando. The `gimp()` instrument has two parameters that control frequency changes:\n",
    "\n",
    "* freqskw (*int* | *float*) : An amount to move (skew) from the `freq` parameter's value. Both positive and negative skews are possible. If skew is 0 then the frequency envelope will have no effect. The default freqskw value is 0.\n",
    "* freqenv (*list*) : An x,y envelope; at maximum y the maximum frequency skew will be reached. Defaults to zero [0, 0, 1, 0] (no effect).\n",
    "\n",
    "Line 7 and 8 in gimp()'s code create the amplitude and frequency envelopes. \n",
    "\n",
    ">ampenv = clm.make_env(ampenv, scaler=amp, duration=dur)\n",
    "\n",
    ">glsenv = clm.make_env(freqenv, scaler=clm.hz2radians(freqskw), duration=dur)\n",
    "    \n",
    "Note that envelopes applied to frequency must be expressed in *radians*, not hertz or amplitudes!"
   ]
  },
  {
   "cell_type": "markdown",
   "id": "af890509-1e1b-4ea2-9f72-6da7d50e4997",
   "metadata": {},
   "source": [
    "To produce a frequency envelope with gimp() you must provide non-zero values for both the `freq` and the `freqskw` parameters:"
   ]
  },
  {
   "cell_type": "code",
   "execution_count": null,
   "id": "153c275c-fdc4-4de7-ab3e-ba7e1a5c92a6",
   "metadata": {},
   "outputs": [],
   "source": [
    "freqenv=[0, 0, .30, 0, .70, 1, 1, 1]\n",
    "print(f\"freqenv: {freqenv}\")\n",
    "plotenv(freqenv, title=\"freqenv\", figsize=(2,1))\n",
    "\n",
    "with clm.Sound(\"test.wav\", play=True, channels=2):\n",
    "    gimp(start=0, dur=2, freq=220, amp=.9, freqskw=3, freqenv=freqenv)"
   ]
  },
  {
   "cell_type": "markdown",
   "id": "05a173dc-d30f-4359-92e9-974cdd72ddc4",
   "metadata": {},
   "source": [
    "Skews can go negative:"
   ]
  },
  {
   "cell_type": "code",
   "execution_count": null,
   "id": "b925d6d8-97cb-4c2c-99c9-502843c006d2",
   "metadata": {},
   "outputs": [],
   "source": [
    "freqenv = [0, 0, .25, -1, .75, 1, 1, 0]\n",
    "print(f\"freqenv: {freqenv}\") \n",
    "plotenv(freqenv, figsize=(2,1), title=\"skew down and up\")\n",
    "\n",
    "with clm.Sound(\"test.wav\", play=True, channels=2):\n",
    "    #for i, env in enumerate(ampenvs):\n",
    "    gimp(start=0, dur=2, freq=440, amp=.9, freqskw=.5, freqenv=[0, 0, .25, -1, .75, 1, 1, 0])"
   ]
  },
  {
   "cell_type": "markdown",
   "id": "c44031fc-bbcf-4485-97d9-dd1abffef5f6",
   "metadata": {},
   "source": [
    "Siren:"
   ]
  },
  {
   "cell_type": "code",
   "execution_count": null,
   "id": "0c58b80b-1c19-4bdc-b60d-21f982855aa7",
   "metadata": {
    "scrolled": true
   },
   "outputs": [],
   "source": [
    "freqenv = [0,0]\n",
    "for i in range(1, 11):\n",
    "    if i % 1 == 0: \n",
    "        freqenv.extend([(i/10)-.01, 1, i/10, 0])\n",
    "print(f\"freqenv: {freqenv}\")    \n",
    "plotenv(freqenv, figsize=(3,2))\n",
    "\n",
    "with clm.Sound(\"test.wav\", play=True, channels=2):\n",
    "    gimp(start=0, dur=2.5, freq=440, amp=.9,  freqskw=1.5, freqenv=freqenv)"
   ]
  },
  {
   "cell_type": "markdown",
   "id": "3a3fd758-48b5-48a1-8f9e-e3d6b45ab9cd",
   "metadata": {},
   "source": [
    "Six randomized bird calls (\"Solitary Vireo\", Bill Schottstaedt)"
   ]
  },
  {
   "cell_type": "code",
   "execution_count": null,
   "id": "41182621-97fc-4c86-9ebf-d298fb94365c",
   "metadata": {},
   "outputs": [],
   "source": [
    "ampenv = [0.0, 0.0, .25, 1.0, .60, .70, .75, 1.0, 1.0, 0.0]\n",
    "freqenv = [0.0, .20, .03, .30, .06, .10, .10, .50, .13, .40, .16, .80, .19, .50, \n",
    "           .22, .90, .25, .60, .28, 1.0, .31, .60, .34, 1.0, .37, .50, .41, .90,\n",
    "           .45, .40, .49, .80, .51, .40, .54, .75, .57, .35, .60, .70, .63, .30,\n",
    "           .66, .60, .69, .25, .72, .50, .75, .20, .78, .30, .82, .10, .85, .30,\n",
    "           .88, .05, .91, .30, .94, 0.0, .95, .30, .99, 0.0, 1.0, .10]\n",
    "plotenvs([ampenv, freqenv] , figsize=(4,2), titles=[\"amp env\", \"freq env\"])\n",
    "\n",
    "with clm.Sound(\"test.wav\", play=True, channels=2):\n",
    "    for i in range(6):\n",
    "        gimp(i, dur=musx.vary(.4, .2), freq=musx.vary(1800, .4) , amp=musx.vary(.75, .15) , ampenv=ampenv,\n",
    "             freqskw=musx.vary(.5, .35), freqenv=freqenv)      "
   ]
  },
  {
   "cell_type": "markdown",
   "id": "640bbf3a-ec9b-4782-80f7-5041d0ca3adc",
   "metadata": {},
   "source": [
    "### Signal placement"
   ]
  },
  {
   "cell_type": "markdown",
   "id": "42ea2bea-0a73-48e2-a9ed-e9811c850987",
   "metadata": {
    "scrolled": true
   },
   "source": [
    "Two channel audio provides 90 degrees of speaker space to work with: degree 0 is full left, 45 is center (equal power in both speakers) and 90  is full right. The range of 0-90 degrees is one 'segment' in a potential speaker space of 360 degrees:\n",
    "\n",
    "| Left  | Center | Right |\n",
    "| :---  | :----: |  ---: |    \n",
    "| 0/360 |   45   |   90  |\n",
    "| 315   |  you  |  135  |\n",
    "| 270   |  225   |  180  |\n"
   ]
  },
  {
   "cell_type": "markdown",
   "id": "40594588-50df-4d81-a879-3a305e3bbbcb",
   "metadata": {},
   "source": [
    "In this next example a single sinewave controls both pitch and speaker location.  As the sinewave's amplitude moves between -1 and 1, the speaker location moves between 0 and 90 degrees and pitch ranges from 220 to 440 hertz. The instrument is using an exponential amplitude envelope to produce the rapid decay of a percusive instrument.\n",
    "\n",
    "(This example will work best if you use headphones.)"
   ]
  },
  {
   "cell_type": "code",
   "execution_count": null,
   "id": "206368d8-b0a4-424e-8295-b9af35920a56",
   "metadata": {},
   "outputs": [],
   "source": [
    "with clm.Sound(\"test.wav\", play=True, channels=2):\n",
    "    ampenv = musx.exp_env()\n",
    "    rate = 1 # 2 3 7\n",
    "    tops = [440, 880, 440, 770, 440, 660, 440, 550, 440]\n",
    "    beg = 0\n",
    "    for top in tops:\n",
    "        location, frequency = [], []\n",
    "        for time in musx.frange(0, 4.01, .1):\n",
    "            sinewave = math.sin(2*math.pi*rate*time)\n",
    "            degree = musx.rescale(sinewave, -1, 1, 0, 90)\n",
    "            location.extend([time, degree])\n",
    "            pitch = musx.rescale(sinewave, -1, 1, 220, top)\n",
    "            frequency.extend([time, pitch])\n",
    "            gimp(beg+time, .75, pitch, .75, degree=degree, ampenv=ampenv)\n",
    "        if beg == 0:\n",
    "            plotenvs([ampenv, location, frequency], titles=[\"amp env\", \"location\", \"frequency\"],\n",
    "                     figsize=(8,2), sharex=False, sharey=False)\n",
    "        beg += 4.1 "
   ]
  },
  {
   "attachments": {},
   "cell_type": "markdown",
   "id": "70a67649-ee76-4dc7-8fe8-9839184a11b2",
   "metadata": {},
   "source": [
    "### Reverberation\n",
    "\n",
    "<!-- Reverberation occurs when a space with (reflecting) surfaces scatters sound in different directions and with different -->\n",
    " Reverberation occurs in an enclosed envronment when reflective surfaces scatter sound in different directions and at different phases, producing a multitude of diffused, stretched copies of the original sound.  In the digital domain this can be achieved in a variety ways, a common solution involves routing the audio signal through a combination of filters, e.g. networks of all-pass, comb, and low-pass filters, to achieve the desired effect.  Over the years composers and researchers at CCRMA developed a number of different reverberators (prcrev, kiprev, nrev, jcrev, jlrev, tankrev, converb...), of these, the `nrev()` reverberator has probably been the most used and is featured in the next few examples.\n",
    "\n",
    "Adding reverberation to a pysndlib audio instrument involves several steps:\n",
    "\n",
    "1. The instrument needs to include a unit generator such as `locsig()` to handle the reverberation.\n",
    "2. Reverberation parameters are added to the instrument so users can control reverb quality on a note by note basis.\n",
    "3. The `with Sound():` context must receive a reverberator instance to use with the instrument calls.\n",
    "    \n",
    "The `gimp()` instrument already includes two parameters that affect reverberation:\n",
    "\n",
    "* distance : (*int* | *float*), A distance factor to use with reverberation. Distance has no units, but as its value increases the signal is perceived to be recededing further into the distance. Defaults to 1.  \n",
    "* reverb_amount (*int* | *float*) : an amount of the signal to reverberate, e.g. 'reverb_amount=.001'. Take care with this value -- it is possible to \"blow up\" the reverberator with too high a value. Experiment with different settings carefully, start out listening to small quantites such as .001, or .01 and work your way up as necessary.  Defaults to 0.\n",
    "\n",
    "In line 7 `gimp()`  passes  the distance and reverb_amount values to `locsig()` along with the degree setting:\n",
    "\n",
    "> loc = clm.make_locsig(degree=degree, distance=distance, reverb=reverb_amount)   \n",
    "\n",
    "In a DAW reverb is typicically applied to an entire track.  While this is also possible in pysndlib, the reverb in pysndlib can be specific to each *instrument*: one sound file can contain multiple instruments, each of which can apply unique locations, distances, and reverb amounts.  The default values for locsig are:\n",
    "\n",
    "> reverb_factor=1.09, lp_coeff=.7, volume=1.0, decay_time=1.\n",
    "\n",
    "##### Applying the `nrev()` reverberator\n",
    "\n",
    "In the next example gimp plays 5 percussive notes with increasing amounts of reverb, the last note 'clips' because at that point the reverberator is oversaturated, as shown in this image.\n",
    "\n",
    "<div>\n",
    "   <center><img src=\"support/rev1.png\" width=\"500\"></center>\n",
    "</div>\n",
    "\n",
    "If you are using headphones check your levels before playing!"
   ]
  },
  {
   "cell_type": "code",
   "execution_count": null,
   "id": "7722a41d-06cd-400a-a630-8fda42a77564",
   "metadata": {},
   "outputs": [],
   "source": [
    "ampenv = [0.0, 1.0, 0.1, 0.5, 0.2, 0.25, 0.3, 0.125, 0.4, 0.0625, 0.5, 0.03125, \n",
    "          0.6, 0.015625, 0.7, 0.0078125, 0.8, 0.00390625, 0.9, 0.001953125, 1.0, 0.0]\n",
    "\n",
    "revamounts = [0, .001, .01, .1, .5, 1.5]\n",
    "\n",
    "with clm.Sound(\"test.wav\", play=True, channels=2, reverb=ins.nrev(),reverb_channels=1):\n",
    "    for t, revamt in enumerate(revamounts):\n",
    "        print(\"rev_amount:\", revamt)\n",
    "        gimp(t, .1, 440, .8, ampenv, degree=45, distance=1, reverb_amount=revamt)"
   ]
  },
  {
   "attachments": {},
   "cell_type": "markdown",
   "id": "e1f9be41-5685-46f3-8e6e-eb0547d98507",
   "metadata": {},
   "source": [
    "This example reduces the previous reverb amount to .5 so the amplitude no longer clips. However, the audio still clips on the x axis because the file stops at the time+duration of the last note, which is earlier than the time at which the heavy reverberation tail can reach zero:\n",
    "<!-- ![rev2.png](attachment:ceaf3980-c7cc-4226-ab42-1af593415231.png) -->\n",
    "\n",
    "<div>\n",
    "   <center><img src=\"support/rev2.png\" width=\"500\"></center>\n",
    "</div>"
   ]
  },
  {
   "cell_type": "code",
   "execution_count": null,
   "id": "80f22627-95a6-449c-b687-1249ee9ccc5c",
   "metadata": {},
   "outputs": [],
   "source": [
    "revamounts = [0, .001, .01, .1, .5]\n",
    "\n",
    "with clm.Sound(\"test.wav\", play=True, channels=2, reverb=ins.nrev(),reverb_channels=1):\n",
    "    for t, revamt in enumerate(revamounts):\n",
    "        print(\"rev_amount:\", revamt)\n",
    "        gimp(t, .1, 440, .8, ampenv, degree=45, distance=1, reverb_amount=revamt)"
   ]
  },
  {
   "cell_type": "markdown",
   "id": "6462cd15-ddf8-4b45-b3b8-0987fc00ad7e",
   "metadata": {},
   "source": [
    "#### nrev parameters\n",
    "\n",
    "To fix the x-axis clipping, specify a `decay_time` to nrev when it is passed to the context.\n",
    "\n",
    "The nrev reverberator has four parameters:\n",
    "\n",
    "* reverb_factor _(float)_ : controls the length of the reverb decay, defaults to 1.09 and should not exceed 1.215.\n",
    "* lp_coeff _(float)_ : controls the strength of the low pass filter inserted in the feedback loop, defaults to .7.\n",
    "* volume _(float)_ : amplitude scaler on the reverb output, defaults to 1.0.\n",
    "* decay_time _(int | float)_: amount of time for the reverb's tail to drain to 0. Defaults to 1 second.\n",
    "\n",
    "The default values for the first three prameters work well in most cases but the `decay_time` value is just a guess and won't work well for endings with heavy reverb.\n",
    "\n",
    "In this example nrev's `decay_time` is set to 2.5 seconds, long enough for the reverb tail to disappear even if headphones are on:"
   ]
  },
  {
   "cell_type": "code",
   "execution_count": null,
   "id": "a2353bc7-0ff5-47b8-b6d5-01a7b3ae7a76",
   "metadata": {},
   "outputs": [],
   "source": [
    "with clm.Sound(\"test.wav\", play=True, channels=2, reverb=ins.nrev(decay_time=2.5),reverb_channels=1):\n",
    "    for t, revamt in enumerate(revamounts):\n",
    "        print(\"rev_amount:\", revamt)\n",
    "        gimp(t, .1, 440, .8, ampenv, degree=45, distance=1, reverb_amount=revamt)"
   ]
  },
  {
   "cell_type": "markdown",
   "id": "9611bb24-9bfa-4052-b702-368a5f5c8748",
   "metadata": {},
   "source": [
    "This example adds reverb, distance and degree to every other chord in the appeggiated chords routine. Degrees are applied to each note, distance and reverb are applied to every other chord:"
   ]
  },
  {
   "cell_type": "code",
   "execution_count": null,
   "id": "fb69e6d3-7156-439b-856a-15dbe95702ce",
   "metadata": {},
   "outputs": [],
   "source": [
    "with clm.Sound(\"test.wav\", play=True, channels=2, reverb=ins.nrev(decay_time=2.5),reverb_channels=1):\n",
    "    ampenv = musx.exp_env()\n",
    "    rate = 1 #2 3 4\n",
    "    tops = [440, 880, 440, 770, 440, 660, 440, 550, 440]\n",
    "    beg = 0\n",
    "    for num, top in enumerate(tops, 1):\n",
    "        dist, rev = (num, .003 * num) if num % 2 == 0 else (1, 0)\n",
    "        for time in musx.frange(0, 4.01, .1):\n",
    "            sinewave = math.sin(2 * math.pi * rate * time)\n",
    "            degree = musx.rescale(sinewave, -1, 1, 0, 90)\n",
    "            pitch = musx.rescale(sinewave, -1, 1, 220, top)\n",
    "            gimp(beg + time, .75, pitch, .75, degree=degree, ampenv=ampenv, reverb_amount=rev, distance=dist)\n",
    "        beg += 4.1"
   ]
  },
  {
   "cell_type": "markdown",
   "id": "fd202677-f889-47d8-9ee9-f80bee2cec4c",
   "metadata": {},
   "source": [
    "## CLM instruments\n",
    "\n",
    "Designing interesting audio instruments is as much an art form as creating interesting compositions that use them! Over many years CCRMA produced a whole host instruments and compositions that have had both musical and commercial success. Many of these instruments are offshoots from John Chowning's seminal paper <a href=\"https://ccrma.stanford.edu/sites/default/files/user/jc/fm_synthesis_paper.pdf\">The Synthesis of Complex Audio Spectra by Means of Frequency Modulation</a>.  Chowning's paper eventually resulted in the production of Yamaha's DX synthesizers, the most successful synth series in the history of electronic music. Years later Julius Smith produced his <a href=\"https://ccrma.stanford.edu/~jos/pasp/\">Physical Model</a> approach at CCRMA, which became another (entirely different) commercially successful technique."
   ]
  },
  {
   "cell_type": "markdown",
   "id": "04f82c93-a634-4495-8c04-96c27a68d8ed",
   "metadata": {
    "jp-MarkdownHeadingCollapsed": true
   },
   "source": [
    "This next instrument models the FM algorithm described in Chowning's article (pp. 6-10) using the nomenclature of the paper so you can match the code to the descriptions in the paper. The article's instrument parameters are:\n",
    "\n",
    "* P1 = Begin time of instrument\n",
    "* P2 = Instrument number (IGNORED)\n",
    "* P3 = Duration of the \"note\"\n",
    "* P4 = Amplitude of the output wave\n",
    "* P5 = Carrier frequency\n",
    "* P6 = Modulating frequency\n",
    "* P7 = Modulation index 1, I1\n",
    "* P8 = Modulation index 2, I2\n",
    "\n",
    "In the paper Chowning refers to amplitude and timbre envelopes that are not represented by instrument parameters. These are added as `amp_env` and `index_env` arguments to the instrument:"
   ]
  },
  {
   "cell_type": "code",
   "execution_count": null,
   "id": "296ba947-2a95-4d38-8c71-75fe076c0c33",
   "metadata": {},
   "outputs": [],
   "source": [
    "def proto_fm(P1, P3, P4, P5, P6, P7, P8, amp_env, index_env):\n",
    "    start = clm.seconds2samples(P1)\n",
    "    end = clm.seconds2samples(P1 + P3)\n",
    "    amp_env = clm.make_env(amp_env, scaler=P4, duration=P3)\n",
    "    carrier = clm.make_oscil(P5)\n",
    "    modulator = clm.make_oscil(P6)\n",
    "    dev1 = P7 * P6\n",
    "    dev2 = (P8 - P7) * P6\n",
    "    dev_env = clm.make_env(index_env, offset=clm.hz2radians(dev1), scaler=clm.hz2radians(dev2), duration=P3)\n",
    "    for i in range(start, end):\n",
    "        deviation = clm.env(dev_env) * clm.oscil(modulator)\n",
    "        clm.outa(i, clm.env(amp_env) * clm.oscil(carrier, deviation))\n",
    "     \n",
    "print(f\"instrument: {proto_fm}\")"
   ]
  },
  {
   "cell_type": "markdown",
   "id": "2b3c8dc7-dca5-49e9-ad0a-53ab2ec43591",
   "metadata": {},
   "source": [
    "#### Audio examples from the paper"
   ]
  },
  {
   "cell_type": "markdown",
   "id": "5aad5bbe-935d-4d92-b5cd-ea150057810d",
   "metadata": {},
   "source": [
    "Generic brass-like tones:"
   ]
  },
  {
   "cell_type": "code",
   "execution_count": null,
   "id": "04d7d036-22dc-41d5-a723-e6b6b9e83b85",
   "metadata": {},
   "outputs": [],
   "source": [
    "with clm.Sound(\"test.wav\", play=True):\n",
    "    #amp_env = [0, 0, 1/8, 1, 2/6, .7, 5/6, .6, 1, 0]\n",
    "    amp_env=[0, 0, 1/12, 1, 1/3, .6, 5/6, .5, 1, 0]\n",
    "    index_env = amp_env\n",
    "    plotenvs([amp_env, index_env], titles=[\"amp_env\", \"index_env\"], figsize=(4,1))\n",
    "    proto_fm(P1=0, P3=.6, P4=.5, P5=440, P6=440, P7=0, P8=5, amp_env=amp_env, index_env=index_env)"
   ]
  },
  {
   "cell_type": "markdown",
   "id": "f5f15941-70a0-49a6-9769-9076b94c05d5",
   "metadata": {},
   "source": [
    "Generic woodwind-like tone:"
   ]
  },
  {
   "cell_type": "code",
   "execution_count": null,
   "id": "fb42594d-ee9c-4816-8c2c-cd092eba21e8",
   "metadata": {},
   "outputs": [],
   "source": [
    "with clm.Sound(\"test.wav\", play=True):\n",
    "    amp_env = [0, 0, .075, 1, 2/6, .7, 5/6, .6, 1, 0]\n",
    "    index_env = [0, 0, .075, 1,  .1, 1, 1, .95]\n",
    "    plotenvs([amp_env, index_env], titles=[\"amp_env\", \"index_env\"], figsize=(4,1))\n",
    "    proto_fm(P1=0, P3=.6, P4=.5, P5=900, P6=300, P7=0, P8=2, amp_env=amp_env, index_env=index_env)"
   ]
  },
  {
   "cell_type": "markdown",
   "id": "a7e6fda1-8db8-4c9a-86a3-838777e664f9",
   "metadata": {},
   "source": [
    "Bassoon-like tone:"
   ]
  },
  {
   "cell_type": "code",
   "execution_count": null,
   "id": "b76bde37-408a-47c7-863a-f50f98ce04fa",
   "metadata": {},
   "outputs": [],
   "source": [
    "with clm.Sound(\"test.wav\", play=True):\n",
    "    amp_env = [0, 0, .075, 1, 2/6, .7, 5/6, .6, 1, 0]\n",
    "    index_env = [0, 0, .075, 1,  .1, 1, 1, .95]\n",
    "    plotenvs([amp_env, index_env], titles=[\"amp_env\", \"index_env\"], figsize=(4,1))\n",
    "    proto_fm(P1=0, P3=.6, P4=.5, P5=500, P6=100, P7=0, P8=1.5, amp_env=amp_env, index_env=index_env)"
   ]
  },
  {
   "cell_type": "markdown",
   "id": "9da6ae64-d00f-429d-9e48-fe8bc15ebadf",
   "metadata": {},
   "source": [
    "Clarinet-like tone:"
   ]
  },
  {
   "cell_type": "code",
   "execution_count": null,
   "id": "6c6f97cc-96b9-4289-aa11-453516583a03",
   "metadata": {},
   "outputs": [],
   "source": [
    "with clm.Sound(\"test.wav\", play=True):\n",
    "    amp_env = [0, 0, .075, 1, 2/6, .7, 5/6, .6, 1, 0]\n",
    "    ind_env = [0, 0, .075, 1,  .1, 1, 1, .95]\n",
    "    plotenvs([amp_env, ind_env], titles=[\"amp_env\", \"index_env\"], figsize=(4,1))\n",
    "    proto_fm(P1=0, P3=.6, P4=.5, P5=900, P6=600, P7=4, P8=2, amp_env=amp_env, index_env=index_env)"
   ]
  },
  {
   "cell_type": "markdown",
   "id": "4c3705cb-7629-48f2-a0e9-c37a2c03bfc8",
   "metadata": {},
   "source": [
    "Bell-like tones:"
   ]
  },
  {
   "cell_type": "code",
   "execution_count": null,
   "id": "b6e1be80-b708-47e4-a51c-d548daa1059d",
   "metadata": {},
   "outputs": [],
   "source": [
    "with clm.Sound(\"test.wav\", play=True):\n",
    "    amp_env = musx.exp_env(20, 2)\n",
    "    index_env = amp_env\n",
    "    plotenvs([amp_env, index_env], titles=[\"amp_env\", \"index_env\"], figsize=(4,1))\n",
    "    proto_fm(P1=0, P3=8, P4=.8, P5=200, P6=280, P7=0, P8=10, amp_env=amp_env, index_env=index_env)"
   ]
  },
  {
   "cell_type": "markdown",
   "id": "f04e6bf9-fa7e-41bd-a5c0-62fde881046b",
   "metadata": {},
   "source": [
    "Drum-like tone:"
   ]
  },
  {
   "cell_type": "code",
   "execution_count": null,
   "id": "1491c0a1-21da-4e5d-a693-2ae6891283f0",
   "metadata": {},
   "outputs": [],
   "source": [
    "with clm.Sound(\"test.wav\", play=True):\n",
    "    amp_env = musx.exp_env(10, 3)    \n",
    "    index_env = [0, .75, .2, 1, .4, .25, .6, .1, 1, 0]\n",
    "    plotenvs([amp_env, index_env], titles=[\"amp_env\", \"index_env\"], figsize=(4,1))\n",
    "    proto_fm(P1=0, P3=.2, P4=.9, P5=200, P6=280, P7=0, P8=2, amp_env=amp_env, index_env=index_env)"
   ]
  },
  {
   "cell_type": "markdown",
   "id": "a1aa8c46-97e4-4a0c-81d6-8c0f78f5ef5a",
   "metadata": {},
   "source": [
    "Wood drum -like tone:"
   ]
  },
  {
   "cell_type": "code",
   "execution_count": null,
   "id": "e35c7131-4f9c-48cb-af98-3880935357e2",
   "metadata": {},
   "outputs": [],
   "source": [
    "with clm.Sound(\"test.wav\", play=True, channels=2):\n",
    "    amp_env = musx.exp_env(10, 3)    \n",
    "    index_env = [0, 1, .025, 0, 1, 0]\n",
    "    plotenvs([amp_env, index_env], titles=[\"amp_env\", \"index_env\"], figsize=(4,1))\n",
    "    proto_fm(P1=0, P3=1, P4=.9, P5=80, P6=55, P7=0, P8=25, amp_env=amp_env, index_env=index_env)"
   ]
  },
  {
   "cell_type": "markdown",
   "id": "b6bb6788-ec0a-4ce7-824c-b1484e1d1a89",
   "metadata": {},
   "source": [
    "#### A Simple FM Instrument"
   ]
  },
  {
   "cell_type": "markdown",
   "id": "84ad4c58-1937-4fc1-9dcc-467ea4c1e51c",
   "metadata": {},
   "source": [
    "Here is a rewrite of the prototype instrument that uses descriptive parameter names and adds several improvements. It is called \"simple fm\" because the instrument uses only two oscillators,  as opposed to more complex arrangements found in cascade fm and parallel fm:"
   ]
  },
  {
   "cell_type": "code",
   "execution_count": null,
   "id": "dbf96247-a86f-4e0d-8aa9-3b72b99fa7ad",
   "metadata": {},
   "outputs": [],
   "source": [
    "def simple_fm (start, duration, carrier, amplitude, mc_ratio=1, fm_index=1,\n",
    "               amp_env=[0,0,.25,1,.75,1,1,0], amp_attack=None, amp_release=None,\n",
    "               index_env=[0, 1, 1, 1], index_attack=None, index_release=None,\n",
    "               degree=45, distance=1, reverb=0):\n",
    "    start = clm.seconds2samples(start)\n",
    "    end = start + clm.seconds2samples(duration)\n",
    "    car_osc = clm.make_oscil(carrier)\n",
    "    mod_osc = clm.make_oscil(carrier * mc_ratio)\n",
    "    fm_index = clm.hz2radians(fm_index * mc_ratio * carrier)\n",
    "    if amp_attack:\n",
    "        amp_env = musx.segment_env(amp_env, duration, amp_attack, amp_release)\n",
    "    if index_attack:\n",
    "        index_env = musx.segment_env(index_env, duration, index_attack, index_release)\n",
    "    amp_env = clm.make_env(amp_env, scaler=amplitude, duration=duration)\n",
    "    index_env = clm.make_env(index_env, scaler=fm_index, duration=duration)\n",
    "    for i in range(start, end):\n",
    "        clm.outa(i, clm.env(amp_env) * clm.oscil(car_osc, clm.env(index_env) * clm.oscil(mod_osc)))\n",
    "        \n",
    "print(f'instrument: {simple_fm}')"
   ]
  },
  {
   "cell_type": "markdown",
   "id": "3c92bdb0-56da-421d-afad-f4f6efb3a9d6",
   "metadata": {},
   "source": [
    "The added improvements are:\n",
    "\n",
    "* An `mc_ratio` (modulator-to-carrier ratio) parameter replaces frequencies in P5 and P6. In the new instrument the modulation frequency is calculated as `carrier*mc_ratio`, which makes the ratio relationship much clearer than using absolute hertz values.\n",
    "* Uses the `locsig` unit generator to control degree, distance and reverb.\n",
    "* Provides optional 'attack' and 'decay' envelope segments so that these amplitude durations are fixed regardless of how long the note lasts.  Without this, an envelope's attack and decay times will be proportional to the duration of the note (the longer the note duration the slower the envelope evolves), which is not how most instruments behave."
   ]
  },
  {
   "cell_type": "markdown",
   "id": "736f3452-b029-411b-8a46-85929c28cb7d",
   "metadata": {
    "jp-MarkdownHeadingCollapsed": true
   },
   "source": [
    "The next four examples illustrate how the attack (and to a lesser degree, the decay) of a sound are critical features for identifying what kind of instrument is playing. \n",
    "\n",
    "<!-- In the first tone the instrument has a constant amplitude and timbre so it is difficult to recognize the instrument at all.  The second example uses the original envelopes on amplitude and timbre so the tone sounds brass-like. The third example is like the second, but its duration is 10 times longer. Since envelopes are proportional to the duration, the attack and decay segments are stretched out so much that the tone does not sound much like a brass instrument any more. -->"
   ]
  },
  {
   "cell_type": "markdown",
   "id": "ceffe3c6-36ea-427c-a85b-58e5338b25be",
   "metadata": {},
   "source": [
    "If a brass-like tone has no attack or decay features it is difficult to recognize the instrument at all:"
   ]
  },
  {
   "cell_type": "code",
   "execution_count": null,
   "id": "398b583e-8faf-4929-bc8e-4d0fc4ade54b",
   "metadata": {},
   "outputs": [],
   "source": [
    "with clm.Sound(\"test.wav\", play=True):\n",
    "    amp_env=[0, 1, 1, 1]\n",
    "    index_env=amp_env\n",
    "    plotenvs([amp_env, index_env], titles=[\"amp_env\", \"index_env\"], figsize=(4,1))\n",
    "    simple_fm(0, .6, 440, .5, 1.0, 5.0, amp_env=[0,1, 1, 1], index_env=[0,1, 1, 1])"
   ]
  },
  {
   "cell_type": "markdown",
   "id": "45a1fb96-ee65-4f05-bd82-5fffbbdf88bb",
   "metadata": {},
   "source": [
    "The original envelopes for amplitude and timbre work fine when the note is short:"
   ]
  },
  {
   "cell_type": "code",
   "execution_count": null,
   "id": "7cbb6e2f-4b0d-4ea6-9690-0468c9712cab",
   "metadata": {},
   "outputs": [],
   "source": [
    "with clm.Sound(\"test.wav\", play=True):\n",
    "    amp_env=[0, 0, 1/12, 1, 1/3, .6, 5/6, .5, 1, 0]\n",
    "    index_env = amp_env\n",
    "    plotenvs([amp_env, index_env], titles=[\"amp_env\", \"index_env\"], figsize=(4,1))\n",
    "    simple_fm(0, .6, 440, .5, 1.0, 5.0, amp_env=amp_env, index_env=index_env)"
   ]
  },
  {
   "cell_type": "markdown",
   "id": "a5c58db4-b277-4f44-b733-e86a8ccb7428",
   "metadata": {},
   "source": [
    "But if the note has a long duration (6 second in this example) the attack and decay segments will be so 'stretched out' that the tone loses it's brass qualities again:"
   ]
  },
  {
   "cell_type": "code",
   "execution_count": null,
   "id": "56f435ed-601c-46b2-ad1d-4a424fc4a77d",
   "metadata": {},
   "outputs": [],
   "source": [
    "with clm.Sound(\"test.wav\", play=True):\n",
    "    amp_env=[0, 0, 1/12, 1, 1/3, .6, 5/6, .5, 1, 0]\n",
    "    index_env = amp_env\n",
    "    plotenvs([amp_env, index_env], titles=[\"amp_env\", \"index_env\"], figsize=(4,1))\n",
    "    simple_fm(0,  6, 440, .5, 1.0, 5.0, amp_env=amp_env, index_env=index_env)"
   ]
  },
  {
   "cell_type": "markdown",
   "id": "07f93058-7a93-48ab-a192-04a88229c791",
   "metadata": {},
   "source": [
    "Use the `amp_attack` and `index_attack` parameters to insure exact attack times regardless of how long the note lasts:\n",
    "\n",
    "- amp_attack [ *attack_x* | *attack_dur* ] : A list holding the x coordinate that ends the amplitude envelope's attack portion and the attack's duration in seconds. \n",
    "- index_attack [ *attack_x* | *attack_dur* ] : A list holding the x coordinate that ends the index envelope's attack portion and the attack's duration in seconds. \n",
    "\n",
    "There are equivalent parameters for the (optional) decay times.\n",
    "\n",
    "In this example attack values are [1/3, .1], which declares that the attack portion of the envelope ends at x-coordinate = 1/3 and the duration of the segment is .1 seconds; with these values in effect the 6 second note sounds brass-like again:"
   ]
  },
  {
   "cell_type": "code",
   "execution_count": null,
   "id": "103be2d0-6122-4a47-97c6-07fe5d1cab98",
   "metadata": {},
   "outputs": [],
   "source": [
    "with clm.Sound(\"test.wav\", play=True):\n",
    "    dur = 6\n",
    "    amp_env=[0, 0, 1/12, 1, 1/3, .6, 5/6, .5, 1, 0]\n",
    "    attack_vals =          [1/3, .1]\n",
    "    plotenvs([amp_env, musx.segment_env(amp_env, 6, attack_vals, attack_vals)], titles=[\"original\", \"adjusted\"], figsize=(4,1))\n",
    "    index_env=amp_env\n",
    "    simple_fm(0, 6, 440, .5, 1.0, 5.0, amp_env=amp_env, index_env=index_env,\n",
    "              amp_attack=attack_vals, index_attack=attack_vals)"
   ]
  },
  {
   "cell_type": "markdown",
   "id": "4c23d9db-e267-4d8e-a09e-c5eb4b1880dc",
   "metadata": {},
   "source": [
    "Name this tune!"
   ]
  },
  {
   "cell_type": "code",
   "execution_count": null,
   "id": "3e9e5137-73b3-43c6-982b-11ede2263b52",
   "metadata": {},
   "outputs": [],
   "source": [
    "with clm.Sound(\"test.wav\", play=True):\n",
    "    amp_env=[0, 0, 1/12, 1, 1/3, .6, 5/6, .5, 1, 0]\n",
    "    index_env=amp_env\n",
    "    melody = musx.hertz( \"g4 e c e g c5 e  d c e4 f# g g g e5 d c b4 a  b c5 c g4 e c\")\n",
    "    rhythm = musx.rhythm(\"e. s q*3   h  e. s q*3     h e*2 q. e q h  e. s q*5\", tempo=80)\n",
    "    t=0\n",
    "    for m,r in zip(melody, rhythm):\n",
    "        simple_fm(t, r, m, .5, fm_index=4.0, amp_env=amp_env, index_env=index_env,\n",
    "                  amp_attack=[1/3, .1], index_attack=[1/3, .1])\n",
    "        t += r"
   ]
  },
  {
   "cell_type": "markdown",
   "id": "d1b0ff5a-104f-4cce-89b1-809e43161e89",
   "metadata": {},
   "source": [
    "#### The pysndlib instrument collection\n",
    "\n",
    "The pysndlib distribution contains many interesting audio instruments developed by composers and researchers at CCRMA over the last fifty years or so. These instruments use a variety of syntheses techniques and demonstrate most of the unit generators defined in pysndlib. While each digital instrument is unique, you will find that many are also 'flexible' -- capable of producing a variety interesting sounds other than the acoustic qualities of the instrument that they are named for.\n",
    "\n",
    "Bill Shottaedt's `fm_violin()` is particularily robust and flexible audio instrument (and is also an example of \"complex fm\" using three modulators).\n",
    "\n",
    "\n",
    "A good way to learn about audio synthesis is to work through pysndlib's catalogue of instruments, find instruments that interest you, then (1) experiment with parameter settings (2) study the code and (3) add or improve features in the instrument. "
   ]
  },
  {
   "cell_type": "markdown",
   "id": "06431926-3ad1-4efb-9315-e8408b1b8619",
   "metadata": {},
   "source": [
    "This demonstrates two short examples of fm_violin() as a stringed instrument:"
   ]
  },
  {
   "cell_type": "code",
   "execution_count": null,
   "id": "86d79154-6d55-4613-868e-abac6f1dd54d",
   "metadata": {},
   "outputs": [],
   "source": [
    "with clm.Sound(play=True, reverb=ins.nrev(decay_time=2.5)):   # reverb=jc_reverb()\n",
    "    print(\"Arco - gliss - pizz\")\n",
    "    arco =  [0, 0, 5, 1,   98, .6, 100, 0] # 50, 1,\n",
    "    gliss = [0, 0, 40, 0, 50, 1, 100, 1]\n",
    "    pizz  = [0.0, 1.0, 0.2, 0.5, 0.4, 0.25, 0.6, 0.125, 0.8, 0.0625, 1.0, 0.03125]\n",
    "    rev = .025\n",
    "    \n",
    "    plotenvs([arco, gliss, pizz], titles=[\"arco\", \"gliss\", \"pizz\"], figsize=(4,1))\n",
    "\n",
    "    # Arco - gliss - pizz\n",
    "    t = 0\n",
    "    ins.fm_violin(t,    4,   220,     .4, fm_index=5, amp_env=arco, gliss_env=gliss, glissando_amount=3.1, reverb_amount=rev)\n",
    "    t += 4\n",
    "    ins.fm_violin(t+.05,     .25, 220*3/2, .9, fm_index=4, amp_env=pizz, reverb_amount=rev)\n",
    "    ins.fm_violin(t+.06, .27, 220,     .9, fm_index=4, amp_env=pizz, reverb_amount=rev)\n",
    "\n",
    "    # Mendelssohn violin concerto:\n",
    "    print(\"Mendelssohn violin concerto\")\n",
    "    rev = .1\n",
    "    t += 3\n",
    "    mel = musx.hertz( \"b5 b b g e6 e b5 g6 fs e c e b5 b c6 b5 a a a e6 b5 c6 b5 a a a ds6 b5\")\n",
    "    rhy = musx.rhythm(\"q. e h q q  h q  q  q*4      h. q q  e  e q q h. q  q  e  e q q h   h\", tempo=160)\n",
    "    for m,r in zip(mel, rhy):\n",
    "        ins.fm_violin(t, musx.vary(r, .1), m, musx.vary(.3, .1), musx.vary(4, .1), reverb_amount=.1) #r*1.1\n",
    "        t += r"
   ]
  },
  {
   "cell_type": "markdown",
   "id": "6d98bc37-523d-498d-84d7-9d7da92ccc1a",
   "metadata": {},
   "source": [
    "This example uses the same instrument but doesn't sound anything like a fiddle!:"
   ]
  },
  {
   "cell_type": "code",
   "execution_count": null,
   "id": "116a32d9-e40b-4f3c-a945-590a87d45fc0",
   "metadata": {},
   "outputs": [],
   "source": [
    "# Constant morphing of pitch, timbre, amplitude, duration, location and reverb. \n",
    "def fm_morph(length, rhy, amp, cmratio=None):\n",
    "    # increase probability of C4 G4 C5 until middle then decrease.\n",
    "    DW = 0\n",
    "    weights = [lambda: DW, lambda: DW, lambda: DW, 1, 1, 1, 1, 1, 1, 1, 1, 1, 1]\n",
    "    probs = [0, 1, .2, 10, .3, 20, .35, 50, .45, 100, \n",
    "             .5, 100, .55, 100, .65, 25, .97, 20, .98, 10, 1, 1]\n",
    "    notes = musx.hertz(\"c4 g4 c5 cs4 d4 ds4 e4 f4 fs4 gs4 a4 as4 b4\")\n",
    "    pitches = musx.Choose(notes, weights)\n",
    "    ampenv = [0.0, 0, 0.02, 0.5, 0.03, 0.9, 0.05, 0.6, 0.75, 0.2, 1.0, 0]\n",
    "    durenv = [0, .01, .2, .02, .3, .05, .35, .09, .4, .1, .425, .15, .45, .2, .5, \n",
    "              2.5, .55, .2, .575, .15, .6, .1, .65, .09, .7, .05, .8, .02, 1, .01]\n",
    "    indenv = [0, 9, .2, 8, .3, 5, .35, 4, .45, 0, .5, 0, .65, 4, .96, 8, 1, 9]\n",
    "    degree = [0,0, .5,45, 1,90]\n",
    "    distance = [0,0, .5,0, 1,12]\n",
    "    reverb = [0,.25, .5,.5, 1,.25]\n",
    "\n",
    "    plotenvs([probs, ampenv, durenv, indenv, degree, distance, reverb], \n",
    "             titles=[\"prob\", \"amp\", \"dur\", \"index\", \"deg\", \"dist\", \"rev\"], \n",
    "             figsize=(10,1), sharex=True, sharey=False)\n",
    "    \n",
    "    start = 0\n",
    "    for i in range(length):\n",
    "        # set current dynamic weight for C4 G4 C5\n",
    "        DW = musx.interp(i, probs)\n",
    "        ins.fm_violin(beg=start, dur=musx.interp(i/length, durenv),\n",
    "                  frequency=pitches.next(), amplitude=amp,\n",
    "                  fm_index=musx.interp(i/length, indenv), amp_env=ampenv,\n",
    "                  degree=musx.interp(i/length, degree), \n",
    "                  distance=musx.interp(i/length, distance),\n",
    "                  reverb_amount=musx.interp(i/length, reverb))\n",
    "        start += rhy\n",
    "\n",
    "with clm.Sound(\"test.wav\", play=True, channels=2, reverb=ins.nrev(decay_time=2)):\n",
    "    fm_morph(400, .1, .25)"
   ]
  },
  {
   "cell_type": "code",
   "execution_count": null,
   "id": "68e56cc8-c52f-4a22-a1d7-73b6c7a449a2",
   "metadata": {},
   "outputs": [],
   "source": [
    "import pysndlib.instruments.fm_violin as FMG"
   ]
  },
  {
   "cell_type": "markdown",
   "id": "b8f84420-b76c-4b28-a8bb-7bd4c7b155a3",
   "metadata": {},
   "source": [
    "##### More examples\n",
    "\n",
    "Execute this %run statement to play a variety of interesting sounds composed by Bill Schottstaedt for his fm violin instrument. The script takes about 15-30 seconds to execute and produces a 3.5 minute stereo audio file (\"./support/fmviolin.wav\") containing over thirty sound examples, each separated by a few seconds of silence. Statistics about the audio file will be printed just before it plays:"
   ]
  },
  {
   "cell_type": "code",
   "execution_count": null,
   "id": "ad2179ff-ac81-4d29-982d-10c7b2d9ed29",
   "metadata": {},
   "outputs": [],
   "source": [
    "%run ./support/fmviolin.py"
   ]
  },
  {
   "cell_type": "markdown",
   "id": "e80224a5-ccf9-407b-93d2-b636e57bb318",
   "metadata": {},
   "source": [
    "For more information on the fm_violin() see Schottstaedt's article [An Introduction To FM](https://ccrma.stanford.edu/software/snd/snd/fm.html) article and his JSTOR paper [The Simulation of Natural Instrument Tones using Frequency Modulation with a Complex Modulating Wave](https://www.jstor.org/stable/40731300).  "
   ]
  },
  {
   "cell_type": "markdown",
   "id": "96d1d2d4-bcbd-421f-a7ec-8e416bc0b645",
   "metadata": {},
   "source": [
    "## Object oriented instruments\n",
    "\n",
    "Up to now this notebook has generated audio files using function calls inside the `with Sound()` construct. It is also possible to generate  audio in an 'object oriented' manner using the standard Note, Score and Seq classes in musx. This next set of examples demonstrate how to create an 'audio note' object and use the musx Score, Seq and AudioFile classes to compose with it. \n",
    "\n",
    "This first step imports the musx.audio module and defines a new class to represent the pysndlib instrument. <!-- In this example the note class will be called GimpNote and it will wrap the gimp() function defined earlier in this notebook:In this example the call to musx.AudioNote() will translate the `gimp()` function into of musx.Note using .   -->  If no name for the new instrument class is provided the `AudioNote()` constructor will name the class using a pythonic version of the instrument's function name:"
   ]
  },
  {
   "cell_type": "code",
   "execution_count": null,
   "id": "a2cae76c-7331-4207-8fc5-74ebc43af8bf",
   "metadata": {},
   "outputs": [],
   "source": [
    "import musx.audio as aud\n",
    "\n",
    "print(gimp)\n",
    "\n",
    "GimpNote = aud.AudioNote(gimp)\n",
    "\n",
    "print(GimpNote)"
   ]
  },
  {
   "cell_type": "markdown",
   "id": "cf229b9b-3800-4e43-a353-cecff4ca1a1e",
   "metadata": {},
   "source": [
    "Now that new GimpNote class has been defined we can create instances of it with  the object's attributes exactly corresponding to the function's parameter names and default values: "
   ]
  },
  {
   "cell_type": "code",
   "execution_count": null,
   "id": "562085c4-eb92-4c58-9c8d-bbc77a37522c",
   "metadata": {},
   "outputs": [],
   "source": [
    "note = GimpNote(0, 1, 440, .3)\n",
    "print(\"class:\", note.__class__)\n",
    "print(\"instance:\", note)\n",
    "print(\"note.start:\", note.start)\n",
    "print(\"note.dur:\", note.dur)\n",
    "print(\"note.freq:\", note.freq)\n",
    "print(\"note.amp:\", note.amp)\n",
    "print(\"note.degree:\", note.degree)\n",
    "print(\"note.parameters:\", note.parameters())"
   ]
  },
  {
   "cell_type": "markdown",
   "id": "b8d4396d-1a4f-4924-bb0b-1fa5bb97791b",
   "metadata": {},
   "source": [
    "Now define a composer function to generate GimpNotes:"
   ]
  },
  {
   "cell_type": "code",
   "execution_count": null,
   "id": "d7e72068-d4c4-4595-8271-5fe97b225a92",
   "metadata": {},
   "outputs": [],
   "source": [
    "def gimper(score, rhy=.1, dur=.75, rate=1,  shift=1, amp=.75, reps=4, rev=0, dist=1):\n",
    "    ampenv=musx.exp_env()\n",
    "    tops = [440, 880, 440, 770, 440, 660, 440, 550, 440]\n",
    "    bots = [220, 220, 220, 220, 220, 220, 220, 220, 220]\n",
    "    for top, bot in zip(tops, bots):\n",
    "        for time in musx.frange(0, reps, rhy):\n",
    "            sinewave = math.sin(2*math.pi*rate*time) \n",
    "            degree = musx.rescale(sinewave, -1, 1, 0, 90)\n",
    "            pitch = musx.rescale(sinewave, -1, 1, bot, top)\n",
    "            note = GimpNote(score.now, dur, pitch*shift, amp, degree=degree, ampenv=ampenv,\n",
    "                            reverb_amount=rev, distance=dist)\n",
    "            score.add(note)\n",
    "            yield rhy\n",
    "            \n",
    "print(f\"instrument: {gimper}\")"
   ]
  },
  {
   "cell_type": "markdown",
   "id": "70dce96e-e297-46d6-81d2-83c6716f9f2c",
   "metadata": {},
   "source": [
    "Next allocate and compose a score:"
   ]
  },
  {
   "cell_type": "code",
   "execution_count": null,
   "id": "2647e215-ad40-4bdb-8723-11aab22b0c5e",
   "metadata": {},
   "outputs": [],
   "source": [
    "score = musx.Score(out=musx.Seq())\n",
    "score.compose(gimper(score))\n",
    "print(score.out)\n",
    "score.out.print(0,10)"
   ]
  },
  {
   "cell_type": "markdown",
   "id": "1addd276-7ccd-434e-9cac-be3c8229261d",
   "metadata": {},
   "source": [
    "To generate audio, allocate an Audiofile, pass it a file name and the sequence to render. Then use the file's `write()` method to generate the audio file, optionally passing `with Sound()` arguments to it except for the file name:"
   ]
  },
  {
   "cell_type": "code",
   "execution_count": null,
   "id": "79ac13b6-11d5-4b94-b0d0-d0f827932483",
   "metadata": {},
   "outputs": [],
   "source": [
    "file = aud.AudioFile(\"test.wav\", score.out).write(play=True, statistics=True)\n",
    "print(f\"Wrote '{file.pathname}'\")"
   ]
  },
  {
   "cell_type": "markdown",
   "id": "a0f1695b-122d-411b-8aa2-acd989204782",
   "metadata": {},
   "source": [
    "## Optimizing a python instrument\n",
    "\n",
    "This section explains how to increase the runtime speed of an audio instrument defined in the Python environment.  This notebook has defined four such instruments (simp(), gimp(), proto_fm(), and simple_fm()) the remaining insrumens (fm_violin())\n",
    "\n",
    "Additive Synthesis produces a complex wave by summing together the phases, frequncies, amplitudes of its constituent partials. <!-- As the partials are layered togehter --> each partial is represented by an oscillor and amplitude envelope, so the more partials are included, the closer the sound comes to the original model, the more processing the software must do to render the sound.  At some point, an interpreted language like Pyton will struggle.\n",
    "\n",
    " each partial is represented by an oscillor and amplitude envelope, so the more partials are included, the closer the sound comes to the original model, and the more processing the software must do to render the sound.  \n",
    "\n",
    "At some point an interpreted language like Pyton will struggle \n",
    "\n",
    "\n",
    "\n",
    "ll the audio examples in this notebook have been  fast and responsive. This is due to two reasons (1) the instruments themselves have been modest in the amount resources they require, (2) the\n",
    "\n",
    "generating audio in an interpreted language like Python can be a difficult\n",
    "\n",
    "\n",
    "Python is an interpreted language that, in some sense, \"trades off\" computational speed for expressibility and generating audio in Python is a challenging task due to the\n",
    "The examples in this noteb\n",
    "\n",
    "\n",
    "conventry bells additive synthsis instrument models aand then optimizes it to run at acceptable speeds.\n",
    "\n"
   ]
  },
  {
   "cell_type": "code",
   "execution_count": null,
   "id": "7b197e72-7acd-49f5-9c8d-517dfb963ee3",
   "metadata": {},
   "outputs": [],
   "source": []
  },
  {
   "cell_type": "code",
   "execution_count": null,
   "id": "e4052c22-3f47-43b3-bdd3-55b49d3e2a88",
   "metadata": {},
   "outputs": [],
   "source": [
    "import support.coventry \n",
    "bellnames = [i for i in range(1, 11)]\n",
    "tuning = support.coventry.coventry_primes\n",
    "plain_bob = musx.Rotation(bellnames, [[0, 2, 1], [1, 2, 1]]).all(wrapped=True) \n",
    "numbells = len(plain_bob)\n",
    "ldeg = [0, 45, numbells*.25, 45, numbells*.75, 0 ]\n",
    "rdeg = [0, 45, numbells*.25, 45, numbells*.75, 90]\n",
    "print(f\"{numbells} bells in pattern, cranking...\")\n",
    "top, bot = bellnames[0],bellnames[-1]\n",
    "hilite = [top, bot]\n",
    "\n",
    "with clm.Sound(play=True, channels=2, reverb=ins.nrev(decay_time=6), statistics=True):\n",
    "    beg = 0\n",
    "    for i,b in enumerate(plain_bob):\n",
    "        dur = musx.between(1.4, 3.8)\n",
    "        amp = musx.between(.1,.15)\n",
    "        support.coventry.bell(beg=beg, bell=b,\n",
    "                 dur=dur if b not in hilite else dur * {top:1.5, bot: 2.25}[b],\n",
    "                 freq=tuning[b],\n",
    "                 amp=amp*1.1 if b not in hilite else amp * {top:1.8, bot:2.3}[b], #top:1.75, bot:2.35\n",
    "                 deg=musx.between(musx.interp(i, ldeg), musx.interp(i, rdeg)),\n",
    "                 dist=musx.interp(i, 0, 2,  numbells/2,  2,  numbells, 15),   \n",
    "                 rev=musx.interp(i, 0, .001,numbells/2, .03, numbells, .06) )\n",
    "        beg += musx.between(.27,.30)\n"
   ]
  },
  {
   "cell_type": "code",
   "execution_count": null,
   "id": "061d43bc-4a38-4d35-a0b6-8df2c42836d5",
   "metadata": {},
   "outputs": [],
   "source": [
    "support.coventry.coventry_primes"
   ]
  },
  {
   "cell_type": "markdown",
   "id": "7e6d5cae-1f2e-4e91-8b93-770b66afcaa6",
   "metadata": {},
   "source": [
    "Now create an instance of `SimpNote`: notice that its instance attributes exactly match the parameter names in the `simp()` function above. Since the function provides a default value for it's fourth parameter ('amp') the instance's 'amp' attribute is set to the same default value if it is not provided the constructor call:"
   ]
  },
  {
   "cell_type": "code",
   "execution_count": null,
   "id": "58642c1a-7f1b-428d-9cc2-fc4f215303b2",
   "metadata": {},
   "outputs": [],
   "source": [
    "\n",
    "Code(filename='./support/coventry.py', language='python')"
   ]
  },
  {
   "cell_type": "code",
   "execution_count": null,
   "id": "c093b99d-935b-4e5e-9f79-321971435ffa",
   "metadata": {},
   "outputs": [],
   "source": [
    "print(\"foo\")"
   ]
  },
  {
   "cell_type": "code",
   "execution_count": null,
   "id": "ff51c04b-100d-4c20-b5f5-cde0fa9f1e67",
   "metadata": {},
   "outputs": [],
   "source": [
    "x = SimpNote(0, 2, 440)\n",
    "print(\"x.start:\", x.start)\n",
    "print(\"x.dur:\", x.dur)\n",
    "print(\"x.freq:\", x.freq)\n",
    "print(\"x.amp\", x.amp)"
   ]
  },
  {
   "cell_type": "code",
   "execution_count": null,
   "id": "a08acad8-1d58-4ab9-a388-0037d8abc6c9",
   "metadata": {},
   "outputs": [],
   "source": []
  },
  {
   "cell_type": "code",
   "execution_count": null,
   "id": "35b61b27-cfb1-4b61-9cf3-8ff1d96601e5",
   "metadata": {},
   "outputs": [],
   "source": [
    "def simple_fm (start, duration, carrier, amplitude, mc_ratio=1, fm_index=1,\n",
    "               amp_env=[0,0,.25,1,.75,1,1,0], amp_attack=None, amp_release=None,\n",
    "               index_env=[0, 1, 1, 1], index_attack=None, index_release=None,\n",
    "               degree=45, distance=1, reverb=0):\n"
   ]
  },
  {
   "cell_type": "code",
   "execution_count": null,
   "id": "a3d07336-3217-48e1-98c5-0753d597ec73",
   "metadata": {},
   "outputs": [],
   "source": [
    "with clm.Sound(\"test.wav\", play=True, channels=2):\n",
    "    def foo(rate, shift=1, num=2, ratio=1):\n",
    "        ampenv = musx.exp_env()\n",
    "        amp_env=[0, 0, 1/12, 1, 1/3, .6, 5/6, .5, 1, 0]\n",
    "        index_env=amp_env\n",
    "\n",
    "        \n",
    "        rate = rate #1 # 2 3 7\n",
    "        tops = [440, 880, 440, 770, 440, 660, 440, 550, 440]\n",
    "        beg = 0\n",
    "        for top in tops:\n",
    "            location, frequency = [], []\n",
    "            for time in musx.frange(0, num+.01, .1):\n",
    "                sinewave = math.sin(2*math.pi*rate*time)\n",
    "                degree = musx.rescale(sinewave, -1, 1, 0, 90)\n",
    "                location.extend([time, degree])\n",
    "                pitch = musx.rescale(sinewave, -1, 1, 220, top)\n",
    "                frequency.extend([time, pitch])\n",
    "                #simple_fm(beg+time, .75, pitch*shift, .75, degree=degree, amp_env=ampenv, mc_ratio=ratio)\n",
    "                simple_fm(beg+time, .15, pitch*shift, .5, fm_index=2.0, amp_env=amp_env, index_env=index_env,\n",
    "                          amp_attack=[1/3, .1], index_attack=[1/3, .1])\n",
    "            beg += num+.01\n",
    "    foo(1, 1/1, num=4, ratio=1)\n",
    "        "
   ]
  },
  {
   "cell_type": "code",
   "execution_count": null,
   "id": "4254013d-3821-4014-bb16-af5071c8c616",
   "metadata": {},
   "outputs": [],
   "source": [
    "    amp_env=[0, 0, 1/12, 1, 1/3, .6, 5/6, .5, 1, 0]\n",
    "    index_env=amp_env\n",
    "    melody = musx.hertz( \"g4 e c e g c5 e  d c e4 f# g g g e5 d c b4 a  b c5 c g4 e c\")\n",
    "    rhythm = musx.rhythm(\"e. s q*3   h  e. s q*3     h e*2 q. e q h  e. s q*5\", tempo=80)\n",
    "    t=0\n",
    "    for m,r in zip(melody, rhythm):\n",
    "        simple_fm(t, r, m, .5, fm_index=4.0, amp_env=amp_env, index_env=index_env,\n",
    "                  amp_attack=[1/3, .1], index_attack=[1/3, .1])\n",
    "        t += r"
   ]
  },
  {
   "cell_type": "code",
   "execution_count": null,
   "id": "d1472dfe-d299-461b-8819-54421ff60658",
   "metadata": {},
   "outputs": [],
   "source": []
  },
  {
   "cell_type": "code",
   "execution_count": null,
   "id": "a26b42a0-e905-4930-b3e7-bfe258234d36",
   "metadata": {},
   "outputs": [],
   "source": []
  },
  {
   "cell_type": "markdown",
   "id": "94e8012d-7e48-4cad-80aa-2afd2a9935ec",
   "metadata": {},
   "source": [
    "<instrument_table_data>\n",
    "\n",
    "  <columns>\n",
    "    <column Id=\"1\" Name=\"Name\"/>\n",
    "    <column Id=\"2\" Name=\"File\"/>\n",
    "    <column Id=\"3\" Name=\"Category\"/>\n",
    "    <column Id=\"4\" Name=\"Comment\"/>\n",
    "    <!-- stubbed out for now --> <column Id=\"5\" Name=\"AutoLoad\"/>\n",
    "  </columns>\n",
    "\n",
    "  <!-- Frequency Modulation -->\n",
    "\n",
    "  <instruments>\n",
    "    <instrument Name=\"animal\" File=\"animals.scm\" Category=\"Waveshaping\" Comment=\"a bunch of animals\" Examples=\"animals.clm\" Depend=\"env.scm generators.scm\" AutoLoad=\"no\" />\n",
    "    <instrument Name=\"anoi\" File=\"anoi.scm\" Category=\"Filtering\" Comment=\"noise reduction\" Examples=\"\" Depend=\"\" AutoLoad=\"no\" />\n",
    "    <instrument Name=\"bigbird\" File=\"bird.scm\" Category=\"Waveshaping\" Comment=\"waveshaping using polynomial unit generator\" Examples=\"bird.clm\" Depend=\"\" AutoLoad=\"no\" />\n",
    "    <instrument Name=\"bird\" File=\"bird.scm\" Category=\"Waveshaping\" Comment=\"sine wave instrument\" Examples=\"bird.clm\" Depend=\"\" AutoLoad=\"no\" />\n",
    "    <instrument Name=\"bow\" File=\"strad.scm\" Category=\"Physical Modeling\" Comment=\"Juan Reyes bowed string physical model\" Examples=\"strad.clm\" Depend=\"\" AutoLoad=\"no\" />\n",
    "    <instrument Name=\"canter\" File=\"bagpipes.scm\" Category=\"Frequency Modulation\" Comment=\"canter portion of Peter Commons' bagpipe (bag.clm)\" Examples=\"bagpipes.clm\" Depend=\"\" AutoLoad=\"no\" />\n",
    "    <instrument Name=\"cellon\" File=\"cellon.scm\" Category=\"Frequency Modulation\" Comment=\"feedback fm (Stanislaw Krupowiecz)\" Examples=\"\" Depend=\"\" AutoLoad=\"no\" />\n",
    "    <instrument Name=\"cnvrev\" File=\"cnvrev.scm\" Category=\"Sound Processing\" Comment=\"Convolution of file with impulse\" Examples=\"\" Depend=\"\" AutoLoad=\"no\" />\n",
    "    <instrument Name=\"cross-fade\" File=\"fade.scm\" Category=\"Sound Processing\" Comment=\"cross fade in the frequency domain\" Examples=\"\" Depend=\"\" AutoLoad=\"no\" />\n",
    "    <instrument Name=\"cut-samples\" File=\"samples.scm\" Category=\"Sound Processing\" Comment=\"cut samples from file, see parse-samples\" Examples=\"\" Depend=\"\" AutoLoad=\"no\" />\n",
    "    <instrument Name=\"dlocsig\" File=\"delocsig.scm\" Category=\"Sound Processing\" Comment=\"quad sound movement (Fernando Lopez-Lezcano)\" Examples=\"\" Depend=\"env.scm\" AutoLoad=\"no\" />\n",
    "    <instrument Name=\"dissolve-fade\" File=\"fade.scm\" Category=\"Sound Processing\" Comment=\"dissolving fade in the frequency domain\" Examples=\"\" Depend=\"\" AutoLoad=\"no\" />\n",
    "    <instrument Name=\"drone\" File=\"bagpipes.scm\" Category=\"Waveshaping\" Comment=\"Peter Commons' bagpipe drone (bag.clm)\" Examples=\"bagpipes.clm\" Depend=\"\" AutoLoad=\"no\" />\n",
    "    <instrument Name=\"env\" File=\"env.scm\" Category=\"Support\" Comment=\"various envelope generators\" Examples=\"\" Depend=\"\" AutoLoad=\"no\" />\n",
    "    <instrument Name=\"expandn\" File=\"expandn.scm\" Category=\"Granular Synthesis\" Comment=\"granular synthesis (Michael Klingbeil)\" Examples=\"expandn.clm\" Depend=\"env.scm\" AutoLoad=\"no\" />\n",
    "    <instrument Name=\"expfil\" File=\"expfil.scm\" Category=\"Granular Synthesis\" Comment=\"granulate two files interleaved\" Examples=\"\" Depend=\"\" AutoLoad=\"no\" />\n",
    "    <instrument Name=\"expsnd\" File=\"expsnd.scm\" Category=\"Granular Synthesis\" Comment=\"granulate with envelopes on various fields\" Examples=\"\" Depend=\"\" AutoLoad=\"no\" />\n",
    "    <instrument Name=\"expsrc\" File=\"expsrc.scm\" Category=\"Granular Synthesis\" Comment=\"granulate and src to mimic phase vocoder tricks\" Examples=\"\" Depend=\"\" AutoLoad=\"no\" />\n",
    "    <instrument Name=\"fm-bell\" File=\"fm-bell.scm\" Category=\"Frequency Modulation\" Comment=\"fm bell (Michael McNabb)\" Examples=\"fm-bell.clm\" Depend=\"\" AutoLoad=\"no\" />\n",
    "    <instrument Name=\"fm-drum\" File=\"fm-drum.scm\" Category=\"Frequency Modulation\" Comment=\"cascade FM drum (Jan Mattox)\" Examples=\"fm-drum.clm\" Depend=\"\" AutoLoad=\"no\" />\n",
    "    <instrument Name=\"fm-insect\" File=\"fm-insect.scm\" Category=\"Frequency Modulation\" Comment=\"FM for insect simulations\" Examples=\"fm-insect.clm\" Depend=\"\" AutoLoad=\"no\" />\n",
    "    <instrument Name=\"fm-noise\" File=\"fm-noise.scm\" Category=\"Frequency Modulation\" Comment=\"FM for ocean wave simulations\" Examples=\"\" Depend=\"env.scm\" AutoLoad=\"no\" />\n",
    "    <instrument Name=\"fm-trumpet\" File=\"fm-trumpet.scm\" Category=\"Frequency Modulation\" Comment=\"Dexter Morrill's FM trumpet\" Examples=\"\" Depend=\"\" AutoLoad=\"no\" />\n",
    "    <instrument Name=\"fm-violin\" File=\"v.scm\" Category=\"Frequency Modulation\" Comment=\"fm violin (William Schottstaedt)\" Examples=\"v.clm\" Depend=\"\" AutoLoad=\"no\" />\n",
    "    <instrument Name=\"fm-voice\" File=\"jcvoi.scm\" Category=\"Frequency Modulation\" Comment=\"John Chowning's fm voice\" Examples=\"jcvoi.clm\" Depend=\"env.scm\" AutoLoad=\"no\" />\n",
    "    <instrument Name=\"fm\" File=\"fm.scm\" Category=\"Frequency Modulation\" Comment=\"simple fm with envelope controls\" Examples=\"fm.clm\" Depend=\"\" AutoLoad=\"no\" />\n",
    "    <instrument Name=\"fofins\" File=\"fofins.scm\" Category=\"Waveshaping\" Comment=\"formant synthesis\" Examples=\"\" Depend=\"\" AutoLoad=\"no\" />\n",
    "    <instrument Name=\"freeverb\" File=\"freeverb.scm\" Category=\"Sound Processing\" Comment=\"reverberation\" Examples=\"\" Depend=\"\" AutoLoad=\"no\" />\n",
    "    <instrument Name=\"fullmix\" File=\"fullmix.scm\" Category=\"Sound Processing\" Comment=\"mixer\" Examples=\"fullmix.clm\" Depend=\"\" AutoLoad=\"no\" />\n",
    "    <instrument Name=\"generator\" File=\"generators.scm\" Category=\"Support\" Comment=\"various generators\" Examples=\"\" Depend=\"\" AutoLoad=\"no\" />\n",
    "    <instrument Name=\"gong\" File=\"gong.scm\" Category=\"Frequency Modulation\" Comment=\"Paul Weineke's FM gong\" Examples=\"gong.clm\" Depend=\"env.scm\" AutoLoad=\"no\" />\n",
    "    <instrument Name=\"gran-synth\" File=\"gran-synth.scm\" Category=\"Granular Synthesis\" Comment=\"grains using wave-train gen\" Examples=\"gran-synth.clm\" Depend=\"\" AutoLoad=\"no\" />\n",
    "    <instrument Name=\"grani\" File=\"grani.scm\" Category=\"Granular Synthesis\" Comment=\"granular synthesis (Fernando Lopez-Lezcano)\" Examples=\"\" Depend=\"env.scm\" AutoLoad=\"no\" />\n",
    "    <instrument Name=\"grapheq\" File=\"grapheq.scm\" Category=\"Filtering\" Comment=\"graphic equalizer (Marco Trevisani)\" Examples=\"\" Depend=\"\" AutoLoad=\"no\" />\n",
    "    <instrument Name=\"hammondoid\" File=\"hammondoid.scm\" Category=\"Waveshaping\" Comment=\"Perry Cook's Hammond organ (sort of)\" Examples=\"\" Depend=\"\" AutoLoad=\"no\" />\n",
    "    <instrument Name=\"jc-reverb\" File=\"jcrev.scm\" Category=\"Reverberation\" Comment=\"John Chowning's ancient reverb\" Examples=\"jcrev.clm\" Depend=\"\" AutoLoad=\"no\" />\n",
    "    <instrument Name=\"jl-reverb\" File=\"jlrev.scm\" Category=\"Reverberation\" Comment=\"a more cavernous version of the same\" Examples=\"\" Depend=\"\" AutoLoad=\"no\" />\n",
    "    <instrument Name=\"lbj-piano\" File=\"lbj-piano.scm\" Category=\"Waveshaping\" Comment=\"Doug Fulton's piano simulation using spectra of J.A.Moorer\" Examples=\"\" Depend=\"\" AutoLoad=\"no\" />\n",
    "    <instrument Name=\"maraca\" File=\"maraca.scm\" Category=\"Physical Modeling\" Comment=\"maraca (Perry Cook)\" Examples=\"maraca.clm\" Depend=\"\" AutoLoad=\"no\" />\n",
    "    <instrument Name=\"maxfilter\" File=\"maxf.scm\" Category=\"Filtering\" Comment=\"Juan Reyes modal synthesis\" Examples=\"\" Depend=\"\" AutoLoad=\"no\" />\n",
    "    <instrument Name=\"metal\" File=\"metal.scm\" Category=\"Frequency Modulation\" Comment=\"Perry Cook's heavy metal instrument\" Examples=\"\" Depend=\"\" AutoLoad=\"no\" />\n",
    "    <instrument Name=\"noise\" File=\"noise.scm\" Category=\"Frequency Modulation\" Comment=\"Michael Scholz's FM noise instrument\" Examples=\"\" Depend=\"env.scm\" AutoLoad=\"no\" />\n",
    "    <instrument Name=\"nrev\" File=\"nrev.scm\" Category=\"Reverberation\" Comment=\"Michael McNabb's reverb\" Examples=\"\" Depend=\"\" AutoLoad=\"no\" />\n",
    "    <instrument Name=\"p\" File=\"piano.scm\" Category=\"Physical Modeling\" Comment=\"Scott van Duyne's piano\" Examples=\"\" Depend=\"env.scm generators.scm\" AutoLoad=\"no\" />\n",
    "    <instrument Name=\"p\" File=\"piano.scm\" Category=\"Physical Modeling\" Comment=\"Scott van Duyne's piano\" Examples=\"\" Depend=\"env.scm generators.scm\" AutoLoad=\"no\" />\n",
    "    <instrument Name=\"parse-samples\" File=\"samples.scm\" Category=\"Sound Processing\" Comment=\"finds samples in an audio file, returns list of times\" Examples=\"\" Depend=\"\" AutoLoad=\"no\" />\n",
    "    <instrument Name=\"pins\" File=\"pins.scm\" Category=\"Filtering\" Comment=\"spectral modeling a la SMS (Xavier Serra)\" Examples=\"\" Depend=\"\" AutoLoad=\"no\" />\n",
    "    <instrument Name=\"pluck\" File=\"pluck.scm\" Category=\"Physical Modeling\" Comment=\"plucked string sound (David Jaffe)\" Examples=\"\" Depend=\"\" AutoLoad=\"no\" />\n",
    "    <instrument Name=\"pqw\" File=\"pqw.scm\" Category=\"Waveshaping\" Comment=\"phase quadrature waveshaping\" Examples=\"pqw.clm\" Depend=\"\" AutoLoad=\"no\" />\n",
    "    <instrument Name=\"pqw-vox\" File=\"pqwvox.scm\" Category=\"Waveshaping\" Comment=\"like pqw but implements moving formant regions\" Examples=\"pqwvox.clm\" Depend=\"\" AutoLoad=\"no\" />\n",
    "    <!-- <instrument Name=\"pvoc\" File=\"pvoc.scm\" Category=\"Filtering\" Comment=\"phase vocoder (Michael Klingbeil and Michael Edwards)\" Examples=\"\" Depend=\"\" AutoLoad=\"no\" /> -->\n",
    "    <instrument Name=\"resflt\" File=\"resflt.scm\" Category=\"Filtering\" Comment=\"filter various kinds of input (Richard Karpen, Xavier Serra)\" Examples=\"resflt.clm\" Depend=\"\" AutoLoad=\"no\" />\n",
    "    <instrument Name=\"reson\" File=\"reson.scm\" Category=\"Frequency Modulation\" Comment=\"fm formants (John Chowning)\" Examples=\"\" Depend=\"\" AutoLoad=\"no\" />\n",
    "    <instrument Name=\"rhodey\" File=\"rhodey.scm\" Category=\"Frequency Modulation\" Comment=\"Perry Cook's electric piano\" Examples=\"\" Depend=\"\" AutoLoad=\"no\" />\n",
    "    <instrument Name=\"scratch\" File=\"scratch.scm\" Category=\"Sound Processing\" Comment=\"fancier version of backandforth\" Examples=\"scratch.clm\" Depend=\"\" AutoLoad=\"no\" />\n",
    "    <instrument Name=\"singer\" File=\"singer.scm\" Category=\"Physical Modeling\" Comment=\"spectral modelling\" Examples=\"\" Depend=\"\" AutoLoad=\"no\" />\n",
    "    <instrument Name=\"sndwarp\" File=\"sndwarp.scm\" Category=\"Sound Processing\" Comment=\"Richard Karpen's SNDWARP instrument\" Examples=\"\" Depend=\"env.scm\" AutoLoad=\"no\" />\n",
    "    <instrument Name=\"spectra\" File=\"spectra.scm\" Category=\"Waveshaping\" Comment=\"wavetable output\" Examples=\"spectra.clm\" Depend=\"\" AutoLoad=\"no\" />\n",
    "    <instrument Name=\"stereo-flute\" File=\"stereo-flute.scm\" Category=\"Physical Modeling\" Comment=\"flute sound (Nicky Hind)\" Examples=\"stereo-flute.clm\" Depend=\"\" AutoLoad=\"no\" />  \n",
    "    <instrument Name=\"stochastic\" File=\"stochastic.scm\" Category=\"Granular Synthesis\" Comment=\"flute sound ()\" Examples=\"\" Depend=\"\" AutoLoad=\"no\" />  \n",
    "    <instrument Name=\"touch-tone\" File=\"touch-tone.scm\" Category=\"Waveshaping\" Comment=\"implement touch tone telephone sounds\" Examples=\"touch-tone.clm\" Depend=\"\" AutoLoad=\"no\" />\n",
    "    <instrument Name=\"tubebell\" File=\"tubebell.scm\" Category=\"Frequency Modulation\" Comment=\"Perry Cook's tubular bell\" Examples=\"\" Depend=\"\" AutoLoad=\"no\" />\n",
    "    <instrument Name=\"two-tab\" File=\"two-tab.scm\" Category=\"Waveshaping\" Comment=\"interpolate between stored waveforms\" Examples=\"\" Depend=\"\" AutoLoad=\"no\" />\n",
    "    <instrument Name=\"vkey\" File=\"vkey.scm\" Category=\"Sound Processing\" Comment=\"virtual sampler\" Examples=\"\" Depend=\"expandn.scm fullmix.scm\" AutoLoad=\"no\" />\n",
    "    <instrument Name=\"vox\" File=\"vox.scm\" Category=\"Frequency Modulation\" Comment=\"Mark LeBrun's fm voice instrument\" Examples=\"\" Depend=\"\" AutoLoad=\"no\" />\n",
    "    <instrument Name=\"wave\" File=\"wave.scm\" Category=\"Waveshaping\" Comment=\"sinewave with envelope and gliss\" Examples=\"wave.clm\" Depend=\"\" AutoLoad=\"no\" />\n",
    "    <instrument Name=\"sc:wave\" File=\"wavesc.scm\" Category=\"Waveshaping\" Comment=\"Supercollider wave instrument\" Examples=\"\" Synthdef=\"wavesc.scd\" Depend=\"\" AutoLoad=\"no\" />\n",
    "    <instrument Name=\"wurley\" File=\"wurley.scm\" Category=\"Frequency Modulation\" Comment=\"Perry Cook's Wurlitzer?\" Examples=\"\" Depend=\"\" AutoLoad=\"no\" />\n",
    "    <instrument Name=\"za\" File=\"za.scm\" Category=\"Filtering\" Comment=\"interpolating all pass filters\" Examples=\"za.clm\" Depend=\"\" AutoLoad=\"no\" />\n",
    "    <instrument Name=\"zc\" File=\"zc.scm\" Category=\"Filtering\" Comment=\"interpolating comb filters (phasing)\" Examples=\"zc.clm\" Depend=\"\" AutoLoad=\"no\" />\n",
    "    <instrument Name=\"zipper\" File=\"zip.scm\" Category=\"Sound Processing\" Comment=\"The 'digital zipper' effect.\" Examples=\"\" Depend=\"\" AutoLoad=\"no\" />\n",
    "    <instrument Name=\"zn\" File=\"zn.scm\" Category=\"Filtering\" Comment=\"interpolating notch filters\" Examples=\"zn.clm\" Depend=\"\" AutoLoad=\"no\" />   \n",
    "  </instruments>\n",
    "</instrument_table_data>\n"
   ]
  }
 ],
 "metadata": {
  "kernelspec": {
   "display_name": "Python 3 (ipykernel)",
   "language": "python",
   "name": "python3"
  },
  "language_info": {
   "codemirror_mode": {
    "name": "ipython",
    "version": 3
   },
   "file_extension": ".py",
   "mimetype": "text/x-python",
   "name": "python",
   "nbconvert_exporter": "python",
   "pygments_lexer": "ipython3",
   "version": "3.11.7"
  }
 },
 "nbformat": 4,
 "nbformat_minor": 5
}

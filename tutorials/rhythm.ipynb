{
 "cells": [
  {
   "cell_type": "markdown",
   "metadata": {},
   "source": [
    "# Rhythm and time representation in musx\n",
    "\n",
    "An introduction to working with metrical time in musx.\n",
    "\n",
    "Running this notebook requires the musx package. See [INSTALL.md](https://github.com/musx-admin/musx/blob/main/INSTALL.md) for directions on how to install musx in your environment.\n",
    "\n",
    "<hr style=\"height:1px;color:gray\">"
   ]
  },
  {
   "cell_type": "code",
   "execution_count": null,
   "metadata": {},
   "outputs": [],
   "source": [
    "from fractions import Fraction\n",
    "from musx import version, rhythm, intempo\n",
    "print(\"musx version:\", version)"
   ]
  },
  {
   "cell_type": "markdown",
   "metadata": {
    "slideshow": {
     "slide_type": "-"
    }
   },
   "source": [
    "<p>There are a few different ways to specify musical time in musx.</p>\n",
    "\n",
    "<ul>\n",
    "<li>Rythmic names (strings)</li>\n",
    "<li>seconds (ints or floats)</li>\n",
    "<li>beats (see: intempo() for converting to seconds)</li>\n",
    "<li>Exact metric time using python's Fraction class</li>\n",
    "</ul>\n",
    "</span>\n",
    "\n",
    "The most common place that metric value occur are in composer functions that generate musical output. See the demos for numerous rhythmic examples."
   ]
  },
  {
   "cell_type": "markdown",
   "metadata": {},
   "source": [
    "## Rhythmic names"
   ]
  },
  {
   "cell_type": "markdown",
   "metadata": {
    "slideshow": {
     "slide_type": "-"
    }
   },
   "source": [
    "This chart describes the 'grammer' of symbolic (string) names:</h1>\n",
    "\n",
    "<pre>\n",
    "&lt;rhythm&gt; := [&lt;tuple&gt;] &lt;name&gt; [&lt;dot&gt;+]\n",
    "&lt;tuple&gt; := 3 | 5 | 7 | 11 | 13\n",
    "&lt;name&gt; :=  'w' | 'h' | 'q' | 'e' | 's' | 'x'\n",
    "&lt;dot&gt; := '.'\n",
    "</pre>\n",
    "\n",
    "<p>w=whole, h=half, q=quarter, e=eighth, s=sixteenth, t=thirty-second, x=sixty-fourth</p>\n"
   ]
  },
  {
   "cell_type": "markdown",
   "metadata": {
    "slideshow": {
     "slide_type": "-"
    }
   },
   "source": [
    "Examples:\n",
    "\n",
    "<p>\n",
    "<ul>\n",
    "<li>'q' is a quarter note</li>\n",
    "<li>'3s' is a triplet sixteenth</li>\n",
    "<li>'e..' is a doubly-dotted eighth</li>\n",
    "<li>'5q'  is a quintuple quarter</li>\n",
    "</ul>\n",
    "</p>\n",
    "\n",
    "<p>Metric names can be combined (to some extent) using multiplication, addition, and subtraction:</p>\n",
    "\n",
    "<ul>\n",
    "<li>'w*4' is a rhythm lasting four whole notes</li>\n",
    "<li>'w-s' is a whole note less a 16th (a triply dotted half)</li>\n",
    "<li>h+3e  is half plus triplet eighth</li>\n",
    "</ul>\n",
    "\n",
    "</span>"
   ]
  },
  {
   "cell_type": "markdown",
   "metadata": {},
   "source": [
    "## The rhythm() function\n",
    "\n",
    "`rhythm(ref, tempo=60, beat=1/4)`\n",
    "\n",
    "The rhythm function converts metric references (names or values) at a given tempo and beat into time values in seconds. The input reference can be expressed as a rhythmic symbol, a list or string of the same or as a Python fraction of a whole note (e.g. Fraction(1,4)).  The default output will be in floating point seconds."
   ]
  },
  {
   "cell_type": "markdown",
   "metadata": {},
   "source": [
    "The rhythm of a quarter note at the defalt tempo (60 bpm) and beat (quarter note) expressed as symbol, float or Fraction"
   ]
  },
  {
   "cell_type": "code",
   "execution_count": null,
   "metadata": {},
   "outputs": [],
   "source": [
    "a=rhythm(\"q\")\n",
    "b=rhythm(1/4)\n",
    "c=Fraction(1,4)\n",
    "a,b,c"
   ]
  },
  {
   "cell_type": "markdown",
   "metadata": {},
   "source": [
    "The tempo parameter provides defines the speed of a beat:"
   ]
  },
  {
   "cell_type": "code",
   "execution_count": null,
   "metadata": {},
   "outputs": [],
   "source": [
    "rhythm(\"q\", 120)"
   ]
  },
  {
   "cell_type": "markdown",
   "metadata": {},
   "source": [
    "Changing the beat to a half note:"
   ]
  },
  {
   "cell_type": "code",
   "execution_count": null,
   "metadata": {},
   "outputs": [],
   "source": [
    "rhythm(\"q\", 120, 1/2)"
   ]
  },
  {
   "cell_type": "markdown",
   "metadata": {},
   "source": [
    "Rhythmic symbols can involve simple addition and subtraction:"
   ]
  },
  {
   "cell_type": "code",
   "execution_count": null,
   "metadata": {},
   "outputs": [],
   "source": [
    "rhythm(\"w+q\")"
   ]
  },
  {
   "cell_type": "code",
   "execution_count": null,
   "metadata": {},
   "outputs": [],
   "source": [
    "rhythm(\"q-s\")"
   ]
  },
  {
   "cell_type": "markdown",
   "metadata": {},
   "source": [
    "Input can be a series of metric names with ',' marking repeated values:"
   ]
  },
  {
   "cell_type": "code",
   "execution_count": null,
   "metadata": {},
   "outputs": [],
   "source": [
    "rhythm(\"q,, e, s w.\")"
   ]
  },
  {
   "cell_type": "code",
   "execution_count": null,
   "metadata": {
    "scrolled": true
   },
   "outputs": [],
   "source": [
    "rhythm(\"w e. s e. s h w-s s 3h 3h 3h\")"
   ]
  },
  {
   "cell_type": "markdown",
   "metadata": {},
   "source": [
    "If a python list of strings is given a python list of values is returned:"
   ]
  },
  {
   "cell_type": "code",
   "execution_count": null,
   "metadata": {
    "scrolled": true
   },
   "outputs": [],
   "source": [
    "rhythm([\"q\", \"h e. s 3q,,\", \"w\"])"
   ]
  },
  {
   "cell_type": "markdown",
   "metadata": {},
   "source": [
    "\n",
    "## The intempo() function\n",
    "\n",
    "`intempo(sec, tempo=60)`\n",
    "\n",
    "The intempo function returns a time value in seconds scaled to tempo.\n"
   ]
  },
  {
   "cell_type": "code",
   "execution_count": null,
   "metadata": {},
   "outputs": [],
   "source": [
    "intempo(.25, 60)"
   ]
  },
  {
   "cell_type": "code",
   "execution_count": null,
   "metadata": {},
   "outputs": [],
   "source": [
    "intempo(.25, 120)"
   ]
  },
  {
   "cell_type": "markdown",
   "metadata": {},
   "source": [
    "## Fractions\n",
    "\n",
    "Exact mensural values can be easily represented using python Fractions. Musx adds several methods to the Fraction class to assist expressing rhythmic information.\n"
   ]
  },
  {
   "cell_type": "markdown",
   "metadata": {},
   "source": [
    "The `dotted(num)` method increases the value of a fractional rhythm by the number of dots specified:"
   ]
  },
  {
   "cell_type": "code",
   "execution_count": null,
   "metadata": {},
   "outputs": [],
   "source": [
    "Fraction(1,4).dotted(1)"
   ]
  },
  {
   "cell_type": "markdown",
   "metadata": {},
   "source": [
    "A doubly dotted quarter note:"
   ]
  },
  {
   "cell_type": "code",
   "execution_count": null,
   "metadata": {},
   "outputs": [],
   "source": [
    "Fraction(1,4).dotted(2)"
   ]
  },
  {
   "cell_type": "markdown",
   "metadata": {},
   "source": [
    "The `seconds(tempo, beat)` method converts a fraction to floating point seconds according to a given tempo and beat:"
   ]
  },
  {
   "cell_type": "code",
   "execution_count": null,
   "metadata": {},
   "outputs": [],
   "source": [
    "Fraction(1,4).seconds(tempo=120)"
   ]
  },
  {
   "cell_type": "markdown",
   "metadata": {},
   "source": [
    "`tup(num)`  returns a fraction representing num divisions of the current fraction:"
   ]
  },
  {
   "cell_type": "code",
   "execution_count": null,
   "metadata": {
    "scrolled": true
   },
   "outputs": [],
   "source": [
    "Fraction(1, 4).tup(5)"
   ]
  },
  {
   "cell_type": "code",
   "execution_count": null,
   "metadata": {},
   "outputs": [],
   "source": [
    "Fraction(1, 20) * 5"
   ]
  },
  {
   "cell_type": "markdown",
   "metadata": {},
   "source": [
    "The `tuplets(num, intimeof=1)` method returns a list of tuplets that sum to the total of fraction * num.\n",
    "\n",
    "Quarter note triplets:"
   ]
  },
  {
   "cell_type": "code",
   "execution_count": null,
   "metadata": {},
   "outputs": [],
   "source": [
    "a  = Fraction(1, 4).tuplets(3)\n",
    "print(f\"a = {a}\")\n",
    "print(f\"sum(a) = {sum(a)}\") "
   ]
  },
  {
   "cell_type": "markdown",
   "metadata": {},
   "source": [
    "Three quarter notes in the time of 2 quarter notes:"
   ]
  },
  {
   "cell_type": "code",
   "execution_count": null,
   "metadata": {},
   "outputs": [],
   "source": [
    "Fraction(1, 4).tuplets(3,2)"
   ]
  }
 ],
 "metadata": {
  "celltoolbar": "Raw Cell Format",
  "interpreter": {
   "hash": "187b0d5a1c5527541f2aff21a07b3e6e464ec5be26f5cb21b171e0ced8c05872"
  },
  "kernelspec": {
   "display_name": "musxenv",
   "language": "python",
   "name": "musxenv"
  },
  "language_info": {
   "codemirror_mode": {
    "name": "ipython",
    "version": 3
   },
   "file_extension": ".py",
   "mimetype": "text/x-python",
   "name": "python",
   "nbconvert_exporter": "python",
   "pygments_lexer": "ipython3",
   "version": "3.10.6"
  }
 },
 "nbformat": 4,
 "nbformat_minor": 4
}

{
 "cells": [
  {
   "cell_type": "markdown",
   "metadata": {},
   "source": [
    "# Rhythm and time representation in musx\n",
    "\n",
    "An introduction to working with metrical time in musx.\n",
    "\n",
    "Running this notebook requires the musx package. See [INSTALL.md](https://github.com/musx-admin/musx/blob/main/INSTALL.md) for directions on how to install musx in your environment.\n",
    "\n",
    "<hr style=\"height:1px;color:gray\">"
   ]
  },
  {
   "cell_type": "code",
   "execution_count": null,
   "metadata": {},
   "outputs": [],
   "source": [
    "from fractions import Fraction\n",
    "from musx import version, rhythm\n",
    "print(\"musx version:\", version)"
   ]
  },
  {
   "cell_type": "markdown",
   "metadata": {
    "slideshow": {
     "slide_type": "-"
    }
   },
   "source": [
    "<p>There are a few different ways to specify musical time in musx.</p>\n",
    "\n",
    "<ul>\n",
    "<li>Rythmic names (strings)</li>\n",
    "<li>seconds (ints or floats)</li>\n",
    "<li>beats (see: intempo() for converting to seconds)</li>\n",
    "<li>Exact metric time using python's Fraction class</li>\n",
    "</ul>\n",
    "</span>\n",
    "\n",
    "The most common place metric value occur are in composer functions that generate musical output. See the demos for"
   ]
  },
  {
   "cell_type": "markdown",
   "metadata": {},
   "source": [
    "## Rhythmic names"
   ]
  },
  {
   "cell_type": "markdown",
   "metadata": {
    "slideshow": {
     "slide_type": "-"
    }
   },
   "source": [
    "This chart describes the 'grammer' of symbolic (string) names:</h1>\n",
    "\n",
    "<pre>\n",
    "&lt;rhythm&gt; := [&lt;tuple&gt;] &lt;name&gt; [&lt;dot&gt;+]\n",
    "&lt;tuple&gt; := 3 | 5 | 7 | 11 | 13\n",
    "&lt;name&gt; :=  'w' | 'h' | 'q' | 'e' | 's' | 'x'\n",
    "&lt;dot&gt; := '.'\n",
    "</pre>\n",
    "\n",
    "<p>w=whole, h=half, q=quarter, e=eighth, s=sixteenth, t=thirty-second, x=sixty-fourth</p>\n"
   ]
  },
  {
   "cell_type": "markdown",
   "metadata": {
    "slideshow": {
     "slide_type": "-"
    }
   },
   "source": [
    "Examples:\n",
    "\n",
    "<p>\n",
    "<ul>\n",
    "<li>'q' is a quarter note</li>\n",
    "<li>'3s' is a triplet sixteenth</li>\n",
    "<li>'e..' is a doubly-dotted eighth</li>\n",
    "<li>'5q'  is a quintuple quarter</li>\n",
    "</ul>\n",
    "</p>\n",
    "\n",
    "<p>Metric names can be combined (to some extent) using multiplication, addition, and subtraction:</p>\n",
    "\n",
    "<ul>\n",
    "<li>'w*4' is a rhythm lasting four whole notes</li>\n",
    "<li>'w-s' is a whole note less a 16th (a triply dotted half)</li>\n",
    "<li>h+3e  is half plus triplet eighth</li>\n",
    "</ul>\n",
    "\n",
    "</span>"
   ]
  },
  {
   "cell_type": "markdown",
   "metadata": {},
   "source": [
    "## The rhythm() function\n",
    "\n",
    "rhythm(ref, tempo=60, beat=1/4)\n",
    "\n",
    "The rhythm function converts metric references (names or values) at a given tempo and beat into time values in seconds. The input reference can be expressed a fraction of a whole note (e.g. Fraction(1,4)), a rhythmic symbol, a list of the same or a string of the same separated by commas and/or spaces."
   ]
  },
  {
   "cell_type": "markdown",
   "metadata": {},
   "source": [
    "The rhythm of a whole note at the defalt tempo (60 bpm)"
   ]
  },
  {
   "cell_type": "code",
   "execution_count": null,
   "metadata": {},
   "outputs": [],
   "source": [
    "rhythm(\"w\")"
   ]
  },
  {
   "cell_type": "markdown",
   "metadata": {},
   "source": [
    "The same at at tempo 120."
   ]
  },
  {
   "cell_type": "code",
   "execution_count": null,
   "metadata": {},
   "outputs": [],
   "source": [
    "rhythm(\"w+q\", tempo=120)"
   ]
  },
  {
   "cell_type": "markdown",
   "metadata": {},
   "source": [
    "A whole note at tempo 60 with a half-note beat."
   ]
  },
  {
   "cell_type": "code",
   "execution_count": null,
   "metadata": {},
   "outputs": [],
   "source": [
    "rhythm(\"w\", tempo=60, beat=1/2)"
   ]
  },
  {
   "cell_type": "markdown",
   "metadata": {},
   "source": [
    "A quarter note at tempo 90 with the quarter note the beat."
   ]
  },
  {
   "cell_type": "code",
   "execution_count": null,
   "metadata": {},
   "outputs": [],
   "source": [
    "rhythm(\"q\", tempo=90, beat=1/4)"
   ]
  },
  {
   "cell_type": "markdown",
   "metadata": {},
   "source": [
    "Input can be a list of metric names with ',' denoting repeated values:"
   ]
  },
  {
   "cell_type": "code",
   "execution_count": null,
   "metadata": {},
   "outputs": [],
   "source": [
    "rhythm(\"q,, e, s w.\")"
   ]
  },
  {
   "cell_type": "markdown",
   "metadata": {},
   "source": []
  },
  {
   "cell_type": "code",
   "execution_count": null,
   "metadata": {},
   "outputs": [],
   "source": [
    "rhythm(\"w e. s e. s h w-s s 3h 3h 3h\")"
   ]
  },
  {
   "cell_type": "code",
   "execution_count": null,
   "metadata": {},
   "outputs": [],
   "source": [
    "# you can \"subtract\" \"add\" and \"multiply\" rhythm symbols\n",
    "\n",
    "rhythm(\"w e. s e. s h w-s s\", beat=1/2)"
   ]
  },
  {
   "cell_type": "code",
   "execution_count": null,
   "metadata": {
    "slideshow": {
     "slide_type": "-"
    }
   },
   "outputs": [],
   "source": [
    "rhythm(\"w e. s e. s h w-s s\", tempo=120)"
   ]
  },
  {
   "cell_type": "code",
   "execution_count": null,
   "metadata": {
    "slideshow": {
     "slide_type": "-"
    }
   },
   "outputs": [],
   "source": [
    "from fractions import Fraction\n",
    "\n",
    "rhythm([1/3, 1/3, 1/3], beat=Fraction(1,4), tempo=60)"
   ]
  },
  {
   "cell_type": "markdown",
   "metadata": {},
   "source": [
    "\n",
    "<h1>The intempo() function</h1>\n",
    "<p></p>\n",
    "<span style=\"font-size: 16px;\">\n",
    "\n",
    "<p>intempo(sec, tempo=60)</p>\n",
    "\n",
    "<p>\n",
    "Returns a time value in seconds scaled to tempo.\n",
    "</p>\n",
    "</span>"
   ]
  },
  {
   "cell_type": "code",
   "execution_count": null,
   "metadata": {},
   "outputs": [],
   "source": [
    "intempo(.25, 60)"
   ]
  },
  {
   "cell_type": "code",
   "execution_count": null,
   "metadata": {},
   "outputs": [],
   "source": [
    "intempo(.25, 120)"
   ]
  },
  {
   "cell_type": "markdown",
   "metadata": {},
   "source": [
    "## Fractions\n",
    "\n",
    "Exact mensural values can be represented using python Fractions. Musx adds several methods to the Fraction class to assist expressing musical rhythm.\n"
   ]
  },
  {
   "cell_type": "markdown",
   "metadata": {},
   "source": [
    "The dotted() method increases the value of a rhythm by the number of dots specified"
   ]
  },
  {
   "cell_type": "code",
   "execution_count": null,
   "metadata": {},
   "outputs": [],
   "source": [
    "Fraction(1,4).dotted(3)"
   ]
  },
  {
   "cell_type": "code",
   "execution_count": null,
   "metadata": {},
   "outputs": [],
   "source": [
    "rhythm([Fraction(1,6),Fraction(1,6),Fraction(1,6)], tempo=60)"
   ]
  },
  {
   "cell_type": "code",
   "execution_count": null,
   "metadata": {},
   "outputs": [],
   "source": [
    "# five in the time of a triplet quarter\n",
    "rhythm(Fraction(1, 3) /  5, tempo=120) * 15.0"
   ]
  }
 ],
 "metadata": {
  "celltoolbar": "Raw Cell Format",
  "interpreter": {
   "hash": "187b0d5a1c5527541f2aff21a07b3e6e464ec5be26f5cb21b171e0ced8c05872"
  },
  "kernelspec": {
   "display_name": "musxenv",
   "language": "python",
   "name": "musxenv"
  },
  "language_info": {
   "codemirror_mode": {
    "name": "ipython",
    "version": 3
   },
   "file_extension": ".py",
   "mimetype": "text/x-python",
   "name": "python",
   "nbconvert_exporter": "python",
   "pygments_lexer": "ipython3",
   "version": "3.10.6"
  }
 },
 "nbformat": 4,
 "nbformat_minor": 4
}

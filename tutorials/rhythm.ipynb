{
 "cells": [
  {
   "cell_type": "markdown",
   "metadata": {},
   "source": [
    "# RHYTHM AND TIME REPRESENTATION IN MUSX\n",
    "\n",
    "An introduction to metrical time expression in musx.\n",
    "\n",
    "<hr style=\"height:1px;color:gray\">\n",
    "\n",
    "Notebook imports:"
   ]
  },
  {
   "cell_type": "code",
   "execution_count": null,
   "metadata": {},
   "outputs": [],
   "source": [
    "from IPython.display import display, HTML\n",
    "display(HTML(\"<style>.container { width:100% !important; }</style>\"))\n",
    "from fractions import Fraction\n",
    "from musx import version, rhythm, intempo\n",
    "print(\"musx version:\", version)"
   ]
  },
  {
   "cell_type": "markdown",
   "metadata": {
    "slideshow": {
     "slide_type": "-"
    }
   },
   "source": [
    "<p>There are a few different ways to express musical time in musx:</p>\n",
    "\n",
    "<ul>\n",
    "<li>Rhythmic names (strings)</li>\n",
    "<li>seconds (ints or floats)</li>\n",
    "<li>beats (see: intempo() for converting to seconds)</li>\n",
    "<li>Exact metric time using python's Fraction class</li>\n",
    "</ul>\n",
    "</span>\n",
    "\n",
    "The most common place that metric value occur are in composer functions that generate musical output. See the demos for numerous rhythmic examples."
   ]
  },
  {
   "cell_type": "markdown",
   "metadata": {},
   "source": [
    "## Rhythmic names (strings)"
   ]
  },
  {
   "cell_type": "markdown",
   "metadata": {
    "slideshow": {
     "slide_type": "-"
    }
   },
   "source": [
    "Symbolic rhythm strings follow this simple grammar:</h1>\n",
    "\n",
    "<pre>\n",
    "&lt;rhythm&gt; := [&lt;tuple&gt;] &lt;name&gt; [&lt;dot&gt;+]\n",
    "&lt;tuple&gt; := 3 | 5 | 7 | 11 | 13\n",
    "&lt;name&gt; :=  'w' | 'h' | 'q' | 'e' | 's' | 'x'\n",
    "&lt;dot&gt; := '.'\n",
    "</pre>\n",
    "\n",
    "<p>w=whole, h=half, q=quarter, e=eighth, s=sixteenth, t=thirty-second, x=sixty-fourth</p>\n",
    "[] means optional, + means zero or more\n"
   ]
  },
  {
   "cell_type": "markdown",
   "metadata": {
    "slideshow": {
     "slide_type": "-"
    }
   },
   "source": [
    "Examples:\n",
    "\n",
    "<p>\n",
    "<ul>\n",
    "<li>'q' is a quarter note</li>\n",
    "<li>'3s' is a triplet sixteenth</li>\n",
    "<li>'e..' is a doubly-dotted eighth</li>\n",
    "<li>'5q'  is a quintuple quarter</li>\n",
    "</ul>\n",
    "</p>\n",
    "\n",
    "<p>Metric names can be combined (to some extent) using multiplication, addition, and subtraction:</p>\n",
    "\n",
    "<ul>\n",
    "<li>'w*4' is a rhythm lasting four whole notes</li>\n",
    "<li>'w-s' is a whole note less a 16th (a triply dotted half)</li>\n",
    "<li>h+3e  is half plus triplet eighth</li>\n",
    "</ul>\n",
    "\n",
    "</span>"
   ]
  },
  {
   "cell_type": "markdown",
   "metadata": {},
   "source": [
    "## The rhythm() function\n",
    "\n",
    "`rhythm(ref, tempo=60, beat=1/4)`\n",
    "\n",
    "The rhythm function converts metric references (names or values) at a given tempo and beat into time values in seconds. The input reference can be expressed as a rhythmic symbol, a list or string of the same or as a Python fraction of a whole note (e.g. Fraction(1,4) is a quarter note).  The default output will be in floating point seconds."
   ]
  },
  {
   "cell_type": "markdown",
   "metadata": {},
   "source": [
    "The rhythm of a quarter note at the defalt tempo (60 bpm) and beat (quarter note) expressed as symbol, float or Fraction"
   ]
  },
  {
   "cell_type": "code",
   "execution_count": null,
   "metadata": {},
   "outputs": [],
   "source": [
    "a=rhythm(\"q\")\n",
    "b=rhythm(1/4)\n",
    "c=Fraction(1,4)\n",
    "a,b,c"
   ]
  },
  {
   "cell_type": "markdown",
   "metadata": {},
   "source": [
    "The tempo parameter accepts a metronome (beats per minute) value. The default tempo value is 60, i.e. 60 beats per minute:"
   ]
  },
  {
   "cell_type": "code",
   "execution_count": null,
   "metadata": {},
   "outputs": [],
   "source": [
    "print(f\"quarter note tempo 60:  {rhythm('q')}\")\n",
    "print(f\"quarter note tempo 120: {rhythm('q', 120)}\")\n",
    "print(f\"triplet 8th tempo 90:  {rhythm('3e', 90)}\")"
   ]
  },
  {
   "cell_type": "markdown",
   "metadata": {},
   "source": [
    "The beat parameter defines the metric value of the beat. The default beat value is 1, i.e. a whole note:"
   ]
  },
  {
   "cell_type": "code",
   "execution_count": null,
   "metadata": {},
   "outputs": [],
   "source": [
    "print(f'dotted quarter tempo=60 beat=whole note: {rhythm(\"q.\")}')\n",
    "print(f'dotted quarter tempo=60 beat=half note: {rhythm(\"q.\", beat=1/2)}')"
   ]
  },
  {
   "cell_type": "markdown",
   "metadata": {},
   "source": [
    "Rhythmic symbols can involve simple addition and subtraction:"
   ]
  },
  {
   "cell_type": "code",
   "execution_count": null,
   "metadata": {},
   "outputs": [],
   "source": [
    "print(f\"whole note plus a dotted quarter: {rhythm('w+q.')}\")\n",
    "print(f\"quarter note less a 16th: {rhythm('q-s')}\")"
   ]
  },
  {
   "cell_type": "markdown",
   "metadata": {},
   "source": [
    "Input can be a string containing a series of of metric names with ',' marking repeated values:"
   ]
  },
  {
   "cell_type": "code",
   "execution_count": null,
   "metadata": {},
   "outputs": [],
   "source": [
    "rhythm(\"q,, e, s w.\")"
   ]
  },
  {
   "cell_type": "code",
   "execution_count": null,
   "metadata": {
    "scrolled": true
   },
   "outputs": [],
   "source": [
    "rhythm(\"w e. s e. s h w-s s 3h,,\")"
   ]
  },
  {
   "cell_type": "markdown",
   "metadata": {},
   "source": [
    "If a python list of strings is given a python list of values is returned:"
   ]
  },
  {
   "cell_type": "code",
   "execution_count": null,
   "metadata": {
    "scrolled": true
   },
   "outputs": [],
   "source": [
    "rhythm([\"q\", \"h e. s q q q\", \"w\"])"
   ]
  },
  {
   "cell_type": "markdown",
   "metadata": {},
   "source": [
    "## The intempo() function\n",
    "\n",
    "`intempo(sec, tempo=60)`\n",
    "\n",
    "The `intempo()` function returns a time value in seconds scaled to a tempo, which defaults to 60 beats per minute:\n"
   ]
  },
  {
   "cell_type": "code",
   "execution_count": null,
   "metadata": {},
   "outputs": [],
   "source": [
    "intempo(.25, 60)"
   ]
  },
  {
   "cell_type": "code",
   "execution_count": null,
   "metadata": {},
   "outputs": [],
   "source": [
    "intempo(.25, 120)"
   ]
  },
  {
   "cell_type": "markdown",
   "metadata": {},
   "source": [
    "## Fractions\n",
    "\n",
    "Mensural values can be expressed as python fractions. Musx adds several methods to python's Fraction class to help express exact rhythmic information:"
   ]
  },
  {
   "cell_type": "markdown",
   "metadata": {},
   "source": [
    "The `dotted(num)` method increases the value of a fractional rhythm by the number of dots specified:"
   ]
  },
  {
   "cell_type": "code",
   "execution_count": null,
   "metadata": {},
   "outputs": [],
   "source": [
    "Fraction(1,4).dotted(1)"
   ]
  },
  {
   "cell_type": "markdown",
   "metadata": {},
   "source": [
    "A doubly dotted quarter note:"
   ]
  },
  {
   "cell_type": "code",
   "execution_count": null,
   "metadata": {},
   "outputs": [],
   "source": [
    "Fraction(1,4).dotted(2)"
   ]
  },
  {
   "cell_type": "markdown",
   "metadata": {},
   "source": [
    "The `seconds(tempo, beat)` method converts a fraction to floating point seconds according to a given tempo and beat:"
   ]
  },
  {
   "cell_type": "code",
   "execution_count": null,
   "metadata": {},
   "outputs": [],
   "source": [
    "Fraction(1,4).seconds(tempo=120)"
   ]
  },
  {
   "cell_type": "markdown",
   "metadata": {},
   "source": [
    "`tup(num)`  returns a fraction representing num divisions of the current fraction:"
   ]
  },
  {
   "cell_type": "code",
   "execution_count": null,
   "metadata": {
    "scrolled": true
   },
   "outputs": [],
   "source": [
    "print(f\"one seventh of a quarter note: {Fraction(1, 4).tup(7)}\")"
   ]
  },
  {
   "cell_type": "markdown",
   "metadata": {},
   "source": [
    "The `tuplets(num, intimeof=1)` method returns a list of tuplets that sum to the total of fraction * num.\n",
    "\n",
    "Quarter note triplets:"
   ]
  },
  {
   "cell_type": "code",
   "execution_count": null,
   "metadata": {},
   "outputs": [],
   "source": [
    "a  = Fraction(1, 4).tuplets(3)\n",
    "print(f\"a = {a}\")\n",
    "print(f\"sum(a) = {sum(a)}\") "
   ]
  },
  {
   "cell_type": "markdown",
   "metadata": {},
   "source": [
    "Three quarter notes in the time of 2:"
   ]
  },
  {
   "cell_type": "code",
   "execution_count": null,
   "metadata": {},
   "outputs": [],
   "source": [
    "Fraction(1, 4).tuplets(3,2)"
   ]
  }
 ],
 "metadata": {
  "celltoolbar": "Raw Cell Format",
  "interpreter": {
   "hash": "187b0d5a1c5527541f2aff21a07b3e6e464ec5be26f5cb21b171e0ced8c05872"
  },
  "kernelspec": {
   "display_name": "Python 3 (ipykernel)",
   "language": "python",
   "name": "python3"
  },
  "language_info": {
   "codemirror_mode": {
    "name": "ipython",
    "version": 3
   },
   "file_extension": ".py",
   "mimetype": "text/x-python",
   "name": "python",
   "nbconvert_exporter": "python",
   "pygments_lexer": "ipython3",
   "version": "3.10.6"
  }
 },
 "nbformat": 4,
 "nbformat_minor": 4
}

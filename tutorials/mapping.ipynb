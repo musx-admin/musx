{
 "cells": [
  {
   "cell_type": "markdown",
   "metadata": {},
   "source": [
    "# MAPPING AND TRANSFORMATION\n",
    "\n",
    "The term *mapping* means to transform values from one domain into 'equivalent'\n",
    "values in another.  Mapping is a key concept in algorithmic composition and is a central pillar of a techique called \"sonification\", i.e. transforming data sets into sound.\n",
    "\n",
    "<hr style=\"height:1px;color:gray\">\n",
    "\n",
    "Notebook imports:"
   ]
  },
  {
   "cell_type": "code",
   "execution_count": 2,
   "metadata": {},
   "outputs": [
    {
     "data": {
      "text/html": [
       "<style>.container { width:100% !important; }</style>"
      ],
      "text/plain": [
       "<IPython.core.display.HTML object>"
      ]
     },
     "metadata": {},
     "output_type": "display_data"
    },
    {
     "name": "stdout",
     "output_type": "stream",
     "text": [
      "musx version: N.N.N\n"
     ]
    }
   ],
   "source": [
    "import sys\n",
    "sys.path.append(\"/Users/taube/Software/musx\")\n",
    "from IPython.display import display, HTML\n",
    "display(HTML(\"<style>.container { width:100% !important; }</style>\"))\n",
    "import matplotlib.pyplot as plt\n",
    "from random import randint\n",
    "from math import pi, sin\n",
    "from musx import Score, Note, Seq, MidiFile, version, setmidiplayer, playfile, rescale, frange,\\\n",
    "keynum, hertz, between, interp, intempo, pick, rescale, uniran, lowran, midran, highran, explsegs, scale, ransegs\n",
    "from musx.midi.gm import ChoirAahs, AcousticGrandPiano, Marimba, Xylophone, PizzicatoStrings\n",
    "print(f\"musx version: {version}\")"
   ]
  },
  {
   "cell_type": "markdown",
   "metadata": {},
   "source": [
    "This notebook generates MIDI files and automatically plays them using [fluidsynth](https://www.fluidsynth.org/download/) and the [MuseScore_General.sf3](https://ftp.osuosl.org/pub/musescore/soundfont/MuseScore_General) sound font. See [INSTALL.md](https://github.com/musx-admin/musx/blob/main/INSTALL.md) for how to install a terminal-based MIDI player to use with musx.  If you don't have a player installed you can access the output files in the same directory as this notebook:"
   ]
  },
  {
   "cell_type": "code",
   "execution_count": null,
   "metadata": {
    "scrolled": true
   },
   "outputs": [],
   "source": [
    "setmidiplayer(\"fluidsynth -iq -g1 /usr/local/sf/MuseScore_General.sf3\")\n",
    "print('OK!')"
   ]
  },
  {
   "cell_type": "markdown",
   "metadata": {},
   "source": [
    "Setup for graphing, this assumes matplotlib is installed in your python environment:"
   ]
  },
  {
   "cell_type": "code",
   "execution_count": 7,
   "metadata": {},
   "outputs": [
    {
     "name": "stdout",
     "output_type": "stream",
     "text": [
      "OK!\n"
     ]
    }
   ],
   "source": [
    "def plot(data, size=(3,3)):\n",
    "    plt.figure(figsize=size)\n",
    "    plt.plot(data)\n",
    "    plt.show()\n",
    "    \n",
    "def plotn(*data):\n",
    "    print(\"DATA\", data)\n",
    "    fig, axes = plt.subplots(nrows=1, ncols=len(data), figsize=(5, 3))\n",
    "    for i,d in enumerate(data):\n",
    "        axes[i].plot(d)\n",
    "    #fig.tight_layout()\n",
    "    plt.show()\n",
    "    \n",
    "def histo(data):\n",
    "    plt.hist(data, bins=20, facecolor=\"blue\", alpha=0.5) \n",
    "    plt.show()\n",
    "    \n",
    "print('OK!')"
   ]
  },
  {
   "cell_type": "markdown",
   "metadata": {},
   "source": [
    "## Rescaling\n",
    "\n",
    "The `rescale()` function maps a numeric value from one range into an equivalent value in a different range:\n",
    "\n",
    "```musx.rescale(val, oldmin, oldmax, newmin, newmax, mode='lin')```\n",
    "\n",
    "*val* is the value to rescale, *oldmin* and *oldmax* are its original bounds; *newmin* and *newmax* are its new bounds. The *mode* parameter controls the interpolation method between *newmin* and *newmax*: 'lin' is linear interpolation.\n",
    "\n",
    "Map 0 &rarr; 1 to 70 &rarr; 80:"
   ]
  },
  {
   "cell_type": "code",
   "execution_count": 8,
   "metadata": {},
   "outputs": [
    {
     "name": "stdout",
     "output_type": "stream",
     "text": [
      "DATA ([0.0, 0.01, 0.02, 0.03, 0.04, 0.05, 0.06, 0.07, 0.08, 0.09, 0.1, 0.11, 0.12, 0.13, 0.14, 0.15, 0.16, 0.17, 0.18, 0.19, 0.2, 0.21, 0.22, 0.23, 0.24, 0.25, 0.26, 0.27, 0.28, 0.29, 0.3, 0.31, 0.32, 0.33, 0.34, 0.35000000000000003, 0.36, 0.37, 0.38, 0.39, 0.4, 0.41000000000000003, 0.42, 0.43, 0.44, 0.45, 0.46, 0.47000000000000003, 0.48, 0.49, 0.5, 0.51, 0.52, 0.53, 0.54, 0.55, 0.56, 0.5700000000000001, 0.58, 0.59, 0.6, 0.61, 0.62, 0.63, 0.64, 0.65, 0.66, 0.67, 0.68, 0.6900000000000001, 0.7000000000000001, 0.71, 0.72, 0.73, 0.74, 0.75, 0.76, 0.77, 0.78, 0.79, 0.8, 0.81, 0.8200000000000001, 0.8300000000000001, 0.84, 0.85, 0.86, 0.87, 0.88, 0.89, 0.9, 0.91, 0.92, 0.93, 0.9400000000000001, 0.9500000000000001, 0.96, 0.97, 0.98, 0.99], [70, 70.1, 70.19999999999999, 70.3, 70.4, 70.5, 70.6, 70.69999999999999, 70.80000000000001, 70.9, 71.0, 71.10000000000001, 71.2, 71.3, 71.39999999999999, 71.5, 71.6, 71.69999999999999, 71.80000000000001, 71.9, 72.0, 72.10000000000001, 72.2, 72.3, 72.4, 72.5, 72.6, 72.7, 72.8, 72.89999999999999, 73.0, 73.1, 73.19999999999999, 73.3, 73.4, 73.5, 73.6, 73.7, 73.8, 73.9, 74.0, 74.1, 74.20000000000002, 74.30000000000001, 74.4, 74.5, 74.60000000000001, 74.7, 74.8, 74.9, 75.0, 75.1, 75.2, 75.30000000000001, 75.4, 75.5, 75.6, 75.7, 75.8, 75.9, 76.0, 76.1, 76.2, 76.3, 76.4, 76.5, 76.6, 76.7, 76.8, 76.9, 77.0, 77.1, 77.19999999999999, 77.3, 77.4, 77.5, 77.6, 77.7, 77.80000000000001, 77.9, 78.0, 78.10000000000001, 78.2, 78.3, 78.4, 78.5, 78.6, 78.69999999999999, 78.80000000000001, 78.9, 79.0, 79.1, 79.2, 79.3, 79.4, 79.5, 79.6, 79.7, 79.80000000000001, 79.9])\n"
     ]
    },
    {
     "data": {
      "image/png": "[encoded data removed]",
      "text/plain": [
       "<Figure size 500x300 with 2 Axes>"
      ]
     },
     "metadata": {},
     "output_type": "display_data"
    }
   ],
   "source": [
    "xdata, ydata = [], []\n",
    "for x in frange(0, 1, .01):\n",
    "    y = rescale(x, 0, 1, 70, 80)\n",
    "    xdata.append(x)\n",
    "    ydata.append(y)\n",
    "plotn(xdata,ydata)"
   ]
  },
  {
   "cell_type": "markdown",
   "metadata": {},
   "source": [
    "If *newmin* and *newmax* values are switched then rescaling will be inverted:\n",
    "\n",
    "Map 0 &rarr; 1 to 80 &rarr; 70 (inverted):"
   ]
  },
  {
   "cell_type": "code",
   "execution_count": null,
   "metadata": {},
   "outputs": [],
   "source": [
    "xdata, ydata = [], []\n",
    "for x in frange(0, 1, .01):\n",
    "    y = rescale(x, 0, 1, 80, 70)\n",
    "    xdata.append(x)\n",
    "    ydata.append(y)\n",
    "plotn(xdata,ydata)"
   ]
  },
  {
   "cell_type": "markdown",
   "metadata": {},
   "source": [
    "If *mode* is 'lin' then linear scaling occurs, 'cos' produces cosine\n",
    "scaling, 'exp' produces exponential scaling, and '-exp' produces \n",
    "inverted exponential.\n",
    "\n",
    "Cosine mapping 0 &rarr; 1 to 70 &rarr; 80:"
   ]
  },
  {
   "cell_type": "code",
   "execution_count": null,
   "metadata": {},
   "outputs": [],
   "source": [
    "xdata, ydata = [], []\n",
    "for x in frange(0, 1, .01):\n",
    "    y = rescale(x, 0, 1, 70, 80, 'cos')\n",
    "    xdata.append(x)\n",
    "    ydata.append(y)\n",
    "plotn(xdata,ydata)"
   ]
  },
  {
   "cell_type": "markdown",
   "metadata": {},
   "source": [
    "Exponential mapping 0 &rarr; 1 to 70 &rarr; 80:"
   ]
  },
  {
   "cell_type": "code",
   "execution_count": null,
   "metadata": {},
   "outputs": [],
   "source": [
    "xdata, ydata = [], []\n",
    "for x in frange(0, 1, .01):\n",
    "    y = rescale(x, 0, 1, 70, 80, 'exp')\n",
    "    xdata.append(x)\n",
    "    ydata.append(y)\n",
    "plotn(xdata,ydata)"
   ]
  },
  {
   "cell_type": "markdown",
   "metadata": {},
   "source": [
    "Flipped exponential mapping 0 &rarr; 1 to 70 &rarr; 80:"
   ]
  },
  {
   "cell_type": "code",
   "execution_count": null,
   "metadata": {},
   "outputs": [],
   "source": [
    "xdata, bdata = [], []\n",
    "for x in frange(0, 1, .01):\n",
    "    y = rescale(x, 0, 1, 70, 80, '-exp')\n",
    "    xdata.append(x)\n",
    "    bdata.append(y)\n",
    "plotn(xdata,bdata)"
   ]
  },
  {
   "cell_type": "markdown",
   "metadata": {},
   "source": [
    "Inverted exponential mapping 0 &rarr; 1 to 80 &rarr; 70 "
   ]
  },
  {
   "cell_type": "code",
   "execution_count": null,
   "metadata": {},
   "outputs": [],
   "source": [
    "xdata, ydata = [], []\n",
    "for x in frange(0, 1, .01):\n",
    "    y = rescale(x, 0, 1, 80, 70, '-exp')\n",
    "    xdata.append(x)\n",
    "    ydata.append(y)\n",
    "plotn(xdata,ydata)"
   ]
  },
  {
   "cell_type": "markdown",
   "metadata": {},
   "source": [
    "Mapping 0 &rarr; 1 to 0 &rarr; 2pi (sine wave):"
   ]
  },
  {
   "cell_type": "code",
   "execution_count": null,
   "metadata": {},
   "outputs": [],
   "source": [
    "xdata, ydata = [], []\n",
    "for x in frange(0, 1, .01):\n",
    "    y = rescale(x, 0, 1, 0, (2 * pi))\n",
    "    xdata.append(x)\n",
    "    ydata.append(sin(y))\n",
    "plotn(xdata,ydata)"
   ]
  },
  {
   "cell_type": "markdown",
   "metadata": {},
   "source": [
    "Mapping to any frequency (freq * 2pi * x):"
   ]
  },
  {
   "cell_type": "code",
   "execution_count": null,
   "metadata": {},
   "outputs": [],
   "source": [
    "xdata, ydata = [], []\n",
    "freq = randint(3, 20) \n",
    "for x in frange(0, 1, .01):\n",
    "    y = rescale(x, 0, 1, 0, freq * (2 * pi))\n",
    "    xdata.append(x)\n",
    "    ydata.append(sin(y))\n",
    "print(f'{freq} hz:')\n",
    "plotn(xdata,ydata)"
   ]
  },
  {
   "cell_type": "markdown",
   "metadata": {},
   "source": [
    "### Using rescale() in composition\n",
    "\n",
    "Using `rescale()` inside a part composer is a simple but powerful way of \"reinterpreting\" compositional information and mapping values from one note parameter to another.\n",
    "\n",
    "Playback setup:"
   ]
  },
  {
   "cell_type": "code",
   "execution_count": null,
   "metadata": {},
   "outputs": [],
   "source": [
    "def playcomposer(comp, args):\n",
    "    score=Score(out=Seq())\n",
    "    args.insert(0, score)\n",
    "    score.compose( comp(*args) )\n",
    "    file=MidiFile(\"mapping.mid\", score.out).write()\n",
    "    print(f\"Wrote '{file.pathname}'.\")\n",
    "    playfile(file.pathname)\n",
    "    \n",
    "print(f'playcomposer: {playcomposer}')"
   ]
  },
  {
   "cell_type": "code",
   "execution_count": null,
   "metadata": {},
   "outputs": [],
   "source": [
    "def sine(score, length, cycs, low, hi, rhy, dur, amp):\n",
    "    twopi = 2*pi\n",
    "    for i in range(length):\n",
    "        a = sin(twopi * cycs * (i / length))\n",
    "        k = rescale(a, -1, 1, low, hi)\n",
    "        m = Note(time=score.now, pitch=k, duration=dur, amplitude=amp )\n",
    "        score.add(m)\n",
    "        yield rhy\n",
    "        \n",
    "playcomposer(sine, [100, 4, 20, 100, .1, .1, .6])\n",
    "\n",
    "print('OK!')"
   ]
  },
  {
   "cell_type": "markdown",
   "metadata": {},
   "source": [
    "Add some noise to the wave for a more interesting effect:"
   ]
  },
  {
   "cell_type": "code",
   "execution_count": null,
   "metadata": {},
   "outputs": [],
   "source": [
    "def sinx(score, length, cycs, low, hi, noise, rhy, dur, amp):\n",
    "    twopi = 2 * pi\n",
    "    for i in range(length):\n",
    "        a = sin(twopi * cycs * (i / length))\n",
    "        r = between(- noise, noise)\n",
    "        k = rescale(a + r, -1 - noise, 1 + noise, low, hi)\n",
    "        m = Note(time=score.now, pitch=k, duration=dur, amplitude=amp )\n",
    "        score.add(m)\n",
    "        yield rhy\n",
    "        \n",
    "#playcomposer(sinx, [100, 4, 20, 100, .2, .1, .1, .6])\n",
    "#playcomposer(sinx, [100, 4, 20, 100, .5, .1, .1, .6])\n",
    "playcomposer(sinx, [100, 4, 20, 100, .7, .1, .1, .6])"
   ]
  },
  {
   "cell_type": "markdown",
   "metadata": {},
   "source": [
    "## Envelopes and Interpolation\n",
    "\n",
    "In computer composition envelopes are used for many purposes, perhaps the most common use is to shape or change a sound parameter value over time. An envelope at its core is just a list of x and y value pairs, where x values are monotonically increasing and y values are the values at x.  Every x value in its coordinate system maps to a y value in its coordinate system\n",
    "\n",
    "The `interp()` function interpolates a y value for a given x in a series of x,y coordinate pairs. If x is not within bounds then the first or last y value is returned. x y pairs can be provide as an inline series or as a list.\n",
    "\n",
    "```interp(x, x1, y1, x2, y2, ... mode='lin', mul=None, add=None)```\n",
    "\n",
    "```interp(x, [x1, y1, x2, y2], mode='lin', mul=None, add=None)```"
   ]
  },
  {
   "cell_type": "markdown",
   "metadata": {},
   "source": [
    "A 'normalized envelope' is an envelope whose x and y coordinates are defined within the range 0 to 1. Normalized envelopes express pure proportion (shape) rather than absolute coordinates, and can be rescaled to control the evolution of multiple sound parameters\n",
    "\n",
    "Define some normalized envelopes:"
   ]
  },
  {
   "cell_type": "code",
   "execution_count": null,
   "metadata": {},
   "outputs": [],
   "source": [
    "rampup = [0, 0, 1, 1]\n",
    "rampdown = [0, 1, 1, 0]\n",
    "triangle = [0, 0, .5, 1, 1, 0]\n",
    "flattop = [0, 0, .25, 1, .75, 1, 1, 0]\n",
    "expdown = [0, 1, .25, 1/4, .5, 1/16, .75, 1/32, 1, 0]\n",
    "expup = [0, 0, .25, 1/32, .5, 1/16, .75, 1/4, 1, 1]\n",
    "\n",
    "print('OK!')"
   ]
  },
  {
   "cell_type": "markdown",
   "metadata": {},
   "source": [
    "Example of using a normalized envelope to control pitch and amplitude:"
   ]
  },
  {
   "cell_type": "code",
   "execution_count": null,
   "metadata": {},
   "outputs": [],
   "source": [
    "def shaper (score, length, envl, rate, amplow, amphigh, keylow, keyhigh):\n",
    "    for i in range(length):\n",
    "        x = i / (length - 1)\n",
    "        y = interp(x, envl)\n",
    "        k = rescale(y, 0, 1, keylow, keyhigh)\n",
    "        a = rescale(y, 0, 1, amplow, amphigh)\n",
    "        m = Note(time=score.now, duration=rate, pitch=k, amplitude=a)\n",
    "        score.add(m)\n",
    "        yield rescale(y, 0, 1, .1, .5)\n",
    "\n",
    "score=Score(out=Seq())\n",
    "score.compose( shaper(score, 20, flattop, .15, .9, .3, 48, 64) )\n",
    "file=MidiFile(\"mapping.mid\", score.out).write()\n",
    "print(f\"Wrote '{file.pathname}'.\")\n",
    "playfile(file.pathname)"
   ]
  },
  {
   "cell_type": "markdown",
   "metadata": {},
   "source": [
    "Example of `interp()` used to control amplitude and tempo:"
   ]
  },
  {
   "cell_type": "code",
   "execution_count": null,
   "metadata": {},
   "outputs": [],
   "source": [
    "def playinterp(q, length, rate, keyn, wid, mintem, maxtem, minamp, maxamp):\n",
    "    maxx = length - 1\n",
    "    mid = (.2 * length) + (uniran() * (.6 * length) )\n",
    "    for x in range(length):\n",
    "        a = interp(x, 0, minamp, mid, maxamp, maxx, minamp)\n",
    "        c = interp(x, 0, mintem, mid, maxtem, maxx, mintem)\n",
    "        k = keyn + (uniran() * wid)\n",
    "        d = (rate * 1.5 * c)\n",
    "        m = Note(time=q.now, pitch=k, duration=d, amplitude=a )\n",
    "        score.add(m)\n",
    "        yield rate * c\n",
    "\n",
    "score = Score(out=Seq())\n",
    "score.compose([ [0, playinterp(score, 60, .2, 84, 7, 1, .6, .4, .8)] ,\n",
    "                [1, playinterp(score, 60, .2, 77, 7, 1, .6, .4, .8)] ,\n",
    "                [2, playinterp(score, 60, .2, 70, 7, 1, .6, .4, .8)] ,\n",
    "                [3, playinterp(score, 60, .2, 63, 7, 1, .6, .4, .8)] ,\n",
    "                [4, playinterp(score, 60, .2, 56, 7, 1, .6, .4, .8)] , \n",
    "                [5, playinterp(score, 60, .2, 49, 7, 1, .6, .4, .8)]\n",
    "              ])\n",
    "  \n",
    "file=MidiFile(\"mapping.mid\", score.out).write()\n",
    "print(f\"Wrote '{file.pathname}'.\")\n",
    "playfile(file.pathname)"
   ]
  },
  {
   "cell_type": "markdown",
   "metadata": {},
   "source": [
    "<!-- ## The Envelope Class\n",
    "\n",
    "WRITE ME! -->"
   ]
  },
  {
   "cell_type": "markdown",
   "metadata": {},
   "source": [
    "## Exponential scaling\n",
    "\n",
    "`explsegs(num, sumto, base)`\n",
    "\n",
    "The `explsegs()` function returns a series of segments that are exponentially related.\n",
    " *num* is the number of segments to generate, *sumto* is the value the segments sum to, and *base* defines the curve of the values: if *base* is greater than 1 then the values  are in increasing order, if *base* is less than 1 then values are in decreasing order:"
   ]
  },
  {
   "cell_type": "code",
   "execution_count": null,
   "metadata": {},
   "outputs": [],
   "source": [
    "data = explsegs(8, 20, 32)\n",
    "print(\"data sum\", sum(data),\":\", data)\n",
    "plot(data)"
   ]
  },
  {
   "cell_type": "code",
   "execution_count": null,
   "metadata": {},
   "outputs": [],
   "source": [
    "data = explsegs(8, 20, 1/32)\n",
    "print(\"data sum\", sum(data),\":\", data)\n",
    "plot(data)"
   ]
  },
  {
   "cell_type": "markdown",
   "metadata": {},
   "source": [
    "Bouncing balls whose tempo and key numbers are controlled by a list of values produced by `explsegs()`:"
   ]
  },
  {
   "cell_type": "code",
   "execution_count": null,
   "metadata": {},
   "outputs": [],
   "source": [
    "def ballfall(score, drops, summ, curve, keyn, amp):\n",
    "    segs = explsegs(drops, summ, curve)\n",
    "    big = segs[0]\n",
    "    low = hertz(keyn)\n",
    "    for d in segs:\n",
    "        e = 2 ** (uniran() * (d / big))\n",
    "        k = keynum(low * e)\n",
    "        a = rescale(d, 0, big, .1, amp)\n",
    "        m = Note(time=score.now, duration=d, pitch=k, amplitude=a)\n",
    "        score.add(m)\n",
    "        yield d\n",
    "print(f\"ballfall: {ballfall}\")"
   ]
  },
  {
   "cell_type": "code",
   "execution_count": null,
   "metadata": {},
   "outputs": [],
   "source": [
    "score=Score(out=Seq())\n",
    "score.compose( [[0,  ballfall(score, 40, 10, 1/256, 60, .8)],\n",
    "                [6,  ballfall(score, 100, 15, 1/150, 40, .8)],\n",
    "                [10, ballfall(score, 40, 10, 1/256, 90, .8)]])\n",
    "file=MidiFile(\"mapping.mid\", score.out).write()\n",
    "print(f\"Wrote '{file.pathname}'.\")\n",
    "playfile(file.pathname)"
   ]
  },
  {
   "cell_type": "markdown",
   "metadata": {},
   "source": [
    "## Randomized scaling\n",
    "\n",
    "`ransegs(num, mapto, func=None)`\n",
    "\n",
    "The ransegs function returns a series of random segments that sum to a given number.  *num* is the number of segments to generate. If *mapto* is a number then the values retuned will sum to that number, otherwise *mapto* should be a list [*min*, *max*] that the sorted random values will be scaled to.\n",
    "\n",
    "This example uses ransegs to to mimic the start and stop of a rainstorm of pizzicato notes:"
   ]
  },
  {
   "cell_type": "code",
   "execution_count": null,
   "metadata": {},
   "outputs": [],
   "source": [
    "def rainyday (score, length, tot, lb, scale, ch, sec):\n",
    "    gamut = [lb + s for s in scale]\n",
    "    limit = len(gamut)\n",
    "    if sec == 'a':\n",
    "        segs = ransegs(length, tot, lowran)\n",
    "        segs.sort(reverse=True)\n",
    "    elif sec == 'b':\n",
    "        segs = ransegs(length, tot, midran)\n",
    "    elif sec == 'c':\n",
    "        segs = ransegs(length, tot, highran)\n",
    "        segs.sort()\n",
    "    for i, s in enumerate(segs):\n",
    "        if i > 0:\n",
    "            t = score.now\n",
    "            a = interp(i, 0, .2, length, .7) * 1.5\n",
    "            d = between(.1, .25)\n",
    "            x = rescale(midran(), 0, 1, 0, limit)\n",
    "            k = gamut[ int(x) ]\n",
    "            n = Note(time=t, duration=d, pitch=k, amplitude=a, instrument=ch)\n",
    "            score.add(n)\n",
    "        yield s\n",
    "\n",
    "print(f'rainyday: {rainyday}')"
   ]
  },
  {
   "cell_type": "code",
   "execution_count": null,
   "metadata": {},
   "outputs": [],
   "source": [
    "t0 = MidiFile.metatrack(ins={i: PizzicatoStrings for i in range(4)})\n",
    "t1 = Seq()\n",
    "score = Score(out=t1)\n",
    "\n",
    "s = scale(0, 6, [2, 2, 3, 2, 3])\n",
    "#s = musx.scale(0, 9, [2, 1])\n",
    "#s = musx.scale(0, 7, [1,3])\n",
    "    \n",
    "score.compose([ [0,  rainyday(score, 30, 20, 84, s, 0, 'a')],\n",
    "                [0,  rainyday(score, 30, 20, 72, s, 1, 'a')],\n",
    "                [0,  rainyday(score, 30, 20, 60, s, 2, 'a')],\n",
    "                [0,  rainyday(score, 30, 20, 48, s, 3, 'a')],\n",
    "                \n",
    "                [20, rainyday(score, 70, 20, 84, s, 0, 'b')],\n",
    "                [20, rainyday(score, 70, 20, 72, s, 1, 'b')],\n",
    "                [20, rainyday(score, 70, 20, 60, s, 2, 'b')],\n",
    "                [20, rainyday(score, 70, 20, 48, s, 3, 'b')],\n",
    "                \n",
    "                [40, rainyday(score, 30, 20, 84, s, 0, 'c')],\n",
    "                [40, rainyday(score, 30, 20, 72, s, 1, 'c')],\n",
    "                [40, rainyday(score, 30, 20, 60, s, 2, 'c')],\n",
    "                [40, rainyday(score, 30, 20, 48, s, 3, 'c')]\n",
    "            ])\n",
    "    \n",
    "f = MidiFile(\"mapping.mid\", [t0, t1]).write()\n",
    "print(f\"Wrote '{file.pathname}'.\")\n",
    "playfile(f.pathname)"
   ]
  }
 ],
 "metadata": {
  "kernelspec": {
   "display_name": "Python 3 (ipykernel)",
   "language": "python",
   "name": "python3"
  },
  "language_info": {
   "codemirror_mode": {
    "name": "ipython",
    "version": 3
   },
   "file_extension": ".py",
   "mimetype": "text/x-python",
   "name": "python",
   "nbconvert_exporter": "python",
   "pygments_lexer": "ipython3",
   "version": "3.11.5"
  }
 },
 "nbformat": 4,
 "nbformat_minor": 4
}

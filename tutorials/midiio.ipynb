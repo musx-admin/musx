{
 "cells": [
  {
   "cell_type": "markdown",
   "id": "693837f3",
   "metadata": {},
   "source": [
    "# MIDI INPUT AND OUTPUT\n",
    "\n",
    "An introduction to reading and writing MIDI data to and from files.\n",
    "\n",
    "<hr style=\"height:1px;color:gray\">\n",
    "\n",
    "Notebook imports:"
   ]
  },
  {
   "cell_type": "code",
   "execution_count": null,
   "id": "bcb592da",
   "metadata": {
    "scrolled": true
   },
   "outputs": [],
   "source": [
    "from IPython.display import display, HTML\n",
    "display(HTML(\"<style>.container { width:100% !important; }</style>\"))\n",
    "from musx import Score, Note, MidiEvent, Seq, MidiFile, odds, rhythm, version, \\\n",
    "pitch, histo, between, setmidiplayer, playfile\n",
    "from musx import midi\n",
    "from musx.midi.gm import HandClap, Maracas, Cowbell, HiWoodBlock, LowBongo, LowWoodBlock\n",
    "print(f\"musx.version: {version}\")"
   ]
  },
  {
   "cell_type": "markdown",
   "id": "64fac526",
   "metadata": {},
   "source": [
    "This notebook generates MIDI files and automatically plays them using [fluidsynth](https://www.fluidsynth.org/download/) and the [MuseScore_General.sf3](https://ftp.osuosl.org/pub/musescore/soundfont/MuseScore_General) sound font. See [INSTALL.md](https://github.com/musx-admin/musx/blob/main/INSTALL.md) for how to install a terminal-based MIDI player to use with musx.  If you don't have a player installed you can access the output files in the same directory as this notebook:"
   ]
  },
  {
   "cell_type": "code",
   "execution_count": null,
   "id": "b9487a56",
   "metadata": {},
   "outputs": [],
   "source": [
    "setmidiplayer(\"fluidsynth -iq -g1 /Users/taube/Music/SoundFonts/MuseScore_General.sf2\")\n",
    "print('OK!')"
   ]
  },
  {
   "cell_type": "markdown",
   "id": "9f89036a",
   "metadata": {},
   "source": [
    "### Midi Messages\n",
    "\n",
    "musx provides both a low level and a high level of midi support.  The lowest level exports functions that create or access MIDI messages represented as python lists, where each element in the list is a MIDI data byte.  These low level MIDI messages can be written directly to files, or sent in real time to an external MIDI port (see rtmidi.ipynb):\n",
    "\n",
    "Note: In this notebook the midi module's functions are prefixed with the module name, e.g. midi.note_on()."
   ]
  },
  {
   "cell_type": "code",
   "execution_count": null,
   "id": "4d761290",
   "metadata": {
    "scrolled": true
   },
   "outputs": [],
   "source": [
    "a = midi.note_on(4, 60, 100)\n",
    "print(\"note on:\", a)\n",
    "print(\"note on channel:\", midi.channel(a))\n",
    "print(\"note on keynum:\", midi.keynum(a))\n",
    "print(\"note on velocity:\", midi.velocity(a))\n",
    "print(\"is channel message:\", midi.is_channel_message(a))"
   ]
  },
  {
   "cell_type": "markdown",
   "id": "a5b3ab5e",
   "metadata": {},
   "source": [
    "The higher level API implements an object-oriented MidiEvent class that associates a MIDI time stamp with a low-level MIDI message. The MidiEvent class also provides event constructors, accessors and predicates for every type of MIDI message, including Meta Messages:"
   ]
  },
  {
   "cell_type": "code",
   "execution_count": null,
   "id": "e5698734",
   "metadata": {},
   "outputs": [],
   "source": [
    "a = midi.MidiEvent.note_on(4, 60, 100, time=9.3)\n",
    "print(a)\n",
    "print(\"note on channel:\", a.channel())\n",
    "print(\"note on keynum:\", a.keynum())\n",
    "print(\"note on velocity:\", a.velocity())\n",
    "print(\"note on time:\", a.time)"
   ]
  },
  {
   "cell_type": "markdown",
   "id": "a0db83df",
   "metadata": {},
   "source": [
    "### Loading MidiEvents from a MIDI file\n",
    "\n",
    "To load MIDI events from a file use the `midi.MidiFile.read()` method. The result of the call will be a MidiFile object with one or more MIDI tracks, each represented by a musx `Seq` object containing a list of MidiEvent instances."
   ]
  },
  {
   "cell_type": "code",
   "execution_count": null,
   "id": "b936b930",
   "metadata": {},
   "outputs": [],
   "source": [
    "sotb = midi.MidiFile(\"./support/Song_on_the_Beach.mid\").read()\n",
    "print(sotb)"
   ]
  },
  {
   "cell_type": "markdown",
   "id": "b1a17034",
   "metadata": {},
   "source": [
    "Since MIDI tracks are often quite large, it is always a good idea to check the length and end time of the track data before you start manipulating it. Track sequences are stored in the MidiFile.tracks attribute:"
   ]
  },
  {
   "cell_type": "code",
   "execution_count": null,
   "id": "520981b2",
   "metadata": {
    "scrolled": true
   },
   "outputs": [],
   "source": [
    "sotb.tracks"
   ]
  },
  {
   "cell_type": "markdown",
   "id": "fcbe5d8d",
   "metadata": {},
   "source": [
    "### Inspecting sequence data"
   ]
  },
  {
   "cell_type": "markdown",
   "id": "dad847d9",
   "metadata": {},
   "source": [
    "To inspect the objects in a sequence use the `Seq.print(start=0, end=None)` method, which provides start and end parameters so the caller can control exactly where printing should occur in the list of events:"
   ]
  },
  {
   "cell_type": "code",
   "execution_count": null,
   "id": "70c5be34",
   "metadata": {
    "scrolled": true
   },
   "outputs": [],
   "source": [
    "seq1 = sotb.tracks[0]\n",
    "seq1.print(0, 15)"
   ]
  },
  {
   "cell_type": "markdown",
   "id": "55d3fc00",
   "metadata": {},
   "source": [
    "### Accessing MidiEvents in sequences"
   ]
  },
  {
   "cell_type": "markdown",
   "id": "d402c619",
   "metadata": {},
   "source": [
    "A seq is also a Python iterator so it is easy loop over its events to perform a task. This comprehension collect all the MIDI Meta Messages in the track:"
   ]
  },
  {
   "cell_type": "code",
   "execution_count": null,
   "id": "829abae7",
   "metadata": {},
   "outputs": [],
   "source": [
    "meta = [x for x in seq1 if x.is_meta()]\n",
    "print(meta)"
   ]
  },
  {
   "cell_type": "markdown",
   "id": "f2a17891",
   "metadata": {},
   "source": [
    "This example creates a list that contains only the NoteOn messages in the track:"
   ]
  },
  {
   "cell_type": "code",
   "execution_count": null,
   "id": "551e9698",
   "metadata": {},
   "outputs": [],
   "source": [
    "notes = [x for x in seq1 if x.is_note_on()]\n",
    "print(f\"Number of note on messages:\", len(notes))"
   ]
  },
  {
   "cell_type": "markdown",
   "id": "4c7ab01d",
   "metadata": {},
   "source": [
    "Given note on events its east to ascertain information about the musical information extracted from  the midifile.  This example computes a sorted histogram of all the unique notes in the track:"
   ]
  },
  {
   "cell_type": "code",
   "execution_count": null,
   "id": "14c7c169",
   "metadata": {},
   "outputs": [],
   "source": [
    "unique = histo( sorted([str(pitch(x.keynum())) for x in notes]) )\n",
    "print(unique)"
   ]
  },
  {
   "cell_type": "markdown",
   "id": "796aaa0d",
   "metadata": {},
   "source": [
    "### Adding MidiEvents to sequences"
   ]
  },
  {
   "cell_type": "markdown",
   "id": "2e81efd4",
   "metadata": {},
   "source": [
    "The most common way to create MIDI events is to compose a score of Note objects, then add the score's seq to a MidiFile so the notes are automatically converted into MidiEvents and added to the MidiFile.\n",
    "\n",
    "It is also possible to write MidiEvents directly to Seq objects. The `Seq.add()` method automatically adds incoming events according to their start time, thus keeping the sequence in correctly sorted time ordered:"
   ]
  },
  {
   "cell_type": "code",
   "execution_count": null,
   "id": "0bab2cdc",
   "metadata": {},
   "outputs": [],
   "source": [
    "myseq = Seq()\n",
    "\n",
    "for i in range(10):\n",
    "    chan = between(0, 16)\n",
    "    key = between(48, 84) \n",
    "    amp = 80\n",
    "    # random start times\n",
    "    time = between(0.0, 20.0)\n",
    "    # add a note on at a random time\n",
    "    myseq.add(MidiEvent.note_on(chan, key, 100, time))\n",
    "    # add its paired note off two seconds later\n",
    "    myseq.add(MidiEvent.note_off(chan, key, 127, time+2.0))\n",
    "\n",
    "print(f\"{myseq}\\n\")\n",
    "myseq.print()"
   ]
  },
  {
   "cell_type": "markdown",
   "id": "a5d917c6",
   "metadata": {},
   "source": [
    "Once all the events have been added, the sequence can be added to a MidiFile so it can save the data to a file on disk:"
   ]
  },
  {
   "cell_type": "code",
   "execution_count": null,
   "id": "5edbbbcd",
   "metadata": {},
   "outputs": [],
   "source": [
    "file = MidiFile(\"midio.mid\", [myseq]).write()\n",
    "print(f\"Wrote '{file.pathname}'.\")\n",
    "playfile(file.pathname)"
   ]
  }
 ],
 "metadata": {
  "kernelspec": {
   "display_name": "Python 3 (ipykernel)",
   "language": "python",
   "name": "python3"
  },
  "language_info": {
   "codemirror_mode": {
    "name": "ipython",
    "version": 3
   },
   "file_extension": ".py",
   "mimetype": "text/x-python",
   "name": "python",
   "nbconvert_exporter": "python",
   "pygments_lexer": "ipython3",
   "version": "3.10.6"
  }
 },
 "nbformat": 4,
 "nbformat_minor": 5
}

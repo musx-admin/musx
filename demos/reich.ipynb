{
 "cells": [
  {
   "attachments": {},
   "cell_type": "markdown",
   "metadata": {},
   "source": [
    "# Reich\n"
   ]
  },
  {
   "attachments": {},
   "cell_type": "markdown",
   "metadata": {},
   "source": [
    "This demo runs two copies of a single composer generator to produce a very short version of Steve Reich's Piano Phase. \n",
    "\n",
    "----"
   ]
  },
  {
   "attachments": {},
   "cell_type": "markdown",
   "metadata": {},
   "source": [
    "Imports from the musx package, see [INSTALL.md](https://github.com/musx-admin/musx/blob/main/INSTALL.md) for more information:"
   ]
  },
  {
   "cell_type": "code",
   "execution_count": null,
   "metadata": {},
   "outputs": [],
   "source": [
    "from musx import Note, Seq, Score, MidiFile, Cycle, keynum, playfile, setmidiplayer\n",
    "print('OK!')"
   ]
  },
  {
   "attachments": {},
   "cell_type": "markdown",
   "metadata": {},
   "source": [
    "If you have installed a terminal-based midi player you can autoplay this notebook's generated midi file(s) by deleting the *#* comment sign below and providing your  terminal play command without including any file name. The unmodified example would call [fluidsynth](https://www.fluidsynth.org/download/) and pass it an instance of the [MuseScore_General.sf3](https://ftp.osuosl.org/pub/musescore/soundfont/MuseScore_General) soundfont stored in /usr/local/sf/:"
   ]
  },
  {
   "cell_type": "code",
   "execution_count": null,
   "metadata": {},
   "outputs": [],
   "source": [
    "# setmidiplayer(\"fluidsynth -iq -g1 /usr/local/sf/MuseScore_General.sf2\")"
   ]
  },
  {
   "attachments": {},
   "cell_type": "markdown",
   "metadata": {},
   "source": [
    "The piano_phase() composer generates musical events to an output score:"
   ]
  },
  {
   "cell_type": "code",
   "execution_count": null,
   "metadata": {},
   "outputs": [],
   "source": [
    "def piano_phase(score, end, keys, rate):\n",
    "    \"\"\"\n",
    "    Composes a piano part for Steve Reich's Piano Phase.\n",
    "\n",
    "    Parameters\n",
    "    ----------\n",
    "    score : Score\n",
    "        The scheduling queue to run the composer in.\n",
    "    end : int | float\n",
    "        The total duration of the piece.\n",
    "    keys : list\n",
    "        A list of midi key numbers to play in a loop.\n",
    "    rate : int | float\n",
    "        The rhythm to use.    \n",
    "    \"\"\"\n",
    "    # Create a cyclic pattern to produce the key numbers.\n",
    "    pattern = Cycle(keys)\n",
    "    # Generate notes until score time is >= end.\n",
    "    while score.now < end:\n",
    "        # Get the next key number.\n",
    "        knum = pattern.read()\n",
    "        # Create a midi note to play it.\n",
    "        note = Note(time=score.now, duration=rate, pitch=knum, amplitude=.9)\n",
    "        # Add the midi note to the score.\n",
    "        score.add(note)\n",
    "        # Return the amount of time until this composer runs again.\n",
    "        yield rate\n",
    "print(f\"piano_phase: {piano_phase}\")"
   ]
  },
  {
   "attachments": {},
   "cell_type": "markdown",
   "metadata": {},
   "source": [
    "Define track0 to be a midi meta track that holds tempo, midi instrument assignments, micro tuning, etc.:"
   ]
  },
  {
   "cell_type": "code",
   "execution_count": null,
   "metadata": {},
   "outputs": [],
   "source": [
    "track0 = MidiFile.metatrack()\n",
    "print(f\"track0: {track0}\")"
   ]
  },
  {
   "attachments": {},
   "cell_type": "markdown",
   "metadata": {},
   "source": [
    "Track1 will hold the composition:"
   ]
  },
  {
   "cell_type": "code",
   "execution_count": null,
   "metadata": {},
   "outputs": [],
   "source": [
    "track1 = Seq()\n",
    "print(f\"track1: {track1}\")"
   ]
  },
  {
   "attachments": {},
   "cell_type": "markdown",
   "metadata": {},
   "source": [
    "Create a score and pass it track1 to hold the output midi event data:"
   ]
  },
  {
   "cell_type": "code",
   "execution_count": null,
   "metadata": {},
   "outputs": [],
   "source": [
    "score = Score(out=track1)\n",
    "print(f\"score: {score}\")"
   ]
  },
  {
   "attachments": {},
   "cell_type": "markdown",
   "metadata": {},
   "source": [
    "Convert Reich's piano notes into a list of midi key numbers:"
   ]
  },
  {
   "cell_type": "code",
   "execution_count": null,
   "metadata": {},
   "outputs": [],
   "source": [
    "keys = keynum(\"e4 f# b c#5 d f#4 e c#5 b4 f# d5 c#\")\n",
    "print(f\"keys: {keys}\")"
   ]
  },
  {
   "attachments": {},
   "cell_type": "markdown",
   "metadata": {},
   "source": [
    "Create two instances of the piano_phase() composer and run them at slightly different rates to cause Reich's phasing effect:"
   ]
  },
  {
   "cell_type": "code",
   "execution_count": null,
   "metadata": {},
   "outputs": [],
   "source": [
    "pianos = [piano_phase(score, 20, keys, .167), \n",
    "          piano_phase(score, 20, keys, .170)]\n",
    "print(f\"pianos: {pianos}\")"
   ]
  },
  {
   "attachments": {},
   "cell_type": "markdown",
   "metadata": {},
   "source": [
    "Compose the composition:"
   ]
  },
  {
   "cell_type": "code",
   "execution_count": null,
   "metadata": {},
   "outputs": [],
   "source": [
    "score.compose(pianos)\n",
    "print(f\"score: {score}\")"
   ]
  },
  {
   "attachments": {},
   "cell_type": "markdown",
   "metadata": {},
   "source": [
    "Write the tracks to a midi file in the current directory:"
   ]
  },
  {
   "cell_type": "code",
   "execution_count": null,
   "metadata": {},
   "outputs": [],
   "source": [
    "file = MidiFile(\"reich.mid\", [track0, track1]).write()\n",
    "print(f\"Wrote '{file.pathname}'\")"
   ]
  },
  {
   "attachments": {},
   "cell_type": "markdown",
   "metadata": {},
   "source": [
    "Play the output midi file if you activated setmidiplayer() at the top of the file:"
   ]
  },
  {
   "cell_type": "code",
   "execution_count": null,
   "metadata": {},
   "outputs": [],
   "source": [
    "playfile(file.pathname)"
   ]
  }
 ],
 "metadata": {
  "kernelspec": {
   "display_name": "Python 3 (ipykernel)",
   "language": "python",
   "name": "python3"
  },
  "language_info": {
   "codemirror_mode": {
    "name": "ipython",
    "version": 3
   },
   "file_extension": ".py",
   "mimetype": "text/x-python",
   "name": "python",
   "nbconvert_exporter": "python",
   "pygments_lexer": "ipython3",
   "version": "3.10.6"
  }
 },
 "nbformat": 4,
 "nbformat_minor": 2
}

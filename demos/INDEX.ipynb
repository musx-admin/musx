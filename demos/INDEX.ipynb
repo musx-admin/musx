{
 "cells": [
  {
   "cell_type": "markdown",
   "id": "38701402",
   "metadata": {},
   "source": [
    "# DEMOS INDEX\n",
    "\n",
    "Short examples that generate a variety of scores using musx.\n",
    "\n",
    "* [blues.ipynb](blues.ipynb) : Generates a bluesy piece using the `spray()` random music generator.  \n",
    "* [clapping.ipynb](clapping.ipynb) : An algorithmic performance of Steve Reich's clapping Music. \n",
    "* [continuum.ipynb](continuum.ipynb) : Generates a texture similar to Ligeti's Continuum  using stocastic processes and line envelopes.\n",
    "* [coventry.ipynb](coventry.ipynb) : Uses the Rotation pattern to generate the change-ringing pattern for 10 bells.  \n",
    "* [fm.ipynb](fm.ipynb) : Using the FM algorithm to generate spectral compositions.\n",
    "* [foster.ipynb](foster.ipynb) : Using Markov pattern to compose music \n",
    "* [gamelan.ipynb](gamelan.ipynb) : Generates a microtonal gamelan composition using the brush() and spray() generators. \n",
    "* [gestures.ipynb](gestures.ipynb) : Using small units of code as building blocks for larger musical structures.\n",
    "* [ghosts.ipynb](ghosts.ipynb) : Time-stretched composition spreads out over longer and longer timepoints. \n",
    "* [jazz.ipynb](jazz.ipynb) : A jazz improvisor that generates music for a jazz trio.\n",
    "* [jimmy.ipynb](jimmy.ipynb) : A wild ride on the drum track. \n",
    "* [messiaen.ipynb](messiaen.ipynb) : Generating the isorhythmic piano and cello parts to Liturgie de Cristal. \n",
    "* [reich.ipynb](reich.ipynb) : Simple algorithm emulates Steve Reich's Piano Phase.  \n",
    "* [sierpinski.ipynb](sierpinski.ipynb) : Recursive part generator creates self-similar melodies based on a set of tones. "
   ]
  }
 ],
 "metadata": {
  "kernelspec": {
   "display_name": "Python 3 (ipykernel)",
   "language": "python",
   "name": "python3"
  },
  "language_info": {
   "codemirror_mode": {
    "name": "ipython",
    "version": 3
   },
   "file_extension": ".py",
   "mimetype": "text/x-python",
   "name": "python",
   "nbconvert_exporter": "python",
   "pygments_lexer": "ipython3",
   "version": "3.10.6"
  }
 },
 "nbformat": 4,
 "nbformat_minor": 5
}

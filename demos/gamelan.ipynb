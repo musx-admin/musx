{
 "cells": [
  {
   "cell_type": "markdown",
   "metadata": {},
   "source": [
    "# Gamelan\n",
    "\n",
    "Generates a microtonal gamelan composition using the `brush()` and `spray()` generators defined in paint.py. Composer: Ming-ching Chiu.\n",
    "\n",
    "<hr style=\"height:1px;color:gray\">\n",
    "\n",
    "Notebook imports:"
   ]
  },
  {
   "cell_type": "code",
   "execution_count": null,
   "metadata": {},
   "outputs": [],
   "source": [
    "from IPython.display import display, HTML\n",
    "display(HTML(\"<style>.container { width:100% !important; }</style>\"))\n",
    "from musx import version, setmidiplayer, playfile, Score, Seq, MidiFile\n",
    "from musx.midi.gm import Vibraphone\n",
    "from musx.paint import brush, spray   \n",
    "print(f\"musx version: {version}\")"
   ]
  },
  {
   "cell_type": "markdown",
   "metadata": {},
   "source": [
    "This notebook generates MIDI files and automatically plays them using [fluidsynth](https://www.fluidsynth.org/download/) and the [MuseScore_General.sf3](https://ftp.osuosl.org/pub/musescore/soundfont/MuseScore_General) sound font. See [INSTALL.md](https://github.com/musx-admin/musx/blob/main/INSTALL.md) for how to install a terminal-based MIDI player to use with musx.  If you don't have a player installed you can access the output files in the same directory as this notebook:"
   ]
  },
  {
   "cell_type": "code",
   "execution_count": null,
   "metadata": {},
   "outputs": [],
   "source": [
    "setmidiplayer(\"fluidsynth -iq -g1 /usr/local/sf/MuseScore_General.sf3\")\n",
    "print('OK!')"
   ]
  },
  {
   "cell_type": "markdown",
   "metadata": {},
   "source": [
    "Scale1 is a 7-tone microtonal scale that evokes the Pelog scale. Microtones are indicated by fractional value attached to keynums (e.g 60.5 means 50 cents above keynum 60)."
   ]
  },
  {
   "cell_type": "code",
   "execution_count": null,
   "metadata": {},
   "outputs": [],
   "source": [
    "scale1 = [0, 2.2, 3.8, 6.6, 7.1, 9.3, 10, 12, 14.4, 15.8, 18.6, 19.1]"
   ]
  },
  {
   "cell_type": "markdown",
   "metadata": {},
   "source": [
    "Scale2 is a 5-tone pentatonic scale that evokes the Slendro scale."
   ]
  },
  {
   "cell_type": "code",
   "execution_count": null,
   "metadata": {},
   "outputs": [],
   "source": [
    "scale2 = [0, 2, 3.7, 6.9, 9.1]"
   ]
  },
  {
   "cell_type": "markdown",
   "metadata": {},
   "source": [
    "Microtonal chords (dyads) ..."
   ]
  },
  {
   "cell_type": "code",
   "execution_count": null,
   "metadata": {},
   "outputs": [],
   "source": [
    "chords1 = [[0, 6.9], [2, 6.9], [3.7, 9.1], [9.1, 14], [3.7, 12]]"
   ]
  },
  {
   "cell_type": "markdown",
   "metadata": {},
   "source": [
    "More microtonal chords ..."
   ]
  },
  {
   "cell_type": "code",
   "execution_count": null,
   "metadata": {},
   "outputs": [],
   "source": [
    "chords2 = [[36, 43.1, 46], [42.6, 50.2], [38.2, 48, 51.8], [39.8, 46, 54.6],\n",
    "          [54.6, 62.2, 66.6], [57.3, 66.6, 69.3], [58, 62.2, 67.1], \n",
    "          [36, 45.3, 48], [60, 66.6, 69.3], [46, 55.1, 60], \n",
    "          [42.6, 50.2, 57.3], [46, 55.1, 60], [57, 66.6, 69.3], \n",
    "          [57.3, 66.6, 69.3], [54.6, 62.2, 66.6]]"
   ]
  },
  {
   "cell_type": "markdown",
   "metadata": {},
   "source": [
    "Amplitude hack to help adapt amplitudes for different sound fonts and midi instruments. This is for fluidsynth.  "
   ]
  },
  {
   "cell_type": "code",
   "execution_count": null,
   "metadata": {},
   "outputs": [],
   "source": [
    "def A(a): \n",
    "    return ([s * 1.35 for s in a] if type(a) is list else a*1.5)"
   ]
  },
  {
   "cell_type": "markdown",
   "metadata": {},
   "source": [
    "Microtonal divisions of the semitone to tune channels in the midi file. 2 is quartertone (50 cents) etc."
   ]
  },
  {
   "cell_type": "code",
   "execution_count": null,
   "metadata": {},
   "outputs": [],
   "source": [
    "microdivs=7"
   ]
  },
  {
   "cell_type": "markdown",
   "metadata": {},
   "source": [
    "Define track0 to be a midi meta track that holds tempo, midi instrument assignments, micro tuning, etc.:"
   ]
  },
  {
   "cell_type": "code",
   "execution_count": null,
   "metadata": {},
   "outputs": [],
   "source": [
    "track0 = MidiFile.metatrack(ins={i: Vibraphone for i in range(microdivs)}, microdivs=microdivs)\n",
    "print(f\"track0: {track0}\")"
   ]
  },
  {
   "cell_type": "markdown",
   "metadata": {},
   "source": [
    "Track1 will hold the composition:"
   ]
  },
  {
   "cell_type": "code",
   "execution_count": null,
   "metadata": {},
   "outputs": [],
   "source": [
    "track1 = Seq()\n",
    "print(f\"track1: {track1}\")"
   ]
  },
  {
   "cell_type": "markdown",
   "metadata": {},
   "source": [
    "Create a score and pass it track1 to receive the output midi event data:"
   ]
  },
  {
   "cell_type": "code",
   "execution_count": null,
   "metadata": {},
   "outputs": [],
   "source": [
    "score = Score(out=track1)\n",
    "print(f\"score: {score}\")"
   ]
  },
  {
   "cell_type": "markdown",
   "metadata": {},
   "source": [
    "Calls to `spray()` and `brush()` create generators that compose each section of the piece:"
   ]
  },
  {
   "cell_type": "code",
   "execution_count": null,
   "metadata": {},
   "outputs": [],
   "source": [
    "s1=spray(score, pitch=48, duration=3, rhythm=[1, .5], amplitude=A([.3, .35, .4]), \n",
    "         band=scale1, end=40)\n",
    "s2=spray(score, pitch=48, duration=3, rhythm=[1, .5], amplitude=A([.4, .45, .5]), \n",
    "         band=chords1, end=25)\n",
    "s3=spray(score, pitch=72, duration=3, rhythm=[.75, .25, .5], amplitude=A([.4, .3, .35]),\n",
    "         band=[3.8, 7.1, [9.3, 14.4]], end=35)\n",
    "s4=spray(score, pitch=72, duration=3, rhythm=[.75, .25, .5], amplitude=A([.6, .5, .55]),\n",
    "         band=[9.3, 12, 14.2, 18.6, [26.2, 30.6]], end=30)\n",
    "s5=spray(score, pitch=84,  duration=3, rhythm=[.75, .25, .5], amplitude=A([.6, .5, .55]),\n",
    "         band=[3.8, 7.1, 9.3, [7.1, 12]],  end=15)\n",
    "s6=spray(score, pitch=24,  duration=5, rhythm=[1, 1, .5, 2, 2], amplitude=A(.5),\n",
    "         band=scale2, end=55)\n",
    "\n",
    "s7=brush(score, pitch=[86.2, 93.3, 87.8, 91.1], duration=4, rhythm=[.25, .25, .5], \n",
    "         amplitude=A(.3), end=50)\n",
    "s8=brush(score, pitch=[86.2, [93.3, 98.8], 87.8, 91.1], duration=4,\n",
    "         rhythm=[.25, .25, .25, .25, .5], amplitude=A(.25), end=10)\n",
    "s9=brush(score, pitch=[81.3, 74.4, 78.6, 72], duration=2, rhythm=[.5, .25, .25],\n",
    "         amplitude=A(.25), end=50)\n",
    "s10=brush(score, pitch=chords2, duration=8,\n",
    "          rhythm=[2, 1, 1, .5, .5, 3, 1.5, 1.5, 4, 2, 1, 1, .5, .5, 3, 1.5, 1.5, 1.5, .5, 4],\n",
    "          amplitude=A([.3, .4, .35, .35]), end=40)\n",
    "\n",
    "s11=spray(score, pitch=72, duration=2, rhythm=1/3, amplitude=A(.18),\n",
    "         band=[[0, 14.4], [3.8, 12], [15.8, 7.1], [2.2, 9.3], [0, 10],\n",
    "         [9.3, 2.2], [7.1, 14.4], [0, 9.3], [3.8, 12]], end=36)\n",
    "s12=spray(score, pitch=60, duration=2, rhythm=.5, amplitude=A(.25), band=scale2, end=41)\n",
    "s13=spray(score, pitch=48, duration=4, rhythm=[1, 1, 2, 1, 1, 1, 1, 1, .5, .5, 2, 1, .5, .5, 1, 1, 2, 2, .5, .5, 1, 4],\n",
    "         amplitude=A(.35), band=chords1, end=32)\n",
    "s14=brush(score, pitch=[[36, 42.6, 43.1, 48, 51.8, 57.3, 63.8, 86.4], [12, 24, 31.1, 36, 42.6]],\n",
    "         length=2, duration=8, rhythm=[4, 8], amplitude=A(.25))\n",
    "\n",
    "print(f\"s1: {s1} ... s14: {s14}\")"
   ]
  },
  {
   "cell_type": "markdown",
   "metadata": {},
   "source": [
    "Create the composition, each sublist contains a start time and a generator:"
   ]
  },
  {
   "cell_type": "code",
   "execution_count": null,
   "metadata": {},
   "outputs": [],
   "source": [
    "score.compose([[0, s1], [40, s2], [10, s3], [40, s4], [50, s5], [20, s6],\n",
    "          [65, s7], [80, s8], [73, s9], [79, s10],\n",
    "          [121, s11], [121, s12], [129, s13], [162, s14] ] )\n",
    "print(\"OK!\")"
   ]
  },
  {
   "cell_type": "markdown",
   "metadata": {},
   "source": [
    "Write the tracks to a midi file in the current directory and play it if possible:"
   ]
  },
  {
   "cell_type": "code",
   "execution_count": null,
   "metadata": {},
   "outputs": [],
   "source": [
    "file = MidiFile(\"gamelan.mid\", [track0, track1]).write()\n",
    "print(f\"Wrote '{file.pathname}'\")\n",
    "playfile(file.pathname)"
   ]
  }
 ],
 "metadata": {
  "kernelspec": {
   "display_name": "musxenv",
   "language": "python",
   "name": "musxenv"
  },
  "language_info": {
   "codemirror_mode": {
    "name": "ipython",
    "version": 3
   },
   "file_extension": ".py",
   "mimetype": "text/x-python",
   "name": "python",
   "nbconvert_exporter": "python",
   "pygments_lexer": "ipython3",
   "version": "3.10.6"
  }
 },
 "nbformat": 4,
 "nbformat_minor": 2
}

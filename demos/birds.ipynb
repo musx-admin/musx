{
 "cells": [
  {
   "cell_type": "markdown",
   "id": "e35a8f24-d892-46ec-9ff1-48a1af1d3e5a",
   "metadata": {},
   "source": [
    "# BIRDS (AUDIO SYNTHESIS WITH PYSNDLIB)\n",
    "\n",
    "This demo explores synthesizing bird calls using Bill Schottstaedt's pioneering audio instruments `bird()` and `bigbird()`. The notebook requires [pysndlib](https://pypi.org/project/pysndlib/), an audio package by Todd Ingalls. To install pysndlib type the following command in your terminal:\n",
    "```\n",
    "$ pip install pysndlib\n",
    "```\n",
    "<hr style=\"height:1px; color: grey;\">"
   ]
  },
  {
   "cell_type": "markdown",
   "id": "98a1c195-dbca-4e41-978f-cb1e1219873f",
   "metadata": {},
   "source": [
    "Notebook imports:"
   ]
  },
  {
   "cell_type": "code",
   "execution_count": null,
   "id": "f2218638-e29b-437c-9875-6fc194a62e96",
   "metadata": {},
   "outputs": [],
   "source": [
    "from IPython.display import display, HTML, Code\n",
    "display(HTML(\"<style>.container { width:100% !important; }</style>\"))\n",
    "from pysndlib.clm import Sound\n",
    "import birds\n",
    "print('OK!')"
   ]
  },
  {
   "attachments": {},
   "cell_type": "markdown",
   "id": "9539907e-187e-475c-a477-6ac0da2aaf9a",
   "metadata": {},
   "source": [
    "## Background\n",
    "\n",
    "Comments from Bill Schottstaedt:\n",
    "\n",
    "> Back in 1980, I wanted some bird songs for \"Colony\", but my stabs at a fake bird song were completely unconvincing. So I went to my battered bird book (Robbins, Bruun, Zim, Singer \"Birds of North America\" Golden Press, NY 1966) which had sonograms of lots of bird songs. ... It surprised me [to learn] that synthetic song could sound good even with just a sinewave and a couple sketchy envelopes. But squawks and screeches were harder. 27 years later, I tackled animal sounds again, but now using Snd and some extremely high quality recordings, mainly from Cornell. Two instruments set up a sine wave (bird) and waveshapeing synthesis (bigbird). All the real information is in the amplitude and frequency envelopes. These were transcribed from sonograms found in some bird guides and articles from the Cornell Ornithology Lab. \n",
    "\n",
    "As described above, Bill Schottstaedt's `bird()` instrument consists of a single oscillator with envelopes to shape both amplitude and frequency over the lifetime of the sound: \n",
    "\n",
    "```python\n",
    "def bird(start, dur, frequency, freqskew, amplitude, freq_envelope, amp_envelope):\n",
    "    gls_env = CLM.make_env(freq_envelope, scaler=CLM.hz2radians(freqskew), duration=dur)\n",
    "    os = CLM.make_oscil(frequency)\n",
    "    amp_env = CLM.make_env(amp_envelope, scaler=amplitude, duration=dur)\n",
    "    beg = CLM.seconds2samples(start)\n",
    "    end = CLM.seconds2samples(start + dur)\n",
    "    for i in range(beg, end):\n",
    "        CLM.outa(i, CLM.env(amp_env) * CLM.oscil(os, CLM.env(gls_env)))\n",
    "```\n",
    "\n",
    "The `bigbird()` generator is very similar but a bit more involved: it uses a `polywave()` generator (effectively additive synthesis) to produce a *complex wave* with envelope controls on its amplitude and frequency:\n",
    "\n",
    "```python\n",
    "def bigbird(start, dur, frequency, freqskew, amplitude, freq_envelope, amp_envelope, partials):\n",
    "    gls_env = CLM.make_env(freq_envelope, scaler=CLM.hz2radians(freqskew), duration=dur)\n",
    "    os = CLM.make_polywave(frequency, partials=CLM.normalize_partials(partials))\n",
    "    amp_env = CLM.make_env(amp_envelope, scaler=amplitude, duration=dur)\n",
    "    beg = CLM.seconds2samples(start)\n",
    "    end = CLM.seconds2samples(start + dur)\n",
    "    for i in range(beg, end):\n",
    "        CLM.outa(i, CLM.env(amp_env) * CLM.polywave(os, CLM.env(gls_env)))\n",
    "```\n",
    "\n",
    "The next two cells produce example sounds from `bird()` and `bigbird()`. Each example will produce a short, transient sound component typical of a bird song, followed a second later by a second note that uses the same input but stretched ten times longer so the amplitude and frequency changes can be more easily perceived:"
   ]
  },
  {
   "cell_type": "markdown",
   "id": "8070974a-02dc-4d6f-8576-41eb6c3e95b7",
   "metadata": {},
   "source": [
    "Listen to a short and long note from `bird()`:"
   ]
  },
  {
   "cell_type": "code",
   "execution_count": null,
   "id": "65cf075c-1622-4690-bba7-372f121d9c90",
   "metadata": {},
   "outputs": [],
   "source": [
    "with Sound(\"birds.wav\", play=True):\n",
    "    towhee_two = [0.0, 0.0, 1.0, 1.0]\n",
    "    main_amp = [0.0, 0.0, .25, 1.0, .60, .70, .75, 1.0, 1.0, 0.0]\n",
    "    birds.bird(0, .01, 5100, 2000, .5, towhee_two, main_amp)\n",
    "    birds.bird(1, 1, 5100, 2000, .5, towhee_two, main_amp)"
   ]
  },
  {
   "cell_type": "markdown",
   "id": "54b16ef1-13f6-41a6-b218-8fae82ffcd7a",
   "metadata": {},
   "source": [
    "Listen to a short and long note from `bigbird()`:"
   ]
  },
  {
   "cell_type": "code",
   "execution_count": null,
   "id": "16a0d413-1eb3-4a28-9855-26f571303471",
   "metadata": {},
   "outputs": [],
   "source": [
    "with Sound(\"birds.wav\", play=True):\n",
    "    towhee_one = [0.0, .10, .02, .05, .04, .15, .06, .05, .08, .20, .10, .04, .12, .25, .14,\n",
    "                  .03, .16, .30, .18, .02, .20, .35, .22, .01, .24,\n",
    "                  .40, .26, 0.0, .28, .45, .30, 0.0, .32, .50, .34, 0.0, .36, .50, .80, 1.0, 1.0, .0]\n",
    "    main_amp = [0.0, 0.0, .25, 1.0, .60, .70, .75, 1.0, 1.0, 0.0]\n",
    "    birds.bigbird(0, .10, 1400, 1100, .2, towhee_one, main_amp, [1, .03, 2, 1, 3, .03])\n",
    "    birds.bigbird(1, 1, 1400, 1100, .2, towhee_one, main_amp, [1, .03, 2, 1, 3, .03])"
   ]
  },
  {
   "cell_type": "markdown",
   "id": "c656348a-8bb1-4296-a7f7-894f4dcc8055",
   "metadata": {},
   "source": [
    "Note again that `bird()` and `bigbird()` do not themselves generate bird songs, but rather, create short, transient sounds that, when strung together, collectively compose a realistic bird song. As mentioned in the quote above, Bill gleaned these transients through painstaking study of bird spectrograms.<!-- As mentioned in the quote above, these all-important transients were gleaned by Bill through careful study of spectrograms from real birds.-->  The result of this time consuming process was the creation of 41 wonderful bird song functions, each named after the bird they mimic, as outlined below."
   ]
  },
  {
   "cell_type": "markdown",
   "id": "35203aa0-4134-4bab-815c-c822ba8e44fc",
   "metadata": {},
   "source": [
    "----\n",
    "## Explore the birds\n",
    "\n",
    "Use these links to explore individual birds and play a two minute sequence of all the bird songs in the order listed below. For each bird you can investigate its song, look at Bill's original code (translated from Scheme to Python), and visit the Cornell Lab of Ornithology website to learn about the critter.\n",
    "\n",
    "* Jump to individual birds:\n",
    "   \n",
    "| [Orchard Oriole](#orchard_oriole) |\n",
    "[Cassins Kingbird](#cassins_kingbird) |\n",
    "[Chipping Sparrow](#chipping_sparrow) |\n",
    "[Bobwhite](#bobwhite) |\n",
    "[Western Meadowlark](#western_meadowlark) |\n",
    "[Scissor Tailed Flycatcher](#scissor_tailed_flycatcher) |\n",
    "[Great Horned Owl](#great_horned_owl) |\n",
    "[Black Throated Gray Warbler](#black_throated_gray_warbler) |\n",
    "[Yellow Warbler](#yellow_warbler) |\n",
    "[Black Necked Stilt](#black_necked_stilt) |\n",
    "[Chestnut Sided Warbler](#chestnut_sided_warbler) |\n",
    "[Grasshopper Sparrow](#grasshopper_sparrow) |\n",
    "[Swamp Sparrow](#swamp_sparrow) |\n",
    "[Golden Crowned Sparrow](#golden_crowned_sparrow) |\n",
    "[Indigo Bunting](#indigo_bunting) |\n",
    "[Hooded Warbler](#hooded_warbler) |\n",
    "[American Widgeon](#american_widgeon) |\n",
    "[Louisiana Waterthrush](#louisiana_waterthrush) |\n",
    "[Robin](#robin) |\n",
    "[Solitary Vireo](#solitary_vireo) |\n",
    "[Pigeon Hawk](#pigeon_hawk) |\n",
    "[Cerulean Warbler](#cerulean_warbler) |\n",
    "[Nashville Warbler](#nashville_warbler) |\n",
    "[Eastern Phoebe](#eastern_phoebe) |\n",
    "[Painted Bunting](#painted_bunting) |\n",
    "[Western Flycatcher](#western_flycatcher) |\n",
    "[Bachmans Sparrow](#bachmans_sparrow) |\n",
    "[Cedar Waxwing](#cedar_waxwing) |\n",
    "[Bairds Sparrow](#bairds_sparrow) |\n",
    "[Kentucky Warbler](#kentucky_warbler) |\n",
    "[Rufous Sided Towhee](#rufous_sided_towhee) |\n",
    "[Prothonotary Warbler](#prothonotary_warbler) |\n",
    "[Audubons Warbler](#audubons_warbler) |\n",
    "[Lark Bunting](#lark_bunting) |\n",
    "[Eastern Bluebird](#eastern_bluebird) |\n",
    "[Chuck Wills Widow](#chuck_wills_widow) |\n",
    "[Blue Gray Gnatcatcher](#blue_gray_gnatcatcher) |\n",
    "[Black Throated Sparrow](#black_throated_sparrow) |\n",
    "[Black Chinned Sparrow](#black_chinned_sparrow) |\n",
    "[Various Gull Cries From End Of Colony 5](#various_gull_cries_from_end_of_colony_5) |\n",
    "\n",
    "* [Listen to all the bird calls](#allbirdcalls)\n",
    "\n",
    "\n",
    "#### *Audio files will be written to a [birdcalls](./birdcalls) sub-directory under this notebook.*\n",
    "\n",
    "\n",
    "----"
   ]
  },
  {
   "cell_type": "markdown",
   "id": "35991849-3d41-4edd-997e-d46f7435bcdb",
   "metadata": {},
   "source": [
    "<a id='orchard_oriole'></a>\n",
    "### Orchard Oriole"
   ]
  },
  {
   "cell_type": "markdown",
   "id": "4675fd14-707e-42f6-ae8a-eef81478fc13",
   "metadata": {},
   "source": [
    "Listen to `orchard_oriole()` at `speed=1`, then reduce speeds down to .125 to perceive spectral changes more closely:"
   ]
  },
  {
   "cell_type": "code",
   "execution_count": null,
   "id": "668215fd-3fc4-4d72-b762-ed1a28cd2e40",
   "metadata": {},
   "outputs": [],
   "source": [
    "birds.birdcall(birds.orchard_oriole, speed=1)"
   ]
  },
  {
   "cell_type": "markdown",
   "id": "736f8542-9b9c-4d16-842b-c3a20a033ec3",
   "metadata": {},
   "source": [
    "[Visit the Orchard Oriole webpage](https://www.allaboutbirds.org/guide/orchard_oriole) at the Cornell Lab of Ornithology."
   ]
  },
  {
   "cell_type": "markdown",
   "id": "303c0d89-6e64-452a-be5e-e1a21a80daac",
   "metadata": {},
   "source": [
    "View the `orchard_oriole` instrument code:"
   ]
  },
  {
   "cell_type": "code",
   "execution_count": null,
   "id": "8b57bd5e-2b61-418e-b982-b63d87bf9593",
   "metadata": {},
   "outputs": [],
   "source": [
    "Code(birds.birdcode('orchard_oriole'), language='python')"
   ]
  },
  {
   "cell_type": "markdown",
   "id": "b8c8b3df-40e7-4d70-8b72-765cbf8dfa29",
   "metadata": {},
   "source": [
    "----\n",
    "<a id='cassins_kingbird'></a>\n",
    "### Cassins Kingbird"
   ]
  },
  {
   "cell_type": "markdown",
   "id": "1eb30c3c-432e-4675-81e4-7e20273ace2e",
   "metadata": {},
   "source": [
    "Listen to `cassins_kingbird()` at `speed=1`, then reduce speeds down to .125 to perceive spectral changes more closely:"
   ]
  },
  {
   "cell_type": "code",
   "execution_count": null,
   "id": "6d0c280a-db2b-46b0-bbbe-d2be79ea7988",
   "metadata": {},
   "outputs": [],
   "source": [
    "birds.birdcall(birds.cassins_kingbird, speed=1)"
   ]
  },
  {
   "cell_type": "markdown",
   "id": "85dfe729-dc98-4cc8-aa7b-41db9ea883bc",
   "metadata": {},
   "source": [
    "[Visit the Cassins Kingbird webpage](https://www.allaboutbirds.org/guide/cassins_kingbird) at the Cornell Lab of Ornithology."
   ]
  },
  {
   "cell_type": "markdown",
   "id": "9026c98d-2422-43f5-b8c9-dc4ce41a1a88",
   "metadata": {},
   "source": [
    "View the `cassins_kingbird()` instrument code:"
   ]
  },
  {
   "cell_type": "code",
   "execution_count": null,
   "id": "9ef1f5e3-d049-4a22-b7b4-ed3c0fad4ef5",
   "metadata": {},
   "outputs": [],
   "source": [
    "Code(birds.birdcode('cassins_kingbird'), language='python')"
   ]
  },
  {
   "cell_type": "markdown",
   "id": "aa0eb04a-11ec-4461-b42d-76fcc1fe1595",
   "metadata": {},
   "source": [
    "----\n",
    "<a id='chipping_sparrow'></a>\n",
    "### Chipping Sparrow"
   ]
  },
  {
   "cell_type": "markdown",
   "id": "212282f7-2a06-4f0a-a8c2-67948b94f908",
   "metadata": {},
   "source": [
    "Listen to `chipping_sparrow()` at `speed=1`, then reduce speeds down to .125 to perceive spectral changes more closely:"
   ]
  },
  {
   "cell_type": "code",
   "execution_count": null,
   "id": "f7458150-baf1-434d-973f-fa5557450253",
   "metadata": {},
   "outputs": [],
   "source": [
    "birds.birdcall(birds.chipping_sparrow, speed=1)"
   ]
  },
  {
   "cell_type": "markdown",
   "id": "6ec0dbd9-2234-4247-8e9c-388631d22531",
   "metadata": {},
   "source": [
    "[Visit the Chipping Sparrow webpage](https://www.allaboutbirds.org/guide/chipping_sparrow) at the Cornell Lab of Ornithology."
   ]
  },
  {
   "cell_type": "markdown",
   "id": "b29cf292-8034-45a3-8b48-fb373cbdd511",
   "metadata": {},
   "source": [
    "View the `chipping_sparrow()` instrument code:"
   ]
  },
  {
   "cell_type": "code",
   "execution_count": null,
   "id": "e9ebdaed-496e-4864-be4a-4a01b99f7c54",
   "metadata": {},
   "outputs": [],
   "source": [
    "Code(birds.birdcode('chipping_sparrow'), language='python')"
   ]
  },
  {
   "cell_type": "markdown",
   "id": "4eab5038-b695-4f2f-badb-1f9ccfc66c26",
   "metadata": {},
   "source": [
    "----\n",
    "<a id='bobwhite'></a>\n",
    "### Bobwhite (Northern Bobwhite)"
   ]
  },
  {
   "cell_type": "markdown",
   "id": "909a5d18-60ef-478a-a206-604bb8165ca7",
   "metadata": {},
   "source": [
    "Listen to `bobwhite()` at `speed=1`, then reduce speeds down to .125 to perceive spectral changes more closely:"
   ]
  },
  {
   "cell_type": "code",
   "execution_count": null,
   "id": "5de09564-b9c1-4229-a737-17d52afc88d1",
   "metadata": {},
   "outputs": [],
   "source": [
    "birds.birdcall(birds.bobwhite, speed=1)"
   ]
  },
  {
   "cell_type": "markdown",
   "id": "f8d42851-30a8-4e1b-88f2-d8412a419bec",
   "metadata": {},
   "source": [
    "[Visit the Bobwhite webpage](https://www.allaboutbirds.org/guide/northern_bobwhite) at the Cornell Lab of Ornithology."
   ]
  },
  {
   "cell_type": "markdown",
   "id": "4becce20-631c-4964-9127-a8fd0f0c07d6",
   "metadata": {},
   "source": [
    "View the `bobwhite()` instrument code:"
   ]
  },
  {
   "cell_type": "code",
   "execution_count": null,
   "id": "2fafe58f-0ed7-4c69-9912-dd82ac066f4c",
   "metadata": {},
   "outputs": [],
   "source": [
    "Code(birds.birdcode('bobwhite'), language='python')"
   ]
  },
  {
   "cell_type": "markdown",
   "id": "f9372e0a-89ed-4190-96b9-34fab4dc545a",
   "metadata": {},
   "source": [
    "----\n",
    "<a id='western_meadowlark'></a>\n",
    "### Western Meadowlark"
   ]
  },
  {
   "cell_type": "markdown",
   "id": "79191c6e-9096-4ab8-8075-2e7bd73c96c2",
   "metadata": {},
   "source": [
    "Listen to `western_meadowlark()` at `speed=1`, then reduce speeds down to .125 to perceive spectral changes more closely:"
   ]
  },
  {
   "cell_type": "code",
   "execution_count": null,
   "id": "f3828a9b-b45f-406f-8920-74da736d5a44",
   "metadata": {},
   "outputs": [],
   "source": [
    "birds.birdcall(birds.western_meadowlark, speed=1)"
   ]
  },
  {
   "cell_type": "markdown",
   "id": "a2d91041-7b13-4db0-8b8a-3748941cddb5",
   "metadata": {},
   "source": [
    "[Visit the Western Meadowlark webpage](https://www.allaboutbirds.org/guide/western_meadowlark) at the Cornell Lab of Ornithology."
   ]
  },
  {
   "cell_type": "markdown",
   "id": "b547c200-7501-4b95-95eb-a935279267c2",
   "metadata": {},
   "source": [
    "View the `western_meadowlark()` instrument code:"
   ]
  },
  {
   "cell_type": "code",
   "execution_count": null,
   "id": "269c2e67-bc4c-4ade-98ab-d2e32f3a245f",
   "metadata": {},
   "outputs": [],
   "source": [
    "Code(birds.birdcode('western_meadowlark'), language='python')"
   ]
  },
  {
   "cell_type": "markdown",
   "id": "9e70af35-3dc1-4d56-a184-a3f5960e8a06",
   "metadata": {},
   "source": [
    "----\n",
    "<a id='scissor_tailed_flycatcher'></a>\n",
    "### Scissor Tailed Flycatcher"
   ]
  },
  {
   "cell_type": "markdown",
   "id": "c614af1e-e60a-4241-a655-1221c18e95de",
   "metadata": {},
   "source": [
    "Listen to `scissor_tailed_flycatcher()` at `speed=1`, then reduce speeds down to .125 to perceive spectral changes more closely:"
   ]
  },
  {
   "cell_type": "code",
   "execution_count": null,
   "id": "adf75bab-5219-41d5-a906-4d581d60c590",
   "metadata": {},
   "outputs": [],
   "source": [
    "birds.birdcall(birds.scissor_tailed_flycatcher, speed=1)"
   ]
  },
  {
   "cell_type": "markdown",
   "id": "91d1f592-6bba-42fa-a5ca-438abb6c6392",
   "metadata": {},
   "source": [
    "[Visit the Scissor Tailed Flycatcher webpage](https://www.allaboutbirds.org/guide/scissor-tailed_flycatcher) at the Cornell Lab of Ornithology."
   ]
  },
  {
   "cell_type": "markdown",
   "id": "5bd7bb32-1f94-48b9-858f-f6b9b24ab5e2",
   "metadata": {},
   "source": [
    "View the `scissor_tailed_flycatcher()` instrument code:"
   ]
  },
  {
   "cell_type": "code",
   "execution_count": null,
   "id": "125cc4f0-8531-4fd5-a4bd-912d815d3c22",
   "metadata": {},
   "outputs": [],
   "source": [
    "Code(birds.birdcode('scissor_tailed_flycatcher'), language='python')"
   ]
  },
  {
   "cell_type": "markdown",
   "id": "1c77d6a0-e3f6-4796-8b09-23e6a13066f8",
   "metadata": {},
   "source": [
    "----\n",
    "<a id='great_horned_owl'></a>\n",
    "### Great Horned Owl"
   ]
  },
  {
   "cell_type": "markdown",
   "id": "f0f9a2cb-fdc8-4480-8358-44e78b7246d9",
   "metadata": {},
   "source": [
    "Listen to `great_horned_owl()` at `speed=1`, then reduce speeds down to .125 to perceive spectral changes more closely:"
   ]
  },
  {
   "cell_type": "code",
   "execution_count": null,
   "id": "2006fd54-d9c3-4747-a9c0-d4e7bb596f42",
   "metadata": {},
   "outputs": [],
   "source": [
    "birds.birdcall(birds.great_horned_owl, speed=1)"
   ]
  },
  {
   "cell_type": "markdown",
   "id": "cb5209df-a279-4f6a-99c9-3a4f3a4a1ada",
   "metadata": {},
   "source": [
    "[Visit the Great Horned Owl webpage](https://www.allaboutbirds.org/guide/great_horned_owl) at the Cornell Lab of Ornithology."
   ]
  },
  {
   "cell_type": "markdown",
   "id": "bd12a1a1-6d09-4e5b-ab56-64e45ca516d8",
   "metadata": {},
   "source": [
    "View the `great_horned_owl()` instrument code:"
   ]
  },
  {
   "cell_type": "code",
   "execution_count": null,
   "id": "1ace0f42-8397-426b-b34f-331c676c15b5",
   "metadata": {},
   "outputs": [],
   "source": [
    "Code(birds.birdcode('great_horned_owl'), language='python')"
   ]
  },
  {
   "cell_type": "markdown",
   "id": "fe0e7b7d-209b-4716-9246-6bcfa03e24c9",
   "metadata": {},
   "source": [
    "----\n",
    "<a id='black_throated_gray_warbler'></a>\n",
    "### Black Throated Gray Warbler"
   ]
  },
  {
   "cell_type": "markdown",
   "id": "59270935-a953-48c8-b1c6-961b39750839",
   "metadata": {},
   "source": [
    "Listen to `black_throated_gray_warbler()` at `speed=1`, then reduce speeds down to .125 to perceive spectral changes more closely:"
   ]
  },
  {
   "cell_type": "code",
   "execution_count": null,
   "id": "76ac1197-793d-4d32-bf16-be34da0d68b8",
   "metadata": {},
   "outputs": [],
   "source": [
    "birds.birdcall(birds.black_throated_gray_warbler, speed=1)"
   ]
  },
  {
   "cell_type": "markdown",
   "id": "b8deb84c-1d56-44a0-8061-658eff72adff",
   "metadata": {},
   "source": [
    "[Visit the Black Throated Gray Warbler webpage](https://www.allaboutbirds.org/guide/black-throated_gray_warbler) at the Cornell Lab of Ornithology."
   ]
  },
  {
   "cell_type": "markdown",
   "id": "999ab265-e5ab-43c3-9bcc-06da312b97d4",
   "metadata": {},
   "source": [
    "View the `black_throated_gray_warbler()` instrument code:"
   ]
  },
  {
   "cell_type": "code",
   "execution_count": null,
   "id": "aad9772f-a52b-4f08-b865-735955f815e8",
   "metadata": {},
   "outputs": [],
   "source": [
    "Code(birds.birdcode('black_throated_gray_warbler'), language='python')"
   ]
  },
  {
   "cell_type": "markdown",
   "id": "07472faa-e42c-4e0a-bce0-5b64ab500e2c",
   "metadata": {},
   "source": [
    "----\n",
    "<a id='yellow_warbler'></a>\n",
    "### Yellow Warbler"
   ]
  },
  {
   "cell_type": "markdown",
   "id": "bfff5761-4221-4d92-9c79-9274c2fb5b86",
   "metadata": {},
   "source": [
    "Listen to `yellow_warbler()` at `speed=1`, then reduce speeds down to .125 to perceive spectral changes more closely:"
   ]
  },
  {
   "cell_type": "code",
   "execution_count": null,
   "id": "1527fb48-3a1d-44c9-9f0b-d4c2798d98e3",
   "metadata": {},
   "outputs": [],
   "source": [
    "birds.birdcall(birds.yellow_warbler, speed=1)"
   ]
  },
  {
   "cell_type": "markdown",
   "id": "42e63c7e-ec2e-4052-95ef-c28ebeb9d586",
   "metadata": {},
   "source": [
    "[Visit the Yellow Warbler webpage](https://www.allaboutbirds.org/guide/yellow_warbler) at the Cornell Lab of Ornithology."
   ]
  },
  {
   "cell_type": "markdown",
   "id": "289e9b3f-65f8-4df2-a4a6-19e93e958e46",
   "metadata": {},
   "source": [
    "View the `yellow_warbler()` instrument code:"
   ]
  },
  {
   "cell_type": "code",
   "execution_count": null,
   "id": "c885f10a-3f62-4e22-be82-937ad71a07a0",
   "metadata": {},
   "outputs": [],
   "source": [
    "Code(birds.birdcode('yellow_warbler'), language='python')"
   ]
  },
  {
   "cell_type": "markdown",
   "id": "8b571001-0885-4d63-b19a-a83a1a58556f",
   "metadata": {},
   "source": [
    "----\n",
    "<a id='black_necked_stilt'></a>\n",
    "### Black Necked Stilt"
   ]
  },
  {
   "cell_type": "markdown",
   "id": "76faad91-345e-41eb-8aeb-7acb85d64b16",
   "metadata": {},
   "source": [
    "Listen to `black_necked_stilt()` at `speed=1`, then reduce speeds down to .125 to perceive spectral changes more closely:"
   ]
  },
  {
   "cell_type": "code",
   "execution_count": null,
   "id": "4ad4893d-8434-46ab-a6fc-0f7b25788791",
   "metadata": {},
   "outputs": [],
   "source": [
    "birds.birdcall(birds.black_necked_stilt, speed=1)"
   ]
  },
  {
   "cell_type": "markdown",
   "id": "c909f10e-30b2-40c5-a6b5-f37d8669ab1f",
   "metadata": {},
   "source": [
    "[Visit the Black Necked Stilt webpage](https://www.allaboutbirds.org/guide/black-necked_stilt) at the Cornell Lab of Ornithology."
   ]
  },
  {
   "cell_type": "markdown",
   "id": "f03183f3-f543-49d5-b92a-b2664dfdc08a",
   "metadata": {},
   "source": [
    "View the `black_necked_stilt()` instrument code:"
   ]
  },
  {
   "cell_type": "code",
   "execution_count": null,
   "id": "ad064f35-e91d-4686-9511-bac919d3309e",
   "metadata": {},
   "outputs": [],
   "source": [
    "Code(birds.birdcode('black_necked_stilt'), language='python')"
   ]
  },
  {
   "cell_type": "markdown",
   "id": "9829f4da-2ce8-477c-afff-d46bb84a6698",
   "metadata": {},
   "source": [
    "----\n",
    "<a id='chestnut_sided_warbler'></a>\n",
    "### Chestnut Sided Warbler"
   ]
  },
  {
   "cell_type": "markdown",
   "id": "7aabbccf-6b1f-4102-a8c6-ccc1092ec07a",
   "metadata": {},
   "source": [
    "Listen to `chestnut_sided_warbler()` at `speed=1`, then reduce speeds down to .125 to perceive spectral changes more closely:"
   ]
  },
  {
   "cell_type": "code",
   "execution_count": null,
   "id": "a99bd75e-98bd-4b86-ab56-b113f6aa1742",
   "metadata": {},
   "outputs": [],
   "source": [
    "birds.birdcall(birds.chestnut_sided_warbler, speed=1)"
   ]
  },
  {
   "cell_type": "markdown",
   "id": "ff20d8c2-76c9-4e69-a76d-f6f45e1518c3",
   "metadata": {},
   "source": [
    "[Visit the Chestnut Sided Warbler webpage](https://www.allaboutbirds.org/guide/chestnut-sided_warbler) at the Cornell Lab of Ornithology."
   ]
  },
  {
   "cell_type": "markdown",
   "id": "ebc4e100-dfef-40e5-83fb-45a192788d38",
   "metadata": {},
   "source": [
    "View the `chestnut_sided_warbler()` instrument code:"
   ]
  },
  {
   "cell_type": "code",
   "execution_count": null,
   "id": "c1275806-27a4-4cd3-be0b-63edd53522d2",
   "metadata": {},
   "outputs": [],
   "source": [
    "Code(birds.birdcode('chestnut_sided_warbler'), language='python')"
   ]
  },
  {
   "cell_type": "markdown",
   "id": "dc10a65a-5b48-4598-8c44-1f39de6de834",
   "metadata": {},
   "source": [
    "----\n",
    "<a id='grasshopper_sparrow'></a>\n",
    "### Grasshopper Sparrow"
   ]
  },
  {
   "cell_type": "markdown",
   "id": "b4c8d342-0cff-4a14-b10f-66bdec4d886f",
   "metadata": {},
   "source": [
    "Listen to `grasshopper_sparrow()` at `speed=1`, then reduce speeds down to .125 to perceive spectral changes more closely:"
   ]
  },
  {
   "cell_type": "code",
   "execution_count": null,
   "id": "41b0d3ec-4aaf-4116-a1f9-c1b9141831d7",
   "metadata": {},
   "outputs": [],
   "source": [
    "birds.birdcall(birds.grasshopper_sparrow, speed=1)"
   ]
  },
  {
   "cell_type": "markdown",
   "id": "06d61614-87d1-41e1-91ca-2940059a8b2b",
   "metadata": {},
   "source": [
    "[Visit the Grasshopper Sparrow webpage](https://www.allaboutbirds.org/guide/grasshopper_sparrow) at the Cornell Lab of Ornithology."
   ]
  },
  {
   "cell_type": "markdown",
   "id": "d198b5d7-2c2e-40c1-8add-2b6e68006ad0",
   "metadata": {},
   "source": [
    "View the `grasshopper_sparrow()` instrument code:"
   ]
  },
  {
   "cell_type": "code",
   "execution_count": null,
   "id": "a4ece209-ec9f-4393-829e-35d5ae5d9679",
   "metadata": {},
   "outputs": [],
   "source": [
    "Code(birds.birdcode('grasshopper_sparrow'), language='python')"
   ]
  },
  {
   "cell_type": "markdown",
   "id": "68034100-c66c-4236-87bd-d2df02e5a0c7",
   "metadata": {},
   "source": [
    "----\n",
    "<a id='swamp_sparrow'></a>\n",
    "### Swamp Sparrow"
   ]
  },
  {
   "cell_type": "markdown",
   "id": "f6c59ac6-c90d-4aff-9687-3788500ffa10",
   "metadata": {},
   "source": [
    "Listen to `swamp_sparrow()` at `speed=1`, then reduce speeds down to .125 to perceive spectral changes more closely:"
   ]
  },
  {
   "cell_type": "code",
   "execution_count": null,
   "id": "0b01b63f-ca0d-4fc3-b165-aa15b9050436",
   "metadata": {},
   "outputs": [],
   "source": [
    "birds.birdcall(birds.swamp_sparrow, speed=1)"
   ]
  },
  {
   "cell_type": "markdown",
   "id": "e8b026aa-0101-46a7-9d08-c0a349e2a2b8",
   "metadata": {},
   "source": [
    "[Visit the Swamp Sparrow webpage](https://www.allaboutbirds.org/guide/swamp_sparrow) at the Cornell Lab of Ornithology."
   ]
  },
  {
   "cell_type": "markdown",
   "id": "1ec7c5c8-1607-4ef8-b7e6-b15f0b6d1e87",
   "metadata": {},
   "source": [
    "View the `swamp_sparrow()` instrument code:"
   ]
  },
  {
   "cell_type": "code",
   "execution_count": null,
   "id": "46476f71-cfdc-42b1-b496-db472326fab7",
   "metadata": {},
   "outputs": [],
   "source": [
    "Code(birds.birdcode('swamp_sparrow'), language='python')"
   ]
  },
  {
   "cell_type": "markdown",
   "id": "373377ac-fab8-4889-b7f7-fd49e63ca537",
   "metadata": {},
   "source": [
    "----\n",
    "<a id='golden_crowned_sparrow'></a>\n",
    "### Golden Crowned Sparrow"
   ]
  },
  {
   "cell_type": "markdown",
   "id": "7e6a79a6-3463-4fbe-8e46-e306325b7d15",
   "metadata": {},
   "source": [
    "Listen to `golden_crowned_sparrow()` at `speed=1`, then reduce speeds down to .125 to perceive spectral changes more closely:"
   ]
  },
  {
   "cell_type": "code",
   "execution_count": null,
   "id": "d352775b-6ee9-4b72-8983-ed5f90db79ec",
   "metadata": {},
   "outputs": [],
   "source": [
    "birds.birdcall(birds.golden_crowned_sparrow, speed=1)"
   ]
  },
  {
   "cell_type": "markdown",
   "id": "fe08b32c-a6a2-44a0-8b60-7b0d2f9b5e7e",
   "metadata": {},
   "source": [
    "[Visit the Golden Crowned Sparrow webpage](https://www.allaboutbirds.org/guide/golden-crowned_sparrow) at the Cornell Lab of Ornithology."
   ]
  },
  {
   "cell_type": "markdown",
   "id": "72bc4e20-73b9-4235-86fb-9583f7123225",
   "metadata": {},
   "source": [
    "View the `golden_crowned_sparrow()` instrument code:"
   ]
  },
  {
   "cell_type": "code",
   "execution_count": null,
   "id": "682536c4-096a-4534-868a-3ee39f3ac33e",
   "metadata": {},
   "outputs": [],
   "source": [
    "Code(birds.birdcode('golden_crowned_sparrow'), language='python')"
   ]
  },
  {
   "cell_type": "markdown",
   "id": "2b5b3046-206f-4084-9430-74159763dc1a",
   "metadata": {},
   "source": [
    "----\n",
    "<a id='indigo_bunting'></a>\n",
    "### Indigo Bunting"
   ]
  },
  {
   "cell_type": "markdown",
   "id": "1da661f0-b76b-4cb7-ab3c-60ae84eff484",
   "metadata": {},
   "source": [
    "Listen to `indigo_bunting()` at `speed=1`, then reduce speeds down to .125 to perceive spectral changes more closely:"
   ]
  },
  {
   "cell_type": "code",
   "execution_count": null,
   "id": "91e78ff7-94b0-4289-8cce-d704a0b2c621",
   "metadata": {},
   "outputs": [],
   "source": [
    "birds.birdcall(birds.indigo_bunting, speed=1)"
   ]
  },
  {
   "cell_type": "markdown",
   "id": "38929b48-0b1a-488e-bc74-a3a66fdec0f0",
   "metadata": {},
   "source": [
    "[Visit the Indigo Bunting webpage](https://www.allaboutbirds.org/guide/indigo_bunting) at the Cornell Lab of Ornithology."
   ]
  },
  {
   "cell_type": "markdown",
   "id": "20027b98-cf1e-4d5b-a8d2-10ea6eeed401",
   "metadata": {},
   "source": [
    "View the `indigo_bunting()` instrument code:\n"
   ]
  },
  {
   "cell_type": "code",
   "execution_count": null,
   "id": "d851365b-58ff-4892-b506-46f73e822b3d",
   "metadata": {},
   "outputs": [],
   "source": [
    "Code(birds.birdcode('indigo_bunting'), language='python')"
   ]
  },
  {
   "cell_type": "markdown",
   "id": "4f00d1f2-0f24-443d-871c-019070dba6b5",
   "metadata": {},
   "source": [
    "----\n",
    "<a id='hooded_warbler'></a>\n",
    "### Hooded Warbler"
   ]
  },
  {
   "cell_type": "markdown",
   "id": "80bae35a-b1ed-49fd-b4ce-72fa9071f6ab",
   "metadata": {},
   "source": [
    "Listen to `hooded_warbler()` at `speed=1`, then reduce speeds down to .125 to perceive spectral changes more closely:"
   ]
  },
  {
   "cell_type": "code",
   "execution_count": null,
   "id": "496075f1-e1d0-4dea-a727-752bc0ade4dd",
   "metadata": {},
   "outputs": [],
   "source": [
    "birds.birdcall(birds.hooded_warbler, speed=1)"
   ]
  },
  {
   "cell_type": "markdown",
   "id": "cdf119a1-d094-4354-89a9-f2f69fbdc749",
   "metadata": {},
   "source": [
    "[Visit the Hooded Warbler webpage](https://www.allaboutbirds.org/guide/hooded_warbler) at the Cornell Lab of Ornithology."
   ]
  },
  {
   "cell_type": "markdown",
   "id": "4b1be6c3-8218-4091-9800-196510071f90",
   "metadata": {},
   "source": [
    "View the `hooded_warbler()` instrument code:"
   ]
  },
  {
   "cell_type": "code",
   "execution_count": null,
   "id": "8afb0c51-5f17-4f5e-90ed-e7e74e0969ef",
   "metadata": {},
   "outputs": [],
   "source": [
    "Code(birds.birdcode('hooded_warbler'), language='python')"
   ]
  },
  {
   "cell_type": "markdown",
   "id": "236e03a4-6920-4cf3-a6f8-ab9bc3df3562",
   "metadata": {},
   "source": [
    "----\n",
    "<a id='american_widgeon'></a>\n",
    "### American Widgeon"
   ]
  },
  {
   "cell_type": "markdown",
   "id": "abfe6402-c8b0-4df7-b3ee-d10520c198bc",
   "metadata": {},
   "source": [
    "Listen to `american_widgeon()` at `speed=1`, then reduce speeds down to .125 to perceive spectral changes more closely:"
   ]
  },
  {
   "cell_type": "code",
   "execution_count": null,
   "id": "0ed78ccc-08db-451b-bb32-9eb803a3d73d",
   "metadata": {},
   "outputs": [],
   "source": [
    "birds.birdcall(birds.american_widgeon, speed=1)"
   ]
  },
  {
   "cell_type": "markdown",
   "id": "05817f9c-01f2-4f74-acb0-a49f6dbf551d",
   "metadata": {},
   "source": [
    "[Visit the American Widgeon webpage](https://www.allaboutbirds.org/guide/american_widgeon) at the Cornell Lab of Ornithology."
   ]
  },
  {
   "cell_type": "markdown",
   "id": "83f6f924-be0d-4795-95ac-cbaf7a185172",
   "metadata": {},
   "source": [
    "View the `american_widgeon()` instrument code:"
   ]
  },
  {
   "cell_type": "code",
   "execution_count": null,
   "id": "baea24e0-d460-42e3-976c-533169e05388",
   "metadata": {},
   "outputs": [],
   "source": [
    "Code(birds.birdcode('american_widgeon'), language='python')"
   ]
  },
  {
   "cell_type": "markdown",
   "id": "c7dde97d-4751-4de5-96e1-aeed5edf1ef0",
   "metadata": {},
   "source": [
    "----\n",
    "<a id='louisiana_waterthrush'></a>\n",
    "### Louisiana Waterthrush"
   ]
  },
  {
   "cell_type": "markdown",
   "id": "01fde6a2-0682-44fd-a8c4-da33bfac59b0",
   "metadata": {},
   "source": [
    "Listen to `louisiana_waterthrush()` at `speed=1`, then reduce speeds down to .125 to perceive spectral changes more closely:"
   ]
  },
  {
   "cell_type": "code",
   "execution_count": null,
   "id": "2b6e9170-b6d1-4ecd-b4c8-77f3d51cccaa",
   "metadata": {},
   "outputs": [],
   "source": [
    "birds.birdcall(birds.louisiana_waterthrush, speed=1)"
   ]
  },
  {
   "cell_type": "markdown",
   "id": "02528b5c-3ecb-4b88-895d-2b58e26e9e8a",
   "metadata": {},
   "source": [
    "[Visit the Louisiana Waterthrush webpage](https://www.allaboutbirds.org/guide/louisiana_waterthrush) at the Cornell Lab of Ornithology."
   ]
  },
  {
   "cell_type": "markdown",
   "id": "e2dc91fc-16fe-424e-ba6a-ef493a5dc458",
   "metadata": {},
   "source": [
    "View the `louisiana_waterthrush()` instrument code:"
   ]
  },
  {
   "cell_type": "code",
   "execution_count": null,
   "id": "68b8ad38-5172-4961-b052-5b07c9f63453",
   "metadata": {},
   "outputs": [],
   "source": [
    "Code(birds.birdcode('louisiana_waterthrush'), language='python')"
   ]
  },
  {
   "cell_type": "markdown",
   "id": "832a137f-89ed-48c1-bca6-24a658248e56",
   "metadata": {},
   "source": [
    "----\n",
    "<a id='robin'></a>\n",
    "### Robin (American Robin)"
   ]
  },
  {
   "cell_type": "markdown",
   "id": "ff22a1e0-a65f-4684-b075-1cd7fce9ce3f",
   "metadata": {},
   "source": [
    "Listen to `robin()` at `speed=1`, then reduce speeds down to .125 to perceive spectral changes more closely:"
   ]
  },
  {
   "cell_type": "code",
   "execution_count": null,
   "id": "1c0b2416-e63c-467f-ac51-bd5f1e905b06",
   "metadata": {},
   "outputs": [],
   "source": [
    "birds.birdcall(birds.robin, speed=1)"
   ]
  },
  {
   "cell_type": "markdown",
   "id": "57e06ff7-14e2-4571-9eae-cc5b79fdb5ab",
   "metadata": {},
   "source": [
    "[Visit the Robin webpage](https://www.allaboutbirds.org/guide/american_robin) at the Cornell Lab of Ornithology."
   ]
  },
  {
   "cell_type": "markdown",
   "id": "69aa9030-c47e-42d8-848f-f479422d96dc",
   "metadata": {},
   "source": [
    "View the `robin()` instrument code:"
   ]
  },
  {
   "cell_type": "code",
   "execution_count": null,
   "id": "04049c2a-cdcd-4c24-9d77-0c00fc2c06e3",
   "metadata": {},
   "outputs": [],
   "source": [
    "Code(birds.birdcode('robin'), language='python')"
   ]
  },
  {
   "cell_type": "markdown",
   "id": "260726e9-0137-449b-87e7-7ab596141780",
   "metadata": {},
   "source": [
    "----\n",
    "<a id='solitary_vireo'></a>\n",
    "### Solitary Vireo (Blue Headed Vireo)"
   ]
  },
  {
   "cell_type": "markdown",
   "id": "48dcbded-69cd-497e-acc5-c0afaa665b21",
   "metadata": {},
   "source": [
    "Listen to `solitary_vireo()` at `speed=1`, then reduce speeds down to .125 to perceive spectral changes more closely:"
   ]
  },
  {
   "cell_type": "code",
   "execution_count": null,
   "id": "d777f5f8-fc99-45dc-ba93-d5c24a7a2bd1",
   "metadata": {},
   "outputs": [],
   "source": [
    "birds.birdcall(birds.solitary_vireo, speed=1)"
   ]
  },
  {
   "cell_type": "markdown",
   "id": "50f12be7-8549-4adc-9edf-a030ecb6ed86",
   "metadata": {},
   "source": [
    "[Visit the Solitary Vireo webpage](https://www.allaboutbirds.org/guide/Blue-headed_Vireo) at the Cornell Lab of Ornithology."
   ]
  },
  {
   "cell_type": "markdown",
   "id": "4efa1d9a-2cb6-4ec7-881f-ae35d85d1905",
   "metadata": {},
   "source": [
    "View the `solitary_vireo()` instrument code:"
   ]
  },
  {
   "cell_type": "code",
   "execution_count": null,
   "id": "32a37046-f5d4-43da-9858-4bdbdb13b549",
   "metadata": {},
   "outputs": [],
   "source": [
    "Code(birds.birdcode('solitary_vireo'), language='python')"
   ]
  },
  {
   "cell_type": "markdown",
   "id": "61b8ad7a-5850-4230-8978-dcc99cc247a9",
   "metadata": {},
   "source": [
    "----\n",
    "<a id='pigeon_hawk'></a>\n",
    "### Pigeon Hawk (Merlin)"
   ]
  },
  {
   "cell_type": "markdown",
   "id": "801a64a5-061c-4b00-904b-6b27a462f368",
   "metadata": {},
   "source": [
    "Listen to `pigeon_hawk()` at `speed=1`, then reduce speeds down to .125 to perceive spectral changes more closely:"
   ]
  },
  {
   "cell_type": "code",
   "execution_count": null,
   "id": "adee1f42-9342-4b9c-9af4-7c8451ca9be0",
   "metadata": {},
   "outputs": [],
   "source": [
    "birds.birdcall(birds.pigeon_hawk, speed=1)"
   ]
  },
  {
   "cell_type": "markdown",
   "id": "62014af5-8436-42ab-9e31-1c24fa47cb76",
   "metadata": {},
   "source": [
    "[Visit the Pigeon Hawk webpage](https://www.allaboutbirds.org/guide/merlin) at the Cornell Lab of Ornithology."
   ]
  },
  {
   "cell_type": "markdown",
   "id": "f1ab27d7-2108-4818-be9a-0b8bb5822461",
   "metadata": {},
   "source": [
    "View the `pigeon_hawk()` instrument code:"
   ]
  },
  {
   "cell_type": "code",
   "execution_count": null,
   "id": "2200d4bf-2e83-4a16-9ab2-4a2b8b832fc6",
   "metadata": {},
   "outputs": [],
   "source": [
    "Code(birds.birdcode('pigeon_hawk'), language='python')"
   ]
  },
  {
   "cell_type": "markdown",
   "id": "d0e69291-2c91-41ef-bdd8-1ccc50ca9251",
   "metadata": {},
   "source": [
    "----\n",
    "<a id='cerulean_warbler'></a>\n",
    "### Cerulean Warbler"
   ]
  },
  {
   "cell_type": "markdown",
   "id": "6ea1cf2f-82be-4ef2-bba6-84889e12e691",
   "metadata": {},
   "source": [
    "Listen to `cerulean_warbler()` at `speed=1`, then reduce speeds down to .125 to perceive spectral changes more closely:"
   ]
  },
  {
   "cell_type": "code",
   "execution_count": null,
   "id": "f4de7b8d-e31b-4256-aa9b-60dbfa11ff41",
   "metadata": {},
   "outputs": [],
   "source": [
    "birds.birdcall(birds.cerulean_warbler, speed=1)"
   ]
  },
  {
   "cell_type": "markdown",
   "id": "7259158c-7ea5-479b-a9ae-2c1ba9448273",
   "metadata": {},
   "source": [
    "[Visit the Cerulean Warbler webpage](https://www.allaboutbirds.org/guide/cerulean_warbler) at the Cornell Lab of Ornithology."
   ]
  },
  {
   "cell_type": "markdown",
   "id": "37a93855-e9c2-48d5-99d8-8d5e8f553f69",
   "metadata": {},
   "source": [
    "View the `cerulean_warbler()` instrument code:"
   ]
  },
  {
   "cell_type": "code",
   "execution_count": null,
   "id": "62edd2bf-1d64-49a6-8e06-adb3ae69ccbe",
   "metadata": {},
   "outputs": [],
   "source": [
    "Code(birds.birdcode('cerulean_warbler'), language='python')"
   ]
  },
  {
   "cell_type": "markdown",
   "id": "f64d8f1d-c448-4e48-9931-978c51aab77b",
   "metadata": {},
   "source": [
    "----\n",
    "<a id='nashville_warbler'></a>\n",
    "### Nashville Warbler"
   ]
  },
  {
   "cell_type": "markdown",
   "id": "cd11b1d7-354d-4668-984b-43c7d86ae749",
   "metadata": {},
   "source": [
    "Listen to `nashville_warbler()` at `speed=1`, then reduce speeds down to .125 to perceive spectral changes more closely:"
   ]
  },
  {
   "cell_type": "code",
   "execution_count": null,
   "id": "a7903963-f2b8-4210-b30b-044fde50efee",
   "metadata": {},
   "outputs": [],
   "source": [
    "birds.birdcall(birds.nashville_warbler, speed=1)"
   ]
  },
  {
   "cell_type": "markdown",
   "id": "10465117-14cb-4ae5-b49f-df2f44dfa486",
   "metadata": {},
   "source": [
    "[Visit the Nashville Warbler webpage](https://www.allaboutbirds.org/guide/nashville_warbler) at the Cornell Lab of Ornithology."
   ]
  },
  {
   "cell_type": "markdown",
   "id": "2c430933-fb75-4832-84e8-bdc50f43f213",
   "metadata": {},
   "source": [
    "View the `nashville_warbler()` instrument code:"
   ]
  },
  {
   "cell_type": "code",
   "execution_count": null,
   "id": "5d2396ff-5c5f-427d-bf68-fc3af643fd6d",
   "metadata": {},
   "outputs": [],
   "source": [
    "Code(birds.birdcode('nashville_warbler'), language='python')"
   ]
  },
  {
   "cell_type": "markdown",
   "id": "99672cd6-d751-441c-9103-f10b9e3b73bd",
   "metadata": {},
   "source": [
    "----\n",
    "<a id='eastern_phoebe'></a>\n",
    "### Eastern Phoebe"
   ]
  },
  {
   "cell_type": "markdown",
   "id": "a327e961-7bac-475d-83c9-aaa087322455",
   "metadata": {},
   "source": [
    "Listen to `eastern_phoebe()` at `speed=1`, then reduce speeds down to .125 to perceive spectral changes more closely:"
   ]
  },
  {
   "cell_type": "code",
   "execution_count": null,
   "id": "5bc55af3-e634-4cf7-84dd-6ca8d32fa7b1",
   "metadata": {},
   "outputs": [],
   "source": [
    "birds.birdcall(birds.eastern_phoebe, speed=1)"
   ]
  },
  {
   "cell_type": "markdown",
   "id": "40c52619-64ce-454a-8655-1eba944291f4",
   "metadata": {},
   "source": [
    "[Visit the Eastern Phoebe webpage](https://www.allaboutbirds.org/guide/eastern_phoebe) at the Cornell Lab of Ornithology."
   ]
  },
  {
   "cell_type": "markdown",
   "id": "c98d027b-3137-40ae-b0e2-21817d2a8356",
   "metadata": {},
   "source": [
    "View the `eastern_phoebe()` instrument code:"
   ]
  },
  {
   "cell_type": "code",
   "execution_count": null,
   "id": "e256ea31-426e-483d-8868-4332ece89313",
   "metadata": {},
   "outputs": [],
   "source": [
    "Code(birds.birdcode('eastern_phoebe'), language='python')"
   ]
  },
  {
   "cell_type": "markdown",
   "id": "4a18c5b3-5f11-435d-a6aa-e548d9d49145",
   "metadata": {},
   "source": [
    "----\n",
    "<a id='painted_bunting'></a>\n",
    "### Painted Bunting"
   ]
  },
  {
   "cell_type": "markdown",
   "id": "a94f2c3d-e424-4bc7-a4e3-ea064621df41",
   "metadata": {},
   "source": [
    "Listen to `painted_bunting()` at `speed=1`, then reduce speeds down to .125 to perceive spectral changes more closely:"
   ]
  },
  {
   "cell_type": "code",
   "execution_count": null,
   "id": "9cb76ea6-8778-496c-9272-bcb37d781811",
   "metadata": {},
   "outputs": [],
   "source": [
    "birds.birdcall(birds.painted_bunting, speed=1)"
   ]
  },
  {
   "cell_type": "markdown",
   "id": "b3f8a292-7226-43f0-8e72-f2a7cff63a81",
   "metadata": {},
   "source": [
    "[Visit the Painted Bunting webpage](https://www.allaboutbirds.org/guide/painted_bunting) at the Cornell Lab of Ornithology."
   ]
  },
  {
   "cell_type": "markdown",
   "id": "48e047a7-718d-4a33-8c4f-8eef11f262d5",
   "metadata": {},
   "source": [
    "View the `painted_bunting()` instrument code:"
   ]
  },
  {
   "cell_type": "code",
   "execution_count": null,
   "id": "3cb1d642-89cd-4ec7-8695-08393e61c992",
   "metadata": {},
   "outputs": [],
   "source": [
    "Code(birds.birdcode('painted_bunting'), language='python')"
   ]
  },
  {
   "cell_type": "markdown",
   "id": "92ca9bb5-f2cd-41e7-bb89-6a5b68f12021",
   "metadata": {},
   "source": [
    "----\n",
    "<a id='western_flycatcher'></a>\n",
    "### Western Flycatcher"
   ]
  },
  {
   "cell_type": "markdown",
   "id": "034cff8d-44bc-42f8-b7fc-f23723bf3790",
   "metadata": {},
   "source": [
    "Listen to `western_flycatcher()` at `speed=1`, then reduce speeds down to .125 to perceive spectral changes more closely:"
   ]
  },
  {
   "cell_type": "code",
   "execution_count": null,
   "id": "1f755590-bb17-4794-bd7e-1adeb3b4bb2c",
   "metadata": {},
   "outputs": [],
   "source": [
    "birds.birdcall(birds.western_flycatcher, speed=1)"
   ]
  },
  {
   "cell_type": "markdown",
   "id": "50d0ac74-be3b-4851-9c7e-27469aa098a7",
   "metadata": {},
   "source": [
    "[Visit the Western Flycatcher webpage](https://www.allaboutbirds.org/guide/western_flycatcher) at the Cornell Lab of Ornithology."
   ]
  },
  {
   "cell_type": "markdown",
   "id": "25477aa6-de6c-492d-b9a5-9b9f33a021ae",
   "metadata": {},
   "source": [
    "View the `western_flycatcher()` instrument code:"
   ]
  },
  {
   "cell_type": "code",
   "execution_count": null,
   "id": "ce5c761b-b12a-4d11-a217-a76dfad69c5d",
   "metadata": {},
   "outputs": [],
   "source": [
    "Code(birds.birdcode('western_flycatcher'), language='python')"
   ]
  },
  {
   "cell_type": "markdown",
   "id": "9c747c1b-4a47-4934-956e-d0876e413947",
   "metadata": {},
   "source": [
    "----\n",
    "<a id='bachmans_sparrow'></a>\n",
    "### Bachmans Sparrow"
   ]
  },
  {
   "cell_type": "markdown",
   "id": "a40381e9-9412-4bdc-af1c-17b04f4c17d1",
   "metadata": {},
   "source": [
    "Listen to `bachmans_sparrow()` at `speed=1`, then reduce speeds down to .125 to perceive spectral changes more closely:"
   ]
  },
  {
   "cell_type": "code",
   "execution_count": null,
   "id": "04cbcff6-dec7-4d6c-9eb5-678ddc45e9e7",
   "metadata": {},
   "outputs": [],
   "source": [
    "birds.birdcall(birds.bachmans_sparrow, speed=1)"
   ]
  },
  {
   "cell_type": "markdown",
   "id": "698939f9-a1d7-4e4b-8300-15cebb46d947",
   "metadata": {},
   "source": [
    "[Visit the Bachmans Sparrow webpage](https://www.allaboutbirds.org/guide/bachmans_sparrow) at the Cornell Lab of Ornithology."
   ]
  },
  {
   "cell_type": "markdown",
   "id": "06172405-7918-475b-88cb-96c7dfeda70a",
   "metadata": {},
   "source": [
    "View the `bachmans_sparrow()` instrument code:"
   ]
  },
  {
   "cell_type": "code",
   "execution_count": null,
   "id": "00273d69-3c72-4612-b33b-ba1d0abcd27d",
   "metadata": {},
   "outputs": [],
   "source": [
    "Code(birds.birdcode('bachmans_sparrow'), language='python')"
   ]
  },
  {
   "cell_type": "markdown",
   "id": "0a6d81e5-277d-473d-91a5-983c04997124",
   "metadata": {},
   "source": [
    "----\n",
    "<a id='cedar_waxwing'></a>\n",
    "### Cedar Waxwing"
   ]
  },
  {
   "cell_type": "markdown",
   "id": "efbb0b40-2fba-42e4-9b7a-3204626c8c51",
   "metadata": {},
   "source": [
    "Listen to `cedar_waxwing()` at `speed=1`, then reduce speeds down to .125 to perceive spectral changes more closely:"
   ]
  },
  {
   "cell_type": "code",
   "execution_count": null,
   "id": "247eeb0d-4bee-48a5-85cb-9dd8fa8fd297",
   "metadata": {},
   "outputs": [],
   "source": [
    "birds.birdcall(birds.cedar_waxwing, speed=1)"
   ]
  },
  {
   "cell_type": "markdown",
   "id": "8ff0eb56-053b-481f-bdc2-203fe9093302",
   "metadata": {},
   "source": [
    "[Visit the Cedar Waxwing webpage](https://www.allaboutbirds.org/guide/cedar_waxwing) at the Cornell Lab of Ornithology."
   ]
  },
  {
   "cell_type": "markdown",
   "id": "b6e6630a-79c1-44b1-83a1-c34e7183ee62",
   "metadata": {},
   "source": [
    "View the `cedar_waxwing()` instrument code:"
   ]
  },
  {
   "cell_type": "code",
   "execution_count": null,
   "id": "49bbc36c-2c1d-48f2-81da-46c99d10c5bc",
   "metadata": {},
   "outputs": [],
   "source": [
    "Code(birds.birdcode('cedar_waxwing'), language='python')"
   ]
  },
  {
   "cell_type": "markdown",
   "id": "17438808-5cdc-4b30-9d2b-d25689e81232",
   "metadata": {},
   "source": [
    "----\n",
    "<a id='bairds_sparrow'></a>\n",
    "### Bairds Sparrow"
   ]
  },
  {
   "cell_type": "markdown",
   "id": "d04611b8-4651-42af-a02d-aaea187cdffe",
   "metadata": {},
   "source": [
    "Listen to `bairds_sparrow()` at `speed=1`, then reduce speeds down to .125 to perceive spectral changes more closely:"
   ]
  },
  {
   "cell_type": "code",
   "execution_count": null,
   "id": "f12aa56e-93ab-4647-aac4-15eee84bcef5",
   "metadata": {},
   "outputs": [],
   "source": [
    "birds.birdcall(birds.bairds_sparrow, speed=1)"
   ]
  },
  {
   "cell_type": "markdown",
   "id": "dcfdd0b7-0fab-45e4-ade4-7a77d818b654",
   "metadata": {},
   "source": [
    "[Visit the Bairds Sparrow webpage](https://www.allaboutbirds.org/guide/bairds_sparrow) at the Cornell Lab of Ornithology."
   ]
  },
  {
   "cell_type": "markdown",
   "id": "d7547b04-5e8a-49c1-91d1-502435813c84",
   "metadata": {},
   "source": [
    "View the `bairds_sparrow()` instrument code:"
   ]
  },
  {
   "cell_type": "code",
   "execution_count": null,
   "id": "8d41f960-550a-4766-9d1f-c52db94b33d8",
   "metadata": {},
   "outputs": [],
   "source": [
    "Code(birds.birdcode('bairds_sparrow'), language='python')"
   ]
  },
  {
   "cell_type": "markdown",
   "id": "f7fcb18f-62c3-4a53-a446-f0f653103729",
   "metadata": {},
   "source": [
    "----\n",
    "<a id='kentucky_warbler'></a>\n",
    "### Kentucky Warbler"
   ]
  },
  {
   "cell_type": "markdown",
   "id": "8f7f3a96-6373-477c-b516-4e305519c512",
   "metadata": {},
   "source": [
    "Listen to `kentucky_warbler()` at `speed=1`, then reduce speeds down to .125 to perceive spectral changes more closely:"
   ]
  },
  {
   "cell_type": "code",
   "execution_count": null,
   "id": "64fdeb36-c1da-4890-a8a0-5276a1fe6cdc",
   "metadata": {},
   "outputs": [],
   "source": [
    "birds.birdcall(birds.kentucky_warbler, speed=1)"
   ]
  },
  {
   "cell_type": "markdown",
   "id": "af4af3d4-f636-43b7-b990-8da61c261015",
   "metadata": {},
   "source": [
    "[Visit the Kentucky Warbler webpage](https://www.allaboutbirds.org/guide/kentucky_warbler) at the Cornell Lab of Ornithology."
   ]
  },
  {
   "cell_type": "markdown",
   "id": "12514046-0edc-4423-923f-daa7a550a9d3",
   "metadata": {},
   "source": [
    "View the `kentucky_warbler()` instrument code:"
   ]
  },
  {
   "cell_type": "code",
   "execution_count": null,
   "id": "4e10fce3-c8fa-488c-9817-2cf6fc6935bc",
   "metadata": {},
   "outputs": [],
   "source": [
    "Code(birds.birdcode('kentucky_warbler'), language='python')"
   ]
  },
  {
   "cell_type": "markdown",
   "id": "c4ee11ee-ada3-4c2d-b0f5-8beb3ee64d2c",
   "metadata": {},
   "source": [
    "----\n",
    "<a id='rufous_sided_towhee'></a>\n",
    "### Rufous Sided Towhee (Eastern Towhee)"
   ]
  },
  {
   "cell_type": "markdown",
   "id": "ef78c4f4-4c3c-4a63-97b9-9aae393935e6",
   "metadata": {},
   "source": [
    "Listen to `rufous_sided_towhee()` at `speed=1`, then reduce speeds down to .125 to perceive spectral changes more closely:"
   ]
  },
  {
   "cell_type": "code",
   "execution_count": null,
   "id": "0a8846e8-ef03-43ac-b36b-abb4dc0bab62",
   "metadata": {},
   "outputs": [],
   "source": [
    "birds.birdcall(birds.rufous_sided_towhee, speed=1)"
   ]
  },
  {
   "cell_type": "markdown",
   "id": "d9124750-8c42-4082-8cd8-da59241513b7",
   "metadata": {},
   "source": [
    "[Visit the Rufous Sided Towhee webpage](https://www.allaboutbirds.org/guide/Eastern_Towhee) at the Cornell Lab of Ornithology."
   ]
  },
  {
   "cell_type": "markdown",
   "id": "690f3aac-1f9a-44b5-9308-379d1d39e252",
   "metadata": {},
   "source": [
    "View the `rufous_sided_towhee()` instrument code:"
   ]
  },
  {
   "cell_type": "code",
   "execution_count": null,
   "id": "1ac1b535-0843-45a8-b28f-67fdec381fe6",
   "metadata": {},
   "outputs": [],
   "source": [
    "Code(birds.birdcode('rufous_sided_towhee'), language='python')"
   ]
  },
  {
   "cell_type": "markdown",
   "id": "3fc899bf-b6a7-44be-a660-994d66f57885",
   "metadata": {},
   "source": [
    "----\n",
    "<a id='prothonotary_warbler'></a>\n",
    "### Prothonotary Warbler"
   ]
  },
  {
   "cell_type": "markdown",
   "id": "bc2d3557-ecd1-4476-98a5-377fb4fb8fd2",
   "metadata": {},
   "source": [
    "Listen to `prothonotary_warbler()` at `speed=1`, then reduce speeds down to .125 to perceive spectral changes more closely:"
   ]
  },
  {
   "cell_type": "code",
   "execution_count": null,
   "id": "b9e034f6-5bd6-404a-8383-029d8933ea1c",
   "metadata": {},
   "outputs": [],
   "source": [
    "birds.birdcall(birds.prothonotary_warbler, speed=1)"
   ]
  },
  {
   "cell_type": "markdown",
   "id": "ba7f0adb-7d22-40b4-a5a9-e531a635a3d6",
   "metadata": {},
   "source": [
    "[Visit the Prothonotary Warbler webpage](https://www.allaboutbirds.org/guide/prothonotary_warbler) at the Cornell Lab of Ornithology."
   ]
  },
  {
   "cell_type": "markdown",
   "id": "3bb1cb44-7436-4439-8c97-69754ac2173a",
   "metadata": {},
   "source": [
    "View the `prothonotary_warbler()` instrument code:"
   ]
  },
  {
   "cell_type": "code",
   "execution_count": null,
   "id": "d3c66607-633b-4d5b-ba88-69d9b27184c0",
   "metadata": {},
   "outputs": [],
   "source": [
    "Code(birds.birdcode('prothonotary_warbler'), language='python')"
   ]
  },
  {
   "cell_type": "markdown",
   "id": "40f0f114-eab2-405e-8634-c4ecb2c16801",
   "metadata": {},
   "source": [
    "----\n",
    "<a id='audubons_warbler'></a>\n",
    "### Audubons Warbler (Yellow Rumped Warbler)"
   ]
  },
  {
   "cell_type": "markdown",
   "id": "b586a186-88e8-42fa-a6d4-51965e9b4821",
   "metadata": {},
   "source": [
    "Listen to `audubons_warbler()` at `speed=1`, then reduce speeds down to .125 to perceive spectral changes more closely:"
   ]
  },
  {
   "cell_type": "code",
   "execution_count": null,
   "id": "10910821-2473-4e70-83ae-affffcbbd22f",
   "metadata": {},
   "outputs": [],
   "source": [
    "birds.birdcall(birds.audubons_warbler, speed=1)"
   ]
  },
  {
   "cell_type": "markdown",
   "id": "deb525b9-9be7-45f1-a47f-b362be753545",
   "metadata": {},
   "source": [
    "[Visit the Audubons Warbler webpage](https://www.allaboutbirds.org/guide/Yellow-rumped_Warbler) at the Cornell Lab of Ornithology."
   ]
  },
  {
   "cell_type": "markdown",
   "id": "faa86b0c-3043-45b8-8f9b-31dfd8e05bd4",
   "metadata": {},
   "source": [
    "View the `audubons_warbler()` instrument code:"
   ]
  },
  {
   "cell_type": "code",
   "execution_count": null,
   "id": "28987204-3641-4e5e-beed-452ff95dab1e",
   "metadata": {},
   "outputs": [],
   "source": [
    "Code(birds.birdcode('audubons_warbler'), language='python')"
   ]
  },
  {
   "cell_type": "markdown",
   "id": "59a827e2-21ec-45da-b5a0-e9889faef517",
   "metadata": {},
   "source": [
    "----\n",
    "<a id='lark_bunting'></a>\n",
    "### Lark Bunting"
   ]
  },
  {
   "cell_type": "markdown",
   "id": "2bada834-144d-434c-b19c-7dc50609cd42",
   "metadata": {},
   "source": [
    "Listen to `lark_bunting()` at `speed=1`, then reduce speeds down to .125 to perceive spectral changes more closely:"
   ]
  },
  {
   "cell_type": "code",
   "execution_count": null,
   "id": "fbc9196a-e285-4414-81b3-b2fdaa1d8644",
   "metadata": {},
   "outputs": [],
   "source": [
    "birds.birdcall(birds.lark_bunting, speed=1)"
   ]
  },
  {
   "cell_type": "markdown",
   "id": "7295a05f-ff4e-4e50-a40b-b94984a75726",
   "metadata": {},
   "source": [
    "[Visit the Lark Bunting webpage](https://www.allaboutbirds.org/guide/lark_bunting) at the Cornell Lab of Ornithology."
   ]
  },
  {
   "cell_type": "markdown",
   "id": "aceb75f8-7fff-4200-a766-f591498e5a64",
   "metadata": {},
   "source": [
    "View the `lark_bunting()` instrument code:"
   ]
  },
  {
   "cell_type": "code",
   "execution_count": null,
   "id": "d2519d7c-3f5c-4230-8d04-180faa73b8ad",
   "metadata": {},
   "outputs": [],
   "source": [
    "Code(birds.birdcode('lark_bunting'), language='python')"
   ]
  },
  {
   "cell_type": "markdown",
   "id": "ea8f75f8-ff34-479e-aba0-28bca6d540c5",
   "metadata": {},
   "source": [
    "----\n",
    "<a id='eastern_bluebird'></a>\n",
    "### Eastern Bluebird"
   ]
  },
  {
   "cell_type": "markdown",
   "id": "593d2d01-dd90-4923-b07e-413c635efe60",
   "metadata": {},
   "source": [
    "Listen to the `eastern_bluebird()` at `speed=1`, then reduce speeds down to .125 to perceive spectral changes more closely:"
   ]
  },
  {
   "cell_type": "code",
   "execution_count": null,
   "id": "3c745779-6512-49c2-ba35-60d4600734cf",
   "metadata": {},
   "outputs": [],
   "source": [
    "birds.birdcall(birds.eastern_bluebird, speed=1)"
   ]
  },
  {
   "cell_type": "markdown",
   "id": "f11c65dc-ef07-4235-9492-bad5a762a671",
   "metadata": {},
   "source": [
    "[Visit the Eastern Bluebird webpage](https://www.allaboutbirds.org/guide/eastern_bluebird) at the Cornell Lab of Ornithology."
   ]
  },
  {
   "cell_type": "markdown",
   "id": "1778447c-5032-40be-8b82-b53da4525521",
   "metadata": {},
   "source": [
    "View the `eastern_bluebird()` instrument code:"
   ]
  },
  {
   "cell_type": "code",
   "execution_count": null,
   "id": "15ac6bcb-c3e4-474b-858f-b11483c33332",
   "metadata": {},
   "outputs": [],
   "source": [
    "Code(birds.birdcode('eastern_bluebird'), language='python')"
   ]
  },
  {
   "cell_type": "markdown",
   "id": "8e8eadbb-5007-4194-824b-8daa0b70c409",
   "metadata": {},
   "source": [
    "----\n",
    "<a id='chuck_wills_widow'></a>\n",
    "### Chuck Wills Widow"
   ]
  },
  {
   "cell_type": "markdown",
   "id": "626b18ed-27fc-4fef-ab71-52e47789b521",
   "metadata": {},
   "source": [
    "Listen to `chuck_wills_widow()` at `speed=1`, then reduce speeds down to .125 to perceive spectral changes more closely:"
   ]
  },
  {
   "cell_type": "code",
   "execution_count": null,
   "id": "ea274b00-1be8-45b1-9e7b-23884692f652",
   "metadata": {},
   "outputs": [],
   "source": [
    "birds.birdcall(birds.chuck_wills_widow, speed=1)"
   ]
  },
  {
   "cell_type": "markdown",
   "id": "4ed7c887-9c73-43a4-b519-58faee528257",
   "metadata": {},
   "source": [
    "[Visit the Chuck Wills Widow webpage](https://www.allaboutbirds.org/guide/Chuck-wills-widow) at the Cornell Lab of Ornithology."
   ]
  },
  {
   "cell_type": "markdown",
   "id": "6bd1f216-6df2-4ebd-87c2-9b8ccc6b29b2",
   "metadata": {},
   "source": [
    "View the `chuck_wills_widow()` instrument code:"
   ]
  },
  {
   "cell_type": "code",
   "execution_count": null,
   "id": "b1309cb0-0485-411f-a57c-4911877f4c1a",
   "metadata": {},
   "outputs": [],
   "source": [
    "Code(birds.birdcode('chuck_wills_widow'), language='python')"
   ]
  },
  {
   "cell_type": "markdown",
   "id": "c8307f86-8809-4300-a6c5-5c23a27095eb",
   "metadata": {},
   "source": [
    "----\n",
    "<a id='blue_gray_gnatcatcher'></a>\n",
    "### Blue Gray Gnatcatcher"
   ]
  },
  {
   "cell_type": "markdown",
   "id": "dfb57c4f-67e7-4b2d-8685-d559f49276db",
   "metadata": {},
   "source": [
    "Listen to `blue_gray_gnatcatcher()` at `speed=1`, then reduce speeds down to .125 to perceive spectral changes more closely:"
   ]
  },
  {
   "cell_type": "code",
   "execution_count": null,
   "id": "a97a3be0-dfaf-4588-9ee3-6ba378295a9f",
   "metadata": {},
   "outputs": [],
   "source": [
    "birds.birdcall(birds.blue_gray_gnatcatcher, speed=1)"
   ]
  },
  {
   "cell_type": "markdown",
   "id": "4a429b02-7519-4501-b979-eb7fc7d755e6",
   "metadata": {},
   "source": [
    "[Visit the Blue Gray Gnatcatcher webpage](https://www.allaboutbirds.org/guide/blue-gray_gnatcatcher) at the Cornell Lab of Ornithology."
   ]
  },
  {
   "cell_type": "markdown",
   "id": "5156fc96-b7e5-438a-90a3-120b6101e74c",
   "metadata": {},
   "source": [
    "View the `blue_gray_gnatcatcher()` instrument code:"
   ]
  },
  {
   "cell_type": "code",
   "execution_count": null,
   "id": "0f6bd17a-b2ea-4b61-b11a-ae58da793096",
   "metadata": {},
   "outputs": [],
   "source": [
    "Code(birds.birdcode('blue_gray_gnatcatcher'), language='python')"
   ]
  },
  {
   "cell_type": "markdown",
   "id": "b12907cb-305d-4b1d-9ee2-5f02cd5691fa",
   "metadata": {},
   "source": [
    "----\n",
    "<a id='black_throated_sparrow'></a>\n",
    "### Black Throated Sparrow"
   ]
  },
  {
   "cell_type": "markdown",
   "id": "3f4f2ef7-ff44-4af3-86b9-26b217bf1352",
   "metadata": {},
   "source": [
    "Listen to `black_throated_sparrow()` at `speed=1`, then reduce speeds down to .125 to perceive spectral changes more closely:"
   ]
  },
  {
   "cell_type": "code",
   "execution_count": null,
   "id": "09e2bd5d-ac1a-400e-a6dd-9bca475db5a0",
   "metadata": {},
   "outputs": [],
   "source": [
    "birds.birdcall(birds.black_throated_sparrow, speed=1)"
   ]
  },
  {
   "cell_type": "markdown",
   "id": "53d1516f-11ac-422a-8d2a-31d494064be3",
   "metadata": {},
   "source": [
    "[Visit the Black Throated Sparrow webpage](https://www.allaboutbirds.org/guide/black-throated_sparrow) at the Cornell Lab of Ornithology."
   ]
  },
  {
   "cell_type": "markdown",
   "id": "d80e1efa-5182-479c-9370-87cf5a17be1a",
   "metadata": {},
   "source": [
    "View the `black_throated_sparrow()` instrument code:"
   ]
  },
  {
   "cell_type": "code",
   "execution_count": null,
   "id": "8c908abc-3d83-46b8-a065-7bf27c266301",
   "metadata": {},
   "outputs": [],
   "source": [
    "Code(birds.birdcode('black_throated_sparrow'), language='python')"
   ]
  },
  {
   "cell_type": "markdown",
   "id": "d668b1b7-9617-4c16-bc40-6c75d96e600a",
   "metadata": {},
   "source": [
    "----\n",
    "<a id='black_chinned_sparrow'></a>\n",
    "### Black Chinned Sparrow"
   ]
  },
  {
   "cell_type": "markdown",
   "id": "886babb1-44dd-46b0-aed4-dff8c9a149c2",
   "metadata": {},
   "source": [
    "Listen to `black_chinned_sparrow()` at `speed=1`, then reduce speeds down to .125 to perceive spectral changes more closely:"
   ]
  },
  {
   "cell_type": "code",
   "execution_count": null,
   "id": "4ae1d896-4b72-4f40-b7a5-d73dc0f1edc2",
   "metadata": {},
   "outputs": [],
   "source": [
    "birds.birdcall(birds.black_chinned_sparrow, speed=1)"
   ]
  },
  {
   "cell_type": "markdown",
   "id": "b4475fde-c923-4032-bd7d-62766ea84887",
   "metadata": {},
   "source": [
    "[Visit the Black Chinned Sparrow webpage](https://www.allaboutbirds.org/guide/black-chinned_sparrow) at the Cornell Lab of Ornithology."
   ]
  },
  {
   "cell_type": "markdown",
   "id": "f3f50e2f-4bbe-4809-b835-319b162708d1",
   "metadata": {},
   "source": [
    "View the `black_chinned_sparrow()` instrument code:"
   ]
  },
  {
   "cell_type": "code",
   "execution_count": null,
   "id": "f9437427-e244-4880-8260-37902fbda646",
   "metadata": {},
   "outputs": [],
   "source": [
    "Code(birds.birdcode('black_chinned_sparrow'), language='python')"
   ]
  },
  {
   "cell_type": "markdown",
   "id": "93dbe674-3667-4f52-a148-de0424ad1e5c",
   "metadata": {},
   "source": [
    "----\n",
    "<a id='various_gull_cries_from_end_of_colony_5'></a>\n",
    "### Various Gull Cries From End Of Colony 5"
   ]
  },
  {
   "cell_type": "markdown",
   "id": "ee36a9ba-96da-4749-aa41-222478ca716a",
   "metadata": {},
   "source": [
    "Listen to `various_gull_cries_from_end_of_colony_5()` at `speed=1`, then reduce speeds down to .125 to perceive spectral changes more closely:"
   ]
  },
  {
   "cell_type": "code",
   "execution_count": null,
   "id": "c18f3908-7361-44d9-a02e-63c8f8cde5a8",
   "metadata": {},
   "outputs": [],
   "source": [
    "birds.birdcall(birds.various_gull_cries_from_end_of_colony_5, speed=1)"
   ]
  },
  {
   "cell_type": "markdown",
   "id": "9aaad2bd-fa58-486d-a2de-338172e31254",
   "metadata": {},
   "source": [
    "These gulls were the ending sounds in Bill Schottstaedt's composition 'Colony 5'."
   ]
  },
  {
   "cell_type": "code",
   "execution_count": null,
   "id": "bc88c8e9-200e-4df3-bc3c-303cb2070664",
   "metadata": {},
   "outputs": [],
   "source": [
    "Code(birds.birdcode('various_gull_cries_from_end_of_colony_5'), language='python')"
   ]
  },
  {
   "cell_type": "markdown",
   "id": "a45cf0df-a2ba-49fd-9522-08ae0128becd",
   "metadata": {},
   "source": [
    "<a id='allbirdcalls'></a>\n",
    "<hr style=\"height:1px; color: grey;\">\n",
    "<hr style=\"height:1px; color: grey;\">\n",
    "\n",
    "## Listen to all the bird calls\n",
    "Execute this cell to generate a 2\" sound file containing all the bird calls:"
   ]
  },
  {
   "cell_type": "code",
   "execution_count": null,
   "id": "b6a90536-073c-49eb-bf66-c4e65bd57e80",
   "metadata": {},
   "outputs": [],
   "source": [
    "birds.allbirdcalls()"
   ]
  },
  {
   "cell_type": "markdown",
   "id": "fdd1fc4e-a540-4911-bb62-c3eed7aeedc6",
   "metadata": {},
   "source": [
    "Look at the 'allbirdcalls.wav' spectrogram:"
   ]
  },
  {
   "cell_type": "code",
   "execution_count": null,
   "id": "87193b69-e2a0-4cfd-9163-e7874da6af3a",
   "metadata": {},
   "outputs": [],
   "source": [
    "import numpy as np\n",
    "import matplotlib.pyplot as plt\n",
    "from pysndlib.clm import file2ndarray\n",
    "from pathlib import Path\n",
    "\n",
    "file = './birdcalls/allbirdcalls.wav'\n",
    "assert Path(file).exists(), f\"Spectrogram requires '{file}'.\"\n",
    "    \n",
    "array,srate = file2ndarray(file)\n",
    "audio = array[0]\n",
    "nsamps = len(audio)\n",
    "nsecs = nsamps / srate\n",
    "\n",
    "print(f\"file: {file}, srate: {srate}, nsamps: {nsamps}, nsecs: {nsecs}\")\n",
    "\n",
    "plt.figure(figsize=(15, 5))\n",
    "plt.specgram(audio, Fs=srate, mode='angle')\n",
    "plt.title('Audio')\n",
    "plt.ylabel('Frequency (Hz)')\n",
    "plt.xlabel('Time (s)')\n",
    "plt.xlim(0, nsecs)\n",
    "plt.colorbar()\n",
    "plt.show()"
   ]
  }
 ],
 "metadata": {
  "kernelspec": {
   "display_name": "Python 3 (ipykernel)",
   "language": "python",
   "name": "python3"
  },
  "language_info": {
   "codemirror_mode": {
    "name": "ipython",
    "version": 3
   },
   "file_extension": ".py",
   "mimetype": "text/x-python",
   "name": "python",
   "nbconvert_exporter": "python",
   "pygments_lexer": "ipython3",
   "version": "3.11.5"
  }
 },
 "nbformat": 4,
 "nbformat_minor": 5
}

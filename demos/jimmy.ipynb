{
 "cells": [
  {
   "cell_type": "markdown",
   "metadata": {},
   "source": [
    "# JIMMY\n",
    "\n",
    "A wild ride on the drum track.\n",
    "\n",
    "<hr style=\"height:1px;color:gray\">\n",
    "\n",
    "Notebook imports:"
   ]
  },
  {
   "cell_type": "code",
   "execution_count": null,
   "metadata": {},
   "outputs": [],
   "source": [
    "from musx import version, playfile, setmidiplayer, Score, Note, Seq, MidiFile \n",
    "from musx.paint import brush\n",
    "print(f'musx version:', version)"
   ]
  },
  {
   "cell_type": "markdown",
   "metadata": {},
   "source": [
    "Generate midi files and automatically play them using [fluidsynth](https://www.fluidsynth.org/download/) and the [MuseScore_General.sf3](https://ftp.osuosl.org/pub/musescore/soundfont/MuseScore_General) sound font. See [INSTALL.md](https://github.com/musx-admin/musx/blob/main/INSTALL.md) for how to install a terminal based midi player to use with musx.  If you dont have a player installed you can access the output files in the same directory as this notebook:"
   ]
  },
  {
   "cell_type": "code",
   "execution_count": null,
   "metadata": {},
   "outputs": [],
   "source": [
    "setmidiplayer(\"fluidsynth -iq -g1 /usr/local/sf/MuseScore_General.sf3\")"
   ]
  },
  {
   "cell_type": "markdown",
   "metadata": {},
   "source": [
    "A burst of key numbers that desend and dissipate:"
   ]
  },
  {
   "cell_type": "code",
   "execution_count": null,
   "metadata": {},
   "outputs": [],
   "source": [
    "pphase = [127, 117, 126, 117.5, 125, 119, 124.5, 119.5,\n",
    "          123, 121, 122.5, 121.5, 121.5, 123, 120, 124, \n",
    "          119.5, 124.5, 118, 126, 117.5, 0.5, 116.5, 1, \n",
    "          115, 2, 114, 3, 113.5, 4, 112, 5.5, 111.5, 6.25, \n",
    "          110, 7.25, 109.25, 8, 108.25, 9, 107, 10.5, \n",
    "          106, 11.5, 105, 12.5, 104.25, 13.25, \n",
    "          103.5, 14, 102.5, 15, 101.25, 16, 100, 15.5, \n",
    "          99.5, 16.5, 98.25, 15, 97.25, 16.5, \n",
    "          96.25, 17.25, 95.25, 18, 94, 19.5, 93, 20.25, \n",
    "          92.5, 21, 91.5, 22, 90, 23, 89.5, 24, 88, 25.25,\n",
    "          87.25, 26, 86, 27, 85.25, 28, 84, 29.5,\n",
    "          83, 30.5, 82.25, 31, 81, 32.25, 80.25, 33, \n",
    "          79.25, 34.25, 78, 35.5, 77.25, 36, 76, 37.25, \n",
    "          75.5, 38, 74.25, 39.25, 73, 40.5, 72.5, 41, \n",
    "          71.25, 42.5, 70, 43.25, 69, 44, 68.5, 45, \n",
    "          67.5, 46, 66.25, 47, 65.5, 48, 64, 49.25, \n",
    "          63, 50, 62.5, 51, 61.25, 52, 60, 53.5, \n",
    "          59.25, 54, 58, 55.25, 57, 56.5, 0,\n",
    "          0, 0, 0, 0, 0, 0, 0, 0, 0, 0, 0, 0, 0, 0, 0]\n",
    "print(f\"pphase: {pphase}\")\n",
    "\n",
    "arf = [0, 3, 7, 0, 3, 7, 0, 3, 7, 0, 3, 7, 0, 3, 7, 0]\n",
    "print(f\"arf: {arf}\")\n"
   ]
  },
  {
   "cell_type": "markdown",
   "metadata": {},
   "source": [
    "This will graph the pphase key numbers if you have installed matplotlib:"
   ]
  },
  {
   "cell_type": "code",
   "execution_count": null,
   "metadata": {},
   "outputs": [],
   "source": [
    "import matplotlib.pyplot as plt\n",
    "plt.plot([i for i in range(len(pphase))], pphase)"
   ]
  },
  {
   "cell_type": "markdown",
   "metadata": {},
   "source": [
    "Define track0 to be a midi meta track that holds tempo, midi instrument assignments, micro tuning, etc.:"
   ]
  },
  {
   "cell_type": "code",
   "execution_count": null,
   "metadata": {},
   "outputs": [],
   "source": [
    "track0 = MidiFile.metatrack(microdivs=4)\n",
    "print(f\"track0: {track0}\")"
   ]
  },
  {
   "cell_type": "markdown",
   "metadata": {},
   "source": [
    "Track1 will hold the composition:"
   ]
  },
  {
   "cell_type": "code",
   "execution_count": null,
   "metadata": {},
   "outputs": [],
   "source": [
    "track1 = Seq()\n",
    "print(f\"track1: {track1}\")"
   ]
  },
  {
   "cell_type": "markdown",
   "metadata": {},
   "source": [
    "Create a score and pass it track1 to receive the output midi event data:"
   ]
  },
  {
   "cell_type": "code",
   "execution_count": null,
   "metadata": {},
   "outputs": [],
   "source": [
    "score = Score(out=track1)\n",
    "print(f\"score: {score}\")"
   ]
  },
  {
   "cell_type": "markdown",
   "metadata": {},
   "source": [
    "Create the composition:"
   ]
  },
  {
   "cell_type": "code",
   "execution_count": null,
   "metadata": {},
   "outputs": [],
   "source": [
    "score.compose([\n",
    "    brush(score, length=1000, pitch=pphase, rhythm=1/16, duration=1, amplitude=0.75, instrument=9, microdivs=4),\n",
    "    brush(score, length=828, pitch=pphase, rhythm=1/32, duration=7, amplitude=0.75, instrument=1, microdivs=4) ,\n",
    "    brush(score, length=1000, pitch=arf, rhythm=1/8, duration=1, amplitude=1, instrument=1, microdivs=4), \n",
    "    brush(score, length=200, pitch=pphase, rhythm=1/2, duration=7, amplitude=0.75, instrument=1, microdivs=4)])\n",
    "print(\"OK!\")"
   ]
  },
  {
   "cell_type": "markdown",
   "metadata": {},
   "source": [
    "Write the tracks to a midi file in the current directory:"
   ]
  },
  {
   "cell_type": "code",
   "execution_count": null,
   "metadata": {},
   "outputs": [],
   "source": [
    "file = MidiFile(\"jimmy.mid\", [track0, track1]).write()\n",
    "print(f\"Wrote '{file.pathname}'\")"
   ]
  },
  {
   "cell_type": "markdown",
   "metadata": {},
   "source": [
    "Play the output midi file if a terminal based midi player is installed:"
   ]
  },
  {
   "cell_type": "code",
   "execution_count": null,
   "metadata": {},
   "outputs": [],
   "source": [
    "playfile(file.pathname)"
   ]
  }
 ],
 "metadata": {
  "kernelspec": {
   "display_name": "musxenv",
   "language": "python",
   "name": "musxenv"
  },
  "language_info": {
   "codemirror_mode": {
    "name": "ipython",
    "version": 3
   },
   "file_extension": ".py",
   "mimetype": "text/x-python",
   "name": "python",
   "nbconvert_exporter": "python",
   "pygments_lexer": "ipython3",
   "version": "3.10.6"
  }
 },
 "nbformat": 4,
 "nbformat_minor": 2
}

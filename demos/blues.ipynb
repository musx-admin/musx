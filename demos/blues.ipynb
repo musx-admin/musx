{
 "cells": [
  {
   "cell_type": "markdown",
   "id": "1d86d3eb",
   "metadata": {},
   "source": [
    "# Blues\n",
    "\n",
    "Generates a bluesy piece using the `spray()` random music generator.  \n",
    "\n",
    "Running this demo requires a jupyter kernel (runtime environment) that contains the musx package.  See [INSTALL.md](https://github.com/musx-admin/musx/blob/main/INSTALL.md) for directions on how to install musx in your environment.\n",
    "<hr style=\"height:1px; color: grey;\">"
   ]
  },
  {
   "cell_type": "markdown",
   "id": "7ab6d928",
   "metadata": {},
   "source": [
    "Python imports:"
   ]
  },
  {
   "cell_type": "code",
   "execution_count": null,
   "id": "f54f02a3",
   "metadata": {},
   "outputs": [],
   "source": [
    "from musx import version, Score, Seq, MidiFile, pick, setmidiplayer, playfile\n",
    "from musx.paint import spray\n",
    "print(f\"musx version: {version}\")"
   ]
  },
  {
   "cell_type": "markdown",
   "id": "c4e33e4e",
   "metadata": {},
   "source": [
    "Generate midi files and automatically play them using [fluidsynth](https://www.fluidsynth.org/download/) and the [MuseScore_General.sf3](https://ftp.osuosl.org/pub/musescore/soundfont/MuseScore_General) sound font. See [INSTALL.md](https://github.com/musx-admin/musx/blob/main/INSTALL.md) for how to install a terminal based midi player to use with musx.  If you dont have a player installed you can access the output files in the same directory as this notebook:"
   ]
  },
  {
   "cell_type": "code",
   "execution_count": null,
   "id": "8d2616ec",
   "metadata": {
    "scrolled": true
   },
   "outputs": [],
   "source": [
    "setmidiplayer(\"fluidsynth -iq -g1 /usr/local/sf/MuseScore_General.sf3\")"
   ]
  },
  {
   "cell_type": "markdown",
   "id": "91d57ff2",
   "metadata": {},
   "source": [
    "Define one octave of a blues-like scale:"
   ]
  },
  {
   "cell_type": "code",
   "execution_count": null,
   "id": "f892f643",
   "metadata": {},
   "outputs": [],
   "source": [
    "blues = [0, 3, 5, 6, 7, 10, 12]\n",
    "print(f\"blues: {blues}\")"
   ]
  },
  {
   "cell_type": "markdown",
   "id": "323cf9e6",
   "metadata": {},
   "source": [
    "Define track0 to be a midi meta track that holds tempo, midi instrument assignments, micro tuning, etc.:"
   ]
  },
  {
   "cell_type": "code",
   "execution_count": null,
   "id": "1e7bcdac",
   "metadata": {},
   "outputs": [],
   "source": [
    "track0 = MidiFile.metatrack()\n",
    "print(f\"track0: {track0}\")"
   ]
  },
  {
   "cell_type": "markdown",
   "id": "9db291fb",
   "metadata": {},
   "source": [
    "Track1 will hold the composition:"
   ]
  },
  {
   "cell_type": "code",
   "execution_count": null,
   "id": "c4fec863",
   "metadata": {},
   "outputs": [],
   "source": [
    "track1 = Seq()\n",
    "print(f\"track1: {track1}\")"
   ]
  },
  {
   "cell_type": "markdown",
   "id": "f350670d",
   "metadata": {},
   "source": [
    "Create a score and pass it track1 to receive the output midi event data:"
   ]
  },
  {
   "cell_type": "code",
   "execution_count": null,
   "id": "fb925169",
   "metadata": {},
   "outputs": [],
   "source": [
    "score = Score(out=track1)\n",
    "print(f\"score: {score}\")"
   ]
  },
  {
   "cell_type": "markdown",
   "id": "52eb0bf7",
   "metadata": {},
   "source": [
    "Define individual sections of the piece by calling the `spray()` composer with different inputs. See the musx documentation for more information."
   ]
  },
  {
   "cell_type": "code",
   "execution_count": null,
   "id": "3a961ed5",
   "metadata": {},
   "outputs": [],
   "source": [
    "s1 = spray(score, duration=.2, rhythm=.2, band=[0, 3, 5], pitch=30, amplitude=0.35, end=36)\n",
    "s2 = spray(score, duration=.2, rhythm=[-.2, -.4, .2, .2], band=[3, 7, 6], pitch=pick(30, 42), amplitude=0.5, end=25)\n",
    "s3 = spray(score, duration=.2, rhythm=[-.2, .2, .2], band=blues, pitch=pick(42, 54), instrument=2, end=20)\n",
    "s4 = spray(score, duration=.2, rhythm=[-.6, .4, .4], band=blues, pitch=66, amplitude=0.4, end=15)\n",
    "s5 = spray(score, duration=.2, rhythm=.2, band=[0, 3, 5], pitch=30, amplitude=0.5, end=10)\n",
    "s6 = spray(score, duration=.2, rhythm=[-.2, -.4, .2, .2], band=[3, 7, 6], pitch=pick(30, 42), amplitude=0.8, end=10)\n",
    "s7 = spray(score, duration=.2, rhythm=[-.2, .2, .2], band=blues, pitch=pick(42, 54), instrument=2, end=10)\n",
    "s8 = spray(score, duration=.2, rhythm=[-.6, .4, .4], band=blues, pitch=66, amplitude=0.6, end=10)\n",
    "s9 = spray(score, duration=.2, rhythm=.2, band=blues, pitch=66, amplitude=0.4, end=6)\n",
    "print('OK!')"
   ]
  },
  {
   "cell_type": "markdown",
   "id": "cb142b13",
   "metadata": {},
   "source": [
    "Compose the score, each sub-list provides a start time for its specific composer."
   ]
  },
  {
   "cell_type": "code",
   "execution_count": null,
   "id": "ce83540a",
   "metadata": {},
   "outputs": [],
   "source": [
    "score.compose([[0, s1], [5, s2], [10, s3], [15, s4], [37, s5], [37, s6], [37, s7], [37,s8], [47,s9]])\n",
    "print('OK!')"
   ]
  },
  {
   "cell_type": "markdown",
   "id": "d5802535",
   "metadata": {},
   "source": [
    "Write the score to a midi file in the current directory:"
   ]
  },
  {
   "cell_type": "code",
   "execution_count": null,
   "id": "20c393e0",
   "metadata": {},
   "outputs": [],
   "source": [
    "file = MidiFile(\"blues.mid\", [track0, track1]).write()\n",
    "print(f\"Wrote '{file.pathname}'\")"
   ]
  },
  {
   "cell_type": "markdown",
   "id": "b684da1c",
   "metadata": {},
   "source": [
    "Play the output midi file if a terminal based midi player is installed:"
   ]
  },
  {
   "cell_type": "code",
   "execution_count": null,
   "id": "b9e43f7d",
   "metadata": {},
   "outputs": [],
   "source": [
    "playfile(file.pathname)"
   ]
  }
 ],
 "metadata": {
  "kernelspec": {
   "display_name": "musxenv",
   "language": "python",
   "name": "python3"
  },
  "language_info": {
   "codemirror_mode": {
    "name": "ipython",
    "version": 3
   },
   "file_extension": ".py",
   "mimetype": "text/x-python",
   "name": "python",
   "nbconvert_exporter": "python",
   "pygments_lexer": "ipython3",
   "version": "3.10.6"
  }
 },
 "nbformat": 4,
 "nbformat_minor": 5
}

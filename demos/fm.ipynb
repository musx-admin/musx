{
 "cells": [
  {
   "cell_type": "markdown",
   "metadata": {},
   "source": [
    "# FM (SPECTRAL COMPOSITION)\n",
    "\n",
    "Freqency Modulation (FM) is an audio algorithm that generates a wide variety of spectra, both harmonic and inharmonic, from just three input parameters: a carrier (center frequency), a carrier/modulator ratio, and an FM index controlling the density, or width, of the spectrum.  This demo is an example of spectral composition, in which a synthesis algorithm is used generate musical materials (chords, melodies) meant to be performed on traditional instruments.\n",
    "\n",
    "<hr style=\"height:1px; color: grey;\">\n",
    "\n",
    "Notebook imports:"
   ]
  },
  {
   "cell_type": "code",
   "execution_count": null,
   "metadata": {},
   "outputs": [],
   "source": [
    "import sys \n",
    "sys.path.append('/Users/taube/Software/musx')\n",
    "from IPython.display import display, HTML\n",
    "display(HTML(\"<style>.container { width:100% !important; }</style>\"))\n",
    "import random\n",
    "from musx import version, Score, Note, Seq, MidiFile, fmspectrum, keynum, hertz, odds, \\\n",
    "between, pick, setmidiplayer, playfile\n",
    "print(f\"musx version: {version}\")"
   ]
  },
  {
   "cell_type": "markdown",
   "metadata": {},
   "source": [
    "This notebook generates MIDI files and automatically plays them using [fluidsynth](https://www.fluidsynth.org/download/) and the [MuseScore_General.sf3](https://ftp.osuosl.org/pub/musescore/soundfont/MuseScore_General) sound font. See [INSTALL.md](https://github.com/musx-admin/musx/blob/main/INSTALL.md) for how to install a terminal-based MIDI player to use with musx.  If you don't have a player installed you can access the output files in the same directory as this notebook:"
   ]
  },
  {
   "cell_type": "code",
   "execution_count": null,
   "metadata": {},
   "outputs": [],
   "source": [
    "setmidiplayer(\"fluidsynth -iq -g1 /usr/local/sf/MuseScore_General.sf3\")\n",
    "print('OK!')"
   ]
  },
  {
   "cell_type": "markdown",
   "metadata": {},
   "source": [
    "The `fm_chords()` composer generates a series of chords (fm spectra) using random fluctuations in C/M ratios and indexes to produce variations in chordal notes:"
   ]
  },
  {
   "cell_type": "code",
   "execution_count": null,
   "metadata": {},
   "outputs": [],
   "source": [
    "def fm_chords(score, reps, cen, cm1, cm2, in1, in2, rhy):\n",
    "    \"\"\"\n",
    "    Parameters\n",
    "    ----------\n",
    "    score : Score\n",
    "        The scheduling queue to run the composer in.\n",
    "    reps : int\n",
    "        The number of chords the generator produces\n",
    "    cen : int | float\n",
    "        The fm carrier frequency \n",
    "    cm1 : int | float\n",
    "        Lower bound c/m ratio.\n",
    "    cm2 : int | float\n",
    "        Upper bound c/m ratio.\n",
    "    in1 : int | float\n",
    "        Lower bound fm index.\n",
    "    in2 : int | float\n",
    "        Upper bound fm index.\n",
    "    rhy : int | float\n",
    "        The rhythm of the chords.\n",
    "    \"\"\"\n",
    "    for _ in reps:\n",
    "        # create the spectrum for the current chord\n",
    "        spec = fmspectrum(hertz(cen), between(cm1, cm2), between(in1, in2)) \n",
    "        # convert spec to floating point keynums and force the pitches\n",
    "        # to lie between minpitch and maxpitch.\n",
    "        for k in spec.keynums(minpitch=48, maxpitch=72):\n",
    "            m = Note(time=score.now, duration=rhy, pitch=k, amplitude=.5)\n",
    "            score.add(m)\n",
    "    # return the rhythmic wait time until this generator runs again\n",
    "    yield rhy\n",
    "\n",
    "print(f\"fm_chords: {fm_chords}\")"
   ]
  },
  {
   "cell_type": "markdown",
   "metadata": {},
   "source": [
    "A list of key numbers that define the 'center frequency' for each fm spectrum."
   ]
  },
  {
   "cell_type": "code",
   "execution_count": null,
   "metadata": {},
   "outputs": [],
   "source": [
    "contour = keynum(\"a4 g f e a4 b c d gs b c5 ef fs g a5 bf g f e a5 b c d \\\n",
    "                  gs3 f e cs c bf5 gs5 as3 cs5 e6 f4 gs5 d6 e f g c5 b a \\\n",
    "                  g bf c5 cs e4 f gs d4 c b a4 e5 f g a5\")\n",
    "print(f\"contour: {contour}\")"
   ]
  },
  {
   "cell_type": "markdown",
   "metadata": {},
   "source": [
    "`fm_impov()` is passed a contour line of carrier frequencies (specified as midi keynums) and generates fm spectra for melodic and harmonic gestures. To see the inputs and outputs of the spectra process remove the comments from the two print statements."
   ]
  },
  {
   "cell_type": "code",
   "execution_count": null,
   "metadata": {},
   "outputs": [],
   "source": [
    "def fm_improv(score, line, beat):\n",
    "    \"\"\"\n",
    "    Parameters\n",
    "    ----------\n",
    "    score : Score\n",
    "        The scheduling queue to run the composer in.\n",
    "    line : list\n",
    "        The contour line of pitches (floating point key numbers) that\n",
    "        define the center note of each chord.\n",
    "    beat : int | float\n",
    "        The time to wait between chords.\n",
    "    \"\"\"\n",
    "    amp = .7\n",
    "    dur = beat\n",
    "    for knum in line:\n",
    "        ismel = odds(.7)\n",
    "        rhy = pick(dur, dur / 2, dur / 4)\n",
    "        f, r, x = hertz(knum), between(1.1, 1.9), pick(1, 2, 3)\n",
    "        #print(\"\\ncarrier=\",f,\"c/m ratio=\",r,\"fm index=\",x)\n",
    "        spec = fmspectrum(f,r,x)\n",
    "        keys = spec.keynums(unique=True, minkey=knum-14, maxkey=knum+14)\n",
    "\n",
    "        if ismel:\n",
    "            random.shuffle(keys)\n",
    "        sub = rhy / len(keys) if ismel else 0\n",
    "        #print(\"melody:\" if ismel else \"chord:\", \"time=\", score.now, \"duration=\", rhy, \"keys=\", keys)\n",
    "        for i, k in enumerate(keys):\n",
    "            m = Note(time=score.now + (i * sub), duration=dur, pitch=k, amplitude=amp)\n",
    "            score.add(m)\n",
    "        yield rhy\n",
    "\n",
    "print(f\"fm_improv: {fm_improv}\")"
   ]
  },
  {
   "cell_type": "markdown",
   "metadata": {},
   "source": [
    "Define track0 to be a midi meta track that holds tempo, midi instrument assignments, micro tuning, etc.:"
   ]
  },
  {
   "cell_type": "code",
   "execution_count": null,
   "metadata": {},
   "outputs": [],
   "source": [
    "track0 = MidiFile.metatrack()\n",
    "print(f\"track0: {track0}\")"
   ]
  },
  {
   "cell_type": "markdown",
   "metadata": {},
   "source": [
    "Track1 will hold the composition:"
   ]
  },
  {
   "cell_type": "code",
   "execution_count": null,
   "metadata": {},
   "outputs": [],
   "source": [
    "track1 = Seq()\n",
    "print(f\"track1: {track1}\")"
   ]
  },
  {
   "cell_type": "markdown",
   "metadata": {},
   "source": [
    "Create a score and pass it track1 to hold the output midi event data:"
   ]
  },
  {
   "cell_type": "code",
   "execution_count": null,
   "metadata": {},
   "outputs": [],
   "source": [
    "score = Score(out=track1)\n",
    "print(f\"score: {score}\")"
   ]
  },
  {
   "cell_type": "markdown",
   "metadata": {},
   "source": [
    "Generate the composition:"
   ]
  },
  {
   "cell_type": "code",
   "execution_count": null,
   "metadata": {},
   "outputs": [],
   "source": [
    "score.compose(fm_improv(score, contour, 1))\n",
    "print(\"OK!\")"
   ]
  },
  {
   "cell_type": "markdown",
   "metadata": {},
   "source": [
    "Write the tracks to a midi file in the current directory:"
   ]
  },
  {
   "cell_type": "code",
   "execution_count": null,
   "metadata": {},
   "outputs": [],
   "source": [
    "file = MidiFile(\"fm.mid\", [track0, track1]).write()\n",
    "print(f\"Wrote '{file.pathname}'\")"
   ]
  },
  {
   "cell_type": "markdown",
   "metadata": {},
   "source": [
    "Play the output midi file if a terminal based midi player is installed:"
   ]
  },
  {
   "cell_type": "code",
   "execution_count": null,
   "metadata": {},
   "outputs": [],
   "source": [
    "playfile(file.pathname)"
   ]
  }
 ],
 "metadata": {
  "kernelspec": {
   "display_name": "musxenv",
   "language": "python",
   "name": "musxenv"
  },
  "language_info": {
   "codemirror_mode": {
    "name": "ipython",
    "version": 3
   },
   "file_extension": ".py",
   "mimetype": "text/x-python",
   "name": "python",
   "nbconvert_exporter": "python",
   "pygments_lexer": "ipython3",
   "version": "3.10.6"
  }
 },
 "nbformat": 4,
 "nbformat_minor": 2
}

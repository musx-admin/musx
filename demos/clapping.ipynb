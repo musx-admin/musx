{
 "cells": [
  {
   "cell_type": "markdown",
   "metadata": {},
   "source": [
    "# CLAPPING MUSIC\n",
    "\n",
    "An algorithmic implementation of Steve Reich's [Clapping Music](https://www.youtube.com/watch?v=u55XIK_4buI).\n",
    "\n",
    "<hr style=\"height:1px; color: grey;\">\n",
    "\n",
    "Notebook imports:"
   ]
  },
  {
   "cell_type": "code",
   "execution_count": null,
   "metadata": {
    "scrolled": true
   },
   "outputs": [],
   "source": [
    "from IPython.display import display, HTML\n",
    "display(HTML(\"<style>.container { width:100% !important; }</style>\"))\n",
    "from musx import Score, Note, MidiEvent, Seq, MidiFile, version, setmidiplayer, playfile, rhythm\n",
    "from musx.midi.gm import HiWoodBlock, LowBongo, HandClap, Cowbell, Maracas\n",
    "setmidiplayer(\"fluidsynth -iq -g1 /Users/taube/Music/SoundFonts/MuseScore_General.sf2\")\n",
    "print(f'version: {version}')"
   ]
  },
  {
   "cell_type": "markdown",
   "metadata": {},
   "source": [
    "This notebook generates MIDI files and automatically plays them using [fluidsynth](https://www.fluidsynth.org/download/) and the [MuseScore_General.sf3](https://ftp.osuosl.org/pub/musescore/soundfont/MuseScore_General) sound font. See [INSTALL.md](https://github.com/musx-admin/musx/blob/main/INSTALL.md) for how to install a terminal-based MIDI player to use with musx.  If you don't have a player installed you can access the output files in the same directory as this notebook:"
   ]
  },
  {
   "cell_type": "code",
   "execution_count": null,
   "metadata": {},
   "outputs": [],
   "source": [
    "setmidiplayer(\"fluidsynth -iq -g1 /usr/local/sf/MuseScore_General.sf3\")\n",
    "print('OK!')"
   ]
  },
  {
   "cell_type": "markdown",
   "metadata": {},
   "source": [
    "Define 'parameters' that set the initial conditions for the part generators. Experiment with the various values to see how it affects the composition."
   ]
  },
  {
   "cell_type": "code",
   "execution_count": null,
   "metadata": {},
   "outputs": [],
   "source": [
    "# Encoding of one measure of the essential pattern; 1 denotes a sounding note and 0 is a rest.\n",
    "pattern = [1, 1, 1, 0, 1, 1, 0, 1, 0, 1, 1, 0]\n",
    "\n",
    "# Number of times the measures are repeated before moving to the next measure. \n",
    "# Reich repeats each measure 12 times but for our testing we start small!\n",
    "repeat = 2\n",
    "\n",
    "# the rate of 'clapping', in seconds. ('e' stands for eight-note, see documentation)\n",
    "rate = rhythm(\"e\", tempo=160)\n",
    "\n",
    "# The midi drum map key numbers to use as 'claps'. (see musx.midi.gm documentation)\n",
    "# Its easier to hear if you pick two distinct drum map sounds...experiment!\n",
    "pitch1 = HiWoodBlock #Cowbell\n",
    "pitch2 = LowBongo #Low Timbale #LowWoodBlock #HandClap #Maracas\n",
    "\n",
    "# Loudness of the claps (0 - 1.0). Higher voice should probably be quieter than the lower.\n",
    "amp1 = .7\n",
    "amp2 = .9 \n",
    "print(f\"pattern: {pattern}\\nrepeat: {repeat}\\nrate: {rate}\\npitch1: {pitch1}\\npitch2: {pitch2}\\namp1: {amp1}\\namp2: {amp2}\")"
   ]
  },
  {
   "cell_type": "markdown",
   "metadata": {},
   "source": [
    "Define a part composer that can generate both parts for the piece.\n",
    "The generator's parameters are:\n",
    "\n",
    "* score - the musx Score object to fill.\n",
    "* pattern - a list of 1's and 0's where 1 indicates an (audible) note and 0 represents a (silent) rest. \n",
    "* repeat - how many times each measure is repeated before moving to the next measure.\n",
    "* rate - rhythmic speed of the notes and rests.\n",
    "* pitch - the midi drum map key number to perform.\n",
    "* amp - the loudness of the performance.\n",
    "* rotate - if True then the pattern is rotated for each new measure, if False the pattern never changes."
   ]
  },
  {
   "cell_type": "code",
   "execution_count": null,
   "metadata": {},
   "outputs": [],
   "source": [
    "def clapper(score, pattern, repeat, rate, pitch, amp, rotate):\n",
    "    assert repeat > 0, \"repeat should be greater than zero\"\n",
    "    performance = []\n",
    "    \n",
    "    # build the part's performance given the pattern and repeat values\n",
    "    for _ in range(len(pattern) + 1) :\n",
    "        performance += pattern * repeat\n",
    "        # if rotatating move the front element to the back.\n",
    "        if rotate:\n",
    "            pattern = pattern[1:] + [pattern[0]]\n",
    "\n",
    "    # add notes with their parameterized charateristics to the score \n",
    "    for p in performance:\n",
    "        if p == 1:  # notes are assigned to the midi drum channel (channel 9 in musx)\n",
    "            n = Note(time=score.now, duration=rate, pitch=pitch, amplitude=amp, instrument=9)\n",
    "            score.add(n)\n",
    "        # no matter what wait rate amount of time before playing the next note.\n",
    "        yield rate\n",
    "\n",
    "print(f\"clapper: {clapper}\")"
   ]
  },
  {
   "cell_type": "markdown",
   "metadata": {},
   "source": [
    "Create a Score object and give it an empty Seq (sequence) object to fill. Compose the score passing it two instances of `clapper()`, each with its specific parameters. Once the score is composed, its output sequence is added to a MidiFile and written to the hard drive. Assuming you have installed a terminal-based midi player the file will be auto-played:"
   ]
  },
  {
   "cell_type": "code",
   "execution_count": null,
   "metadata": {},
   "outputs": [],
   "source": [
    "score = Score(out=Seq())\n",
    "score.compose( [clapper(score, pattern, repeat, rate, pitch1, amp1, False),\n",
    "                clapper(score, pattern, repeat, rate, pitch2, amp2, True)])\n",
    "file = MidiFile(\"clapping.mid\", [score.out]).write()\n",
    "print(f\"Wrote '{file.pathname}'.\")\n",
    "playfile(file.pathname)"
   ]
  }
 ],
 "metadata": {
  "kernelspec": {
   "display_name": "Python 3 (ipykernel)",
   "language": "python",
   "name": "python3"
  },
  "language_info": {
   "codemirror_mode": {
    "name": "ipython",
    "version": 3
   },
   "file_extension": ".py",
   "mimetype": "text/x-python",
   "name": "python",
   "nbconvert_exporter": "python",
   "pygments_lexer": "ipython3",
   "version": "3.10.6"
  }
 },
 "nbformat": 4,
 "nbformat_minor": 1
}

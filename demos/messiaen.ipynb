{
 "cells": [
  {
   "cell_type": "markdown",
   "metadata": {},
   "source": [
    "# Messiaen\n",
    "\n",
    "The isorhythmic piano and cello parts to Liturgie de Cristal, by Olivier Messiaen. Both parts employ a rotational technique used by composers in the middle ages to produce cyclical patterns of rhythms (talea) and pitches (color) that don't line up each time they repeat.\n",
    "\n",
    "Running the demo requires a jupyter kernel (runtime environment) that contains the musx package.  See [INSTALL.md](https://github.com/musx-admin/musx/blob/main/INSTALL.md) for directions on how to install musx in your environment.\n",
    "<hr style=\"height:1px;color:gray\">"
   ]
  },
  {
   "cell_type": "markdown",
   "metadata": {},
   "source": [
    "Python imports:"
   ]
  },
  {
   "cell_type": "code",
   "execution_count": null,
   "metadata": {},
   "outputs": [],
   "source": [
    "from musx import version, setmidiplayer, playfile, Score, Seq, Note, MidiFile, keynum, rhythm\n",
    "from musx.midi.gm import AcousticGrandPiano, Violin\n",
    "from musx.paint import brush\n",
    "print(f'musx version:', version)"
   ]
  },
  {
   "cell_type": "markdown",
   "metadata": {},
   "source": [
    "Generate midi files and automatically play them using [fluidsynth](https://www.fluidsynth.org/download/) and the [MuseScore_General.sf3](https://ftp.osuosl.org/pub/musescore/soundfont/MuseScore_General) sound font. See [INSTALL.md](https://github.com/musx-admin/musx/blob/main/INSTALL.md) for how to install a terminal based midi player to use with musx.  If you dont have a player installed you can access the output files in the same directory as this notebook:"
   ]
  },
  {
   "cell_type": "code",
   "execution_count": null,
   "metadata": {},
   "outputs": [],
   "source": [
    "setmidiplayer(\"fluidsynth -iq -g1 /usr/local/sf/MuseScore_General.sf3\")"
   ]
  },
  {
   "cell_type": "markdown",
   "metadata": {},
   "source": [
    "The color is a repeating cycle of pitches. Each string contains the notes for a specific chord in the cycle:"
   ]
  },
  {
   "cell_type": "code",
   "execution_count": null,
   "metadata": {},
   "outputs": [],
   "source": [
    "piano_color = keynum([\"f3 g bf c4 ef b e5\",  \"f3 g bf c4 e a d5\", \n",
    "                      \"f3 af bf df4 ef a d5\", \"f3 af bf df4 ef g c5\",\n",
    "                      \"f3 g bf d4 fs b c5\", \"f3 g bf d4 e a c5\",\n",
    "                      \"f3 a c4 d g cs5 fs\", \"f3 g c4 d g b e5\", \n",
    "                      \"f3 bf df4 gf e5\", \"f3 b d4 g e5 g\", \"f3 c4 ef af g5\", \n",
    "                      \"f3 cs4 e a g5 b\", \"af3 ef4 gf bf ef5 gf cf6\", \n",
    "                      \"af3 ef4 f bf df5 f5 bf5\", \"gf3 df4 af ef af cf6 ef\", \n",
    "                      \"gf3 df4 bf d5 f bf d6\", \"a3 c4 d fs bf df5 gf bf df6\", \n",
    "                      \"bf3 cs e gs c5 d gs c6\", \"c4 d f a4 cs5 e a\", \n",
    "                      \"cs4 e fs bf d5 f\", \"fs4 g bf d5 fs a\",\n",
    "                      \"fs4 a b ds5 es gs\", \"f4 bf d5 e g\", \n",
    "                      \"e4 af cs5 d\", \"d4 g b cs5 e\", \"cs4 f bf b f5\",\n",
    "                      \"b3 e4 af bf\", \"af3 cs4 f g\", \"gf3 cf4 ef f\"])\n",
    "print(f\"piano_color: {piano_color}\")"
   ]
  },
  {
   "cell_type": "markdown",
   "metadata": {},
   "source": [
    "The talia is a repeating cycle of rhythms:"
   ]
  },
  {
   "cell_type": "code",
   "execution_count": null,
   "metadata": {},
   "outputs": [],
   "source": [
    "piano_talea = rhythm('q q q e e. e e e e e. e. e. s e e. q h', tempo=80)\n",
    "print(f\"piano_talea: {piano_talea}\")"
   ]
  },
  {
   "cell_type": "markdown",
   "metadata": {},
   "source": [
    "The cello uses its own talea and color:"
   ]
  },
  {
   "cell_type": "code",
   "execution_count": null,
   "metadata": {},
   "outputs": [],
   "source": [
    "cello_talea = rhythm('h q. h h e e q. e e e e q. e e h', tempo=80)\n",
    "print(f\"cello_talea: {cello_talea}\")\n",
    "\n",
    "cello_color = keynum('c6 e d f# bf5')\n",
    "print(f\"cello_color: {cello_color}\")\n"
   ]
  },
  {
   "cell_type": "markdown",
   "metadata": {},
   "source": [
    "Define track0 to be a midi meta track that holds tempo, midi instrument assignments, micro tuning, etc.:"
   ]
  },
  {
   "cell_type": "code",
   "execution_count": null,
   "metadata": {},
   "outputs": [],
   "source": [
    "track0 = MidiFile.metatrack(ins={0: AcousticGrandPiano, 1: Violin})\n",
    "print(f\"track0: {track0}\")"
   ]
  },
  {
   "cell_type": "markdown",
   "metadata": {},
   "source": [
    "Track1 will hold the composition:"
   ]
  },
  {
   "cell_type": "code",
   "execution_count": null,
   "metadata": {},
   "outputs": [],
   "source": [
    "track1 = Seq()\n",
    "print(f\"track1: {track1}\")"
   ]
  },
  {
   "cell_type": "markdown",
   "metadata": {},
   "source": [
    "Create a score and pass it track1 to receive the output midi event data:"
   ]
  },
  {
   "cell_type": "code",
   "execution_count": null,
   "metadata": {},
   "outputs": [],
   "source": [
    "score = Score(out=track1)\n",
    "print(f\"score: {score}\")"
   ]
  },
  {
   "cell_type": "markdown",
   "metadata": {},
   "source": [
    "Create the piano and cello composers:"
   ]
  },
  {
   "cell_type": "code",
   "execution_count": null,
   "metadata": {},
   "outputs": [],
   "source": [
    "piano = brush(score, length=len(piano_talea) * 8 + 14, rhythm=piano_talea,\n",
    "              pitch=piano_color, instrument=0)\n",
    "cello = brush(score, length=len(cello_talea) * 6, rhythm=cello_talea,\n",
    "              amplitude=.2, pitch=cello_color, instrument=1)"
   ]
  },
  {
   "cell_type": "markdown",
   "metadata": {},
   "source": [
    "Create the composition:"
   ]
  },
  {
   "cell_type": "code",
   "execution_count": null,
   "metadata": {},
   "outputs": [],
   "source": [
    "score.compose([[0, piano], [5.5, cello]])\n",
    "print(\"OK!\")"
   ]
  },
  {
   "cell_type": "markdown",
   "metadata": {},
   "source": [
    "Write the tracks to a midi file in the current directory:"
   ]
  },
  {
   "cell_type": "code",
   "execution_count": null,
   "metadata": {},
   "outputs": [],
   "source": [
    "file = MidiFile(\"messiaen.mid\", [track0, track1]).write()\n",
    "print(f\"Wrote '{file.pathname}'\")"
   ]
  },
  {
   "cell_type": "markdown",
   "metadata": {},
   "source": [
    "Play the output midi file if a terminal based midi player is installed:"
   ]
  },
  {
   "cell_type": "code",
   "execution_count": null,
   "metadata": {},
   "outputs": [],
   "source": [
    "playfile(file.pathname)"
   ]
  }
 ],
 "metadata": {
  "kernelspec": {
   "display_name": "musxenv",
   "language": "python",
   "name": "musxenv"
  },
  "language_info": {
   "codemirror_mode": {
    "name": "ipython",
    "version": 3
   },
   "file_extension": ".py",
   "mimetype": "text/x-python",
   "name": "python",
   "nbconvert_exporter": "python",
   "pygments_lexer": "ipython3",
   "version": "3.10.6"
  }
 },
 "nbformat": 4,
 "nbformat_minor": 2
}

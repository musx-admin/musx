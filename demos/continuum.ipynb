{
 "cells": [
  {
   "cell_type": "markdown",
   "metadata": {},
   "source": [
    "# A la maniere de 'continuum' (Gyorgi Ligeti)\n",
    "\n",
    "Generates a texture similar to Ligeti's Continuum  using stocastic processes controlled by line envelopes.\n",
    "\n",
    "Running this notebook requires a jupyter kernel that contains the musx package.  See [INSTALL.md](https://github.com/musx-admin/musx/blob/main/INSTALL.md) for directions on how to install musx in your environment.\n",
    "<hr style=\"height:1px; color: grey;\">"
   ]
  },
  {
   "cell_type": "markdown",
   "metadata": {},
   "source": [
    "Python imports:"
   ]
  },
  {
   "cell_type": "code",
   "execution_count": null,
   "metadata": {},
   "outputs": [],
   "source": [
    "from musx import version, Score, Note, Seq, MidiFile, Shuffle, Choose, scale, setmidiplayer, playfile\n",
    "from musx.midi.gm import Harpsichord\n",
    "print(f\"musx version: {version}\")"
   ]
  },
  {
   "cell_type": "markdown",
   "metadata": {},
   "source": [
    "Generate midi files and automatically play them using [fluidsynth](https://www.fluidsynth.org/download/) and the [MuseScore_General.sf3](https://ftp.osuosl.org/pub/musescore/soundfont/MuseScore_General) sound font. See [INSTALL.md](https://github.com/musx-admin/musx/blob/main/INSTALL.md) for how to install a terminal based midi player to use with musx.  If you dont have a player installed you can access the output files in the same directory as this notebook:"
   ]
  },
  {
   "cell_type": "code",
   "execution_count": null,
   "metadata": {},
   "outputs": [],
   "source": [
    "setmidiplayer(\"fluidsynth -iq -g1 /usr/local/sf/MuseScore_General.sf3\")"
   ]
  },
  {
   "cell_type": "markdown",
   "metadata": {},
   "source": [
    "The `register()` generator composes the notes for a section of music:"
   ]
  },
  {
   "cell_type": "code",
   "execution_count": 1,
   "metadata": {},
   "outputs": [
    {
     "name": "stdout",
     "output_type": "stream",
     "text": [
      "register: <function register at 0x1038d2680>\n"
     ]
    }
   ],
   "source": [
    "def register (score, rhy, dur, low, high, amp):\n",
    "    \"\"\"\n",
    "    Creates a chromatic scale between low and high, notes in the scale\n",
    "    are shuffled to procduce a saturated texture.\n",
    "    \"\"\" \n",
    "    pat = Shuffle(scale(low, high-low+1, 1))\n",
    "    while score.elapsed < dur:\n",
    "        keyn = pat.next()\n",
    "        note = Note(time=score.now, duration=rhy, pitch=keyn, amplitude=amp)\n",
    "        score.add(note)\n",
    "        yield rhy\n",
    "\n",
    "print(f\"register: {register}\")"
   ]
  },
  {
   "cell_type": "markdown",
   "metadata": {},
   "source": [
    "The `continuum()` generator calls `register()` to create successive sections of the composition:"
   ]
  },
  {
   "cell_type": "code",
   "execution_count": null,
   "metadata": {},
   "outputs": [],
   "source": [
    "def continuum (score, rhy, minkeys, maxkeys, seclens):\n",
    "    \"\"\"\n",
    "    Calls register() to create the next section's material, then\n",
    "    waits until that section is over before creating another section.\n",
    "\n",
    "    Parameters\n",
    "    ----------\n",
    "    score : Score\n",
    "        The scheduling queue to run the composer in.\n",
    "    rhy : int | float\n",
    "        The amount of time to wait between this note and the next.\n",
    "    minkeys : list\n",
    "        A list of keynums defining the lowest possible note for each call to register().\n",
    "    maxkeys : list\n",
    "        A list of keynums defining the highest possible note for each call to register().\n",
    "    seclens : list\n",
    "        A list of section lengths, in seconds, for the entire composition.\n",
    "\n",
    "    \"\"\"\n",
    "    # random pattern of section lengths.\n",
    "    pat = Choose(seclens)\n",
    "    # iterate all the min and max key numbers \n",
    "    for low, high in zip(minkeys, maxkeys):\n",
    "        # get the section's duration\n",
    "        secdur = pat.next()\n",
    "        # sprout the next section\n",
    "        score.compose(register(score, rhy, secdur, low, high, .4))\n",
    "        # wait till end of section\n",
    "        yield secdur\n",
    "        \n",
    "print(f\"continuum: {continuum}\")"
   ]
  },
  {
   "cell_type": "markdown",
   "metadata": {},
   "source": [
    "Define track0 to be a midi meta track that holds tempo, midi instrument assignments, micro tuning, etc.:"
   ]
  },
  {
   "cell_type": "code",
   "execution_count": null,
   "metadata": {},
   "outputs": [],
   "source": [
    "track0 = MidiFile.metatrack(ins={0: Harpsichord})\n",
    "print(f\"track0: {track0}\")"
   ]
  },
  {
   "cell_type": "markdown",
   "metadata": {},
   "source": [
    "Track1 will hold the composition:"
   ]
  },
  {
   "cell_type": "code",
   "execution_count": null,
   "metadata": {},
   "outputs": [],
   "source": [
    "track1 = Seq()\n",
    "print(f\"track1:\", track1)"
   ]
  },
  {
   "cell_type": "markdown",
   "metadata": {},
   "source": [
    "Create a score and pass it track1 to hold the output midi event data:"
   ]
  },
  {
   "cell_type": "code",
   "execution_count": null,
   "metadata": {},
   "outputs": [],
   "source": [
    "score = Score(out=track1)\n",
    "print(f\"score: {score}\")"
   ]
  },
  {
   "cell_type": "markdown",
   "metadata": {},
   "source": [
    "Lower and upper bounds on keynum choices:"
   ]
  },
  {
   "cell_type": "code",
   "execution_count": null,
   "metadata": {},
   "outputs": [],
   "source": [
    "minkeys = [60, 59, 58, 57, 56, 55, 54, 53, 52, \n",
    "           53, 54, 55, 56, 57, 58, 59, 60, 61, \n",
    "           62, 63, 64, 65, 66, 67, 68, 69, 70,\n",
    "           71, 72, 73, 74, 75, 76, 77, 78, 79, \n",
    "           80, 82, 83, 84, 85, 86, 87, 88, 89, 89]\n",
    "print(f\"minkeys: {minkeys}\")\n",
    "\n",
    "maxkeys = [62, 63, 64, 65, 66, 67, 68, 69, 70, \n",
    "           70, 70, 70, 70, 70, 70, 70, 70, 70, 70, 70, 70, 70, 70, 70, 70,\n",
    "           71, 72, 73, 74, 76, 79, 83, 86, 88, 89,\n",
    "           89, 89, 89, 89, 89, 89, 89, 89, 89, 89, 89]\n",
    "print(f\"maxkeys: {maxkeys}\")"
   ]
  },
  {
   "cell_type": "markdown",
   "metadata": {},
   "source": [
    "Length of sections:"
   ]
  },
  {
   "cell_type": "code",
   "execution_count": null,
   "metadata": {},
   "outputs": [],
   "source": [
    "seclens = [.5, 1, 1.5, 2, 2.5]\n",
    "print(f\"seclens: {seclens}\")"
   ]
  },
  {
   "cell_type": "markdown",
   "metadata": {},
   "source": [
    "Speed of rhythm:"
   ]
  },
  {
   "cell_type": "code",
   "execution_count": null,
   "metadata": {},
   "outputs": [],
   "source": [
    "rate = .075\n",
    "print(f\"rate: {rate}\")"
   ]
  },
  {
   "cell_type": "markdown",
   "metadata": {},
   "source": [
    "Create the composition:"
   ]
  },
  {
   "cell_type": "code",
   "execution_count": null,
   "metadata": {},
   "outputs": [],
   "source": [
    "score.compose(continuum(score, rate, minkeys, maxkeys, seclens))\n",
    "print(\"OK!\")"
   ]
  },
  {
   "cell_type": "markdown",
   "metadata": {},
   "source": [
    "Write the tracks to a midi file in the current directory:"
   ]
  },
  {
   "cell_type": "code",
   "execution_count": null,
   "metadata": {},
   "outputs": [],
   "source": [
    "file = MidiFile(\"continuum.mid\", [track0, track1]).write()\n",
    "print(f\"Wrote '{file.pathname}'\")"
   ]
  },
  {
   "cell_type": "markdown",
   "metadata": {},
   "source": [
    "Play the output midi file if a terminal based midi player is installed:"
   ]
  },
  {
   "cell_type": "code",
   "execution_count": null,
   "metadata": {},
   "outputs": [],
   "source": [
    "playfile(file.pathname)"
   ]
  },
  {
   "cell_type": "markdown",
   "metadata": {},
   "source": [
    "Plot the keynum range of the composition if matplotlib is installed."
   ]
  },
  {
   "cell_type": "code",
   "execution_count": null,
   "metadata": {},
   "outputs": [],
   "source": [
    "try:\n",
    "    import matplotlib.pyplot as plt\n",
    "except:\n",
    "    print(\"Sorry, can't show you the envelopes because matplotlib is not installed /:(\")\n",
    "else:\n",
    "    p1x,p1y = [x for x in range(len(minkeys))], [y for y in minkeys]\n",
    "    plt.plot(p1x, p1y)\n",
    "    p2x,p2y = [x for x in range(len(maxkeys))], [y for y in maxkeys]\n",
    "    plt.plot(p2x, p2y)\n",
    "    plt.show()"
   ]
  }
 ],
 "metadata": {
  "kernelspec": {
   "display_name": "musxenv",
   "language": "python",
   "name": "python3"
  },
  "language_info": {
   "codemirror_mode": {
    "name": "ipython",
    "version": 3
   },
   "file_extension": ".py",
   "mimetype": "text/x-python",
   "name": "python",
   "nbconvert_exporter": "python",
   "pygments_lexer": "ipython3",
   "version": "3.10.6"
  }
 },
 "nbformat": 4,
 "nbformat_minor": 2
}

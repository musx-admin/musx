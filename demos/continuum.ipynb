{
 "cells": [
  {
   "attachments": {},
   "cell_type": "markdown",
   "metadata": {},
   "source": [
    "# A la maniere de 'continuum' (Gyorgi Ligeti)\n",
    "\n",
    "This notebook generates a version of Ligeti's Continuum texture using stocastic processes controlled by line envelopes.\n",
    "\n",
    "<hr style=\"height:1px;color:gray\">"
   ]
  },
  {
   "attachments": {},
   "cell_type": "markdown",
   "metadata": {},
   "source": [
    "Imports from the musx package, see [INSTALL.md](https://github.com/musx-admin/musx/blob/main/INSTALL.md) for more information:"
   ]
  },
  {
   "cell_type": "code",
   "execution_count": null,
   "metadata": {},
   "outputs": [],
   "source": [
    "from musx import Score, Note, Seq, MidiFile, Shuffle, Choose, scale, setmidiplayer, playfile\n",
    "from musx.midi.gm import Harpsichord\n",
    "print('OK!')"
   ]
  },
  {
   "attachments": {},
   "cell_type": "markdown",
   "metadata": {},
   "source": [
    "If you have installed a terminal-based midi player you can autoplay this notebook's generated midi file(s) by deleting the *#* comment sign below and providing your  terminal play command without including any file name. The unmodified example would call [fluidsynth](https://www.fluidsynth.org/download/) and pass it an instance of the [MuseScore_General.sf3](https://ftp.osuosl.org/pub/musescore/soundfont/MuseScore_General) soundfont stored in /usr/local/sf/:"
   ]
  },
  {
   "cell_type": "code",
   "execution_count": null,
   "metadata": {},
   "outputs": [],
   "source": [
    "# setmidiplayer(\"fluidsynth -iq -g1 /usr/local/sf/MuseScore_General.sf3\")"
   ]
  },
  {
   "attachments": {},
   "cell_type": "markdown",
   "metadata": {},
   "source": [
    "The Continuum generator calls the register() generator to create successive sections of the composition:"
   ]
  },
  {
   "cell_type": "code",
   "execution_count": null,
   "metadata": {},
   "outputs": [],
   "source": [
    "def continuum (score, rhy, minkeys, maxkeys, seclens):\n",
    "    \"\"\"\n",
    "    Calls register() to create the next section's material, then\n",
    "    waits until that section is over before creating another section.\n",
    "\n",
    "    Parameters\n",
    "    ----------\n",
    "    score : Score\n",
    "        The scheduling queue to run the composer in.\n",
    "    rhy : int | float\n",
    "        The amount of time to wait between this note and the next.\n",
    "    minkeys : list\n",
    "        A list of keynums defining the lowest possible note for each call to register().\n",
    "    maxkeys : list\n",
    "        A list of keynums defining the highest possible note for each call to register().\n",
    "    seclens : list\n",
    "        A list of section lengths, in seconds, for the entire composition.\n",
    "\n",
    "    \"\"\"\n",
    "    # random pattern of section lengths.\n",
    "    pat = Choose(seclens)\n",
    "    # iterate all the min and max key numbers \n",
    "    for low, high in zip(minkeys, maxkeys):\n",
    "        # get the section's duration\n",
    "        secdur = pat.next()\n",
    "        # sprout the next section\n",
    "        score.compose(register(score, rhy, secdur, low, high, .4))\n",
    "        # wait till end of section\n",
    "        yield secdur\n",
    "        \n",
    "print(f\"continuum: {continuum}\")"
   ]
  },
  {
   "attachments": {},
   "cell_type": "markdown",
   "metadata": {},
   "source": [
    "The register generator composes the notes for a section of music:"
   ]
  },
  {
   "cell_type": "code",
   "execution_count": null,
   "metadata": {},
   "outputs": [],
   "source": [
    "def register (score, rhy, dur, low, high, amp):\n",
    "    \"\"\"\n",
    "    Creates a chromatic scale between low and high, notes in the scale\n",
    "    are shuffled to procduce a saturated texture.\n",
    "    \"\"\" \n",
    "    pat = Shuffle(scale(low, high-low+1, 1))\n",
    "    while score.elapsed < dur:\n",
    "        keyn = pat.next()\n",
    "        note = Note(time=score.now, duration=rhy, pitch=keyn, amplitude=amp)\n",
    "        score.add(note)\n",
    "        yield rhy\n",
    "\n",
    "print(f\"register: {register}\")"
   ]
  },
  {
   "attachments": {},
   "cell_type": "markdown",
   "metadata": {},
   "source": [
    "Define track0 to be a midi meta track that holds tempo, midi instrument assignments, micro tuning, etc.:"
   ]
  },
  {
   "cell_type": "code",
   "execution_count": null,
   "metadata": {},
   "outputs": [],
   "source": [
    "track0 = MidiFile.metatrack(ins={0: Harpsichord})\n",
    "print(f\"track0: {track0}\")"
   ]
  },
  {
   "attachments": {},
   "cell_type": "markdown",
   "metadata": {},
   "source": [
    "Track1 will hold the composition:"
   ]
  },
  {
   "cell_type": "code",
   "execution_count": null,
   "metadata": {},
   "outputs": [],
   "source": [
    "track1 = Seq()\n",
    "print(f\"track1:\", track1)"
   ]
  },
  {
   "attachments": {},
   "cell_type": "markdown",
   "metadata": {},
   "source": [
    "Create a score and pass it track1 to hold the output midi event data:"
   ]
  },
  {
   "cell_type": "code",
   "execution_count": null,
   "metadata": {},
   "outputs": [],
   "source": [
    "score = Score(out=track1)\n",
    "print(f\"score: {score}\")"
   ]
  },
  {
   "attachments": {},
   "cell_type": "markdown",
   "metadata": {},
   "source": [
    "Lower and upper bounds on keynum choices:"
   ]
  },
  {
   "cell_type": "code",
   "execution_count": null,
   "metadata": {},
   "outputs": [],
   "source": [
    "minkeys = [60, 59, 58, 57, 56, 55, 54, 53, 52, \n",
    "           53, 54, 55, 56, 57, 58, 59, 60, 61, \n",
    "           62, 63, 64, 65, 66, 67, 68, 69, 70,\n",
    "           71, 72, 73, 74, 75, 76, 77, 78, 79, \n",
    "           80, 82, 83, 84, 85, 86, 87, 88, 89, 89]\n",
    "print(f\"minkeys: {minkeys}\")\n",
    "\n",
    "maxkeys = [62, 63, 64, 65, 66, 67, 68, 69, 70, \n",
    "           70, 70, 70, 70, 70, 70, 70, 70, 70, 70, 70, 70, 70, 70, 70, 70,\n",
    "           71, 72, 73, 74, 76, 79, 83, 86, 88, 89,\n",
    "           89, 89, 89, 89, 89, 89, 89, 89, 89, 89, 89]\n",
    "print(f\"maxkeys: {maxkeys}\")"
   ]
  },
  {
   "attachments": {},
   "cell_type": "markdown",
   "metadata": {},
   "source": [
    "Length of sections:"
   ]
  },
  {
   "cell_type": "code",
   "execution_count": null,
   "metadata": {},
   "outputs": [],
   "source": [
    "seclens = [.5, 1, 1.5, 2, 2.5]\n",
    "print(f\"seclens: {seclens}\")"
   ]
  },
  {
   "attachments": {},
   "cell_type": "markdown",
   "metadata": {},
   "source": [
    "Speed of rhythm:"
   ]
  },
  {
   "cell_type": "code",
   "execution_count": null,
   "metadata": {},
   "outputs": [],
   "source": [
    "rate = .075\n",
    "print(f\"rate: {rate}\")"
   ]
  },
  {
   "attachments": {},
   "cell_type": "markdown",
   "metadata": {},
   "source": [
    "Create the composition:"
   ]
  },
  {
   "cell_type": "code",
   "execution_count": null,
   "metadata": {},
   "outputs": [],
   "source": [
    "score.compose(continuum(score, rate, minkeys, maxkeys, seclens))\n",
    "print(f\"score: {score}\")"
   ]
  },
  {
   "attachments": {},
   "cell_type": "markdown",
   "metadata": {},
   "source": [
    "Write the tracks to a midi file in the current directory:"
   ]
  },
  {
   "cell_type": "code",
   "execution_count": null,
   "metadata": {},
   "outputs": [],
   "source": [
    "file = MidiFile(\"continuum.mid\", [track0, track1]).write()\n",
    "print(f\"Wrote '{file.pathname}'\")"
   ]
  },
  {
   "attachments": {},
   "cell_type": "markdown",
   "metadata": {},
   "source": [
    "Play the output midi file if you activated setmidiplayer() at the top of the file:"
   ]
  },
  {
   "cell_type": "code",
   "execution_count": null,
   "metadata": {},
   "outputs": [],
   "source": [
    "playfile(file.pathname)"
   ]
  }
 ],
 "metadata": {
  "kernelspec": {
   "display_name": "musxenv",
   "language": "python",
   "name": "python3"
  },
  "language_info": {
   "codemirror_mode": {
    "name": "ipython",
    "version": 3
   },
   "file_extension": ".py",
   "mimetype": "text/x-python",
   "name": "python",
   "nbconvert_exporter": "python",
   "pygments_lexer": "ipython3",
   "version": "3.10.6"
  }
 },
 "nbformat": 4,
 "nbformat_minor": 2
}

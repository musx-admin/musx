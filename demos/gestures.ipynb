{
 "cells": [
  {
   "cell_type": "markdown",
   "metadata": {},
   "source": [
    "# Gestures\n",
    "\n",
    "Demonstrates how small units of code can serve as building blocks for creating larger musical structures. Composer: Todd Ingalls.\n",
    "\n",
    "Running this demo requires a jupyter kernel (runtime environment) that contains the musx package.  See [INSTALL.md](https://github.com/musx-admin/musx/blob/main/INSTALL.md) for directions on how to install musx in your environment.\n",
    "<hr style=\"height:1px;color:gray\">"
   ]
  },
  {
   "cell_type": "markdown",
   "metadata": {},
   "source": [
    "Python imports:"
   ]
  },
  {
   "cell_type": "code",
   "execution_count": null,
   "metadata": {},
   "outputs": [],
   "source": [
    "import random\n",
    "from musx import version, setmidiplayer, playfile, Score, Seq, Note, MidiFile, Shuffle, odds, between, quantize, interp\n",
    "from musx.midi.gm import AcousticGrandPiano, Marimba, OrchestralHarp\n",
    "print(f'musx version:', version)"
   ]
  },
  {
   "cell_type": "markdown",
   "metadata": {},
   "source": [
    "Generate midi files and automatically play them using [fluidsynth](https://www.fluidsynth.org/download/) and the [MuseScore_General.sf3](https://ftp.osuosl.org/pub/musescore/soundfont/MuseScore_General) sound font. See [INSTALL.md](https://github.com/musx-admin/musx/blob/main/INSTALL.md) for how to install a terminal based midi player to use with musx.  If you dont have a player installed you can access the output files in the same directory as this notebook:"
   ]
  },
  {
   "cell_type": "code",
   "execution_count": null,
   "metadata": {},
   "outputs": [],
   "source": [
    "setmidiplayer(\"fluidsynth -iq -g1 /usr/local/sf/MuseScore_General.sf3\")"
   ]
  },
  {
   "cell_type": "markdown",
   "metadata": {},
   "source": [
    "Define the `motive1()` composer:"
   ]
  },
  {
   "cell_type": "code",
   "execution_count": null,
   "metadata": {},
   "outputs": [],
   "source": [
    "def motive1(score, octave, maxtransp, chan):\n",
    "    \"\"\"\n",
    "    Motive1 generates three notes in random order but always sounding a\n",
    "    whole step and minor seventh. The motive can be randomly\n",
    "    transposed within range half-steps.\n",
    "\n",
    "    Parameters\n",
    "    ----------\n",
    "    score : Score\n",
    "        The score.\n",
    "    octave : int\n",
    "        The octave to play the notes in.\n",
    "    maxtransp : int\n",
    "        The maximum transposition in half steps.\n",
    "    chan : int\n",
    "        The midi channel to assign to the notes.\n",
    "    \"\"\"\n",
    "    # the basic pitches to transpose and suffle e.g. [F#4 E4 D5].\n",
    "    pitches = Shuffle([6, 4, 14])\n",
    "    # one of the three pitches will be louder than the others.\n",
    "    amps = Shuffle([.75, .5, .5])\n",
    "    # randomly chosen transpostion within a limited range\n",
    "    offset = random.randrange(maxtransp)\n",
    "    for _ in range(3):\n",
    "        knum = pitches.next() + (octave * 12) + offset\n",
    "        note = Note(time=score.now, duration=.1, pitch=knum, amplitude=amps.next(), instrument=chan)\n",
    "        score.add(note)\n",
    "        yield .2\n",
    "        \n",
    "print(f\"motive1: {motive1}\")"
   ]
  },
  {
   "cell_type": "markdown",
   "metadata": {},
   "source": [
    "Preview `motive1()` several times:"
   ]
  },
  {
   "cell_type": "code",
   "execution_count": null,
   "metadata": {},
   "outputs": [],
   "source": [
    "s = Score(out=Seq())\n",
    "procs = [jazz-high-hat(120, 1) for ]\n",
    "s.compose( [[t, motive1(s, 5, 8, 0)] for t in range(0, 10, 2)] )\n",
    "playfile( MidiFile(\"temp.mid\", s.out).write().pathname )\n",
    "print(\"Previewing motive1()...\")"
   ]
  },
  {
   "cell_type": "markdown",
   "metadata": {},
   "source": [
    "`Motive2()` generates a repeated note with one of the pair always accented:"
   ]
  },
  {
   "cell_type": "code",
   "execution_count": null,
   "metadata": {},
   "outputs": [],
   "source": [
    "def motive2(score, octave, maxtransp, chan):\n",
    "    \"\"\"Motive2 generates a repeated tone with one tone accented.\"\"\"\n",
    "    amps = Shuffle([.75, .5, .5])\n",
    "    rhys = Shuffle([.2, .2, .4])\n",
    "    offset = random.randrange(maxtransp)\n",
    "    for _ in range(3):\n",
    "        knum = 0 + (octave * 12) + offset\n",
    "        note = Note(time=score.now, duration=.1, pitch=knum, amplitude=amps.next(), instrument=chan)\n",
    "        score.add(note)\n",
    "        yield rhys.next()\n",
    "print(f\"motive2: {motive2}\")"
   ]
  },
  {
   "cell_type": "markdown",
   "metadata": {},
   "source": [
    "Preview `motive2()` several times:"
   ]
  },
  {
   "cell_type": "code",
   "execution_count": null,
   "metadata": {},
   "outputs": [],
   "source": [
    "s = Score(out=Seq())\n",
    "s.compose( [[t, motive2(s, 5, 5, 1)] for t in range(0, 10, 2)] )\n",
    "playfile( MidiFile(\"temp.mid\", s.out).write().pathname )\n",
    "print(\"Previewing motive2()...\")"
   ]
  },
  {
   "cell_type": "markdown",
   "metadata": {},
   "source": [
    "`gesture1()` chooses between `motive1()` and `motive2()` with a two second rest in between:"
   ]
  },
  {
   "cell_type": "code",
   "execution_count": null,
   "metadata": {},
   "outputs": [],
   "source": [
    "def gesture1(score, numtimes, o, chan):\n",
    "    for _ in range(numtimes):\n",
    "        if (odds(o)):\n",
    "            score.compose(motive1(score, 5, 1, chan))\n",
    "        else:\n",
    "            score.compose(motive2(score, 6, 1, chan))\n",
    "        yield 2\n",
    "print(f\"gesture1: {gesture1}\")"
   ]
  },
  {
   "cell_type": "markdown",
   "metadata": {},
   "source": [
    "Preview `gesture1()` several times:"
   ]
  },
  {
   "cell_type": "code",
   "execution_count": null,
   "metadata": {},
   "outputs": [],
   "source": [
    "s = Score(out=Seq())\n",
    "s.compose( gesture1(s, 10, .5, 0) )\n",
    "playfile( MidiFile(\"temp.mid\", s.out).write().pathname )\n",
    "print(\"Previewing gesture1()...\")"
   ]
  },
  {
   "cell_type": "markdown",
   "metadata": {},
   "source": [
    "`gesture2()` is the same as `gesture1()` but supports transpositions:"
   ]
  },
  {
   "cell_type": "code",
   "execution_count": null,
   "metadata": {},
   "outputs": [],
   "source": [
    "def gesture2(score, numtimes, o, maxtransp, chan):\n",
    "    for _ in range(numtimes):\n",
    "        if (odds(o)):\n",
    "            score.compose(motive1(score, 5, maxtransp, chan))\n",
    "        else:\n",
    "            score.compose(motive2(score, 6, maxtransp, chan))\n",
    "        yield 2\n",
    "print(f\"gesture2: {gesture2}\")"
   ]
  },
  {
   "cell_type": "markdown",
   "metadata": {},
   "source": [
    "Preview `gesture2()` several times:"
   ]
  },
  {
   "cell_type": "code",
   "execution_count": null,
   "metadata": {},
   "outputs": [],
   "source": [
    "s = Score(out=Seq())\n",
    "s.compose( gesture2(s, 10, .5, 5, 0) )\n",
    "playfile( MidiFile(\"temp.mid\", s.out).write().pathname )\n",
    "print(\"Previewing gesture2()...\")"
   ]
  },
  {
   "cell_type": "markdown",
   "metadata": {},
   "source": [
    "Define a function `qtime()` that quantizes rhythms:"
   ]
  },
  {
   "cell_type": "code",
   "execution_count": null,
   "metadata": {},
   "outputs": [],
   "source": [
    "def qtime(n, total, start, end, quant):\n",
    "    \"\"\"\n",
    "    Over total time move from start to end by quant step size. The\n",
    "    end value is reached half-way through and sticks thereafter.\n",
    "    \"\"\"\n",
    "    return quantize(interp(n / total, 0, start, .5, end), quant)\n",
    "print(f\"qtime: {qtime}\")"
   ]
  },
  {
   "cell_type": "markdown",
   "metadata": {},
   "source": [
    "Test it out:"
   ]
  },
  {
   "cell_type": "code",
   "execution_count": null,
   "metadata": {},
   "outputs": [],
   "source": [
    "for i in range(10):\n",
    "  print(qtime(i, 10, 2, 4, .25))"
   ]
  },
  {
   "cell_type": "markdown",
   "metadata": {},
   "source": [
    "Like `gesture2()` but uses `qtime()` to speed up."
   ]
  },
  {
   "cell_type": "code",
   "execution_count": null,
   "metadata": {},
   "outputs": [],
   "source": [
    "def gesture3(score, numtimes, o, limit, chan, hiwait, lowwait):\n",
    "    for i in range(numtimes):\n",
    "        if (odds(o)):\n",
    "            score.compose(motive1(score, 5, limit, chan))\n",
    "        else:\n",
    "            score.compose(motive2(score, 6, limit, chan))\n",
    "        yield qtime(i, numtimes, 2, .2, .2)\n",
    "print(f\"gesture3: {gesture3}\")"
   ]
  },
  {
   "cell_type": "markdown",
   "metadata": {},
   "source": [
    "Preview `gesture3()`:"
   ]
  },
  {
   "cell_type": "code",
   "execution_count": null,
   "metadata": {},
   "outputs": [],
   "source": [
    "s = Score(out=Seq())\n",
    "s.compose( gesture3(s, 20, .5, 5, 0, 3, .2) )\n",
    "playfile( MidiFile(\"temp.mid\", s.out).write().pathname )\n",
    "print(\"Previewing gesture3()...\")"
   ]
  },
  {
   "cell_type": "markdown",
   "metadata": {},
   "source": [
    "`gesture4()` is similar to `gesture3()` but chooses octaves and gradually prefers motive2 over motive1:"
   ]
  },
  {
   "cell_type": "code",
   "execution_count": null,
   "metadata": {},
   "outputs": [],
   "source": [
    "def gesture4(score, numtimes, lowoctave, highoctave, limit, chan, hiwait, lowwait):\n",
    "    for i in range(numtimes):\n",
    "        if odds(qtime(i, numtimes, 1.0, 0.0, .01)):\n",
    "            score.compose(motive1(score, between(lowoctave, highoctave), limit, chan))\n",
    "        else:\n",
    "            score.compose(motive2(score, between(lowoctave, highoctave), limit, chan))\n",
    "        yield qtime(i, numtimes, hiwait, lowwait, .2)\n",
    "print(f\"gesture4: {gesture4}\")"
   ]
  },
  {
   "cell_type": "markdown",
   "metadata": {},
   "source": [
    "Preview `gesture4()`:"
   ]
  },
  {
   "cell_type": "code",
   "execution_count": null,
   "metadata": {},
   "outputs": [],
   "source": [
    "s = Score(out=Seq())\n",
    "s.compose( gesture4(s, 30, 2, 7, 11, 0, 1.6,.2) )\n",
    "playfile( MidiFile(\"temp.mid\", s.out).write().pathname )\n",
    "print(\"Previewing gesture4()...\")"
   ]
  },
  {
   "cell_type": "markdown",
   "metadata": {},
   "source": [
    "Define track0 to be a midi meta track that holds tempo, midi instrument assignments, micro tuning, etc.:"
   ]
  },
  {
   "cell_type": "code",
   "execution_count": null,
   "metadata": {},
   "outputs": [],
   "source": [
    "track0 = MidiFile.metatrack(ins={0: AcousticGrandPiano, 1: Marimba, 2: OrchestralHarp})\n",
    "print(f\"track0: {track0}\")"
   ]
  },
  {
   "cell_type": "markdown",
   "metadata": {},
   "source": [
    "Track1 will hold the composition:"
   ]
  },
  {
   "cell_type": "code",
   "execution_count": null,
   "metadata": {},
   "outputs": [],
   "source": [
    "track1 = Seq()\n",
    "print(f\"track1: {track1}\")"
   ]
  },
  {
   "cell_type": "markdown",
   "metadata": {},
   "source": [
    "Create a score and pass it track1 to receive the output midi event data:"
   ]
  },
  {
   "cell_type": "code",
   "execution_count": null,
   "metadata": {},
   "outputs": [],
   "source": [
    "score = Score(out=track1)\n",
    "print(f\"score: {score}\")"
   ]
  },
  {
   "cell_type": "markdown",
   "metadata": {},
   "source": [
    "Create a composition using three variations of `gesture4()` to be performed by three different instruments: Piano, Marimba, and Harp: "
   ]
  },
  {
   "cell_type": "code",
   "execution_count": null,
   "metadata": {},
   "outputs": [],
   "source": [
    "score = Score(out=track1)\n",
    "\n",
    "trio = [gesture4(score, 60, 2, 7, 11, 0, 1.0, .2),  # piano\n",
    "        gesture4(score, 40, 5, 7, 11, 1, 1.6, .2),  # Marimba\n",
    "        gesture4(score, 34, 3, 6, 11, 2, 2.0, .2)]  # Harp\n",
    "score.compose( trio )\n",
    "print(\"OK!\")"
   ]
  },
  {
   "cell_type": "markdown",
   "metadata": {},
   "source": [
    "Write the tracks to a midi file in the current directory:"
   ]
  },
  {
   "cell_type": "code",
   "execution_count": null,
   "metadata": {},
   "outputs": [],
   "source": [
    "file =  MidiFile(\"gestures.mid\", [track0, track1]).write()\n",
    "print(f\"Wrote '{file.pathname}'\")"
   ]
  },
  {
   "cell_type": "markdown",
   "metadata": {},
   "source": [
    "Play the output midi file if a terminal based midi player is installed:"
   ]
  },
  {
   "cell_type": "code",
   "execution_count": null,
   "metadata": {},
   "outputs": [],
   "source": [
    "playfile(file.pathname)"
   ]
  }
 ],
 "metadata": {
  "kernelspec": {
   "display_name": "musxenv",
   "language": "python",
   "name": "musxenv"
  },
  "language_info": {
   "codemirror_mode": {
    "name": "ipython",
    "version": 3
   },
   "file_extension": ".py",
   "mimetype": "text/x-python",
   "name": "python",
   "nbconvert_exporter": "python",
   "pygments_lexer": "ipython3",
   "version": "3.10.6"
  }
 },
 "nbformat": 4,
 "nbformat_minor": 2
}

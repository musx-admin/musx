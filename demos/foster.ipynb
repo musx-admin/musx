{
 "cells": [
  {
   "cell_type": "markdown",
   "metadata": {},
   "source": [
    "# FOSTER\n",
    "\n",
    "Uses a second order Markov pattern to compose music that mimics the style of Stephen Foster (1826–1864), a well known American folk composer. The data for the pattern is adapted from tables published in Chapter 8 of \"Computer Music\" by Dodge/Jerse. Sounds best with slow strings.\n",
    "\n",
    "<hr style=\"height:1px;color:gray\">\n",
    "\n",
    "Notebook imports:"
   ]
  },
  {
   "cell_type": "code",
   "execution_count": null,
   "metadata": {},
   "outputs": [],
   "source": [
    "from IPython.display import display, HTML\n",
    "display(HTML(\"<style>.container { width:100% !important; }</style>\"))\n",
    "from musx import version, setmidiplayer, playfile, Score, Seq, Note, MidiFile, Markov, Choose, keynum, intempo\n",
    "from musx.midi.gm import StringEnsemble1\n",
    "print(f'musx version:', version)"
   ]
  },
  {
   "cell_type": "markdown",
   "metadata": {},
   "source": [
    "This notebook generates MIDI files and automatically plays them using [fluidsynth](https://www.fluidsynth.org/download/) and the [MuseScore_General.sf3](https://ftp.osuosl.org/pub/musescore/soundfont/MuseScore_General) sound font. See [INSTALL.md](https://github.com/musx-admin/musx/blob/main/INSTALL.md) for how to install a terminal-based MIDI player to use with musx.  If you don't have a player installed you can access the output files in the same directory as this notebook:"
   ]
  },
  {
   "cell_type": "code",
   "execution_count": null,
   "metadata": {},
   "outputs": [],
   "source": [
    "setmidiplayer(\"fluidsynth -iq -g1 /usr/local/sf/MuseScore_General.sf3\")\n",
    "print('OK!')"
   ]
  },
  {
   "cell_type": "markdown",
   "metadata": {},
   "source": [
    "`foster_style()` returns a second order Markov pattern that reflects the style of Stephen Foster as described in Dodge/Jerse:"
   ]
  },
  {
   "cell_type": "code",
   "execution_count": null,
   "metadata": {},
   "outputs": [],
   "source": [
    "def foster_style():\n",
    "    return Markov({\n",
    "        ('B3', 'D4'): ['D4'],\n",
    "        ('C#4','D4'): [['D4', .3125], ['E4', .3125], ['A4', .3125]],\n",
    "        ('D4', 'D4'): [['C#4', .125], ['D4', .125], ['E4', .5625], ['F#4', .125], ['A4', .0625]],\n",
    "        ('E4', 'D4'): [['B3', .0625], ['D4', .0625], ['E4', .25], ['F#4', .3125], ['A4', .0625], ['C#5', .0625], ['D5', .1875]],\n",
    "        ('F#4','D4'): [['E4', .75], ['F#4', .1875], ['G4', .0625]],\n",
    "        ('A4', 'D4'): [['E4', .6875], ['F#4', .3125]],\n",
    "        ('B4', 'D4'): ['D4'],\n",
    "        ('D4', 'B3'): ['D4'],\n",
    "        ('D4', 'C#4'): ['D4'],\n",
    "        ('E4', 'C#4'): ['D4'],\n",
    "        ('D4', 'E4'): [['D4', .1875], ['E4', .25], ['F#4', .5], ['A4', .0625]],\n",
    "        ('E4', 'E4'): [['C#4', .0625], ['D4', .75], ['E4', .0625], ['F#4', .125]],\n",
    "        ('F#4','E4'): [['C#4', .125], ['D4', .4375], ['E4', .1875], ['F#4', .125], ['A4', .0625], ['D5', .0625]],\n",
    "        ('D4', 'F#4'): [['E4', .4375], ['F#4', .1875], ['G4', .125], ['A4', .25]],\n",
    "        ('E4', 'F#4'): [['D4', .0625], ['E4', .1875], ['F#4', .3125], ['G4', .25], ['A4', .0625], ['B4', .0625]], \n",
    "        ('F#4','F#4'): [['D4', .1875], ['E4', .25], ['F#4', .3125], ['G4', .125], ['A4', .0625]],\n",
    "        ('G4', 'F#4'): [['E4', .5], ['G4', .5]],\n",
    "        ('A4', 'F#4'): [['D4', .3125], ['E4', .25], ['F#4', .1875], ['G4', .0625], ['A4', .125], ['B4', .0625]],\n",
    "        ('B4', 'F#4'): [['E4', .6875], ['F#4', .3125]],\n",
    "        ('D4', 'G4'): [['F#4', .6875], ['B4', .3125]],\n",
    "        ('F#4','G4'): [['F#4', .25], ['G4', .1875], ['A4', .3125], ['B4', .1875]],\n",
    "        ('G4', 'G4'): [['G4', .5], ['A4', .5]],\n",
    "        ('A4', 'G4'): ['F#4'],\n",
    "        ('B4', 'G4'): ['B4'],\n",
    "        ('A4', 'G#4'): ['A4'],\n",
    "        ('D4', 'A4'): [['F#4', .25], ['A4', .75]],\n",
    "        ('E4', 'A4'): [['A4', .8125], ['B4', .1875]],\n",
    "        ('F#4','A4'): [['F#4', .125], ['A4', .625], ['B4', .1875], ['D5', .0625]],\n",
    "        ('G4', 'A4'): [['D4', .125], ['A4', .625], ['D5', .25]],\n",
    "        ('G#4','A4'): ['A4'],\n",
    "        ('A4', 'A4'): [['F#4', .25], ['G4', .0625], ['G#4', .0625], ['A4', .3125], ['B4', .3125]], \n",
    "        ('B4', 'A4'): [['D4', .0625], ['F#4', .5625], ['G4', .0625], ['A4', .125], ['B4', .0625], ['D5', .125]],\n",
    "        ('D5', 'A4'): [['F#4', .875], ['A4', .125]],\n",
    "        ('E5', 'A4'): ['A4'],\n",
    "        ('F#4','B4'): ['A4'],\n",
    "        ('G4', 'B4'): ['A4'],\n",
    "        ('A4', 'B4'): [['D4', .0625], ['F#4', .0625], ['A4', .75], ['B4', .0625], ['B4', .0625]],\n",
    "        ('B4', 'B4'): [['F#4', .125], ['A4', .75], ['D5', .125]],\n",
    "        ('C#5','B4'): ['A4'],\n",
    "        ('D5', 'B4'): [['G4', .0625], ['A4', .3125], ['B4', .3125], ['D5', .25]],\n",
    "        ('D4', 'C#5'): ['D5'],\n",
    "        ('D5', 'C#5'): [['B4', .75], ['D5', .25]], \n",
    "        ('E5', 'C#5'): ['D5'],\n",
    "        ('D4', 'D5'): [['A4', .125], ['B4', .6875], ['C#5', .1875]],\n",
    "        ('E4', 'D5'): ['C#5'],\n",
    "        ('A4', 'D5'): [['A4', .3125], ['B4', .3125], ['C#5', .1875], ['D5', .125]],\n",
    "        ('B4', 'D5'): [['A4', .5625], ['B4', .125], ['C#5', .3125]],\n",
    "        ('C#5','D5'): [['B4', .3125], ['E5', .625]],\n",
    "        ('D5', 'D5'): ['B4'],\n",
    "        ('D5', 'E5'): [['A4', .3125], ['C#5', .6875]]\n",
    "        })\n",
    "\n",
    "print(f\"foster_style: {foster_style}\")"
   ]
  },
  {
   "cell_type": "markdown",
   "metadata": {},
   "source": [
    "`foster_compose()` creates a single foster-like melody.  Rhythmic patterns were also adapted from the tables in Dodge/Jerse."
   ]
  },
  {
   "cell_type": "code",
   "execution_count": null,
   "metadata": {},
   "outputs": [],
   "source": [
    "def foster_compose(score, num, shift=0, chan=0):\n",
    "    # A second-order markov process generates the melody.\n",
    "    melody = foster_style()\n",
    "    # randomly choose rhythmic patterns characterisitic of Foster's style.\n",
    "    # first list holds the rythmic motives to choose from, second list\n",
    "    # holds the motive probabilities\n",
    "    rhythms = Choose([[2, 2], [1, 1, 1, 1], [2, 1, 1], [1, 1, 2], [1, 2, 1], [4]],\n",
    "                        [.375, .125, .125, .125 ,.25, .125])\n",
    "    for _ in range(num):\n",
    "        n=0\n",
    "        for r in rhythms.next():\n",
    "            k = keynum(melody.next()) + (shift*12)\n",
    "            r = intempo(r, 200)\n",
    "            m = Note(time=score.now+n, duration=r, pitch=k, amplitude=.5, instrument=chan)\n",
    "            score.add(m)\n",
    "            n += r\n",
    "        yield n\n",
    "        \n",
    "print(f\"foster_compose: {foster_compose}\")"
   ]
  },
  {
   "cell_type": "markdown",
   "metadata": {},
   "source": [
    "Define track0 to be a midi meta track that holds tempo, midi instrument assignments, micro tuning, etc.:"
   ]
  },
  {
   "cell_type": "code",
   "execution_count": null,
   "metadata": {},
   "outputs": [],
   "source": [
    "track0 = MidiFile.metatrack(ins={0: StringEnsemble1})\n",
    "print(f\"track0: {track0}\")"
   ]
  },
  {
   "cell_type": "markdown",
   "metadata": {},
   "source": [
    "Track1 will hold the composition:"
   ]
  },
  {
   "cell_type": "code",
   "execution_count": null,
   "metadata": {},
   "outputs": [],
   "source": [
    "track1 = Seq()\n",
    "print(f\"track1: {track1}\")"
   ]
  },
  {
   "cell_type": "markdown",
   "metadata": {},
   "source": [
    "Create a score and pass it track1 to receive the output midi event data:"
   ]
  },
  {
   "cell_type": "code",
   "execution_count": null,
   "metadata": {},
   "outputs": [],
   "source": [
    "score = Score(out=track1)\n",
    "print(f\"score: {score}\")"
   ]
  },
  {
   "cell_type": "markdown",
   "metadata": {},
   "source": [
    "Allocate four `foster_composer()` generators to create a 4 voice texture. The voices variable holds octave transposition offsets for each composer to shift the notes in its markov table to its unique octave:"
   ]
  },
  {
   "cell_type": "code",
   "execution_count": null,
   "metadata": {
    "scrolled": true
   },
   "outputs": [],
   "source": [
    "voices = [-1, 0, 1, 2]\n",
    "print(f\"voices: {voices}\")\n",
    "composers = [foster_compose(score, 25, t) for t in voices]\n",
    "print(f\"composers: {composers}\")"
   ]
  },
  {
   "cell_type": "markdown",
   "metadata": {},
   "source": [
    "Create the composition:"
   ]
  },
  {
   "cell_type": "code",
   "execution_count": null,
   "metadata": {},
   "outputs": [],
   "source": [
    "score.compose( composers )\n",
    "print(\"OK!\")"
   ]
  },
  {
   "cell_type": "markdown",
   "metadata": {},
   "source": [
    "Write the tracks to a midi file in the current directory and play it if possible:"
   ]
  },
  {
   "cell_type": "code",
   "execution_count": null,
   "metadata": {},
   "outputs": [],
   "source": [
    "file = MidiFile(\"foster.mid\", [track0, track1]).write()\n",
    "print(f\"Wrote '{file.pathname}'.\")\n",
    "playfile(file.pathname)"
   ]
  }
 ],
 "metadata": {
  "kernelspec": {
   "display_name": "musxenv",
   "language": "python",
   "name": "musxenv"
  },
  "language_info": {
   "codemirror_mode": {
    "name": "ipython",
    "version": 3
   },
   "file_extension": ".py",
   "mimetype": "text/x-python",
   "name": "python",
   "nbconvert_exporter": "python",
   "pygments_lexer": "ipython3",
   "version": "3.10.6"
  }
 },
 "nbformat": 4,
 "nbformat_minor": 2
}

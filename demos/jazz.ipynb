{
 "cells": [
  {
   "cell_type": "markdown",
   "metadata": {},
   "source": [
    "# JAZZ\n",
    "\n",
    "Implementation of an automatic jazz improvisor that generates music for a jazz trio of piano, acoustic bass and percussion.  The code is derived from a program written by Erik Flister as a project for his undergraduate computer music class at CCRMA, Stanford University. \n",
    "\n",
    "Running this notebook requires a jupyter kernel that contains the musx package.  See [INSTALL.md](https://github.com/musx-admin/musx/blob/main/INSTALL.md) for directions on how to install musx in your environment.\n",
    "\n",
    "<hr style=\"height:1px;color:gray\">\n",
    "\n",
    "Notebook imports:"
   ]
  },
  {
   "cell_type": "code",
   "execution_count": null,
   "metadata": {},
   "outputs": [],
   "source": [
    "import sys \n",
    "sys.path.append('/Users/taube/Software/musx')\n",
    "from IPython.display import display, HTML\n",
    "display(HTML(\"<style>.container { width:100% !important; }</style>\"))\n",
    "import types\n",
    "from musx import version, setmidiplayer, playfile, Score, Seq, Note, MidiFile, \\\n",
    "                 keynum, Cycle, Choose, Shuffle, intempo, odds, pick, between\n",
    "from musx.midi.gm import AcousticGrandPiano, AcousticBass\n",
    "print(f'musx version:', version)"
   ]
  },
  {
   "cell_type": "markdown",
   "metadata": {},
   "source": [
    "This notebook generates MIDI files and automatically plays them using [fluidsynth](https://www.fluidsynth.org/download/) and the [MuseScore_General.sf3](https://ftp.osuosl.org/pub/musescore/soundfont/MuseScore_General) sound font. See [INSTALL.md](https://github.com/musx-admin/musx/blob/main/INSTALL.md) for how to install a terminal-based MIDI player to use with musx.  If you don't have a player installed you can access the output files in the same directory as this notebook:"
   ]
  },
  {
   "cell_type": "code",
   "execution_count": null,
   "metadata": {},
   "outputs": [],
   "source": [
    "setmidiplayer(\"fluidsynth -iq -g1 /usr/local/sf/MuseScore_General.sf3\")\n",
    "print('OK!')"
   ]
  },
  {
   "cell_type": "markdown",
   "metadata": {},
   "source": [
    "The scale used by the improvisor (Dorian mode with a decorated octave):"
   ]
  },
  {
   "cell_type": "code",
   "execution_count": null,
   "metadata": {},
   "outputs": [],
   "source": [
    "jazz_scale = [0, 2, 3, 5, 7, 9, 10, 12, 14]\n",
    "print(f\"jazz_scale: {jazz_scale}\")"
   ]
  },
  {
   "cell_type": "markdown",
   "metadata": {},
   "source": [
    "The chord changes for the piano and bass parts:"
   ]
  },
  {
   "cell_type": "code",
   "execution_count": null,
   "metadata": {},
   "outputs": [],
   "source": [
    "jazz_changes = keynum('bf3 ef4 bf3 bf ef4 ef bf3 bf f4 ef bf3 bf')\n",
    "print(f\"jazz_changes: {jazz_changes}\")"
   ]
  },
  {
   "cell_type": "markdown",
   "metadata": {},
   "source": [
    "The tempo of the composition:"
   ]
  },
  {
   "cell_type": "code",
   "execution_count": null,
   "metadata": {},
   "outputs": [],
   "source": [
    "jazz_tempo = 120\n",
    "print(f\"jazz_tempo: {jazz_tempo}\")"
   ]
  },
  {
   "cell_type": "markdown",
   "metadata": {},
   "source": [
    "## The percussion parts\n",
    "\n",
    "The percussion parts for the Jazz Combo consist of two ride cymbals, a high hat, snare and bass drums. We will introduce these parts in their order of complexity, from simplest to most difficult.\n",
    "\n",
    "##### Jazz High Hat: #####"
   ]
  },
  {
   "cell_type": "code",
   "execution_count": null,
   "metadata": {},
   "outputs": [],
   "source": [
    "def jazz_high_hat(score, tmpo, ampl):\n",
    "    \"\"\"\n",
    "    Plays the High Hat on the second and fourth quarter of every measure and\n",
    "    rests on the first and third beats. Each sound lasts for the duration one\n",
    "    triplet eighth note i.e. 1/3 of a beat.\n",
    "    \"\"\"\n",
    "    rhy = intempo(1, tmpo)\n",
    "    dur = intempo(1/3, tmpo)\n",
    "    amp = .5\n",
    "    pat = Cycle(['r', 42, 'r', 42]) # 'r' is rest\n",
    "    for _ in range(4):\n",
    "        x = pat.next()\n",
    "        if x != 'r':\n",
    "            m = Note(time=score.now, duration=dur, pitch=x, amplitude=amp * ampl, instrument=9)\n",
    "            score.add(m)\n",
    "        yield rhy\n",
    "print(f\"jazz_high_hat: {jazz_high_hat}\")"
   ]
  },
  {
   "cell_type": "markdown",
   "metadata": {},
   "source": [
    "Preview eight measures of the `jazz_high_hat()`. Since the process generates only one measure, we collect eight \"versions\" of the process and offset each by two seconds, exactly the duration of the combo's 4/4 measure at tempo 120:"
   ]
  },
  {
   "cell_type": "code",
   "execution_count": null,
   "metadata": {},
   "outputs": [],
   "source": [
    "s = Score(out=Seq())\n",
    "s.compose( [[t, jazz_high_hat(s, 120, 1)] for t in range(0, 15, 2)] )\n",
    "playfile( MidiFile(\"temp.mid\", s.out).write().pathname )\n",
    "print(\"Previewing jazz_high_hat()...\")"
   ]
  },
  {
   "cell_type": "markdown",
   "metadata": {},
   "source": [
    "#### Jazz Drum: ####"
   ]
  },
  {
   "cell_type": "code",
   "execution_count": null,
   "metadata": {},
   "outputs": [],
   "source": [
    "def jazz_drums(score, tmpo, ampl):\n",
    "    \"\"\"\n",
    "    Randomly selects between playing the snare, the bass drum or resting one\n",
    "    quarter of the time. One tenth of the time it produces a very loud tone.\n",
    "    \"\"\"\n",
    "    elec_snare = 40\n",
    "    bass_drum = 35\n",
    "    knums = Choose(['r', elec_snare, bass_drum], [.25, 1, 1])\n",
    "    rhys = Cycle([2/3, 1/3])\n",
    "    amps = Choose([.7, .95], [1, .1])\n",
    "    for _ in range(8):\n",
    "        k = knums.next()\n",
    "        a = amps.next()\n",
    "        r = intempo(rhys.next(), tmpo)\n",
    "        if k != 'r':\n",
    "            m = Note(time=score.now, duration=r, pitch=k, amplitude=a * ampl, instrument=9)\n",
    "            score.add(m)\n",
    "        yield r\n",
    "print(f\"jazz_drums: {jazz_drums}\")"
   ]
  },
  {
   "cell_type": "markdown",
   "metadata": {},
   "source": [
    "Preview eight measures of the drum and hi hat together:"
   ]
  },
  {
   "cell_type": "code",
   "execution_count": null,
   "metadata": {
    "scrolled": true
   },
   "outputs": [],
   "source": [
    "s = Score(out=Seq())\n",
    "m =  [ [ [t, jazz_high_hat(s, 120, .99)], [t, jazz_drums(s, 120, .50)]] for t in range(0, 15, 2) ] \n",
    "c = []\n",
    "for x in m: c.extend(x)\n",
    "s.compose(c)\n",
    "playfile( MidiFile(\"temp.mid\", s.out).write().pathname )\n",
    "print(\"Previewing drum and high hat...\")"
   ]
  },
  {
   "cell_type": "markdown",
   "metadata": {},
   "source": [
    "#### Jazz Cymbals: ####"
   ]
  },
  {
   "cell_type": "code",
   "execution_count": null,
   "metadata": {},
   "outputs": [],
   "source": [
    "def jazz_cymbals(score, tmpo, ampl):\n",
    "    \"\"\"\n",
    "    The cymbals process performs a constant stream of triplet eighths in\n",
    "    which the ride1 cymbal is played on the beginning of every quarter\n",
    "    note. The second and third triplets of each beat are either rests or\n",
    "    a random choice between ride1, ride2 or a rest.  This is the beat\n",
    "    map for a measure of the process, where '1' means the ride cymbal 1 is\n",
    "    played, '-' means a rest, and 'x' means a random choice between ride1,\n",
    "    ride2 or a rest:\n",
    "\n",
    "    ```text\n",
    "    Triplet 8th: 1  2  3    4  5  6    7  8  9   10 11 12\n",
    "    Cymbals:     1  -  x    1  -  1    1  x  x    1  x  1 \n",
    "    ```\n",
    "    \"\"\"\n",
    "    ride1 = 51\n",
    "    ride2 = 59\n",
    "    rhy = intempo(1/3, tmpo)\n",
    "    amps = Cycle([.6, .5, .9, .7, .5, 1, .6, .5, .9, .7, .5, 1])\n",
    "\n",
    "    def subpat(wt):\n",
    "        r1 = Choose([ride1, 'r'], [1, wt])\n",
    "        r2 = Choose([ride2, 'r'], [1, wt])\n",
    "        return Choose([r1, r2], [1.5, 1])\n",
    "\n",
    "    # the events that happen on each triplet of the measure\n",
    "    meas = {0: ride1,  1: 'r',        2: subpat(5),\n",
    "            3: ride1,  4: 'r',        5: ride1,\n",
    "            6: ride1,  7: subpat(7),  8: subpat(7),\n",
    "            9: ride1, 10: subpat(3), 11: ride1}\n",
    "    for b in meas:\n",
    "        k = meas[b]\n",
    "        if k != 'r':\n",
    "            if type(k) is not int: # k is a subpattern\n",
    "                k = k.next() #next(next(k))\n",
    "            if k != 'r':\n",
    "                a = amps.next()\n",
    "                m = Note(time=score.now, duration=rhy, pitch=k, amplitude=a*ampl, instrument=9)\n",
    "                score.add(m)\n",
    "        yield rhy\n",
    "print(f\"jazz_cymbals: {jazz_cymbals}\")"
   ]
  },
  {
   "cell_type": "markdown",
   "metadata": {},
   "source": [
    "Preview all three percussion parts together:"
   ]
  },
  {
   "cell_type": "code",
   "execution_count": null,
   "metadata": {},
   "outputs": [],
   "source": [
    "s = Score(out=Seq())\n",
    "m =  [ [ [t, jazz_high_hat(s, 120, .99)], [t, jazz_drums(s, 120, .50)], [t, jazz_cymbals(s, 120, .50)]] \n",
    "      for t in range(0, 15, 2) ] \n",
    "c = []\n",
    "for x in m: c.extend(x)\n",
    "s.compose(c)\n",
    "playfile( MidiFile(\"temp.mid\", s.out).write().pathname )\n",
    "print(\"Previewing drum, high hat, and cymbals...\")"
   ]
  },
  {
   "cell_type": "markdown",
   "metadata": {},
   "source": [
    "#### Jazz Piano: ####"
   ]
  },
  {
   "cell_type": "code",
   "execution_count": null,
   "metadata": {},
   "outputs": [],
   "source": [
    "def jazz_piano(score, on, tmpo, ampl):\n",
    "    \"\"\"\n",
    "    The jazz piano improvises jazz chords based on a pattern of root\n",
    "    changes and a scale pattern that is transposed to each root. The\n",
    "    piano randomly choose between playing triplet eighths or straight\n",
    "    eights for a given measure.\n",
    "    \"\"\"\n",
    "    reps = odds(.65, 8, 12)\n",
    "    scal = Shuffle(jazz_scale)\n",
    "    rhys = Cycle([2/3, 1/3] if reps == 8 else [1/3])\n",
    "    for _ in range(reps):\n",
    "        r = intempo(rhys.next(), tmpo)\n",
    "        #  two fifths of the time the piano will rest otherwise it plays a chord.\n",
    "        l = [] if odds(2/5) else [scal.next() for _ in range(between(1,9))]\n",
    "        for k in l:\n",
    "            a = pick(.4, .5, .6, .7, .8)\n",
    "            m = Note(time=score.now, duration=r, pitch=on+k, amplitude=a, instrument=0)\n",
    "            score.add(m)\n",
    "        yield r\n",
    "print(f\"jazz_piano: {jazz_piano}\")"
   ]
  },
  {
   "cell_type": "markdown",
   "metadata": {},
   "source": [
    "Preview the piano:"
   ]
  },
  {
   "cell_type": "code",
   "execution_count": null,
   "metadata": {},
   "outputs": [],
   "source": [
    "s = Score(out=Seq())\n",
    "s.compose( [[t, jazz_piano(s, keynum(\"bf3\"), 120, 1)] for t in range(0, 15, 2)] )\n",
    "playfile( MidiFile(\"temp.mid\", s.out).write().pathname )\n",
    "print(\"Previewing jazz_piano()...\")"
   ]
  },
  {
   "cell_type": "markdown",
   "metadata": {},
   "source": [
    "#### Jazz Bass: ####"
   ]
  },
  {
   "cell_type": "code",
   "execution_count": null,
   "metadata": {},
   "outputs": [],
   "source": [
    "def jazz_bass(score, on, tmpo, ampl):\n",
    "    \"\"\"\n",
    "    The bass part plays a melodic line built out of tones from the jazz-scale's\n",
    "    tonic seventh chord alternating with color tones outside the tonic chord.\n",
    "    The bass plays a series of 12 triplets per measure, on each triplet only one of\n",
    "    the two sets is possible. On all but the first triplet a rest is also possible.\n",
    "    \"\"\"\n",
    "    # 5 possible patterns for triplets 1-4\n",
    "    a = Choose(['trrc', 'trrr', 'trtc', 'tctc', 'tctr'], [1.0, .25, .22, .065, .014])\n",
    "    # 5 possible patterns for 5-7\n",
    "    b = Choose(['rrt', 'rrr', 'rct', 'tct', 'tcr'], [1.0, .25, .22, .038, .007])\n",
    "    # 5 possible patterns for 8-10\n",
    "    c = Choose(['rrc', 'rtc', 'rrr', 'ctc', 'ctr'], [1.0, .415, .25, .11, .018])\n",
    "    # two possible values for 11\n",
    "    d = Choose(['r', 't'], [1, .25])\n",
    "    # two possible values for 12\n",
    "    e = Choose(['r', 'c'], [1, .25])\n",
    "    # the measure map\n",
    "    meas = a.next() + b.next() + c.next() + d.next() + e.next()\n",
    "\n",
    "    rhy = intempo(1/3, tmpo)\n",
    "    tonics = Choose([jazz_scale[i] for i in [0, 2, 4, 6, 7]])\n",
    "    colors = Choose([jazz_scale[i] for i in [1, 3, 5, 6, 8]])\n",
    "    amps = Cycle([.5, .4, 1.0, .9, .4, .9, .5, .4, 1.0, .9, .5, .9])\n",
    "    durs = Cycle([2/3, 1/3, 1/3])\n",
    "\n",
    "    for x in meas:\n",
    "        k = -1\n",
    "        if x == 't':\n",
    "            k = tonics.next()\n",
    "        elif x == 'c':\n",
    "            k = colors.next()\n",
    "        if k > -1:\n",
    "            a = amps.next()\n",
    "            d = durs.next()\n",
    "            m = Note(time=score.now, duration=d, pitch=on+k, amplitude=ampl*a, instrument=1)\n",
    "            score.add(m)\n",
    "        yield rhy\n",
    "print(f\"jazz_bass: {jazz_bass}\")"
   ]
  },
  {
   "cell_type": "markdown",
   "metadata": {},
   "source": [
    "Preview the Jazz Bass:"
   ]
  },
  {
   "cell_type": "code",
   "execution_count": null,
   "metadata": {},
   "outputs": [],
   "source": [
    "s = Score(out=Seq())\n",
    "b =  MidiFile.metatrack(ins={1: AcousticBass})\n",
    "s.compose( [[t, jazz_bass(s, keynum(\"bf1\"), 120, 1)] for t in range(0, 15, 2)] )\n",
    "playfile( MidiFile(\"temp.mid\", [b, s.out]).write().pathname )\n",
    "print(\"Previewing jazz_base()...\")"
   ]
  },
  {
   "cell_type": "markdown",
   "metadata": {},
   "source": [
    "Define the jazz combo conductor process:"
   ]
  },
  {
   "cell_type": "code",
   "execution_count": null,
   "metadata": {},
   "outputs": [],
   "source": [
    "def jazz_combo(score, measures, tempo):\n",
    "    \"\"\"\n",
    "    The conductor process adds parts for each measure to the score, so that changes\n",
    "    to the overall texture, amplitude etc, could be added as the pieces progresses.\n",
    "    \"\"\" \n",
    "    roots = Cycle(jazz_changes)\n",
    "    ampl = .9\n",
    "    for meas in range(measures):\n",
    "        root = roots.next()\n",
    "        if  0 == meas % 12:\n",
    "           ampl = between(.5, 1)\n",
    "        score.compose(jazz_piano(score, root, tempo, ampl))\n",
    "        score.compose(jazz_cymbals(score, tempo, ampl))\n",
    "        score.compose(jazz_high_hat(score, tempo, ampl))\n",
    "        score.compose(jazz_drums(score, tempo, ampl))\n",
    "        # shift the bass down one or two octaves\n",
    "        score.compose(jazz_bass(score, odds(.5, root-12, root-24), tempo, ampl))\n",
    "        yield intempo(4, tempo)\n",
    "print(f\"jazz_combo: {jazz_bass}\")"
   ]
  },
  {
   "cell_type": "markdown",
   "metadata": {},
   "source": [
    "Define track0 to be a midi meta track that holds tempo, midi instrument assignments, micro tuning, etc.:"
   ]
  },
  {
   "cell_type": "code",
   "execution_count": null,
   "metadata": {},
   "outputs": [],
   "source": [
    "track0 = MidiFile.metatrack(ins={0: AcousticGrandPiano, 1: AcousticBass})\n",
    "print(f\"track0: {track0}\")"
   ]
  },
  {
   "cell_type": "markdown",
   "metadata": {},
   "source": [
    "Track1 will hold the composition:"
   ]
  },
  {
   "cell_type": "code",
   "execution_count": null,
   "metadata": {},
   "outputs": [],
   "source": [
    "track1 = Seq()\n",
    "print(f\"track1: {track1}\")"
   ]
  },
  {
   "cell_type": "markdown",
   "metadata": {},
   "source": [
    "Create a score and pass it track1 to receive the output midi event data:"
   ]
  },
  {
   "cell_type": "code",
   "execution_count": null,
   "metadata": {},
   "outputs": [],
   "source": [
    "score = Score(out=track1)\n",
    "print(f\"score: {score}\")"
   ]
  },
  {
   "cell_type": "markdown",
   "metadata": {},
   "source": [
    "Create the composition:"
   ]
  },
  {
   "cell_type": "code",
   "execution_count": null,
   "metadata": {},
   "outputs": [],
   "source": [
    "score.compose(jazz_combo(score, 48, 120))\n",
    "print(\"OK!\")"
   ]
  },
  {
   "cell_type": "markdown",
   "metadata": {},
   "source": [
    "Write the tracks to a midi file in the current directory:"
   ]
  },
  {
   "cell_type": "code",
   "execution_count": null,
   "metadata": {},
   "outputs": [],
   "source": [
    "file = MidiFile(\"jazz.mid\", [track0, track1]).write()\n",
    "print(f\"Wrote '{file.pathname}'\")"
   ]
  },
  {
   "cell_type": "markdown",
   "metadata": {},
   "source": [
    "Play the output midi file if a terminal based midi player is installed:"
   ]
  },
  {
   "cell_type": "code",
   "execution_count": null,
   "metadata": {},
   "outputs": [],
   "source": [
    "playfile(file.pathname)"
   ]
  }
 ],
 "metadata": {
  "kernelspec": {
   "display_name": "musxenv",
   "language": "python",
   "name": "musxenv"
  },
  "language_info": {
   "codemirror_mode": {
    "name": "ipython",
    "version": 3
   },
   "file_extension": ".py",
   "mimetype": "text/x-python",
   "name": "python",
   "nbconvert_exporter": "python",
   "pygments_lexer": "ipython3",
   "version": "3.10.6"
  }
 },
 "nbformat": 4,
 "nbformat_minor": 2
}

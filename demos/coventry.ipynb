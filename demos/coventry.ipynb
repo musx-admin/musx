{
 "cells": [
  {
   "cell_type": "markdown",
   "metadata": {},
   "source": [
    "# Coventry\n",
    "\n",
    "Uses the Rotation pattern to generate the Plain Hunt Minimus change-ringing pattern for 10 bells from the old Cathedral Church of St. Michael in Coventry, England. See: https://www.hibberts.co.uk/coventry-cathedral-old-ten/ for more information.\n",
    "\n",
    "Running this demo requires a jupyter kernel (runtime environment) that contains the musx package.  See [INSTALL.md](https://github.com/musx-admin/musx/blob/main/INSTALL.md) for directions on how to install musx in your environment.\n",
    "<hr style=\"height:1px; color: grey;\">"
   ]
  },
  {
   "cell_type": "markdown",
   "metadata": {},
   "source": [
    "Python imports:"
   ]
  },
  {
   "cell_type": "code",
   "execution_count": null,
   "metadata": {},
   "outputs": [],
   "source": [
    "from musx import version, Note, Rotation, Seq, MidiFile, Score, keynum, setmidiplayer, playfile\n",
    "from musx.midi.gm import Celesta, Glockenspiel, MusicBox, Vibraphone,\\\n",
    "        Marimba, Xylophone, TubularBells\n",
    "print(f\"musx version: {version}\")"
   ]
  },
  {
   "cell_type": "markdown",
   "metadata": {},
   "source": [
    "Generate midi files and automatically play them using [fluidsynth](https://www.fluidsynth.org/download/) and the [MuseScore_General.sf3](https://ftp.osuosl.org/pub/musescore/soundfont/MuseScore_General) sound font. See [INSTALL.md](https://github.com/musx-admin/musx/blob/main/INSTALL.md) for how to install a terminal based midi player to use with musx.  If you dont have a player installed you can access the output files in the same directory as this notebook:"
   ]
  },
  {
   "cell_type": "code",
   "execution_count": null,
   "metadata": {},
   "outputs": [],
   "source": [
    "setmidiplayer(\"fluidsynth -iq -g1 /usr/local/sf/MuseScore_General.sf3\")"
   ]
  },
  {
   "cell_type": "markdown",
   "metadata": {},
   "source": [
    "The old Coventry Cathedral (no longer standing) had 10 bells, represented below as the letters 'a' to 'j' with 'a' being the highest bell.  Rows are bell harmonics, with the 'prime' harmonic being the main tone in each bell. Bell pitches are in Hertz."
   ]
  },
  {
   "cell_type": "code",
   "execution_count": null,
   "metadata": {},
   "outputs": [],
   "source": [
    "coventry_data = {\n",
    "#         hum    prime  tierce quint  nominal superq  octnom\n",
    "    'a': [377,   620.5, 825.5, 1162,  1376,   2032.5, 2753.5],\n",
    "    'b': [345.5, 577,   750.5, 1064,  1244,   1831,   2483],\n",
    "    'c': [296,   499,   665,   874,   1114,   1647,   2241],\n",
    "    'd': [285.5, 483,   626,   855.5, 1044,   1546.5, 2119],\n",
    "    'e': [261,   432,   564,   760.5, 928,    1366,   1858],\n",
    "    'f': [234.5, 410,   514,   672,   842,    1239,   1697],\n",
    "    'g': [201,   360,   444,   598,   740,    1103,   1517],\n",
    "    'h': [186,   365,   427,   552.5, 695.5,  1025.5, 1404.5],\n",
    "    'i': [175,   304,   376,   514.5, 616,    908,    1243],\n",
    "    'j': [159,   283.5, 343,   453.5, 558,    823,    1126]\n",
    "}\n",
    "print(f\"coventry_data: {coventry_data}\")"
   ]
  },
  {
   "cell_type": "markdown",
   "metadata": {},
   "source": [
    "Convert bell values from Hertz into equivalent floating point key numbers, where 60.5 is 50 cents above middle C:"
   ]
  },
  {
   "cell_type": "code",
   "execution_count": null,
   "metadata": {},
   "outputs": [],
   "source": [
    "coventry_fkeys = {b: [keynum(h, filt=None) for h in l]\n",
    "                       for b,l in coventry_data.items()}\n",
    "print(f\"coventry_fkeys: {coventry_fkeys}\")"
   ]
  },
  {
   "cell_type": "markdown",
   "metadata": {},
   "source": [
    "Names for the 10 bells, a thru j:"
   ]
  },
  {
   "cell_type": "code",
   "execution_count": null,
   "metadata": {},
   "outputs": [],
   "source": [
    "bells = ['a','b','c','d','e','f','g','h','i','j']\n",
    "print(f\"bells: {bells}\")"
   ]
  },
  {
   "cell_type": "markdown",
   "metadata": {},
   "source": [
    "Two 'swapping rules' (start, stop, width) that produce the pattern:"
   ]
  },
  {
   "cell_type": "code",
   "execution_count": null,
   "metadata": {},
   "outputs": [],
   "source": [
    "rules = [[0, 2, 1], [1, 2, 1]]\n",
    "print(f\"rules: {rules}\")"
   ]
  },
  {
   "cell_type": "markdown",
   "metadata": {},
   "source": [
    "Generate the notes of the complete rotation pattern. The wrapped value causes the end of the pattern to match the start of the pattern. See documentation on Rotation for more information:"
   ]
  },
  {
   "cell_type": "code",
   "execution_count": null,
   "metadata": {},
   "outputs": [],
   "source": [
    "pattern = Rotation(bells, rules).all(wrapped=True)\n",
    "print(f\"length of bell pattern: {len(pattern)}\")"
   ]
  },
  {
   "cell_type": "markdown",
   "metadata": {},
   "source": [
    "The playbells composer:"
   ]
  },
  {
   "cell_type": "code",
   "execution_count": 1,
   "metadata": {},
   "outputs": [
    {
     "name": "stdout",
     "output_type": "stream",
     "text": [
      "playbells: <function playbells at 0x1078d4820>\n"
     ]
    }
   ],
   "source": [
    "def playbells(score, peal, belldata, rhy, dur, amp):\n",
    "    \"\"\"\n",
    "    Plays the bell pattern and enmphasizes the first and last bell.\n",
    "\n",
    "    Parameters\n",
    "    ----------\n",
    "    score : Score\n",
    "        The scheduling queue to run the composer in.\n",
    "    peal : list\n",
    "        The bell pattern to play Each bell is represented\n",
    "        by the letters 'a' to 'j' in the list.\n",
    "    belldata : dictionary\n",
    "        Spectral data for each bell.\n",
    "    rhy : int | float\n",
    "        The rhythm to use.\n",
    "    dur : int | float\n",
    "        The duration for the bells.\n",
    "    amp : int | float\n",
    "        The amplitude for the bells.   \n",
    "    \"\"\"\n",
    "    # each bell is represented by its prime bell harmonic.\n",
    "    primes = {k: belldata[k][1] for k in belldata.keys()}\n",
    "    # play the peal (the ordered list of bells to play)\n",
    "    for b in peal:\n",
    "        # emphasize top and bottom bell by playing all its harmonics.\n",
    "        if b in ['a','j']: \n",
    "            # keynums are quantized to 25 cents\n",
    "            for k in [x for x in belldata[b]]:\n",
    "                m = Note(time=score.now, duration=dur*4, pitch=k, amplitude=amp)            \n",
    "                score.add(m)\n",
    "        else: # else play single 'prime' note \n",
    "            k = primes[b]\n",
    "            m = Note(time=score.now, duration=dur, pitch=k, amplitude=amp)\n",
    "            score.add(m)\n",
    "        yield rhy\n",
    "print(f\"playbells: {playbells}\")"
   ]
  },
  {
   "cell_type": "markdown",
   "metadata": {},
   "source": [
    "Define track0 to be a midi meta track that holds tempo, midi instrument assignments, micro tuning, etc.:"
   ]
  },
  {
   "cell_type": "code",
   "execution_count": null,
   "metadata": {},
   "outputs": [],
   "source": [
    "track0 = MidiFile.metatrack(ins={0: TubularBells, 1: TubularBells, \n",
    "                               2: TubularBells, 3: TubularBells})\n",
    "print(f\"track0: {track0}\")"
   ]
  },
  {
   "cell_type": "markdown",
   "metadata": {},
   "source": [
    "Track1 will hold the composition:"
   ]
  },
  {
   "cell_type": "code",
   "execution_count": null,
   "metadata": {},
   "outputs": [],
   "source": [
    "track1 = Seq()\n",
    "print(f\"track1: {track1}\")"
   ]
  },
  {
   "cell_type": "markdown",
   "metadata": {},
   "source": [
    "Create a score and pass it track1 to hold the output midi event data:"
   ]
  },
  {
   "cell_type": "code",
   "execution_count": null,
   "metadata": {},
   "outputs": [],
   "source": [
    "score = Score(out=track1)\n",
    "print(f\"score: {score}\")"
   ]
  },
  {
   "cell_type": "markdown",
   "metadata": {},
   "source": [
    "Generate the composition:"
   ]
  },
  {
   "cell_type": "code",
   "execution_count": null,
   "metadata": {},
   "outputs": [],
   "source": [
    "score.compose(playbells(score, pattern, coventry_fkeys, .25, .6, .8))\n",
    "print(\"OK!\")"
   ]
  },
  {
   "cell_type": "markdown",
   "metadata": {},
   "source": [
    "Write the tracks to a midi file in the current directory:"
   ]
  },
  {
   "cell_type": "code",
   "execution_count": null,
   "metadata": {},
   "outputs": [],
   "source": [
    "file = MidiFile(\"coventry.mid\", [track0, track1]).write()\n",
    "print(f\"Wrote '{file.pathname}'\")"
   ]
  },
  {
   "cell_type": "markdown",
   "metadata": {},
   "source": [
    "Play the output midi file if a terminal based midi player is installed:"
   ]
  },
  {
   "cell_type": "code",
   "execution_count": null,
   "metadata": {},
   "outputs": [],
   "source": [
    "playfile(file.pathname)"
   ]
  }
 ],
 "metadata": {
  "kernelspec": {
   "display_name": "musxenv",
   "language": "python",
   "name": "python3"
  },
  "language_info": {
   "codemirror_mode": {
    "name": "ipython",
    "version": 3
   },
   "file_extension": ".py",
   "mimetype": "text/x-python",
   "name": "python",
   "nbconvert_exporter": "python",
   "pygments_lexer": "ipython3",
   "version": "3.10.6"
  }
 },
 "nbformat": 4,
 "nbformat_minor": 2
}

{
 "cells": [
  {
   "cell_type": "markdown",
   "metadata": {},
   "source": [
    "# GHOSTS\n",
    "\n",
    "Creates a melody with a time-stretched accompanyment of high tones, low thumps, and strums that spread out over longer and longer timepoints in the future.\n",
    "\n",
    "<hr style=\"height:1px;color:gray\">\n",
    "\n",
    "Notebook imports:"
   ]
  },
  {
   "cell_type": "code",
   "execution_count": null,
   "metadata": {},
   "outputs": [],
   "source": [
    "from IPython.display import display, HTML\n",
    "display(HTML(\"<style>.container { width:100% !important; }</style>\"))\n",
    "from musx import version, setmidiplayer, playfile, Score, Seq, Note, MidiFile, between, pick, steps\n",
    "from musx.midi.gm import Flute, Clarinet, Cello, OrchestralHarp\n",
    "print(f'musx version:', version)"
   ]
  },
  {
   "cell_type": "markdown",
   "metadata": {},
   "source": [
    "This notebook generates MIDI files and automatically plays them using [fluidsynth](https://www.fluidsynth.org/download/) and the [MuseScore_General.sf3](https://ftp.osuosl.org/pub/musescore/soundfont/MuseScore_General) sound font. See [INSTALL.md](https://github.com/musx-admin/musx/blob/main/INSTALL.md) for how to install a terminal-based MIDI player to use with musx.  If you don't have a player installed you can access the output files in the same directory as this notebook:"
   ]
  },
  {
   "cell_type": "code",
   "execution_count": null,
   "metadata": {},
   "outputs": [],
   "source": [
    "setmidiplayer(\"fluidsynth -iq -g1 /usr/local/sf/MuseScore_General.sf3\")\n",
    "print('OK!')"
   ]
  },
  {
   "cell_type": "markdown",
   "metadata": {},
   "source": [
    "The flute generator creates a high, temporally stretched version of the main melody played by the clarinet:"
   ]
  },
  {
   "cell_type": "code",
   "execution_count": null,
   "metadata": {},
   "outputs": [],
   "source": [
    "def flute(score, knum, dur):\n",
    "    \"\"\"\n",
    "    Creates the flute part on channel 0.\n",
    "    \n",
    "    Parameters\n",
    "    ----------\n",
    "    score : Score\n",
    "        The musical score to add events to.\n",
    "    knum : int\n",
    "        The midi keynumber of the clarinet.\n",
    "    dur : int | float\n",
    "        The duration of the note.\n",
    "    \"\"\"\n",
    "    score.add(Note(time=score.now, duration=dur, pitch=knum+24, amplitude=.2, instrument=0))\n",
    "    # yielding -1 stops this generator from running again score's processing queue\n",
    "    yield -1\n",
    "\n",
    "print(f\"flute: {flute}\")"
   ]
  },
  {
   "cell_type": "markdown",
   "metadata": {},
   "source": [
    "The cello plays a low, percussive \"thump\" to accompany low melodic tones in the clarinet:"
   ]
  },
  {
   "cell_type": "code",
   "execution_count": null,
   "metadata": {},
   "outputs": [],
   "source": [
    "def cello(score, knum):\n",
    "    \"\"\"\n",
    "    Creates the cello part on channel 2.\n",
    "    \n",
    "    Parameters\n",
    "    ----------\n",
    "    score : Score\n",
    "        The musical score to add events to.\n",
    "    knum : int\n",
    "        The midi key number of the clarinet.\n",
    "    \"\"\"\n",
    "    score.add(Note(time=score.now, duration=.05, pitch=knum-18, amplitude=.9, instrument=2))\n",
    "    score.add(Note(time=score.now, duration=.05, pitch=knum-23, amplitude=.9, instrument=2))\n",
    "    # yielding -1 stops this generator from running again score's processing queue\n",
    "    yield -1\n",
    "\n",
    "print(f\"cello: {cello}\")"
   ]
  },
  {
   "cell_type": "markdown",
   "metadata": {},
   "source": [
    "Adds a distant strum that accompanies the high stretched melody in the flute but at even larger time scales:"
   ]
  },
  {
   "cell_type": "code",
   "execution_count": null,
   "metadata": {},
   "outputs": [],
   "source": [
    "def harp(score, knum, rate):\n",
    "    \"\"\"\n",
    "    Creates an arpeggiating harp part on channel 3.\n",
    "    \n",
    "    Parameters\n",
    "    ----------\n",
    "    score : Score\n",
    "        The musical score to add events to.\n",
    "    knum : int\n",
    "        The midi keynumber of the clarinet.\n",
    "    rate : int | float\n",
    "        The rhythm of the arpeggio.\n",
    "    \"\"\"\n",
    "    for k in steps(39 + (knum % 13),  13, 5):\n",
    "        m = Note(time=score.now, duration=10, pitch=k, amplitude=.5, instrument=3)\n",
    "        score.add(m)\n",
    "        yield rate\n",
    "\n",
    "print(f\"harp: {harp}\")"
   ]
  },
  {
   "cell_type": "markdown",
   "metadata": {},
   "source": [
    "The ghosts process. Generates 12 notes and adds accompanying figures in the cello and flute depending qualities of the main melody:"
   ]
  },
  {
   "cell_type": "code",
   "execution_count": null,
   "metadata": {},
   "outputs": [],
   "source": [
    "def ghosts(score):\n",
    "    \"\"\"\n",
    "    Creates mid-range clarinet line and decorates it with\n",
    "    calls to the other instrument composers.\n",
    "    \n",
    "    Parameters\n",
    "    ----------\n",
    "    score : Score\n",
    "        The musical score to add events to.\n",
    "    \"\"\"\n",
    "    for _ in range(12):\n",
    "        here = score.elapsed\n",
    "        ahead = (here + 1/2) * 2\n",
    "        melody = between(53, 77)\n",
    "        high = (melody >=  65)\n",
    "        amp = .2 if high else .4\n",
    "        rhy = pick(1/4, 1/2, 3/4)\n",
    "        # the clarinet line\n",
    "        note = Note(time=score.now, duration=rhy + .2, pitch=melody, amplitude=amp, instrument=1)\n",
    "        score.add(note)\n",
    "        # add decorations to the clarinet melody\n",
    "        if high:\n",
    "            score.compose([ahead, flute(score, melody, ahead)])\n",
    "            score.compose([ahead * 2, harp(score, melody, rhy / 4)])\n",
    "        elif (rhy == 3/4):\n",
    "            score.compose([1/2, cello(score, melody)])\n",
    "        yield rhy\n",
    "\n",
    "print(f\"ghosts: {ghosts}\")"
   ]
  },
  {
   "cell_type": "markdown",
   "metadata": {},
   "source": [
    "Define track0 to be a midi meta track that holds tempo, midi instrument assignments, micro tuning, etc.:"
   ]
  },
  {
   "cell_type": "code",
   "execution_count": null,
   "metadata": {},
   "outputs": [],
   "source": [
    "track0 = MidiFile.metatrack(ins={0: Flute, 1: Clarinet, 2: Cello, 3: OrchestralHarp})\n",
    "print(f\"track0: {track0}\")"
   ]
  },
  {
   "cell_type": "markdown",
   "metadata": {},
   "source": [
    "Track1 will hold the composition:"
   ]
  },
  {
   "cell_type": "code",
   "execution_count": null,
   "metadata": {},
   "outputs": [],
   "source": [
    "track1 = Seq()\n",
    "print(f\"track1: {track1}\")"
   ]
  },
  {
   "cell_type": "markdown",
   "metadata": {},
   "source": [
    "Create a score and pass it track1 to receive the output midi event data:"
   ]
  },
  {
   "cell_type": "code",
   "execution_count": null,
   "metadata": {},
   "outputs": [],
   "source": [
    "score = Score(out=track1)\n",
    "print(f\"score: {score}\")"
   ]
  },
  {
   "cell_type": "markdown",
   "metadata": {},
   "source": [
    "Create the composition:"
   ]
  },
  {
   "cell_type": "code",
   "execution_count": null,
   "metadata": {},
   "outputs": [],
   "source": [
    "score.compose(ghosts(score))\n",
    "print(\"OK!\")"
   ]
  },
  {
   "cell_type": "markdown",
   "metadata": {},
   "source": [
    "Write the tracks to a midi file in the current directory and play it if possible:"
   ]
  },
  {
   "cell_type": "code",
   "execution_count": null,
   "metadata": {},
   "outputs": [],
   "source": [
    "file = MidiFile(\"ghosts.mid\", [track0, track1]).write()\n",
    "print(f\"Wrote '{file.pathname}'\")\n",
    "playfile(file.pathname)"
   ]
  }
 ],
 "metadata": {
  "kernelspec": {
   "display_name": "musxenv",
   "language": "python",
   "name": "musxenv"
  },
  "language_info": {
   "codemirror_mode": {
    "name": "ipython",
    "version": 3
   },
   "file_extension": ".py",
   "mimetype": "text/x-python",
   "name": "python",
   "nbconvert_exporter": "python",
   "pygments_lexer": "ipython3",
   "version": "3.10.6"
  }
 },
 "nbformat": 4,
 "nbformat_minor": 2
}
